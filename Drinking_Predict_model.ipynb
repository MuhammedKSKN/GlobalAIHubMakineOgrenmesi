{
  "metadata": {
    "kernelspec": {
      "display_name": "Python 3",
      "name": "python3"
    },
    "language_info": {
      "name": "python",
      "version": "3.10.14",
      "mimetype": "text/x-python",
      "codemirror_mode": {
        "name": "ipython",
        "version": 3
      },
      "pygments_lexer": "ipython3",
      "nbconvert_exporter": "python",
      "file_extension": ".py"
    },
    "kaggle": {
      "accelerator": "none",
      "dataSources": [
        {
          "sourceId": 6386941,
          "sourceType": "datasetVersion",
          "datasetId": 3679617
        }
      ],
      "dockerImageVersionId": 30761,
      "isInternetEnabled": false,
      "language": "python",
      "sourceType": "notebook",
      "isGpuEnabled": false
    },
    "colab": {
      "provenance": [],
      "gpuType": "T4"
    },
    "accelerator": "GPU",
    "widgets": {
      "application/vnd.jupyter.widget-state+json": {
        "4dbe39e0a3024cd7ac0775525ed77d56": {
          "model_module": "catboost-widget",
          "model_name": "CatboostWidgetModel",
          "model_module_version": "^1.0.0",
          "state": {
            "_dom_classes": [],
            "_model_module": "catboost-widget",
            "_model_module_version": "^1.0.0",
            "_model_name": "CatboostWidgetModel",
            "_view_count": null,
            "_view_module": "catboost-widget",
            "_view_module_version": "^1.0.0",
            "_view_name": "CatboostWidgetView",
            "data": {
              "catboost_info": {
                "path": "catboost_info",
                "name": "catboost_info",
                "content": {
                  "passed_iterations": 999,
                  "total_iterations": 1000,
                  "data": {
                    "iterations": [
                      {
                        "learn": [
                          0.6761909993,
                          0.71
                        ],
                        "iteration": 0,
                        "passed_time": 0.03634781045,
                        "remaining_time": 36.31146264,
                        "test": [
                          0.6766906738,
                          0.6986111111
                        ]
                      },
                      {
                        "learn": [
                          0.6598128255,
                          0.7208333333
                        ],
                        "iteration": 1,
                        "passed_time": 0.102997709,
                        "remaining_time": 51.39585679,
                        "test": [
                          0.6606951226,
                          0.7052777778
                        ]
                      },
                      {
                        "learn": [
                          0.6474212356,
                          0.7145238095
                        ],
                        "iteration": 2,
                        "passed_time": 0.1283027524,
                        "remaining_time": 42.6392814,
                        "test": [
                          0.6487207709,
                          0.7030555556
                        ]
                      },
                      {
                        "learn": [
                          0.6360711961,
                          0.715
                        ],
                        "iteration": 3,
                        "passed_time": 0.1559343352,
                        "remaining_time": 38.82764947,
                        "test": [
                          0.6379319933,
                          0.7036111111
                        ]
                      },
                      {
                        "learn": [
                          0.6245075916,
                          0.7169047619
                        ],
                        "iteration": 4,
                        "passed_time": 0.209260708,
                        "remaining_time": 41.6428809,
                        "test": [
                          0.6268345812,
                          0.7022222222
                        ]
                      },
                      {
                        "learn": [
                          0.6175460379,
                          0.7146428571
                        ],
                        "iteration": 5,
                        "passed_time": 0.2621658225,
                        "remaining_time": 43.43213793,
                        "test": [
                          0.620369873,
                          0.7036111111
                        ]
                      },
                      {
                        "learn": [
                          0.6090271577,
                          0.7158333333
                        ],
                        "iteration": 6,
                        "passed_time": 0.3009796101,
                        "remaining_time": 42.69610755,
                        "test": [
                          0.6123152669,
                          0.7044444444
                        ]
                      },
                      {
                        "learn": [
                          0.6024712263,
                          0.715952381
                        ],
                        "iteration": 7,
                        "passed_time": 0.3329259006,
                        "remaining_time": 41.28281168,
                        "test": [
                          0.6062793647,
                          0.7036111111
                        ]
                      },
                      {
                        "learn": [
                          0.5947605097,
                          0.7219047619
                        ],
                        "iteration": 8,
                        "passed_time": 0.3655718819,
                        "remaining_time": 40.25352611,
                        "test": [
                          0.5987630887,
                          0.7063888889
                        ]
                      },
                      {
                        "learn": [
                          0.5878715588,
                          0.7236904762
                        ],
                        "iteration": 9,
                        "passed_time": 0.3993801099,
                        "remaining_time": 39.53863088,
                        "test": [
                          0.5919249132,
                          0.7072222222
                        ]
                      },
                      {
                        "learn": [
                          0.5829024833,
                          0.7229761905
                        ],
                        "iteration": 10,
                        "passed_time": 0.4425100252,
                        "remaining_time": 39.78567408,
                        "test": [
                          0.5874698893,
                          0.7086111111
                        ]
                      },
                      {
                        "learn": [
                          0.5792278762,
                          0.7228571429
                        ],
                        "iteration": 11,
                        "passed_time": 0.525694251,
                        "remaining_time": 43.28216,
                        "test": [
                          0.5837712945,
                          0.7080555556
                        ]
                      },
                      {
                        "learn": [
                          0.5752977353,
                          0.7217857143
                        ],
                        "iteration": 12,
                        "passed_time": 0.618658719,
                        "remaining_time": 46.97047351,
                        "test": [
                          0.5801061334,
                          0.7102777778
                        ]
                      },
                      {
                        "learn": [
                          0.5717113095,
                          0.7245238095
                        ],
                        "iteration": 13,
                        "passed_time": 0.7136126814,
                        "remaining_time": 50.2587217,
                        "test": [
                          0.5770864529,
                          0.7097222222
                        ]
                      },
                      {
                        "learn": [
                          0.568406343,
                          0.723452381
                        ],
                        "iteration": 14,
                        "passed_time": 0.7817101381,
                        "remaining_time": 51.33229907,
                        "test": [
                          0.574024726,
                          0.7077777778
                        ]
                      },
                      {
                        "learn": [
                          0.565295352,
                          0.723452381
                        ],
                        "iteration": 15,
                        "passed_time": 0.8088114286,
                        "remaining_time": 49.74190286,
                        "test": [
                          0.5712979465,
                          0.7083333333
                        ]
                      },
                      {
                        "learn": [
                          0.5622041829,
                          0.7245238095
                        ],
                        "iteration": 16,
                        "passed_time": 0.8375170619,
                        "remaining_time": 48.42819246,
                        "test": [
                          0.5686403402,
                          0.7083333333
                        ]
                      },
                      {
                        "learn": [
                          0.5601744443,
                          0.7248809524
                        ],
                        "iteration": 17,
                        "passed_time": 0.8615610575,
                        "remaining_time": 47.00294214,
                        "test": [
                          0.5666353353,
                          0.7113888889
                        ]
                      },
                      {
                        "learn": [
                          0.5571858143,
                          0.725
                        ],
                        "iteration": 18,
                        "passed_time": 0.8920627068,
                        "remaining_time": 46.05860607,
                        "test": [
                          0.5643595378,
                          0.7105555556
                        ]
                      },
                      {
                        "learn": [
                          0.5546336147,
                          0.725952381
                        ],
                        "iteration": 19,
                        "passed_time": 0.9190404684,
                        "remaining_time": 45.03298295,
                        "test": [
                          0.5621255832,
                          0.7136111111
                        ]
                      },
                      {
                        "learn": [
                          0.5528524926,
                          0.7261904762
                        ],
                        "iteration": 20,
                        "passed_time": 0.9459615605,
                        "remaining_time": 44.09982704,
                        "test": [
                          0.5607277425,
                          0.7108333333
                        ]
                      },
                      {
                        "learn": [
                          0.551294236,
                          0.726547619
                        ],
                        "iteration": 21,
                        "passed_time": 0.9726820934,
                        "remaining_time": 43.24014034,
                        "test": [
                          0.5593796115,
                          0.7130555556
                        ]
                      },
                      {
                        "learn": [
                          0.5505684408,
                          0.7258333333
                        ],
                        "iteration": 22,
                        "passed_time": 0.9941615578,
                        "remaining_time": 42.230254,
                        "test": [
                          0.5588067627,
                          0.7127777778
                        ]
                      },
                      {
                        "learn": [
                          0.5487889462,
                          0.7271428571
                        ],
                        "iteration": 23,
                        "passed_time": 1.022372429,
                        "remaining_time": 41.5764788,
                        "test": [
                          0.5573225233,
                          0.7133333333
                        ]
                      },
                      {
                        "learn": [
                          0.546957659,
                          0.7273809524
                        ],
                        "iteration": 24,
                        "passed_time": 1.049529099,
                        "remaining_time": 40.93163488,
                        "test": [
                          0.555880093,
                          0.7144444444
                        ]
                      },
                      {
                        "learn": [
                          0.5455127534,
                          0.7273809524
                        ],
                        "iteration": 25,
                        "passed_time": 1.07819021,
                        "remaining_time": 40.39066403,
                        "test": [
                          0.5545992025,
                          0.7141666667
                        ]
                      },
                      {
                        "learn": [
                          0.5439731562,
                          0.7282142857
                        ],
                        "iteration": 26,
                        "passed_time": 1.104989912,
                        "remaining_time": 39.8205624,
                        "test": [
                          0.5532858615,
                          0.7125
                        ]
                      },
                      {
                        "learn": [
                          0.543001709,
                          0.7282142857
                        ],
                        "iteration": 27,
                        "passed_time": 1.121391355,
                        "remaining_time": 38.92829989,
                        "test": [
                          0.5524830458,
                          0.7127777778
                        ]
                      },
                      {
                        "learn": [
                          0.5415004185,
                          0.7288095238
                        ],
                        "iteration": 28,
                        "passed_time": 1.148293222,
                        "remaining_time": 38.44802478,
                        "test": [
                          0.5513650513,
                          0.7133333333
                        ]
                      },
                      {
                        "learn": [
                          0.5401600284,
                          0.73
                        ],
                        "iteration": 29,
                        "passed_time": 1.175153707,
                        "remaining_time": 37.99663652,
                        "test": [
                          0.5504157511,
                          0.715
                        ]
                      },
                      {
                        "learn": [
                          0.5393018159,
                          0.7301190476
                        ],
                        "iteration": 30,
                        "passed_time": 1.20173103,
                        "remaining_time": 37.56378606,
                        "test": [
                          0.549672682,
                          0.7147222222
                        ]
                      },
                      {
                        "learn": [
                          0.5382495117,
                          0.7307142857
                        ],
                        "iteration": 31,
                        "passed_time": 1.233268057,
                        "remaining_time": 37.30635872,
                        "test": [
                          0.5489770508,
                          0.715
                        ]
                      },
                      {
                        "learn": [
                          0.5371219889,
                          0.7314285714
                        ],
                        "iteration": 32,
                        "passed_time": 1.260021844,
                        "remaining_time": 36.92245826,
                        "test": [
                          0.5483145481,
                          0.7144444444
                        ]
                      },
                      {
                        "learn": [
                          0.5360854376,
                          0.7320238095
                        ],
                        "iteration": 33,
                        "passed_time": 1.288316834,
                        "remaining_time": 36.60335477,
                        "test": [
                          0.5477320692,
                          0.7161111111
                        ]
                      },
                      {
                        "learn": [
                          0.5347381301,
                          0.7321428571
                        ],
                        "iteration": 34,
                        "passed_time": 1.315564354,
                        "remaining_time": 36.27198861,
                        "test": [
                          0.5465056017,
                          0.7155555556
                        ]
                      },
                      {
                        "learn": [
                          0.5340504092,
                          0.7322619048
                        ],
                        "iteration": 35,
                        "passed_time": 1.342420255,
                        "remaining_time": 35.94703128,
                        "test": [
                          0.546129286,
                          0.7152777778
                        ]
                      },
                      {
                        "learn": [
                          0.5336909412,
                          0.7322619048
                        ],
                        "iteration": 36,
                        "passed_time": 1.358368437,
                        "remaining_time": 35.35429202,
                        "test": [
                          0.5459110175,
                          0.7155555556
                        ]
                      },
                      {
                        "learn": [
                          0.5331220354,
                          0.7323809524
                        ],
                        "iteration": 37,
                        "passed_time": 1.387116415,
                        "remaining_time": 35.11594713,
                        "test": [
                          0.5455917697,
                          0.7161111111
                        ]
                      },
                      {
                        "learn": [
                          0.5321975563,
                          0.7326190476
                        ],
                        "iteration": 38,
                        "passed_time": 1.414073788,
                        "remaining_time": 34.84422846,
                        "test": [
                          0.5450447591,
                          0.7147222222
                        ]
                      },
                      {
                        "learn": [
                          0.5314267694,
                          0.7326190476
                        ],
                        "iteration": 39,
                        "passed_time": 1.434201929,
                        "remaining_time": 34.42084629,
                        "test": [
                          0.544319085,
                          0.7155555556
                        ]
                      },
                      {
                        "learn": [
                          0.5305560593,
                          0.7345238095
                        ],
                        "iteration": 40,
                        "passed_time": 1.460922905,
                        "remaining_time": 34.17134307,
                        "test": [
                          0.5437739054,
                          0.7158333333
                        ]
                      },
                      {
                        "learn": [
                          0.5298002697,
                          0.735
                        ],
                        "iteration": 41,
                        "passed_time": 1.487263603,
                        "remaining_time": 33.92377456,
                        "test": [
                          0.5431729126,
                          0.7155555556
                        ]
                      },
                      {
                        "learn": [
                          0.5290225074,
                          0.7345238095
                        ],
                        "iteration": 42,
                        "passed_time": 1.514024939,
                        "remaining_time": 33.69585735,
                        "test": [
                          0.5425247531,
                          0.7166666667
                        ]
                      },
                      {
                        "learn": [
                          0.5284129116,
                          0.7353571429
                        ],
                        "iteration": 43,
                        "passed_time": 1.54083159,
                        "remaining_time": 33.47806818,
                        "test": [
                          0.5422802056,
                          0.7172222222
                        ]
                      },
                      {
                        "learn": [
                          0.5278174991,
                          0.7352380952
                        ],
                        "iteration": 44,
                        "passed_time": 1.567319538,
                        "remaining_time": 33.26200352,
                        "test": [
                          0.5421659003,
                          0.7177777778
                        ]
                      },
                      {
                        "learn": [
                          0.5268647693,
                          0.7360714286
                        ],
                        "iteration": 45,
                        "passed_time": 1.608776081,
                        "remaining_time": 33.36461698,
                        "test": [
                          0.541735026,
                          0.7177777778
                        ]
                      },
                      {
                        "learn": [
                          0.5265458752,
                          0.7370238095
                        ],
                        "iteration": 46,
                        "passed_time": 1.636755829,
                        "remaining_time": 33.18783629,
                        "test": [
                          0.541639879,
                          0.7180555556
                        ]
                      },
                      {
                        "learn": [
                          0.525855306,
                          0.7383333333
                        ],
                        "iteration": 47,
                        "passed_time": 1.665219803,
                        "remaining_time": 33.02685942,
                        "test": [
                          0.5413485379,
                          0.7177777778
                        ]
                      },
                      {
                        "learn": [
                          0.5250458054,
                          0.7382142857
                        ],
                        "iteration": 48,
                        "passed_time": 1.706575228,
                        "remaining_time": 33.12149065,
                        "test": [
                          0.541005249,
                          0.7183333333
                        ]
                      },
                      {
                        "learn": [
                          0.5244381278,
                          0.7386904762
                        ],
                        "iteration": 49,
                        "passed_time": 1.76213763,
                        "remaining_time": 33.48061497,
                        "test": [
                          0.5406739638,
                          0.7175
                        ]
                      },
                      {
                        "learn": [
                          0.5240174502,
                          0.7385714286
                        ],
                        "iteration": 50,
                        "passed_time": 1.800093649,
                        "remaining_time": 33.49586025,
                        "test": [
                          0.5405077786,
                          0.7180555556
                        ]
                      },
                      {
                        "learn": [
                          0.5232819475,
                          0.7392857143
                        ],
                        "iteration": 51,
                        "passed_time": 1.832413902,
                        "remaining_time": 33.40631499,
                        "test": [
                          0.5400331624,
                          0.7175
                        ]
                      },
                      {
                        "learn": [
                          0.5229889207,
                          0.7395238095
                        ],
                        "iteration": 52,
                        "passed_time": 1.868145235,
                        "remaining_time": 33.37987807,
                        "test": [
                          0.5400014242,
                          0.7177777778
                        ]
                      },
                      {
                        "learn": [
                          0.5224910482,
                          0.7395238095
                        ],
                        "iteration": 53,
                        "passed_time": 1.950982934,
                        "remaining_time": 34.17833066,
                        "test": [
                          0.5398227268,
                          0.7183333333
                        ]
                      },
                      {
                        "learn": [
                          0.5220178223,
                          0.7396428571
                        ],
                        "iteration": 54,
                        "passed_time": 2.044674137,
                        "remaining_time": 35.13121926,
                        "test": [
                          0.5395924208,
                          0.7186111111
                        ]
                      },
                      {
                        "learn": [
                          0.5215244257,
                          0.7403571429
                        ],
                        "iteration": 55,
                        "passed_time": 2.138060978,
                        "remaining_time": 36.04159934,
                        "test": [
                          0.5393328179,
                          0.7188888889
                        ]
                      },
                      {
                        "learn": [
                          0.5213784645,
                          0.7407142857
                        ],
                        "iteration": 56,
                        "passed_time": 2.214283123,
                        "remaining_time": 36.63278922,
                        "test": [
                          0.5393057929,
                          0.7186111111
                        ]
                      },
                      {
                        "learn": [
                          0.5209291876,
                          0.7411904762
                        ],
                        "iteration": 57,
                        "passed_time": 2.304312164,
                        "remaining_time": 37.4252079,
                        "test": [
                          0.5390996975,
                          0.7186111111
                        ]
                      },
                      {
                        "learn": [
                          0.5203149995,
                          0.7405952381
                        ],
                        "iteration": 58,
                        "passed_time": 2.40039521,
                        "remaining_time": 38.28426936,
                        "test": [
                          0.5387574599,
                          0.7188888889
                        ]
                      },
                      {
                        "learn": [
                          0.5198700242,
                          0.7410714286
                        ],
                        "iteration": 59,
                        "passed_time": 2.479725298,
                        "remaining_time": 38.84902967,
                        "test": [
                          0.5383569336,
                          0.7180555556
                        ]
                      },
                      {
                        "learn": [
                          0.519421503,
                          0.7420238095
                        ],
                        "iteration": 60,
                        "passed_time": 2.572526876,
                        "remaining_time": 39.60004487,
                        "test": [
                          0.5382019382,
                          0.7177777778
                        ]
                      },
                      {
                        "learn": [
                          0.5190203567,
                          0.741547619
                        ],
                        "iteration": 61,
                        "passed_time": 2.667598259,
                        "remaining_time": 40.35818011,
                        "test": [
                          0.5380322605,
                          0.7177777778
                        ]
                      },
                      {
                        "learn": [
                          0.5185828799,
                          0.7416666667
                        ],
                        "iteration": 62,
                        "passed_time": 2.769384611,
                        "remaining_time": 41.18910127,
                        "test": [
                          0.5379224311,
                          0.7191666667
                        ]
                      },
                      {
                        "learn": [
                          0.5182732282,
                          0.7416666667
                        ],
                        "iteration": 63,
                        "passed_time": 2.879493577,
                        "remaining_time": 42.11259357,
                        "test": [
                          0.5378764513,
                          0.7194444444
                        ]
                      },
                      {
                        "learn": [
                          0.517962879,
                          0.7426190476
                        ],
                        "iteration": 64,
                        "passed_time": 3.049025246,
                        "remaining_time": 43.85905546,
                        "test": [
                          0.5378218587,
                          0.72
                        ]
                      },
                      {
                        "learn": [
                          0.5175826009,
                          0.7423809524
                        ],
                        "iteration": 65,
                        "passed_time": 3.180384799,
                        "remaining_time": 45.00726367,
                        "test": [
                          0.5376850043,
                          0.7197222222
                        ]
                      },
                      {
                        "learn": [
                          0.5173633975,
                          0.7419047619
                        ],
                        "iteration": 66,
                        "passed_time": 3.269338211,
                        "remaining_time": 45.52675449,
                        "test": [
                          0.5376249864,
                          0.7211111111
                        ]
                      },
                      {
                        "learn": [
                          0.5172415597,
                          0.7423809524
                        ],
                        "iteration": 67,
                        "passed_time": 3.288830388,
                        "remaining_time": 45.07632238,
                        "test": [
                          0.5375887722,
                          0.7208333333
                        ]
                      },
                      {
                        "learn": [
                          0.5170216006,
                          0.7425
                        ],
                        "iteration": 68,
                        "passed_time": 3.310442219,
                        "remaining_time": 44.66698125,
                        "test": [
                          0.5374825711,
                          0.7208333333
                        ]
                      },
                      {
                        "learn": [
                          0.5166337077,
                          0.7425
                        ],
                        "iteration": 69,
                        "passed_time": 3.338362717,
                        "remaining_time": 44.35253325,
                        "test": [
                          0.5373925103,
                          0.7197222222
                        ]
                      },
                      {
                        "learn": [
                          0.5163166155,
                          0.7428571429
                        ],
                        "iteration": 70,
                        "passed_time": 3.361079372,
                        "remaining_time": 43.97806671,
                        "test": [
                          0.5371858046,
                          0.7194444444
                        ]
                      },
                      {
                        "learn": [
                          0.5158894857,
                          0.7433333333
                        ],
                        "iteration": 71,
                        "passed_time": 3.395504051,
                        "remaining_time": 43.76427444,
                        "test": [
                          0.5369617038,
                          0.7197222222
                        ]
                      },
                      {
                        "learn": [
                          0.5155623372,
                          0.744047619
                        ],
                        "iteration": 72,
                        "passed_time": 3.42350217,
                        "remaining_time": 43.47378783,
                        "test": [
                          0.5367234294,
                          0.7202777778
                        ]
                      },
                      {
                        "learn": [
                          0.5152448963,
                          0.7436904762
                        ],
                        "iteration": 73,
                        "passed_time": 3.454797768,
                        "remaining_time": 43.23165856,
                        "test": [
                          0.5365024143,
                          0.7194444444
                        ]
                      },
                      {
                        "learn": [
                          0.5152344331,
                          0.7436904762
                        ],
                        "iteration": 74,
                        "passed_time": 3.475041345,
                        "remaining_time": 42.85884325,
                        "test": [
                          0.5364872911,
                          0.7194444444
                        ]
                      },
                      {
                        "learn": [
                          0.5148203823,
                          0.7430952381
                        ],
                        "iteration": 75,
                        "passed_time": 3.503461045,
                        "remaining_time": 42.5947106,
                        "test": [
                          0.5364123874,
                          0.7197222222
                        ]
                      },
                      {
                        "learn": [
                          0.5144143531,
                          0.7439285714
                        ],
                        "iteration": 76,
                        "passed_time": 3.549426716,
                        "remaining_time": 42.54702415,
                        "test": [
                          0.5363019477,
                          0.7202777778
                        ]
                      },
                      {
                        "learn": [
                          0.5141723633,
                          0.7436904762
                        ],
                        "iteration": 77,
                        "passed_time": 3.578536291,
                        "remaining_time": 42.30013411,
                        "test": [
                          0.5362646145,
                          0.72
                        ]
                      },
                      {
                        "learn": [
                          0.5140516881,
                          0.7439285714
                        ],
                        "iteration": 78,
                        "passed_time": 3.600217031,
                        "remaining_time": 41.97215045,
                        "test": [
                          0.5362735324,
                          0.7205555556
                        ]
                      },
                      {
                        "learn": [
                          0.5136850121,
                          0.7445238095
                        ],
                        "iteration": 79,
                        "passed_time": 3.67504165,
                        "remaining_time": 42.26297897,
                        "test": [
                          0.5362194824,
                          0.7208333333
                        ]
                      },
                      {
                        "learn": [
                          0.5132134138,
                          0.7447619048
                        ],
                        "iteration": 80,
                        "passed_time": 3.730411067,
                        "remaining_time": 42.32404655,
                        "test": [
                          0.5360515679,
                          0.7211111111
                        ]
                      },
                      {
                        "learn": [
                          0.5130215309,
                          0.745
                        ],
                        "iteration": 81,
                        "passed_time": 3.761503393,
                        "remaining_time": 42.11048921,
                        "test": [
                          0.5359124078,
                          0.7219444444
                        ]
                      },
                      {
                        "learn": [
                          0.512404727,
                          0.7454761905
                        ],
                        "iteration": 82,
                        "passed_time": 3.828928483,
                        "remaining_time": 42.30273999,
                        "test": [
                          0.5355516222,
                          0.7211111111
                        ]
                      },
                      {
                        "learn": [
                          0.5122378976,
                          0.7460714286
                        ],
                        "iteration": 83,
                        "passed_time": 3.87204869,
                        "remaining_time": 42.22376905,
                        "test": [
                          0.535553182,
                          0.7211111111
                        ]
                      },
                      {
                        "learn": [
                          0.5118220447,
                          0.7469047619
                        ],
                        "iteration": 84,
                        "passed_time": 3.958164581,
                        "remaining_time": 42.60847755,
                        "test": [
                          0.5353153822,
                          0.7211111111
                        ]
                      },
                      {
                        "learn": [
                          0.5118145461,
                          0.7469047619
                        ],
                        "iteration": 85,
                        "passed_time": 4.017321861,
                        "remaining_time": 42.69572304,
                        "test": [
                          0.5353020562,
                          0.7211111111
                        ]
                      },
                      {
                        "learn": [
                          0.5112602307,
                          0.7467857143
                        ],
                        "iteration": 86,
                        "passed_time": 4.059961127,
                        "remaining_time": 42.60625872,
                        "test": [
                          0.5350821601,
                          0.7205555556
                        ]
                      },
                      {
                        "learn": [
                          0.5110048131,
                          0.746547619
                        ],
                        "iteration": 87,
                        "passed_time": 4.096780243,
                        "remaining_time": 42.4575407,
                        "test": [
                          0.5349857585,
                          0.7213888889
                        ]
                      },
                      {
                        "learn": [
                          0.5107410831,
                          0.7464285714
                        ],
                        "iteration": 88,
                        "passed_time": 4.136230949,
                        "remaining_time": 42.3382741,
                        "test": [
                          0.5349161784,
                          0.7219444444
                        ]
                      },
                      {
                        "learn": [
                          0.5105644299,
                          0.7460714286
                        ],
                        "iteration": 89,
                        "passed_time": 4.179005978,
                        "remaining_time": 42.25439377,
                        "test": [
                          0.5349077352,
                          0.7213888889
                        ]
                      },
                      {
                        "learn": [
                          0.5104604957,
                          0.7460714286
                        ],
                        "iteration": 90,
                        "passed_time": 4.256371385,
                        "remaining_time": 42.51694054,
                        "test": [
                          0.5348935276,
                          0.7216666667
                        ]
                      },
                      {
                        "learn": [
                          0.5103404018,
                          0.7464285714
                        ],
                        "iteration": 91,
                        "passed_time": 4.387076177,
                        "remaining_time": 43.29853444,
                        "test": [
                          0.5349059041,
                          0.7213888889
                        ]
                      },
                      {
                        "learn": [
                          0.5098582822,
                          0.746547619
                        ],
                        "iteration": 92,
                        "passed_time": 4.437099895,
                        "remaining_time": 43.27365167,
                        "test": [
                          0.5348299832,
                          0.7216666667
                        ]
                      },
                      {
                        "learn": [
                          0.5097735305,
                          0.7467857143
                        ],
                        "iteration": 93,
                        "passed_time": 4.467362317,
                        "remaining_time": 43.05776871,
                        "test": [
                          0.5348001438,
                          0.7211111111
                        ]
                      },
                      {
                        "learn": [
                          0.5094921294,
                          0.7464285714
                        ],
                        "iteration": 94,
                        "passed_time": 4.515487127,
                        "remaining_time": 43.01595631,
                        "test": [
                          0.5344883219,
                          0.7225
                        ]
                      },
                      {
                        "learn": [
                          0.5092830404,
                          0.7470238095
                        ],
                        "iteration": 95,
                        "passed_time": 4.554205386,
                        "remaining_time": 42.88543405,
                        "test": [
                          0.5344373237,
                          0.7222222222
                        ]
                      },
                      {
                        "learn": [
                          0.5092628697,
                          0.7470238095
                        ],
                        "iteration": 96,
                        "passed_time": 4.599780189,
                        "remaining_time": 42.82063413,
                        "test": [
                          0.5344223701,
                          0.7225
                        ]
                      },
                      {
                        "learn": [
                          0.5092474656,
                          0.7470238095
                        ],
                        "iteration": 97,
                        "passed_time": 4.637121762,
                        "remaining_time": 42.68044724,
                        "test": [
                          0.5344106038,
                          0.7225
                        ]
                      },
                      {
                        "learn": [
                          0.5090540713,
                          0.7470238095
                        ],
                        "iteration": 98,
                        "passed_time": 4.743069023,
                        "remaining_time": 43.16671909,
                        "test": [
                          0.5343358358,
                          0.7225
                        ]
                      },
                      {
                        "learn": [
                          0.5088422503,
                          0.7478571429
                        ],
                        "iteration": 99,
                        "passed_time": 4.848735152,
                        "remaining_time": 43.63861637,
                        "test": [
                          0.5340549384,
                          0.7230555556
                        ]
                      },
                      {
                        "learn": [
                          0.508485805,
                          0.7478571429
                        ],
                        "iteration": 100,
                        "passed_time": 4.888182949,
                        "remaining_time": 43.50966803,
                        "test": [
                          0.533992886,
                          0.7222222222
                        ]
                      },
                      {
                        "learn": [
                          0.5084205264,
                          0.7477380952
                        ],
                        "iteration": 101,
                        "passed_time": 4.929286443,
                        "remaining_time": 43.39705123,
                        "test": [
                          0.5339641656,
                          0.7227777778
                        ]
                      },
                      {
                        "learn": [
                          0.5080682082,
                          0.7485714286
                        ],
                        "iteration": 102,
                        "passed_time": 4.957769832,
                        "remaining_time": 43.17591786,
                        "test": [
                          0.5339945475,
                          0.7227777778
                        ]
                      },
                      {
                        "learn": [
                          0.5080267043,
                          0.7485714286
                        ],
                        "iteration": 103,
                        "passed_time": 4.976652543,
                        "remaining_time": 42.87577576,
                        "test": [
                          0.5339353434,
                          0.7227777778
                        ]
                      },
                      {
                        "learn": [
                          0.5076549712,
                          0.749047619
                        ],
                        "iteration": 104,
                        "passed_time": 5.01699699,
                        "remaining_time": 42.76392673,
                        "test": [
                          0.5338378906,
                          0.7236111111
                        ]
                      },
                      {
                        "learn": [
                          0.507243478,
                          0.7492857143
                        ],
                        "iteration": 105,
                        "passed_time": 5.045327479,
                        "remaining_time": 42.55210157,
                        "test": [
                          0.5336852688,
                          0.7236111111
                        ]
                      },
                      {
                        "learn": [
                          0.5072219122,
                          0.7492857143
                        ],
                        "iteration": 106,
                        "passed_time": 5.082749578,
                        "remaining_time": 42.41958292,
                        "test": [
                          0.5336795383,
                          0.7236111111
                        ]
                      },
                      {
                        "learn": [
                          0.5072133673,
                          0.7491666667
                        ],
                        "iteration": 107,
                        "passed_time": 5.101211474,
                        "remaining_time": 42.1322281,
                        "test": [
                          0.5336545139,
                          0.7233333333
                        ]
                      },
                      {
                        "learn": [
                          0.506971203,
                          0.7495238095
                        ],
                        "iteration": 108,
                        "passed_time": 5.129676897,
                        "remaining_time": 41.93157904,
                        "test": [
                          0.533490431,
                          0.725
                        ]
                      },
                      {
                        "learn": [
                          0.5069561477,
                          0.7496428571
                        ],
                        "iteration": 109,
                        "passed_time": 5.151067095,
                        "remaining_time": 41.67681559,
                        "test": [
                          0.5334806993,
                          0.725
                        ]
                      },
                      {
                        "learn": [
                          0.5065416899,
                          0.7495238095
                        ],
                        "iteration": 110,
                        "passed_time": 5.181490332,
                        "remaining_time": 41.49860275,
                        "test": [
                          0.5333855523,
                          0.7247222222
                        ]
                      },
                      {
                        "learn": [
                          0.5062125651,
                          0.7498809524
                        ],
                        "iteration": 111,
                        "passed_time": 5.232503707,
                        "remaining_time": 41.48627939,
                        "test": [
                          0.5331720649,
                          0.7247222222
                        ]
                      },
                      {
                        "learn": [
                          0.5059608677,
                          0.7503571429
                        ],
                        "iteration": 112,
                        "passed_time": 5.273757841,
                        "remaining_time": 41.39666553,
                        "test": [
                          0.5332792833,
                          0.7258333333
                        ]
                      },
                      {
                        "learn": [
                          0.5057571847,
                          0.7501190476
                        ],
                        "iteration": 113,
                        "passed_time": 5.343090953,
                        "remaining_time": 41.52612794,
                        "test": [
                          0.5332759603,
                          0.7247222222
                        ]
                      },
                      {
                        "learn": [
                          0.5055556524,
                          0.7502380952
                        ],
                        "iteration": 114,
                        "passed_time": 5.432796745,
                        "remaining_time": 41.80891408,
                        "test": [
                          0.5331050618,
                          0.725
                        ]
                      },
                      {
                        "learn": [
                          0.5054064941,
                          0.750952381
                        ],
                        "iteration": 115,
                        "passed_time": 5.474827274,
                        "remaining_time": 41.72195957,
                        "test": [
                          0.5330542331,
                          0.7247222222
                        ]
                      },
                      {
                        "learn": [
                          0.5053683617,
                          0.7510714286
                        ],
                        "iteration": 116,
                        "passed_time": 5.503819854,
                        "remaining_time": 41.53737548,
                        "test": [
                          0.5330721029,
                          0.725
                        ]
                      },
                      {
                        "learn": [
                          0.5051321847,
                          0.7516666667
                        ],
                        "iteration": 117,
                        "passed_time": 5.532985889,
                        "remaining_time": 41.35672504,
                        "test": [
                          0.5329996745,
                          0.7255555556
                        ]
                      },
                      {
                        "learn": [
                          0.5048625256,
                          0.7508333333
                        ],
                        "iteration": 118,
                        "passed_time": 5.575092406,
                        "remaining_time": 41.27442361,
                        "test": [
                          0.5329648844,
                          0.725
                        ]
                      },
                      {
                        "learn": [
                          0.5048599098,
                          0.7508333333
                        ],
                        "iteration": 119,
                        "passed_time": 5.595116581,
                        "remaining_time": 41.03085493,
                        "test": [
                          0.5329631212,
                          0.725
                        ]
                      },
                      {
                        "learn": [
                          0.5048584566,
                          0.7508333333
                        ],
                        "iteration": 120,
                        "passed_time": 5.622737567,
                        "remaining_time": 40.84616794,
                        "test": [
                          0.5329629178,
                          0.725
                        ]
                      },
                      {
                        "learn": [
                          0.5047773089,
                          0.7508333333
                        ],
                        "iteration": 121,
                        "passed_time": 5.663818978,
                        "remaining_time": 40.76092675,
                        "test": [
                          0.5329796007,
                          0.725
                        ]
                      },
                      {
                        "learn": [
                          0.5045183454,
                          0.7510714286
                        ],
                        "iteration": 122,
                        "passed_time": 5.692849401,
                        "remaining_time": 40.59047906,
                        "test": [
                          0.5328600396,
                          0.725
                        ]
                      },
                      {
                        "learn": [
                          0.5043127441,
                          0.7513095238
                        ],
                        "iteration": 123,
                        "passed_time": 5.723647269,
                        "remaining_time": 40.43479845,
                        "test": [
                          0.532675883,
                          0.7252777778
                        ]
                      },
                      {
                        "learn": [
                          0.5039853051,
                          0.7513095238
                        ],
                        "iteration": 124,
                        "passed_time": 5.765092943,
                        "remaining_time": 40.3556506,
                        "test": [
                          0.5326367187,
                          0.725
                        ]
                      },
                      {
                        "learn": [
                          0.5039317685,
                          0.7513095238
                        ],
                        "iteration": 125,
                        "passed_time": 5.79773603,
                        "remaining_time": 40.21604199,
                        "test": [
                          0.5326013523,
                          0.7252777778
                        ]
                      },
                      {
                        "learn": [
                          0.5039029948,
                          0.7513095238
                        ],
                        "iteration": 126,
                        "passed_time": 5.861607211,
                        "remaining_time": 40.29278028,
                        "test": [
                          0.5325861952,
                          0.7258333333
                        ]
                      },
                      {
                        "learn": [
                          0.5038986933,
                          0.7513095238
                        ],
                        "iteration": 127,
                        "passed_time": 5.935524418,
                        "remaining_time": 40.4357601,
                        "test": [
                          0.5325846354,
                          0.7258333333
                        ]
                      },
                      {
                        "learn": [
                          0.5038907878,
                          0.7513095238
                        ],
                        "iteration": 128,
                        "passed_time": 6.010286836,
                        "remaining_time": 40.58108398,
                        "test": [
                          0.5325848389,
                          0.7258333333
                        ]
                      },
                      {
                        "learn": [
                          0.5035807292,
                          0.7513095238
                        ],
                        "iteration": 129,
                        "passed_time": 6.10615009,
                        "remaining_time": 40.86423522,
                        "test": [
                          0.5325169203,
                          0.7261111111
                        ]
                      },
                      {
                        "learn": [
                          0.5034921991,
                          0.7511904762
                        ],
                        "iteration": 130,
                        "passed_time": 6.17723301,
                        "remaining_time": 40.97721745,
                        "test": [
                          0.5324434068,
                          0.7263888889
                        ]
                      },
                      {
                        "learn": [
                          0.5033292643,
                          0.7514285714
                        ],
                        "iteration": 131,
                        "passed_time": 6.266614283,
                        "remaining_time": 41.20773635,
                        "test": [
                          0.5324672106,
                          0.7263888889
                        ]
                      },
                      {
                        "learn": [
                          0.5032241676,
                          0.7514285714
                        ],
                        "iteration": 132,
                        "passed_time": 6.356241997,
                        "remaining_time": 41.43505121,
                        "test": [
                          0.5324378798,
                          0.7266666667
                        ]
                      },
                      {
                        "learn": [
                          0.5032175991,
                          0.7514285714
                        ],
                        "iteration": 133,
                        "passed_time": 6.425557159,
                        "remaining_time": 41.52636194,
                        "test": [
                          0.5324421183,
                          0.7266666667
                        ]
                      },
                      {
                        "learn": [
                          0.5026385789,
                          0.7523809524
                        ],
                        "iteration": 134,
                        "passed_time": 6.517628169,
                        "remaining_time": 41.76109901,
                        "test": [
                          0.5320718045,
                          0.7263888889
                        ]
                      },
                      {
                        "learn": [
                          0.5023272414,
                          0.7529761905
                        ],
                        "iteration": 135,
                        "passed_time": 6.606875895,
                        "remaining_time": 41.97309392,
                        "test": [
                          0.532017924,
                          0.7252777778
                        ]
                      },
                      {
                        "learn": [
                          0.5022596959,
                          0.7532142857
                        ],
                        "iteration": 136,
                        "passed_time": 6.694434038,
                        "remaining_time": 42.17004799,
                        "test": [
                          0.5319919162,
                          0.7255555556
                        ]
                      },
                      {
                        "learn": [
                          0.5022583589,
                          0.7532142857
                        ],
                        "iteration": 137,
                        "passed_time": 6.759891996,
                        "remaining_time": 42.22483261,
                        "test": [
                          0.5319918484,
                          0.7255555556
                        ]
                      },
                      {
                        "learn": [
                          0.5022465007,
                          0.7529761905
                        ],
                        "iteration": 138,
                        "passed_time": 6.830063329,
                        "remaining_time": 42.30708292,
                        "test": [
                          0.5320066664,
                          0.7255555556
                        ]
                      },
                      {
                        "learn": [
                          0.5020811826,
                          0.7530952381
                        ],
                        "iteration": 139,
                        "passed_time": 6.944359271,
                        "remaining_time": 42.65820695,
                        "test": [
                          0.5319361708,
                          0.7269444444
                        ]
                      },
                      {
                        "learn": [
                          0.5017002651,
                          0.7529761905
                        ],
                        "iteration": 140,
                        "passed_time": 7.062701103,
                        "remaining_time": 43.02737764,
                        "test": [
                          0.5319196235,
                          0.7252777778
                        ]
                      },
                      {
                        "learn": [
                          0.5014540899,
                          0.753452381
                        ],
                        "iteration": 141,
                        "passed_time": 7.159417099,
                        "remaining_time": 43.25901318,
                        "test": [
                          0.5319382731,
                          0.7241666667
                        ]
                      },
                      {
                        "learn": [
                          0.5014232817,
                          0.753452381
                        ],
                        "iteration": 142,
                        "passed_time": 7.231729842,
                        "remaining_time": 43.33980751,
                        "test": [
                          0.5319110447,
                          0.7241666667
                        ]
                      },
                      {
                        "learn": [
                          0.5013640485,
                          0.7530952381
                        ],
                        "iteration": 143,
                        "passed_time": 7.295731272,
                        "remaining_time": 43.36906923,
                        "test": [
                          0.5318831719,
                          0.7244444444
                        ]
                      },
                      {
                        "learn": [
                          0.5010193452,
                          0.7532142857
                        ],
                        "iteration": 144,
                        "passed_time": 7.32960974,
                        "remaining_time": 43.21942295,
                        "test": [
                          0.5317519124,
                          0.7247222222
                        ]
                      },
                      {
                        "learn": [
                          0.5006304641,
                          0.7532142857
                        ],
                        "iteration": 145,
                        "passed_time": 7.436629805,
                        "remaining_time": 43.49919078,
                        "test": [
                          0.5315772163,
                          0.7238888889
                        ]
                      },
                      {
                        "learn": [
                          0.5006272089,
                          0.7532142857
                        ],
                        "iteration": 146,
                        "passed_time": 7.480646994,
                        "remaining_time": 43.40810807,
                        "test": [
                          0.5315761651,
                          0.7238888889
                        ]
                      },
                      {
                        "learn": [
                          0.5004760161,
                          0.7533333333
                        ],
                        "iteration": 147,
                        "passed_time": 7.576397248,
                        "remaining_time": 43.61547605,
                        "test": [
                          0.5316465929,
                          0.7244444444
                        ]
                      },
                      {
                        "learn": [
                          0.5004743885,
                          0.7533333333
                        ],
                        "iteration": 148,
                        "passed_time": 7.720404128,
                        "remaining_time": 44.09438868,
                        "test": [
                          0.5316453383,
                          0.7244444444
                        ]
                      },
                      {
                        "learn": [
                          0.5003509231,
                          0.7533333333
                        ],
                        "iteration": 149,
                        "passed_time": 7.875313731,
                        "remaining_time": 44.62677781,
                        "test": [
                          0.5316496107,
                          0.7244444444
                        ]
                      },
                      {
                        "learn": [
                          0.5003384835,
                          0.7533333333
                        ],
                        "iteration": 150,
                        "passed_time": 7.999498953,
                        "remaining_time": 44.9773153,
                        "test": [
                          0.5316402181,
                          0.7244444444
                        ]
                      },
                      {
                        "learn": [
                          0.500246582,
                          0.7535714286
                        ],
                        "iteration": 151,
                        "passed_time": 8.153717248,
                        "remaining_time": 45.48915938,
                        "test": [
                          0.5317046102,
                          0.7247222222
                        ]
                      },
                      {
                        "learn": [
                          0.5001270113,
                          0.7542857143
                        ],
                        "iteration": 152,
                        "passed_time": 8.389400786,
                        "remaining_time": 46.44328409,
                        "test": [
                          0.5316673448,
                          0.7241666667
                        ]
                      },
                      {
                        "learn": [
                          0.5000316802,
                          0.7545238095
                        ],
                        "iteration": 153,
                        "passed_time": 8.69021641,
                        "remaining_time": 47.73976028,
                        "test": [
                          0.5316752794,
                          0.7255555556
                        ]
                      },
                      {
                        "learn": [
                          0.4996111189,
                          0.7545238095
                        ],
                        "iteration": 154,
                        "passed_time": 8.946866759,
                        "remaining_time": 48.77485426,
                        "test": [
                          0.5315600586,
                          0.7252777778
                        ]
                      },
                      {
                        "learn": [
                          0.4991985212,
                          0.7551190476
                        ],
                        "iteration": 155,
                        "passed_time": 9.119370658,
                        "remaining_time": 49.33813356,
                        "test": [
                          0.5315426636,
                          0.7252777778
                        ]
                      },
                      {
                        "learn": [
                          0.4988625372,
                          0.7558333333
                        ],
                        "iteration": 156,
                        "passed_time": 9.331371832,
                        "remaining_time": 50.10411754,
                        "test": [
                          0.5314531793,
                          0.7244444444
                        ]
                      },
                      {
                        "learn": [
                          0.4988520159,
                          0.7558333333
                        ],
                        "iteration": 157,
                        "passed_time": 9.444637733,
                        "remaining_time": 50.33155045,
                        "test": [
                          0.5314443292,
                          0.7244444444
                        ]
                      },
                      {
                        "learn": [
                          0.4987515695,
                          0.7563095238
                        ],
                        "iteration": 158,
                        "passed_time": 9.584015252,
                        "remaining_time": 50.69281023,
                        "test": [
                          0.5314156087,
                          0.7247222222
                        ]
                      },
                      {
                        "learn": [
                          0.4985979934,
                          0.7564285714
                        ],
                        "iteration": 159,
                        "passed_time": 9.875320985,
                        "remaining_time": 51.84543517,
                        "test": [
                          0.5313612874,
                          0.7252777778
                        ]
                      },
                      {
                        "learn": [
                          0.4983762905,
                          0.755952381
                        ],
                        "iteration": 160,
                        "passed_time": 10.13663877,
                        "remaining_time": 52.82385047,
                        "test": [
                          0.5313347032,
                          0.7255555556
                        ]
                      },
                      {
                        "learn": [
                          0.4983424595,
                          0.7561904762
                        ],
                        "iteration": 161,
                        "passed_time": 10.34985211,
                        "remaining_time": 53.53812387,
                        "test": [
                          0.5313124593,
                          0.7252777778
                        ]
                      },
                      {
                        "learn": [
                          0.4983335077,
                          0.7561904762
                        ],
                        "iteration": 162,
                        "passed_time": 10.53577494,
                        "remaining_time": 54.10088115,
                        "test": [
                          0.5312997437,
                          0.7252777778
                        ]
                      },
                      {
                        "learn": [
                          0.4983265323,
                          0.7561904762
                        ],
                        "iteration": 163,
                        "passed_time": 10.73814934,
                        "remaining_time": 54.73837104,
                        "test": [
                          0.5312873671,
                          0.7252777778
                        ]
                      },
                      {
                        "learn": [
                          0.4982667759,
                          0.755952381
                        ],
                        "iteration": 164,
                        "passed_time": 10.86762493,
                        "remaining_time": 54.9967686,
                        "test": [
                          0.5312828912,
                          0.7252777778
                        ]
                      },
                      {
                        "learn": [
                          0.4981973703,
                          0.7563095238
                        ],
                        "iteration": 165,
                        "passed_time": 10.97214013,
                        "remaining_time": 55.12508955,
                        "test": [
                          0.5312950982,
                          0.7258333333
                        ]
                      },
                      {
                        "learn": [
                          0.4981874884,
                          0.7561904762
                        ],
                        "iteration": 166,
                        "passed_time": 11.05381149,
                        "remaining_time": 55.13667647,
                        "test": [
                          0.5312880113,
                          0.7258333333
                        ]
                      },
                      {
                        "learn": [
                          0.4977073451,
                          0.756547619
                        ],
                        "iteration": 167,
                        "passed_time": 11.21529262,
                        "remaining_time": 55.54240155,
                        "test": [
                          0.5311631944,
                          0.7252777778
                        ]
                      },
                      {
                        "learn": [
                          0.4976640392,
                          0.7570238095
                        ],
                        "iteration": 168,
                        "passed_time": 11.36090755,
                        "remaining_time": 55.86339748,
                        "test": [
                          0.53115743,
                          0.7252777778
                        ]
                      },
                      {
                        "learn": [
                          0.4976536923,
                          0.7570238095
                        ],
                        "iteration": 169,
                        "passed_time": 11.44109064,
                        "remaining_time": 55.85944252,
                        "test": [
                          0.5311510891,
                          0.7252777778
                        ]
                      },
                      {
                        "learn": [
                          0.4974338495,
                          0.7573809524
                        ],
                        "iteration": 170,
                        "passed_time": 11.58977701,
                        "remaining_time": 56.18669672,
                        "test": [
                          0.5311518012,
                          0.7255555556
                        ]
                      },
                      {
                        "learn": [
                          0.4971235584,
                          0.7567857143
                        ],
                        "iteration": 171,
                        "passed_time": 11.70077625,
                        "remaining_time": 56.32699263,
                        "test": [
                          0.5311024306,
                          0.7252777778
                        ]
                      },
                      {
                        "learn": [
                          0.4968112328,
                          0.7564285714
                        ],
                        "iteration": 172,
                        "passed_time": 11.79709381,
                        "remaining_time": 56.39419988,
                        "test": [
                          0.531153361,
                          0.7258333333
                        ]
                      },
                      {
                        "learn": [
                          0.4964187477,
                          0.7560714286
                        ],
                        "iteration": 173,
                        "passed_time": 11.96475969,
                        "remaining_time": 56.79822702,
                        "test": [
                          0.5309882948,
                          0.7252777778
                        ]
                      },
                      {
                        "learn": [
                          0.4963792201,
                          0.7563095238
                        ],
                        "iteration": 174,
                        "passed_time": 12.18894244,
                        "remaining_time": 57.46215721,
                        "test": [
                          0.5309960598,
                          0.7261111111
                        ]
                      },
                      {
                        "learn": [
                          0.4963078381,
                          0.7564285714
                        ],
                        "iteration": 175,
                        "passed_time": 12.36314486,
                        "remaining_time": 57.88199641,
                        "test": [
                          0.530998603,
                          0.7263888889
                        ]
                      },
                      {
                        "learn": [
                          0.4961046782,
                          0.7569047619
                        ],
                        "iteration": 176,
                        "passed_time": 12.5389599,
                        "remaining_time": 58.30262147,
                        "test": [
                          0.5309726969,
                          0.7252777778
                        ]
                      },
                      {
                        "learn": [
                          0.4958605376,
                          0.7567857143
                        ],
                        "iteration": 177,
                        "passed_time": 12.68575572,
                        "remaining_time": 58.58253483,
                        "test": [
                          0.5310487874,
                          0.7263888889
                        ]
                      },
                      {
                        "learn": [
                          0.4955334473,
                          0.7569047619
                        ],
                        "iteration": 178,
                        "passed_time": 12.8644945,
                        "remaining_time": 59.00418985,
                        "test": [
                          0.5310343764,
                          0.7255555556
                        ]
                      },
                      {
                        "learn": [
                          0.4953215681,
                          0.7573809524
                        ],
                        "iteration": 179,
                        "passed_time": 13.01047735,
                        "remaining_time": 59.26995237,
                        "test": [
                          0.5309738837,
                          0.725
                        ]
                      },
                      {
                        "learn": [
                          0.4952605911,
                          0.7577380952
                        ],
                        "iteration": 180,
                        "passed_time": 13.13596323,
                        "remaining_time": 59.43841924,
                        "test": [
                          0.5309408569,
                          0.725
                        ]
                      },
                      {
                        "learn": [
                          0.495255127,
                          0.7577380952
                        ],
                        "iteration": 181,
                        "passed_time": 13.23629154,
                        "remaining_time": 59.49058507,
                        "test": [
                          0.5309349908,
                          0.725
                        ]
                      },
                      {
                        "learn": [
                          0.4952424549,
                          0.7577380952
                        ],
                        "iteration": 182,
                        "passed_time": 13.37469616,
                        "remaining_time": 59.71107522,
                        "test": [
                          0.5309347873,
                          0.725
                        ]
                      },
                      {
                        "learn": [
                          0.4948969959,
                          0.7577380952
                        ],
                        "iteration": 183,
                        "passed_time": 13.44122745,
                        "remaining_time": 59.60892173,
                        "test": [
                          0.5309404839,
                          0.7247222222
                        ]
                      },
                      {
                        "learn": [
                          0.4947848075,
                          0.7578571429
                        ],
                        "iteration": 184,
                        "passed_time": 13.49314801,
                        "remaining_time": 59.44278716,
                        "test": [
                          0.5309563531,
                          0.725
                        ]
                      },
                      {
                        "learn": [
                          0.4946155948,
                          0.7577380952
                        ],
                        "iteration": 185,
                        "passed_time": 13.54708583,
                        "remaining_time": 59.28670895,
                        "test": [
                          0.5309289551,
                          0.7244444444
                        ]
                      },
                      {
                        "learn": [
                          0.4943771508,
                          0.7576190476
                        ],
                        "iteration": 186,
                        "passed_time": 13.59896641,
                        "remaining_time": 59.12277912,
                        "test": [
                          0.5309347534,
                          0.7255555556
                        ]
                      },
                      {
                        "learn": [
                          0.4941321382,
                          0.7576190476
                        ],
                        "iteration": 187,
                        "passed_time": 13.64349845,
                        "remaining_time": 58.92830182,
                        "test": [
                          0.5309257338,
                          0.7261111111
                        ]
                      },
                      {
                        "learn": [
                          0.4941262091,
                          0.7576190476
                        ],
                        "iteration": 188,
                        "passed_time": 13.71027892,
                        "remaining_time": 58.83087937,
                        "test": [
                          0.5309209188,
                          0.7261111111
                        ]
                      },
                      {
                        "learn": [
                          0.4938142904,
                          0.7586904762
                        ],
                        "iteration": 189,
                        "passed_time": 13.81550487,
                        "remaining_time": 58.89767864,
                        "test": [
                          0.5308922323,
                          0.7258333333
                        ]
                      },
                      {
                        "learn": [
                          0.4938083031,
                          0.7586904762
                        ],
                        "iteration": 190,
                        "passed_time": 13.90350757,
                        "remaining_time": 58.88972579,
                        "test": [
                          0.5308876207,
                          0.7258333333
                        ]
                      },
                      {
                        "learn": [
                          0.4938036528,
                          0.7588095238
                        ],
                        "iteration": 191,
                        "passed_time": 13.9832538,
                        "remaining_time": 58.84619307,
                        "test": [
                          0.5308833483,
                          0.7258333333
                        ]
                      },
                      {
                        "learn": [
                          0.4934961519,
                          0.759047619
                        ],
                        "iteration": 192,
                        "passed_time": 14.09040753,
                        "remaining_time": 58.91688537,
                        "test": [
                          0.5308173286,
                          0.7266666667
                        ]
                      },
                      {
                        "learn": [
                          0.4934901065,
                          0.759047619
                        ],
                        "iteration": 193,
                        "passed_time": 14.16413157,
                        "remaining_time": 58.84685589,
                        "test": [
                          0.5308133952,
                          0.7266666667
                        ]
                      },
                      {
                        "learn": [
                          0.4934862119,
                          0.759047619
                        ],
                        "iteration": 194,
                        "passed_time": 14.23125662,
                        "remaining_time": 58.74954656,
                        "test": [
                          0.5308096992,
                          0.7266666667
                        ]
                      },
                      {
                        "learn": [
                          0.4932065546,
                          0.7592857143
                        ],
                        "iteration": 195,
                        "passed_time": 14.30859479,
                        "remaining_time": 58.69443984,
                        "test": [
                          0.5307513428,
                          0.7258333333
                        ]
                      },
                      {
                        "learn": [
                          0.4931959752,
                          0.7592857143
                        ],
                        "iteration": 196,
                        "passed_time": 14.42732888,
                        "remaining_time": 58.80784311,
                        "test": [
                          0.5307528347,
                          0.7258333333
                        ]
                      },
                      {
                        "learn": [
                          0.4929223633,
                          0.7595238095
                        ],
                        "iteration": 197,
                        "passed_time": 14.53816976,
                        "remaining_time": 58.88693003,
                        "test": [
                          0.5307158746,
                          0.7272222222
                        ]
                      },
                      {
                        "learn": [
                          0.4927739025,
                          0.7592857143
                        ],
                        "iteration": 198,
                        "passed_time": 14.65678382,
                        "remaining_time": 58.9953962,
                        "test": [
                          0.5306851535,
                          0.7272222222
                        ]
                      },
                      {
                        "learn": [
                          0.4927639625,
                          0.7592857143
                        ],
                        "iteration": 199,
                        "passed_time": 14.79223242,
                        "remaining_time": 59.16892969,
                        "test": [
                          0.5306849501,
                          0.7272222222
                        ]
                      },
                      {
                        "learn": [
                          0.4924135626,
                          0.7594047619
                        ],
                        "iteration": 200,
                        "passed_time": 14.96879519,
                        "remaining_time": 59.50282266,
                        "test": [
                          0.5303658719,
                          0.7275
                        ]
                      },
                      {
                        "learn": [
                          0.4922418504,
                          0.76
                        ],
                        "iteration": 201,
                        "passed_time": 15.07364153,
                        "remaining_time": 59.54834624,
                        "test": [
                          0.5303097534,
                          0.7275
                        ]
                      },
                      {
                        "learn": [
                          0.4920093355,
                          0.7602380952
                        ],
                        "iteration": 202,
                        "passed_time": 15.1977785,
                        "remaining_time": 59.66812545,
                        "test": [
                          0.5303278944,
                          0.7277777778
                        ]
                      },
                      {
                        "learn": [
                          0.4918750581,
                          0.7607142857
                        ],
                        "iteration": 203,
                        "passed_time": 15.33299115,
                        "remaining_time": 59.82873017,
                        "test": [
                          0.5302547879,
                          0.7277777778
                        ]
                      },
                      {
                        "learn": [
                          0.4917210751,
                          0.7603571429
                        ],
                        "iteration": 204,
                        "passed_time": 15.4731533,
                        "remaining_time": 60.00564327,
                        "test": [
                          0.5302437337,
                          0.7277777778
                        ]
                      },
                      {
                        "learn": [
                          0.4917132278,
                          0.7603571429
                        ],
                        "iteration": 205,
                        "passed_time": 15.61929619,
                        "remaining_time": 60.20252997,
                        "test": [
                          0.5302453274,
                          0.7277777778
                        ]
                      },
                      {
                        "learn": [
                          0.4917086937,
                          0.7603571429
                        ],
                        "iteration": 206,
                        "passed_time": 15.73446879,
                        "remaining_time": 60.27745771,
                        "test": [
                          0.5302424452,
                          0.7277777778
                        ]
                      },
                      {
                        "learn": [
                          0.4913986933,
                          0.7608333333
                        ],
                        "iteration": 207,
                        "passed_time": 15.86982767,
                        "remaining_time": 60.42742074,
                        "test": [
                          0.5301765272,
                          0.7283333333
                        ]
                      },
                      {
                        "learn": [
                          0.4912461054,
                          0.7607142857
                        ],
                        "iteration": 208,
                        "passed_time": 16.04200491,
                        "remaining_time": 60.71399945,
                        "test": [
                          0.5301606581,
                          0.7275
                        ]
                      },
                      {
                        "learn": [
                          0.4909904553,
                          0.760952381
                        ],
                        "iteration": 209,
                        "passed_time": 16.24887585,
                        "remaining_time": 61.12672345,
                        "test": [
                          0.5301065403,
                          0.7277777778
                        ]
                      },
                      {
                        "learn": [
                          0.4908882068,
                          0.7608333333
                        ],
                        "iteration": 210,
                        "passed_time": 16.40881939,
                        "remaining_time": 61.35809713,
                        "test": [
                          0.5300980632,
                          0.7280555556
                        ]
                      },
                      {
                        "learn": [
                          0.490646682,
                          0.7608333333
                        ],
                        "iteration": 211,
                        "passed_time": 16.58784443,
                        "remaining_time": 61.65670477,
                        "test": [
                          0.5300863987,
                          0.7280555556
                        ]
                      },
                      {
                        "learn": [
                          0.490639009,
                          0.7608333333
                        ],
                        "iteration": 212,
                        "passed_time": 16.72543673,
                        "remaining_time": 61.7977404,
                        "test": [
                          0.5300837538,
                          0.7280555556
                        ]
                      },
                      {
                        "learn": [
                          0.4903687686,
                          0.7610714286
                        ],
                        "iteration": 213,
                        "passed_time": 16.90271799,
                        "remaining_time": 62.0819455,
                        "test": [
                          0.5301163737,
                          0.7283333333
                        ]
                      },
                      {
                        "learn": [
                          0.4898790923,
                          0.7617857143
                        ],
                        "iteration": 214,
                        "passed_time": 16.98345095,
                        "remaining_time": 62.00934416,
                        "test": [
                          0.5302055189,
                          0.7280555556
                        ]
                      },
                      {
                        "learn": [
                          0.4898267764,
                          0.7619047619
                        ],
                        "iteration": 215,
                        "passed_time": 17.04160147,
                        "remaining_time": 61.85470164,
                        "test": [
                          0.5301720513,
                          0.7286111111
                        ]
                      },
                      {
                        "learn": [
                          0.4898238118,
                          0.7619047619
                        ],
                        "iteration": 216,
                        "passed_time": 17.07097749,
                        "remaining_time": 61.59712156,
                        "test": [
                          0.5301693047,
                          0.7286111111
                        ]
                      },
                      {
                        "learn": [
                          0.4896058873,
                          0.7617857143
                        ],
                        "iteration": 217,
                        "passed_time": 17.14420594,
                        "remaining_time": 61.49894057,
                        "test": [
                          0.5301520454,
                          0.7277777778
                        ]
                      },
                      {
                        "learn": [
                          0.4893476214,
                          0.7623809524
                        ],
                        "iteration": 218,
                        "passed_time": 17.22541091,
                        "remaining_time": 61.42943342,
                        "test": [
                          0.5302669949,
                          0.7280555556
                        ]
                      },
                      {
                        "learn": [
                          0.4892313639,
                          0.7623809524
                        ],
                        "iteration": 219,
                        "passed_time": 17.34344873,
                        "remaining_time": 61.49040915,
                        "test": [
                          0.5302416992,
                          0.7277777778
                        ]
                      },
                      {
                        "learn": [
                          0.4889024135,
                          0.7628571429
                        ],
                        "iteration": 220,
                        "passed_time": 17.39168446,
                        "remaining_time": 61.30372034,
                        "test": [
                          0.530143297,
                          0.7275
                        ]
                      },
                      {
                        "learn": [
                          0.4887701707,
                          0.7627380952
                        ],
                        "iteration": 221,
                        "passed_time": 17.4729096,
                        "remaining_time": 61.23389039,
                        "test": [
                          0.5299957954,
                          0.7277777778
                        ]
                      },
                      {
                        "learn": [
                          0.4885189383,
                          0.7628571429
                        ],
                        "iteration": 222,
                        "passed_time": 17.62981605,
                        "remaining_time": 61.42765503,
                        "test": [
                          0.5299134657,
                          0.7277777778
                        ]
                      },
                      {
                        "learn": [
                          0.4885126604,
                          0.7628571429
                        ],
                        "iteration": 223,
                        "passed_time": 17.76998847,
                        "remaining_time": 61.56031719,
                        "test": [
                          0.5299173313,
                          0.7277777778
                        ]
                      },
                      {
                        "learn": [
                          0.4883745466,
                          0.7632142857
                        ],
                        "iteration": 224,
                        "passed_time": 17.87122021,
                        "remaining_time": 61.55642516,
                        "test": [
                          0.5299134657,
                          0.7280555556
                        ]
                      },
                      {
                        "learn": [
                          0.4880154274,
                          0.7632142857
                        ],
                        "iteration": 225,
                        "passed_time": 18.0357579,
                        "remaining_time": 61.76848059,
                        "test": [
                          0.5298838976,
                          0.7277777778
                        ]
                      },
                      {
                        "learn": [
                          0.4877489072,
                          0.7629761905
                        ],
                        "iteration": 226,
                        "passed_time": 18.19125901,
                        "remaining_time": 61.94644587,
                        "test": [
                          0.5297814263,
                          0.7283333333
                        ]
                      },
                      {
                        "learn": [
                          0.4876491002,
                          0.7630952381
                        ],
                        "iteration": 227,
                        "passed_time": 18.27752071,
                        "remaining_time": 61.88704382,
                        "test": [
                          0.5297342258,
                          0.7288888889
                        ]
                      },
                      {
                        "learn": [
                          0.487644043,
                          0.7632142857
                        ],
                        "iteration": 228,
                        "passed_time": 18.32800295,
                        "remaining_time": 61.70694442,
                        "test": [
                          0.5297314453,
                          0.7288888889
                        ]
                      },
                      {
                        "learn": [
                          0.4874694243,
                          0.7633333333
                        ],
                        "iteration": 229,
                        "passed_time": 18.38383389,
                        "remaining_time": 61.54587867,
                        "test": [
                          0.5296694268,
                          0.7280555556
                        ]
                      },
                      {
                        "learn": [
                          0.4873286365,
                          0.7638095238
                        ],
                        "iteration": 230,
                        "passed_time": 18.41953842,
                        "remaining_time": 61.31872312,
                        "test": [
                          0.5295676676,
                          0.7286111111
                        ]
                      },
                      {
                        "learn": [
                          0.4871058001,
                          0.7645238095
                        ],
                        "iteration": 231,
                        "passed_time": 18.46024253,
                        "remaining_time": 61.10976837,
                        "test": [
                          0.5295043267,
                          0.7288888889
                        ]
                      },
                      {
                        "learn": [
                          0.4871018183,
                          0.7645238095
                        ],
                        "iteration": 232,
                        "passed_time": 18.51130586,
                        "remaining_time": 60.93635879,
                        "test": [
                          0.5295062934,
                          0.7288888889
                        ]
                      },
                      {
                        "learn": [
                          0.4870999,
                          0.7645238095
                        ],
                        "iteration": 233,
                        "passed_time": 18.54819301,
                        "remaining_time": 60.7175891,
                        "test": [
                          0.5295042589,
                          0.7288888889
                        ]
                      },
                      {
                        "learn": [
                          0.4869116211,
                          0.7647619048
                        ],
                        "iteration": 234,
                        "passed_time": 18.61204719,
                        "remaining_time": 60.58815362,
                        "test": [
                          0.5294931369,
                          0.7286111111
                        ]
                      },
                      {
                        "learn": [
                          0.4869063314,
                          0.7647619048
                        ],
                        "iteration": 235,
                        "passed_time": 18.67748955,
                        "remaining_time": 60.46441533,
                        "test": [
                          0.5294858127,
                          0.7286111111
                        ]
                      },
                      {
                        "learn": [
                          0.4868051583,
                          0.7645238095
                        ],
                        "iteration": 236,
                        "passed_time": 18.71005189,
                        "remaining_time": 60.23531472,
                        "test": [
                          0.5294770304,
                          0.7280555556
                        ]
                      },
                      {
                        "learn": [
                          0.4867690313,
                          0.7644047619
                        ],
                        "iteration": 237,
                        "passed_time": 18.74218896,
                        "remaining_time": 60.00650415,
                        "test": [
                          0.5294751316,
                          0.7283333333
                        ]
                      },
                      {
                        "learn": [
                          0.4865441604,
                          0.765
                        ],
                        "iteration": 238,
                        "passed_time": 18.78821052,
                        "remaining_time": 59.82354897,
                        "test": [
                          0.5293351915,
                          0.7283333333
                        ]
                      },
                      {
                        "learn": [
                          0.4864309256,
                          0.7653571429
                        ],
                        "iteration": 239,
                        "passed_time": 18.82137331,
                        "remaining_time": 59.60101547,
                        "test": [
                          0.5293398031,
                          0.7283333333
                        ]
                      },
                      {
                        "learn": [
                          0.4862593587,
                          0.7652380952
                        ],
                        "iteration": 240,
                        "passed_time": 18.86016601,
                        "remaining_time": 59.39778424,
                        "test": [
                          0.5293486871,
                          0.7283333333
                        ]
                      },
                      {
                        "learn": [
                          0.486257208,
                          0.7652380952
                        ],
                        "iteration": 241,
                        "passed_time": 18.89628331,
                        "remaining_time": 59.18753202,
                        "test": [
                          0.5293470595,
                          0.7283333333
                        ]
                      },
                      {
                        "learn": [
                          0.4860777937,
                          0.7654761905
                        ],
                        "iteration": 242,
                        "passed_time": 18.94778495,
                        "remaining_time": 59.02663872,
                        "test": [
                          0.5293578423,
                          0.7286111111
                        ]
                      },
                      {
                        "learn": [
                          0.4860757882,
                          0.7654761905
                        ],
                        "iteration": 243,
                        "passed_time": 18.96964597,
                        "remaining_time": 58.77480472,
                        "test": [
                          0.5293562147,
                          0.7286111111
                        ]
                      },
                      {
                        "learn": [
                          0.4857859875,
                          0.7654761905
                        ],
                        "iteration": 244,
                        "passed_time": 18.99955264,
                        "remaining_time": 58.5496418,
                        "test": [
                          0.5293136258,
                          0.7286111111
                        ]
                      },
                      {
                        "learn": [
                          0.4857846505,
                          0.7654761905
                        ],
                        "iteration": 245,
                        "passed_time": 19.01859062,
                        "remaining_time": 58.29275337,
                        "test": [
                          0.5293122355,
                          0.7286111111
                        ]
                      },
                      {
                        "learn": [
                          0.4857836623,
                          0.7653571429
                        ],
                        "iteration": 246,
                        "passed_time": 19.04044956,
                        "remaining_time": 58.04639075,
                        "test": [
                          0.5293085734,
                          0.7286111111
                        ]
                      },
                      {
                        "learn": [
                          0.4857820929,
                          0.7653571429
                        ],
                        "iteration": 247,
                        "passed_time": 19.09012109,
                        "remaining_time": 57.88617361,
                        "test": [
                          0.529306505,
                          0.7286111111
                        ]
                      },
                      {
                        "learn": [
                          0.4857770647,
                          0.7653571429
                        ],
                        "iteration": 248,
                        "passed_time": 19.11393716,
                        "remaining_time": 57.64886267,
                        "test": [
                          0.5293055216,
                          0.7286111111
                        ]
                      },
                      {
                        "learn": [
                          0.4857609631,
                          0.7654761905
                        ],
                        "iteration": 249,
                        "passed_time": 19.1441267,
                        "remaining_time": 57.43238009,
                        "test": [
                          0.5293033854,
                          0.7283333333
                        ]
                      },
                      {
                        "learn": [
                          0.4857519822,
                          0.7653571429
                        ],
                        "iteration": 250,
                        "passed_time": 19.18414075,
                        "remaining_time": 57.2466989,
                        "test": [
                          0.5292999946,
                          0.7283333333
                        ]
                      },
                      {
                        "learn": [
                          0.4852323696,
                          0.7661904762
                        ],
                        "iteration": 251,
                        "passed_time": 19.25381468,
                        "remaining_time": 57.15021182,
                        "test": [
                          0.5293497721,
                          0.7288888889
                        ]
                      },
                      {
                        "learn": [
                          0.4851125953,
                          0.7660714286
                        ],
                        "iteration": 252,
                        "passed_time": 19.31174543,
                        "remaining_time": 57.01926416,
                        "test": [
                          0.5293821886,
                          0.7286111111
                        ]
                      },
                      {
                        "learn": [
                          0.4851095145,
                          0.7660714286
                        ],
                        "iteration": 253,
                        "passed_time": 19.37471727,
                        "remaining_time": 56.90369718,
                        "test": [
                          0.5293803236,
                          0.7286111111
                        ]
                      },
                      {
                        "learn": [
                          0.4851078869,
                          0.7660714286
                        ],
                        "iteration": 254,
                        "passed_time": 19.39676142,
                        "remaining_time": 56.66896964,
                        "test": [
                          0.5293785943,
                          0.7286111111
                        ]
                      },
                      {
                        "learn": [
                          0.4849094936,
                          0.7660714286
                        ],
                        "iteration": 255,
                        "passed_time": 19.48150772,
                        "remaining_time": 56.6181318,
                        "test": [
                          0.5293373277,
                          0.7286111111
                        ]
                      },
                      {
                        "learn": [
                          0.4849080985,
                          0.7660714286
                        ],
                        "iteration": 256,
                        "passed_time": 19.55201708,
                        "remaining_time": 56.5258704,
                        "test": [
                          0.529335768,
                          0.7286111111
                        ]
                      },
                      {
                        "learn": [
                          0.4849063837,
                          0.7660714286
                        ],
                        "iteration": 257,
                        "passed_time": 19.58313232,
                        "remaining_time": 56.32048132,
                        "test": [
                          0.5293347168,
                          0.7286111111
                        ]
                      },
                      {
                        "learn": [
                          0.4847195871,
                          0.7664285714
                        ],
                        "iteration": 258,
                        "passed_time": 19.61729256,
                        "remaining_time": 56.12514975,
                        "test": [
                          0.5292572361,
                          0.7294444444
                        ]
                      },
                      {
                        "learn": [
                          0.4846366955,
                          0.7663095238
                        ],
                        "iteration": 259,
                        "passed_time": 19.66786245,
                        "remaining_time": 55.97776237,
                        "test": [
                          0.5292200385,
                          0.7288888889
                        ]
                      },
                      {
                        "learn": [
                          0.4844470505,
                          0.7660714286
                        ],
                        "iteration": 260,
                        "passed_time": 19.73468506,
                        "remaining_time": 55.8771351,
                        "test": [
                          0.5292060004,
                          0.7286111111
                        ]
                      },
                      {
                        "learn": [
                          0.4844456555,
                          0.7660714286
                        ],
                        "iteration": 261,
                        "passed_time": 19.8259274,
                        "remaining_time": 55.84555123,
                        "test": [
                          0.5292051866,
                          0.7286111111
                        ]
                      },
                      {
                        "learn": [
                          0.484442749,
                          0.7660714286
                        ],
                        "iteration": 262,
                        "passed_time": 19.91196022,
                        "remaining_time": 55.79891515,
                        "test": [
                          0.5292041355,
                          0.7286111111
                        ]
                      },
                      {
                        "learn": [
                          0.4840489851,
                          0.7663095238
                        ],
                        "iteration": 263,
                        "passed_time": 20.00182767,
                        "remaining_time": 55.76267109,
                        "test": [
                          0.5291389974,
                          0.7288888889
                        ]
                      },
                      {
                        "learn": [
                          0.4838377453,
                          0.7670238095
                        ],
                        "iteration": 264,
                        "passed_time": 20.08948279,
                        "remaining_time": 55.71988623,
                        "test": [
                          0.5290918308,
                          0.7277777778
                        ]
                      },
                      {
                        "learn": [
                          0.4836309524,
                          0.7675
                        ],
                        "iteration": 265,
                        "passed_time": 20.17840552,
                        "remaining_time": 55.68026186,
                        "test": [
                          0.5292124769,
                          0.7280555556
                        ]
                      },
                      {
                        "learn": [
                          0.4831496756,
                          0.7671428571
                        ],
                        "iteration": 266,
                        "passed_time": 20.27157692,
                        "remaining_time": 55.65193216,
                        "test": [
                          0.529132487,
                          0.7280555556
                        ]
                      },
                      {
                        "learn": [
                          0.4831402879,
                          0.7671428571
                        ],
                        "iteration": 267,
                        "passed_time": 20.36113041,
                        "remaining_time": 55.61323678,
                        "test": [
                          0.5291281467,
                          0.7280555556
                        ]
                      },
                      {
                        "learn": [
                          0.4830701556,
                          0.7671428571
                        ],
                        "iteration": 268,
                        "passed_time": 20.48186581,
                        "remaining_time": 55.65889927,
                        "test": [
                          0.5290734185,
                          0.7280555556
                        ]
                      },
                      {
                        "learn": [
                          0.4830168806,
                          0.7671428571
                        ],
                        "iteration": 269,
                        "passed_time": 20.7002541,
                        "remaining_time": 55.96735368,
                        "test": [
                          0.5291151598,
                          0.7280555556
                        ]
                      },
                      {
                        "learn": [
                          0.4826402646,
                          0.768452381
                        ],
                        "iteration": 270,
                        "passed_time": 20.84359635,
                        "remaining_time": 56.07004333,
                        "test": [
                          0.5291488308,
                          0.7286111111
                        ]
                      },
                      {
                        "learn": [
                          0.4825412714,
                          0.7682142857
                        ],
                        "iteration": 271,
                        "passed_time": 21.04016512,
                        "remaining_time": 56.31338311,
                        "test": [
                          0.5290334744,
                          0.7291666667
                        ]
                      },
                      {
                        "learn": [
                          0.4825355748,
                          0.7682142857
                        ],
                        "iteration": 272,
                        "passed_time": 21.27655204,
                        "remaining_time": 56.65953603,
                        "test": [
                          0.5290343899,
                          0.7288888889
                        ]
                      },
                      {
                        "learn": [
                          0.4824521891,
                          0.7682142857
                        ],
                        "iteration": 273,
                        "passed_time": 21.46599027,
                        "remaining_time": 56.8770399,
                        "test": [
                          0.5290070258,
                          0.7286111111
                        ]
                      },
                      {
                        "learn": [
                          0.4821721831,
                          0.7688095238
                        ],
                        "iteration": 274,
                        "passed_time": 21.68988673,
                        "remaining_time": 57.18242865,
                        "test": [
                          0.5290542263,
                          0.7280555556
                        ]
                      },
                      {
                        "learn": [
                          0.4819598098,
                          0.7688095238
                        ],
                        "iteration": 275,
                        "passed_time": 21.85224705,
                        "remaining_time": 57.3225611,
                        "test": [
                          0.529073622,
                          0.7280555556
                        ]
                      },
                      {
                        "learn": [
                          0.4817077927,
                          0.7689285714
                        ],
                        "iteration": 276,
                        "passed_time": 22.03610203,
                        "remaining_time": 57.51661287,
                        "test": [
                          0.5291012234,
                          0.7294444444
                        ]
                      },
                      {
                        "learn": [
                          0.4817063105,
                          0.7689285714
                        ],
                        "iteration": 277,
                        "passed_time": 22.16935178,
                        "remaining_time": 57.57651794,
                        "test": [
                          0.5290971544,
                          0.7294444444
                        ]
                      },
                      {
                        "learn": [
                          0.4815849668,
                          0.7685714286
                        ],
                        "iteration": 278,
                        "passed_time": 22.32030739,
                        "remaining_time": 57.68079438,
                        "test": [
                          0.5290114339,
                          0.7291666667
                        ]
                      },
                      {
                        "learn": [
                          0.4815678769,
                          0.7686904762
                        ],
                        "iteration": 279,
                        "passed_time": 22.45966441,
                        "remaining_time": 57.75342277,
                        "test": [
                          0.5289969211,
                          0.7288888889
                        ]
                      },
                      {
                        "learn": [
                          0.4814366804,
                          0.7689285714
                        ],
                        "iteration": 280,
                        "passed_time": 22.64674067,
                        "remaining_time": 57.94664249,
                        "test": [
                          0.5289418538,
                          0.7294444444
                        ]
                      },
                      {
                        "learn": [
                          0.4813607352,
                          0.7689285714
                        ],
                        "iteration": 281,
                        "passed_time": 22.8714229,
                        "remaining_time": 58.23291363,
                        "test": [
                          0.5289772203,
                          0.7297222222
                        ]
                      },
                      {
                        "learn": [
                          0.4812130011,
                          0.7689285714
                        ],
                        "iteration": 282,
                        "passed_time": 23.13785952,
                        "remaining_time": 58.62136141,
                        "test": [
                          0.5289630805,
                          0.7291666667
                        ]
                      },
                      {
                        "learn": [
                          0.4812119548,
                          0.7689285714
                        ],
                        "iteration": 283,
                        "passed_time": 23.26659466,
                        "remaining_time": 58.65803444,
                        "test": [
                          0.5289623684,
                          0.7291666667
                        ]
                      },
                      {
                        "learn": [
                          0.4810392253,
                          0.7689285714
                        ],
                        "iteration": 284,
                        "passed_time": 23.49943406,
                        "remaining_time": 58.95472055,
                        "test": [
                          0.5289401245,
                          0.7291666667
                        ]
                      },
                      {
                        "learn": [
                          0.4807098389,
                          0.7691666667
                        ],
                        "iteration": 285,
                        "passed_time": 23.72361307,
                        "remaining_time": 59.22608298,
                        "test": [
                          0.5290020752,
                          0.7286111111
                        ]
                      },
                      {
                        "learn": [
                          0.480418614,
                          0.7694047619
                        ],
                        "iteration": 286,
                        "passed_time": 23.87546536,
                        "remaining_time": 59.31430941,
                        "test": [
                          0.5289675903,
                          0.7291666667
                        ]
                      },
                      {
                        "learn": [
                          0.4802171689,
                          0.7696428571
                        ],
                        "iteration": 287,
                        "passed_time": 24.06116045,
                        "remaining_time": 59.48453556,
                        "test": [
                          0.5290309652,
                          0.7305555556
                        ]
                      },
                      {
                        "learn": [
                          0.4802158901,
                          0.7696428571
                        ],
                        "iteration": 288,
                        "passed_time": 24.28750318,
                        "remaining_time": 59.7523002,
                        "test": [
                          0.5290301853,
                          0.7305555556
                        ]
                      },
                      {
                        "learn": [
                          0.4796384975,
                          0.7698809524
                        ],
                        "iteration": 289,
                        "passed_time": 24.63583429,
                        "remaining_time": 60.31531844,
                        "test": [
                          0.5289994982,
                          0.7297222222
                        ]
                      },
                      {
                        "learn": [
                          0.4795286633,
                          0.77
                        ],
                        "iteration": 290,
                        "passed_time": 24.80244413,
                        "remaining_time": 60.42932263,
                        "test": [
                          0.5290124173,
                          0.7286111111
                        ]
                      },
                      {
                        "learn": [
                          0.4795155262,
                          0.7697619048
                        ],
                        "iteration": 291,
                        "passed_time": 24.96057799,
                        "remaining_time": 60.52085348,
                        "test": [
                          0.5290105523,
                          0.7286111111
                        ]
                      },
                      {
                        "learn": [
                          0.4794054304,
                          0.7698809524
                        ],
                        "iteration": 292,
                        "passed_time": 25.09830507,
                        "remaining_time": 60.5614392,
                        "test": [
                          0.5290072632,
                          0.7288888889
                        ]
                      },
                      {
                        "learn": [
                          0.4793025135,
                          0.7701190476
                        ],
                        "iteration": 293,
                        "passed_time": 25.23780185,
                        "remaining_time": 60.60506158,
                        "test": [
                          0.5290534125,
                          0.7288888889
                        ]
                      },
                      {
                        "learn": [
                          0.4792764718,
                          0.7702380952
                        ],
                        "iteration": 294,
                        "passed_time": 25.39492193,
                        "remaining_time": 60.6895592,
                        "test": [
                          0.5290504625,
                          0.7291666667
                        ]
                      },
                      {
                        "learn": [
                          0.4790651158,
                          0.7703571429
                        ],
                        "iteration": 295,
                        "passed_time": 25.57353071,
                        "remaining_time": 60.82353249,
                        "test": [
                          0.5291226874,
                          0.7286111111
                        ]
                      },
                      {
                        "learn": [
                          0.4790404692,
                          0.7703571429
                        ],
                        "iteration": 296,
                        "passed_time": 25.75402804,
                        "remaining_time": 60.95987109,
                        "test": [
                          0.5291088528,
                          0.7288888889
                        ]
                      },
                      {
                        "learn": [
                          0.4788052804,
                          0.7705952381
                        ],
                        "iteration": 297,
                        "passed_time": 25.87037683,
                        "remaining_time": 60.94296823,
                        "test": [
                          0.5290698242,
                          0.7283333333
                        ]
                      },
                      {
                        "learn": [
                          0.4785193162,
                          0.7710714286
                        ],
                        "iteration": 298,
                        "passed_time": 25.96896074,
                        "remaining_time": 60.88375076,
                        "test": [
                          0.528986952,
                          0.7286111111
                        ]
                      },
                      {
                        "learn": [
                          0.4784875198,
                          0.7711904762
                        ],
                        "iteration": 299,
                        "passed_time": 26.03981722,
                        "remaining_time": 60.75957352,
                        "test": [
                          0.5289753215,
                          0.7288888889
                        ]
                      },
                      {
                        "learn": [
                          0.478440639,
                          0.7713095238
                        ],
                        "iteration": 300,
                        "passed_time": 26.08908432,
                        "remaining_time": 60.58561443,
                        "test": [
                          0.5289923774,
                          0.7288888889
                        ]
                      },
                      {
                        "learn": [
                          0.4782218134,
                          0.7721428571
                        ],
                        "iteration": 301,
                        "passed_time": 26.15640902,
                        "remaining_time": 60.45421688,
                        "test": [
                          0.528964369,
                          0.7291666667
                        ]
                      },
                      {
                        "learn": [
                          0.4780480957,
                          0.7728571429
                        ],
                        "iteration": 302,
                        "passed_time": 26.25112626,
                        "remaining_time": 60.38625414,
                        "test": [
                          0.5289150323,
                          0.7291666667
                        ]
                      },
                      {
                        "learn": [
                          0.4779512533,
                          0.7728571429
                        ],
                        "iteration": 303,
                        "passed_time": 26.28699618,
                        "remaining_time": 60.18338599,
                        "test": [
                          0.5289635891,
                          0.7288888889
                        ]
                      },
                      {
                        "learn": [
                          0.4778254627,
                          0.7729761905
                        ],
                        "iteration": 304,
                        "passed_time": 26.32802269,
                        "remaining_time": 59.99336317,
                        "test": [
                          0.5289431424,
                          0.7297222222
                        ]
                      },
                      {
                        "learn": [
                          0.4774334426,
                          0.7730952381
                        ],
                        "iteration": 305,
                        "passed_time": 26.401212,
                        "remaining_time": 59.8772586,
                        "test": [
                          0.5289160156,
                          0.7297222222
                        ]
                      },
                      {
                        "learn": [
                          0.4774320766,
                          0.7730952381
                        ],
                        "iteration": 306,
                        "passed_time": 26.44307052,
                        "remaining_time": 59.69070967,
                        "test": [
                          0.5289124552,
                          0.7297222222
                        ]
                      },
                      {
                        "learn": [
                          0.4772830346,
                          0.7730952381
                        ],
                        "iteration": 307,
                        "passed_time": 26.47353266,
                        "remaining_time": 59.47949545,
                        "test": [
                          0.5288846164,
                          0.7302777778
                        ]
                      },
                      {
                        "learn": [
                          0.4772141811,
                          0.7730952381
                        ],
                        "iteration": 308,
                        "passed_time": 26.52764032,
                        "remaining_time": 59.32232835,
                        "test": [
                          0.5288573541,
                          0.7302777778
                        ]
                      },
                      {
                        "learn": [
                          0.4770605759,
                          0.773452381
                        ],
                        "iteration": 309,
                        "passed_time": 26.59364862,
                        "remaining_time": 59.19231468,
                        "test": [
                          0.5288824463,
                          0.73
                        ]
                      },
                      {
                        "learn": [
                          0.4768566313,
                          0.774047619
                        ],
                        "iteration": 310,
                        "passed_time": 26.62422092,
                        "remaining_time": 58.98420648,
                        "test": [
                          0.528864407,
                          0.73
                        ]
                      },
                      {
                        "learn": [
                          0.4768150402,
                          0.7739285714
                        ],
                        "iteration": 311,
                        "passed_time": 26.65708331,
                        "remaining_time": 58.78228627,
                        "test": [
                          0.5288739353,
                          0.7297222222
                        ]
                      },
                      {
                        "learn": [
                          0.4765330578,
                          0.7736904762
                        ],
                        "iteration": 312,
                        "passed_time": 26.69794724,
                        "remaining_time": 58.5990088,
                        "test": [
                          0.5288697984,
                          0.7294444444
                        ]
                      },
                      {
                        "learn": [
                          0.4765314593,
                          0.7736904762
                        ],
                        "iteration": 313,
                        "passed_time": 26.7936294,
                        "remaining_time": 58.53640054,
                        "test": [
                          0.528871799,
                          0.7294444444
                        ]
                      },
                      {
                        "learn": [
                          0.4765300932,
                          0.7736904762
                        ],
                        "iteration": 314,
                        "passed_time": 26.84136579,
                        "remaining_time": 58.36931925,
                        "test": [
                          0.5288682387,
                          0.7294444444
                        ]
                      },
                      {
                        "learn": [
                          0.4764827474,
                          0.7738095238
                        ],
                        "iteration": 315,
                        "passed_time": 26.90245552,
                        "remaining_time": 58.23189739,
                        "test": [
                          0.5288834635,
                          0.7291666667
                        ]
                      },
                      {
                        "learn": [
                          0.4763752965,
                          0.7736904762
                        ],
                        "iteration": 316,
                        "passed_time": 27.00578265,
                        "remaining_time": 58.18596073,
                        "test": [
                          0.5288608805,
                          0.7294444444
                        ]
                      },
                      {
                        "learn": [
                          0.476368321,
                          0.7736904762
                        ],
                        "iteration": 317,
                        "passed_time": 27.13068095,
                        "remaining_time": 58.18592582,
                        "test": [
                          0.5288601345,
                          0.7294444444
                        ]
                      },
                      {
                        "learn": [
                          0.4763671875,
                          0.7736904762
                        ],
                        "iteration": 318,
                        "passed_time": 27.21974272,
                        "remaining_time": 58.10860436,
                        "test": [
                          0.5288566759,
                          0.7294444444
                        ]
                      },
                      {
                        "learn": [
                          0.4763614328,
                          0.7736904762
                        ],
                        "iteration": 319,
                        "passed_time": 27.31137288,
                        "remaining_time": 58.03666737,
                        "test": [
                          0.5288553535,
                          0.7294444444
                        ]
                      },
                      {
                        "learn": [
                          0.4763412912,
                          0.7739285714
                        ],
                        "iteration": 320,
                        "passed_time": 27.37431581,
                        "remaining_time": 57.90392659,
                        "test": [
                          0.5288599989,
                          0.7294444444
                        ]
                      },
                      {
                        "learn": [
                          0.4763348098,
                          0.774047619
                        ],
                        "iteration": 321,
                        "passed_time": 27.41639686,
                        "remaining_time": 57.72769278,
                        "test": [
                          0.5288490126,
                          0.7294444444
                        ]
                      },
                      {
                        "learn": [
                          0.4763336763,
                          0.774047619
                        ],
                        "iteration": 322,
                        "passed_time": 27.44931022,
                        "remaining_time": 57.53307436,
                        "test": [
                          0.5288456217,
                          0.7294444444
                        ]
                      },
                      {
                        "learn": [
                          0.4760841006,
                          0.7745238095
                        ],
                        "iteration": 323,
                        "passed_time": 27.49051846,
                        "remaining_time": 57.35676073,
                        "test": [
                          0.5287412516,
                          0.7288888889
                        ]
                      },
                      {
                        "learn": [
                          0.4760712542,
                          0.7745238095
                        ],
                        "iteration": 324,
                        "passed_time": 27.55531048,
                        "remaining_time": 57.23026023,
                        "test": [
                          0.5287250773,
                          0.7288888889
                        ]
                      },
                      {
                        "learn": [
                          0.4759504046,
                          0.7741666667
                        ],
                        "iteration": 325,
                        "passed_time": 27.64877309,
                        "remaining_time": 57.1634143,
                        "test": [
                          0.5286805895,
                          0.7288888889
                        ]
                      },
                      {
                        "learn": [
                          0.4758625721,
                          0.7741666667
                        ],
                        "iteration": 326,
                        "passed_time": 27.72357812,
                        "remaining_time": 57.05800634,
                        "test": [
                          0.5287053087,
                          0.7291666667
                        ]
                      },
                      {
                        "learn": [
                          0.4758603923,
                          0.774047619
                        ],
                        "iteration": 327,
                        "passed_time": 27.7972299,
                        "remaining_time": 56.95042224,
                        "test": [
                          0.5287046984,
                          0.7291666667
                        ]
                      },
                      {
                        "learn": [
                          0.4755436779,
                          0.7746428571
                        ],
                        "iteration": 328,
                        "passed_time": 27.91327761,
                        "remaining_time": 56.92951149,
                        "test": [
                          0.5286998834,
                          0.7294444444
                        ]
                      },
                      {
                        "learn": [
                          0.4755428641,
                          0.7746428571
                        ],
                        "iteration": 329,
                        "passed_time": 28.01398893,
                        "remaining_time": 56.87688661,
                        "test": [
                          0.5286968316,
                          0.7294444444
                        ]
                      },
                      {
                        "learn": [
                          0.4755396089,
                          0.7746428571
                        ],
                        "iteration": 330,
                        "passed_time": 28.10660998,
                        "remaining_time": 56.80761957,
                        "test": [
                          0.5286967638,
                          0.7294444444
                        ]
                      },
                      {
                        "learn": [
                          0.4750960286,
                          0.7745238095
                        ],
                        "iteration": 331,
                        "passed_time": 28.21126858,
                        "remaining_time": 56.76243197,
                        "test": [
                          0.5286039225,
                          0.7291666667
                        ]
                      },
                      {
                        "learn": [
                          0.4750932094,
                          0.7745238095
                        ],
                        "iteration": 332,
                        "passed_time": 28.30569324,
                        "remaining_time": 56.69638855,
                        "test": [
                          0.5286034478,
                          0.7291666667
                        ]
                      },
                      {
                        "learn": [
                          0.474957566,
                          0.7742857143
                        ],
                        "iteration": 333,
                        "passed_time": 28.42256916,
                        "remaining_time": 56.6749433,
                        "test": [
                          0.5285197279,
                          0.7297222222
                        ]
                      },
                      {
                        "learn": [
                          0.4749544561,
                          0.7742857143
                        ],
                        "iteration": 334,
                        "passed_time": 28.53969149,
                        "remaining_time": 56.65341743,
                        "test": [
                          0.5285217285,
                          0.7297222222
                        ]
                      },
                      {
                        "learn": [
                          0.4749534389,
                          0.7744047619
                        ],
                        "iteration": 335,
                        "passed_time": 28.6689859,
                        "remaining_time": 56.6553769,
                        "test": [
                          0.5285187446,
                          0.7297222222
                        ]
                      },
                      {
                        "learn": [
                          0.4749413191,
                          0.7742857143
                        ],
                        "iteration": 336,
                        "passed_time": 28.71534032,
                        "remaining_time": 56.49338466,
                        "test": [
                          0.5285203722,
                          0.7297222222
                        ]
                      },
                      {
                        "learn": [
                          0.4749402437,
                          0.7742857143
                        ],
                        "iteration": 337,
                        "passed_time": 28.75154396,
                        "remaining_time": 56.31219557,
                        "test": [
                          0.5285222371,
                          0.7297222222
                        ]
                      },
                      {
                        "learn": [
                          0.4749385289,
                          0.7742857143
                        ],
                        "iteration": 338,
                        "passed_time": 28.78594027,
                        "remaining_time": 56.12833782,
                        "test": [
                          0.5285217285,
                          0.7297222222
                        ]
                      },
                      {
                        "learn": [
                          0.4749378604,
                          0.7742857143
                        ],
                        "iteration": 339,
                        "passed_time": 28.85052774,
                        "remaining_time": 56.00396562,
                        "test": [
                          0.5285212538,
                          0.7297222222
                        ]
                      },
                      {
                        "learn": [
                          0.4749368431,
                          0.7742857143
                        ],
                        "iteration": 340,
                        "passed_time": 28.91839985,
                        "remaining_time": 55.8862918,
                        "test": [
                          0.5285184055,
                          0.7297222222
                        ]
                      },
                      {
                        "learn": [
                          0.4748148019,
                          0.7746428571
                        ],
                        "iteration": 341,
                        "passed_time": 29.01867916,
                        "remaining_time": 55.83125991,
                        "test": [
                          0.5285303752,
                          0.7294444444
                        ]
                      },
                      {
                        "learn": [
                          0.4748138137,
                          0.7746428571
                        ],
                        "iteration": 342,
                        "passed_time": 29.0795837,
                        "remaining_time": 55.7005437,
                        "test": [
                          0.5285298665,
                          0.7294444444
                        ]
                      },
                      {
                        "learn": [
                          0.4746692185,
                          0.7747619048
                        ],
                        "iteration": 343,
                        "passed_time": 29.13334973,
                        "remaining_time": 55.55662042,
                        "test": [
                          0.5285031806,
                          0.7291666667
                        ]
                      },
                      {
                        "learn": [
                          0.4745567685,
                          0.7748809524
                        ],
                        "iteration": 344,
                        "passed_time": 29.18981992,
                        "remaining_time": 55.41835376,
                        "test": [
                          0.5284891086,
                          0.7291666667
                        ]
                      },
                      {
                        "learn": [
                          0.4744318208,
                          0.7748809524
                        ],
                        "iteration": 345,
                        "passed_time": 29.22470247,
                        "remaining_time": 55.23975553,
                        "test": [
                          0.5284806654,
                          0.7288888889
                        ]
                      },
                      {
                        "learn": [
                          0.4744308908,
                          0.7748809524
                        ],
                        "iteration": 346,
                        "passed_time": 29.31114828,
                        "remaining_time": 55.15901968,
                        "test": [
                          0.5284820557,
                          0.7288888889
                        ]
                      },
                      {
                        "learn": [
                          0.4744290597,
                          0.7748809524
                        ],
                        "iteration": 347,
                        "passed_time": 29.42947454,
                        "remaining_time": 55.13798103,
                        "test": [
                          0.5284835476,
                          0.7288888889
                        ]
                      },
                      {
                        "learn": [
                          0.4743642753,
                          0.7746428571
                        ],
                        "iteration": 348,
                        "passed_time": 29.52436277,
                        "remaining_time": 55.07266523,
                        "test": [
                          0.5284549967,
                          0.7288888889
                        ]
                      },
                      {
                        "learn": [
                          0.4741122872,
                          0.7752380952
                        ],
                        "iteration": 349,
                        "passed_time": 29.61087014,
                        "remaining_time": 54.99161598,
                        "test": [
                          0.5284564209,
                          0.7291666667
                        ]
                      },
                      {
                        "learn": [
                          0.4738467843,
                          0.7754761905
                        ],
                        "iteration": 350,
                        "passed_time": 29.69940199,
                        "remaining_time": 54.9142789,
                        "test": [
                          0.5284924655,
                          0.7288888889
                        ]
                      },
                      {
                        "learn": [
                          0.4736821928,
                          0.7754761905
                        ],
                        "iteration": 351,
                        "passed_time": 29.78366385,
                        "remaining_time": 54.82901755,
                        "test": [
                          0.5284694417,
                          0.7291666667
                        ]
                      },
                      {
                        "learn": [
                          0.4735091146,
                          0.7754761905
                        ],
                        "iteration": 352,
                        "passed_time": 29.93095401,
                        "remaining_time": 54.85928398,
                        "test": [
                          0.528446384,
                          0.7288888889
                        ]
                      },
                      {
                        "learn": [
                          0.4735077486,
                          0.7754761905
                        ],
                        "iteration": 353,
                        "passed_time": 30.07618991,
                        "remaining_time": 54.88479853,
                        "test": [
                          0.5284462484,
                          0.7288888889
                        ]
                      },
                      {
                        "learn": [
                          0.4731552269,
                          0.7751190476
                        ],
                        "iteration": 354,
                        "passed_time": 30.13577457,
                        "remaining_time": 54.75373127,
                        "test": [
                          0.5283869425,
                          0.7277777778
                        ]
                      },
                      {
                        "learn": [
                          0.4729781378,
                          0.7754761905
                        ],
                        "iteration": 355,
                        "passed_time": 30.1654796,
                        "remaining_time": 54.56901365,
                        "test": [
                          0.5282455105,
                          0.7286111111
                        ]
                      },
                      {
                        "learn": [
                          0.4729753185,
                          0.7754761905
                        ],
                        "iteration": 356,
                        "passed_time": 30.19479994,
                        "remaining_time": 54.38447161,
                        "test": [
                          0.5282432048,
                          0.7286111111
                        ]
                      },
                      {
                        "learn": [
                          0.4727193778,
                          0.775952381
                        ],
                        "iteration": 357,
                        "passed_time": 30.22433038,
                        "remaining_time": 54.20117347,
                        "test": [
                          0.5281512451,
                          0.7288888889
                        ]
                      },
                      {
                        "learn": [
                          0.4727179536,
                          0.775952381
                        ],
                        "iteration": 358,
                        "passed_time": 30.25066118,
                        "remaining_time": 54.01301899,
                        "test": [
                          0.5281511095,
                          0.7288888889
                        ]
                      },
                      {
                        "learn": [
                          0.472715396,
                          0.775952381
                        ],
                        "iteration": 359,
                        "passed_time": 30.27650828,
                        "remaining_time": 53.82490361,
                        "test": [
                          0.5281470405,
                          0.7288888889
                        ]
                      },
                      {
                        "learn": [
                          0.472654913,
                          0.775952381
                        ],
                        "iteration": 360,
                        "passed_time": 30.30272672,
                        "remaining_time": 53.63834452,
                        "test": [
                          0.5281415473,
                          0.7291666667
                        ]
                      },
                      {
                        "learn": [
                          0.4723412505,
                          0.7751190476
                        ],
                        "iteration": 361,
                        "passed_time": 30.32981057,
                        "remaining_time": 53.45419653,
                        "test": [
                          0.5281751166,
                          0.7297222222
                        ]
                      },
                      {
                        "learn": [
                          0.4723398554,
                          0.7751190476
                        ],
                        "iteration": 362,
                        "passed_time": 30.35579973,
                        "remaining_time": 53.26899292,
                        "test": [
                          0.5281770833,
                          0.7297222222
                        ]
                      },
                      {
                        "learn": [
                          0.4720988828,
                          0.775952381
                        ],
                        "iteration": 363,
                        "passed_time": 30.38299397,
                        "remaining_time": 53.08676969,
                        "test": [
                          0.528287184,
                          0.73
                        ]
                      },
                      {
                        "learn": [
                          0.4720984177,
                          0.775952381
                        ],
                        "iteration": 364,
                        "passed_time": 30.39946225,
                        "remaining_time": 52.88673569,
                        "test": [
                          0.5282869805,
                          0.73
                        ]
                      },
                      {
                        "learn": [
                          0.4720977202,
                          0.775952381
                        ],
                        "iteration": 365,
                        "passed_time": 30.42530598,
                        "remaining_time": 52.70394534,
                        "test": [
                          0.5282843696,
                          0.7302777778
                        ]
                      },
                      {
                        "learn": [
                          0.4720971098,
                          0.775952381
                        ],
                        "iteration": 366,
                        "passed_time": 30.4527085,
                        "remaining_time": 52.52469885,
                        "test": [
                          0.5282821316,
                          0.7302777778
                        ]
                      },
                      {
                        "learn": [
                          0.4720954241,
                          0.775952381
                        ],
                        "iteration": 367,
                        "passed_time": 30.48822144,
                        "remaining_time": 52.36020638,
                        "test": [
                          0.5282820638,
                          0.7302777778
                        ]
                      },
                      {
                        "learn": [
                          0.4719280134,
                          0.7758333333
                        ],
                        "iteration": 368,
                        "passed_time": 30.51448793,
                        "remaining_time": 52.18060131,
                        "test": [
                          0.5282697211,
                          0.7297222222
                        ]
                      },
                      {
                        "learn": [
                          0.4719273449,
                          0.7758333333
                        ],
                        "iteration": 369,
                        "passed_time": 30.54068902,
                        "remaining_time": 52.00171373,
                        "test": [
                          0.5282693481,
                          0.7297222222
                        ]
                      },
                      {
                        "learn": [
                          0.4717518543,
                          0.7757142857
                        ],
                        "iteration": 370,
                        "passed_time": 30.56782691,
                        "remaining_time": 51.82523753,
                        "test": [
                          0.5282304552,
                          0.7302777778
                        ]
                      },
                      {
                        "learn": [
                          0.4715986851,
                          0.7760714286
                        ],
                        "iteration": 371,
                        "passed_time": 30.59497622,
                        "remaining_time": 51.64958351,
                        "test": [
                          0.5282339138,
                          0.7302777778
                        ]
                      },
                      {
                        "learn": [
                          0.4715969413,
                          0.7760714286
                        ],
                        "iteration": 372,
                        "passed_time": 30.62128348,
                        "remaining_time": 51.4733103,
                        "test": [
                          0.5282358805,
                          0.7302777778
                        ]
                      },
                      {
                        "learn": [
                          0.4715957787,
                          0.7760714286
                        ],
                        "iteration": 373,
                        "passed_time": 30.64748673,
                        "remaining_time": 51.29766496,
                        "test": [
                          0.5282358127,
                          0.7302777778
                        ]
                      },
                      {
                        "learn": [
                          0.4715295701,
                          0.7760714286
                        ],
                        "iteration": 374,
                        "passed_time": 30.68785164,
                        "remaining_time": 51.1464194,
                        "test": [
                          0.5282081434,
                          0.7302777778
                        ]
                      },
                      {
                        "learn": [
                          0.4715274193,
                          0.7760714286
                        ],
                        "iteration": 375,
                        "passed_time": 30.71362273,
                        "remaining_time": 50.9715441,
                        "test": [
                          0.5282081434,
                          0.7302777778
                        ]
                      },
                      {
                        "learn": [
                          0.4715262277,
                          0.7760714286
                        ],
                        "iteration": 376,
                        "passed_time": 30.73942881,
                        "remaining_time": 50.79751763,
                        "test": [
                          0.5282080756,
                          0.7302777778
                        ]
                      },
                      {
                        "learn": [
                          0.4715255592,
                          0.7760714286
                        ],
                        "iteration": 377,
                        "passed_time": 30.76516282,
                        "remaining_time": 50.62415682,
                        "test": [
                          0.5282075331,
                          0.7302777778
                        ]
                      },
                      {
                        "learn": [
                          0.4714144752,
                          0.775952381
                        ],
                        "iteration": 378,
                        "passed_time": 30.79129534,
                        "remaining_time": 50.45222799,
                        "test": [
                          0.5281817627,
                          0.7297222222
                        ]
                      },
                      {
                        "learn": [
                          0.4712018404,
                          0.7754761905
                        ],
                        "iteration": 379,
                        "passed_time": 30.81923081,
                        "remaining_time": 50.28400816,
                        "test": [
                          0.5281460232,
                          0.7297222222
                        ]
                      },
                      {
                        "learn": [
                          0.4711996605,
                          0.7754761905
                        ],
                        "iteration": 380,
                        "passed_time": 30.84489021,
                        "remaining_time": 50.11282687,
                        "test": [
                          0.5281480577,
                          0.7297222222
                        ]
                      },
                      {
                        "learn": [
                          0.4711945452,
                          0.7754761905
                        ],
                        "iteration": 381,
                        "passed_time": 30.87082324,
                        "remaining_time": 49.94285017,
                        "test": [
                          0.5281499905,
                          0.7297222222
                        ]
                      },
                      {
                        "learn": [
                          0.4709066336,
                          0.776547619
                        ],
                        "iteration": 382,
                        "passed_time": 30.89729659,
                        "remaining_time": 49.77449607,
                        "test": [
                          0.5279735311,
                          0.7305555556
                        ]
                      },
                      {
                        "learn": [
                          0.4708931478,
                          0.7766666667
                        ],
                        "iteration": 383,
                        "passed_time": 30.92330373,
                        "remaining_time": 49.60613307,
                        "test": [
                          0.5279642402,
                          0.7305555556
                        ]
                      },
                      {
                        "learn": [
                          0.4706166876,
                          0.776547619
                        ],
                        "iteration": 384,
                        "passed_time": 30.9818741,
                        "remaining_time": 49.49052616,
                        "test": [
                          0.5278490194,
                          0.73
                        ]
                      },
                      {
                        "learn": [
                          0.4704789225,
                          0.7769047619
                        ],
                        "iteration": 385,
                        "passed_time": 31.01325818,
                        "remaining_time": 49.33197027,
                        "test": [
                          0.5278877428,
                          0.7305555556
                        ]
                      },
                      {
                        "learn": [
                          0.4704783412,
                          0.7769047619
                        ],
                        "iteration": 386,
                        "passed_time": 31.03892079,
                        "remaining_time": 49.1650089,
                        "test": [
                          0.5278854031,
                          0.7305555556
                        ]
                      },
                      {
                        "learn": [
                          0.470230771,
                          0.7777380952
                        ],
                        "iteration": 387,
                        "passed_time": 31.06582399,
                        "remaining_time": 49.00073268,
                        "test": [
                          0.5279092068,
                          0.7308333333
                        ]
                      },
                      {
                        "learn": [
                          0.4700595238,
                          0.7775
                        ],
                        "iteration": 388,
                        "passed_time": 31.09244323,
                        "remaining_time": 48.83671675,
                        "test": [
                          0.5278247409,
                          0.7302777778
                        ]
                      },
                      {
                        "learn": [
                          0.4695954822,
                          0.7780952381
                        ],
                        "iteration": 389,
                        "passed_time": 31.11987062,
                        "remaining_time": 48.67466944,
                        "test": [
                          0.5279866197,
                          0.7305555556
                        ]
                      },
                      {
                        "learn": [
                          0.4695951625,
                          0.7780952381
                        ],
                        "iteration": 390,
                        "passed_time": 31.13529016,
                        "remaining_time": 48.49460795,
                        "test": [
                          0.5279884169,
                          0.7305555556
                        ]
                      },
                      {
                        "learn": [
                          0.4695918492,
                          0.7780952381
                        ],
                        "iteration": 391,
                        "passed_time": 31.16109771,
                        "remaining_time": 48.33149849,
                        "test": [
                          0.5279778375,
                          0.7305555556
                        ]
                      },
                      {
                        "learn": [
                          0.4695903669,
                          0.7780952381
                        ],
                        "iteration": 392,
                        "passed_time": 31.18747205,
                        "remaining_time": 48.1699632,
                        "test": [
                          0.5279793294,
                          0.7305555556
                        ]
                      },
                      {
                        "learn": [
                          0.4694642857,
                          0.7779761905
                        ],
                        "iteration": 393,
                        "passed_time": 31.21393445,
                        "remaining_time": 48.00924943,
                        "test": [
                          0.5279092068,
                          0.7313888889
                        ]
                      },
                      {
                        "learn": [
                          0.469291469,
                          0.7776190476
                        ],
                        "iteration": 394,
                        "passed_time": 31.24023983,
                        "remaining_time": 47.84897493,
                        "test": [
                          0.5279053413,
                          0.7308333333
                        ]
                      },
                      {
                        "learn": [
                          0.4691850353,
                          0.7776190476
                        ],
                        "iteration": 395,
                        "passed_time": 31.26630913,
                        "remaining_time": 47.68901696,
                        "test": [
                          0.5279347399,
                          0.7305555556
                        ]
                      },
                      {
                        "learn": [
                          0.4691650972,
                          0.7776190476
                        ],
                        "iteration": 396,
                        "passed_time": 31.29202928,
                        "remaining_time": 47.52920317,
                        "test": [
                          0.5279391819,
                          0.7305555556
                        ]
                      },
                      {
                        "learn": [
                          0.4691634987,
                          0.7776190476
                        ],
                        "iteration": 397,
                        "passed_time": 31.3083052,
                        "remaining_time": 47.35577822,
                        "test": [
                          0.5279393514,
                          0.7305555556
                        ]
                      },
                      {
                        "learn": [
                          0.4691629464,
                          0.7776190476
                        ],
                        "iteration": 398,
                        "passed_time": 31.33394053,
                        "remaining_time": 47.19723875,
                        "test": [
                          0.5279388428,
                          0.7305555556
                        ]
                      },
                      {
                        "learn": [
                          0.4690597098,
                          0.778452381
                        ],
                        "iteration": 399,
                        "passed_time": 31.36003724,
                        "remaining_time": 47.04005586,
                        "test": [
                          0.5279064941,
                          0.7308333333
                        ]
                      },
                      {
                        "learn": [
                          0.4690593029,
                          0.778452381
                        ],
                        "iteration": 400,
                        "passed_time": 31.38581889,
                        "remaining_time": 46.88305615,
                        "test": [
                          0.5279043918,
                          0.7308333333
                        ]
                      },
                      {
                        "learn": [
                          0.4690571231,
                          0.778452381
                        ],
                        "iteration": 401,
                        "passed_time": 31.41236013,
                        "remaining_time": 46.7278392,
                        "test": [
                          0.5279046292,
                          0.7308333333
                        ]
                      },
                      {
                        "learn": [
                          0.4687788028,
                          0.7785714286
                        ],
                        "iteration": 402,
                        "passed_time": 31.43950513,
                        "remaining_time": 46.57415524,
                        "test": [
                          0.5278506131,
                          0.7308333333
                        ]
                      },
                      {
                        "learn": [
                          0.4687783087,
                          0.7785714286
                        ],
                        "iteration": 403,
                        "passed_time": 31.47013229,
                        "remaining_time": 46.42623476,
                        "test": [
                          0.5278485447,
                          0.7308333333
                        ]
                      },
                      {
                        "learn": [
                          0.4685798863,
                          0.7783333333
                        ],
                        "iteration": 404,
                        "passed_time": 31.49712166,
                        "remaining_time": 46.2735491,
                        "test": [
                          0.527822876,
                          0.7311111111
                        ]
                      },
                      {
                        "learn": [
                          0.4685112072,
                          0.7778571429
                        ],
                        "iteration": 405,
                        "passed_time": 31.52347773,
                        "remaining_time": 46.12055608,
                        "test": [
                          0.5278156874,
                          0.7311111111
                        ]
                      },
                      {
                        "learn": [
                          0.4684432838,
                          0.7778571429
                        ],
                        "iteration": 406,
                        "passed_time": 31.55059441,
                        "remaining_time": 45.96929357,
                        "test": [
                          0.5278096517,
                          0.7308333333
                        ]
                      },
                      {
                        "learn": [
                          0.4684427897,
                          0.7778571429
                        ],
                        "iteration": 407,
                        "passed_time": 31.58015954,
                        "remaining_time": 45.82219227,
                        "test": [
                          0.5278075494,
                          0.7308333333
                        ]
                      },
                      {
                        "learn": [
                          0.4679774402,
                          0.7780952381
                        ],
                        "iteration": 408,
                        "passed_time": 31.60768094,
                        "remaining_time": 45.67271255,
                        "test": [
                          0.527727322,
                          0.7305555556
                        ]
                      },
                      {
                        "learn": [
                          0.4679644194,
                          0.7780952381
                        ],
                        "iteration": 409,
                        "passed_time": 31.63373343,
                        "remaining_time": 45.52171395,
                        "test": [
                          0.5277258301,
                          0.7305555556
                        ]
                      },
                      {
                        "learn": [
                          0.4678524054,
                          0.7780952381
                        ],
                        "iteration": 410,
                        "passed_time": 31.66004673,
                        "remaining_time": 45.37169714,
                        "test": [
                          0.5276893107,
                          0.7308333333
                        ]
                      },
                      {
                        "learn": [
                          0.467759225,
                          0.7783333333
                        ],
                        "iteration": 411,
                        "passed_time": 31.7006118,
                        "remaining_time": 45.24262073,
                        "test": [
                          0.5277300347,
                          0.7302777778
                        ]
                      },
                      {
                        "learn": [
                          0.4677308873,
                          0.7780952381
                        ],
                        "iteration": 412,
                        "passed_time": 31.73068177,
                        "remaining_time": 45.09905618,
                        "test": [
                          0.5276921251,
                          0.7305555556
                        ]
                      },
                      {
                        "learn": [
                          0.4676667713,
                          0.7782142857
                        ],
                        "iteration": 413,
                        "passed_time": 31.75734303,
                        "remaining_time": 44.95121501,
                        "test": [
                          0.5276838515,
                          0.7311111111
                        ]
                      },
                      {
                        "learn": [
                          0.4676460193,
                          0.7780952381
                        ],
                        "iteration": 414,
                        "passed_time": 31.78351893,
                        "remaining_time": 44.80327367,
                        "test": [
                          0.5276859199,
                          0.7311111111
                        ]
                      },
                      {
                        "learn": [
                          0.4674119931,
                          0.778452381
                        ],
                        "iteration": 415,
                        "passed_time": 31.8131447,
                        "remaining_time": 44.66076082,
                        "test": [
                          0.5277449205,
                          0.7302777778
                        ]
                      },
                      {
                        "learn": [
                          0.4673158773,
                          0.7785714286
                        ],
                        "iteration": 416,
                        "passed_time": 31.84056511,
                        "remaining_time": 44.51570613,
                        "test": [
                          0.5277096897,
                          0.7305555556
                        ]
                      },
                      {
                        "learn": [
                          0.4671788679,
                          0.7791666667
                        ],
                        "iteration": 417,
                        "passed_time": 31.86746392,
                        "remaining_time": 44.37048805,
                        "test": [
                          0.5274795532,
                          0.7311111111
                        ]
                      },
                      {
                        "learn": [
                          0.4671783738,
                          0.7791666667
                        ],
                        "iteration": 418,
                        "passed_time": 31.89335443,
                        "remaining_time": 44.22443657,
                        "test": [
                          0.5274810791,
                          0.7311111111
                        ]
                      },
                      {
                        "learn": [
                          0.4670103237,
                          0.7789285714
                        ],
                        "iteration": 419,
                        "passed_time": 31.92007317,
                        "remaining_time": 44.08010105,
                        "test": [
                          0.5274336751,
                          0.7313888889
                        ]
                      },
                      {
                        "learn": [
                          0.4668895612,
                          0.7786904762
                        ],
                        "iteration": 420,
                        "passed_time": 31.94636751,
                        "remaining_time": 43.93574059,
                        "test": [
                          0.5274140082,
                          0.7316666667
                        ]
                      },
                      {
                        "learn": [
                          0.4668891834,
                          0.7786904762
                        ],
                        "iteration": 421,
                        "passed_time": 31.99249252,
                        "remaining_time": 43.81910113,
                        "test": [
                          0.5274120416,
                          0.7316666667
                        ]
                      },
                      {
                        "learn": [
                          0.4667538016,
                          0.779047619
                        ],
                        "iteration": 422,
                        "passed_time": 32.02159283,
                        "remaining_time": 43.67957225,
                        "test": [
                          0.5273720296,
                          0.7319444444
                        ]
                      },
                      {
                        "learn": [
                          0.4666553606,
                          0.7792857143
                        ],
                        "iteration": 423,
                        "passed_time": 32.04796779,
                        "remaining_time": 43.53686191,
                        "test": [
                          0.5273802016,
                          0.7316666667
                        ]
                      },
                      {
                        "learn": [
                          0.4665330869,
                          0.779047619
                        ],
                        "iteration": 424,
                        "passed_time": 32.07433934,
                        "remaining_time": 43.39469441,
                        "test": [
                          0.5274616157,
                          0.7316666667
                        ]
                      },
                      {
                        "learn": [
                          0.4665325637,
                          0.779047619
                        ],
                        "iteration": 425,
                        "passed_time": 32.09411947,
                        "remaining_time": 43.24418915,
                        "test": [
                          0.5274631755,
                          0.7316666667
                        ]
                      },
                      {
                        "learn": [
                          0.4663592239,
                          0.7791666667
                        ],
                        "iteration": 426,
                        "passed_time": 32.12066806,
                        "remaining_time": 43.10337892,
                        "test": [
                          0.5274111599,
                          0.7316666667
                        ]
                      },
                      {
                        "learn": [
                          0.466212507,
                          0.7789285714
                        ],
                        "iteration": 427,
                        "passed_time": 32.14726866,
                        "remaining_time": 42.96317213,
                        "test": [
                          0.5274508328,
                          0.7316666667
                        ]
                      },
                      {
                        "learn": [
                          0.466211635,
                          0.7789285714
                        ],
                        "iteration": 428,
                        "passed_time": 32.16960665,
                        "remaining_time": 42.81782144,
                        "test": [
                          0.5274505954,
                          0.7316666667
                        ]
                      },
                      {
                        "learn": [
                          0.4661000279,
                          0.7795238095
                        ],
                        "iteration": 429,
                        "passed_time": 32.19579749,
                        "remaining_time": 42.67815016,
                        "test": [
                          0.5275577799,
                          0.7316666667
                        ]
                      },
                      {
                        "learn": [
                          0.4660244024,
                          0.7797619048
                        ],
                        "iteration": 430,
                        "passed_time": 32.22520938,
                        "remaining_time": 42.54325787,
                        "test": [
                          0.5275418769,
                          0.7316666667
                        ]
                      },
                      {
                        "learn": [
                          0.4660239665,
                          0.7797619048
                        ],
                        "iteration": 431,
                        "passed_time": 32.25104303,
                        "remaining_time": 42.40414917,
                        "test": [
                          0.5275400119,
                          0.7316666667
                        ]
                      },
                      {
                        "learn": [
                          0.4659985933,
                          0.7794047619
                        ],
                        "iteration": 432,
                        "passed_time": 32.27716411,
                        "remaining_time": 42.26594007,
                        "test": [
                          0.5275510661,
                          0.7316666667
                        ]
                      },
                      {
                        "learn": [
                          0.4656417701,
                          0.7801190476
                        ],
                        "iteration": 433,
                        "passed_time": 32.30404042,
                        "remaining_time": 42.12923244,
                        "test": [
                          0.527604777,
                          0.7330555556
                        ]
                      },
                      {
                        "learn": [
                          0.4656339228,
                          0.7802380952
                        ],
                        "iteration": 434,
                        "passed_time": 32.32988464,
                        "remaining_time": 41.99168924,
                        "test": [
                          0.5276070489,
                          0.7330555556
                        ]
                      },
                      {
                        "learn": [
                          0.4652650379,
                          0.7802380952
                        ],
                        "iteration": 435,
                        "passed_time": 32.35709034,
                        "remaining_time": 41.85641962,
                        "test": [
                          0.5275631375,
                          0.7330555556
                        ]
                      },
                      {
                        "learn": [
                          0.4652535575,
                          0.7802380952
                        ],
                        "iteration": 436,
                        "passed_time": 32.38310863,
                        "remaining_time": 41.72011478,
                        "test": [
                          0.527556288,
                          0.7330555556
                        ]
                      },
                      {
                        "learn": [
                          0.4650608026,
                          0.7807142857
                        ],
                        "iteration": 437,
                        "passed_time": 32.40966367,
                        "remaining_time": 41.58500224,
                        "test": [
                          0.5275926039,
                          0.7333333333
                        ]
                      },
                      {
                        "learn": [
                          0.4650593494,
                          0.7807142857
                        ],
                        "iteration": 438,
                        "passed_time": 32.43548935,
                        "remaining_time": 41.44945222,
                        "test": [
                          0.5275925361,
                          0.7333333333
                        ]
                      },
                      {
                        "learn": [
                          0.4650588844,
                          0.7807142857
                        ],
                        "iteration": 439,
                        "passed_time": 32.46334929,
                        "remaining_time": 41.31699001,
                        "test": [
                          0.5275921631,
                          0.7333333333
                        ]
                      },
                      {
                        "learn": [
                          0.464880342,
                          0.7804761905
                        ],
                        "iteration": 440,
                        "passed_time": 32.49191671,
                        "remaining_time": 41.18589895,
                        "test": [
                          0.5276689317,
                          0.7327777778
                        ]
                      },
                      {
                        "learn": [
                          0.4648797026,
                          0.7804761905
                        ],
                        "iteration": 441,
                        "passed_time": 32.51753531,
                        "remaining_time": 41.0515491,
                        "test": [
                          0.5276686605,
                          0.7327777778
                        ]
                      },
                      {
                        "learn": [
                          0.4647605097,
                          0.7805952381
                        ],
                        "iteration": 442,
                        "passed_time": 32.54409269,
                        "remaining_time": 40.91887049,
                        "test": [
                          0.5276774089,
                          0.7319444444
                        ]
                      },
                      {
                        "learn": [
                          0.4647588239,
                          0.7805952381
                        ],
                        "iteration": 443,
                        "passed_time": 32.56970053,
                        "remaining_time": 40.78548085,
                        "test": [
                          0.5276774767,
                          0.7319444444
                        ]
                      },
                      {
                        "learn": [
                          0.464758388,
                          0.7805952381
                        ],
                        "iteration": 444,
                        "passed_time": 32.59530768,
                        "remaining_time": 40.65257475,
                        "test": [
                          0.5276757473,
                          0.7319444444
                        ]
                      },
                      {
                        "learn": [
                          0.4647579811,
                          0.7805952381
                        ],
                        "iteration": 445,
                        "passed_time": 32.63184122,
                        "remaining_time": 40.53372206,
                        "test": [
                          0.5276740858,
                          0.7319444444
                        ]
                      },
                      {
                        "learn": [
                          0.4645997838,
                          0.7813095238
                        ],
                        "iteration": 446,
                        "passed_time": 32.65816755,
                        "remaining_time": 40.40260996,
                        "test": [
                          0.527591824,
                          0.7325
                        ]
                      },
                      {
                        "learn": [
                          0.4645742943,
                          0.7811904762
                        ],
                        "iteration": 447,
                        "passed_time": 32.68377937,
                        "remaining_time": 40.27108529,
                        "test": [
                          0.5275602892,
                          0.7325
                        ]
                      },
                      {
                        "learn": [
                          0.4642956834,
                          0.7811904762
                        ],
                        "iteration": 448,
                        "passed_time": 32.7197008,
                        "remaining_time": 40.15268406,
                        "test": [
                          0.5274987115,
                          0.7316666667
                        ]
                      },
                      {
                        "learn": [
                          0.4641834368,
                          0.781547619
                        ],
                        "iteration": 449,
                        "passed_time": 32.75300647,
                        "remaining_time": 40.03145235,
                        "test": [
                          0.5274892849,
                          0.7319444444
                        ]
                      },
                      {
                        "learn": [
                          0.4641826521,
                          0.781547619
                        ],
                        "iteration": 450,
                        "passed_time": 32.77236975,
                        "remaining_time": 39.89363857,
                        "test": [
                          0.5274890137,
                          0.7319444444
                        ]
                      },
                      {
                        "learn": [
                          0.463987979,
                          0.7814285714
                        ],
                        "iteration": 451,
                        "passed_time": 32.8004698,
                        "remaining_time": 39.76694126,
                        "test": [
                          0.5274160767,
                          0.7325
                        ]
                      },
                      {
                        "learn": [
                          0.4639528692,
                          0.7813095238
                        ],
                        "iteration": 452,
                        "passed_time": 32.82858879,
                        "remaining_time": 39.64070214,
                        "test": [
                          0.5274056668,
                          0.7322222222
                        ]
                      },
                      {
                        "learn": [
                          0.463675479,
                          0.7813095238
                        ],
                        "iteration": 453,
                        "passed_time": 32.85506148,
                        "remaining_time": 39.51291535,
                        "test": [
                          0.5274431356,
                          0.7325
                        ]
                      },
                      {
                        "learn": [
                          0.4636583891,
                          0.7813095238
                        ],
                        "iteration": 454,
                        "passed_time": 32.88098122,
                        "remaining_time": 39.38491157,
                        "test": [
                          0.5274235704,
                          0.7325
                        ]
                      },
                      {
                        "learn": [
                          0.4636104039,
                          0.7816666667
                        ],
                        "iteration": 455,
                        "passed_time": 32.90731204,
                        "remaining_time": 39.25784594,
                        "test": [
                          0.527453342,
                          0.7330555556
                        ]
                      },
                      {
                        "learn": [
                          0.4636097354,
                          0.7816666667
                        ],
                        "iteration": 456,
                        "passed_time": 32.93361255,
                        "remaining_time": 39.13118516,
                        "test": [
                          0.5274533759,
                          0.7330555556
                        ]
                      },
                      {
                        "learn": [
                          0.4635718064,
                          0.781547619
                        ],
                        "iteration": 457,
                        "passed_time": 32.96183024,
                        "remaining_time": 39.00723141,
                        "test": [
                          0.527481859,
                          0.7330555556
                        ]
                      },
                      {
                        "learn": [
                          0.4634382266,
                          0.7819047619
                        ],
                        "iteration": 458,
                        "passed_time": 32.99074948,
                        "remaining_time": 38.88452171,
                        "test": [
                          0.527499627,
                          0.7333333333
                        ]
                      },
                      {
                        "learn": [
                          0.4634051223,
                          0.7817857143
                        ],
                        "iteration": 459,
                        "passed_time": 33.03877889,
                        "remaining_time": 38.78465348,
                        "test": [
                          0.5275110541,
                          0.7330555556
                        ]
                      },
                      {
                        "learn": [
                          0.4632376244,
                          0.7819047619
                        ],
                        "iteration": 460,
                        "passed_time": 33.07277204,
                        "remaining_time": 38.66859898,
                        "test": [
                          0.5274565633,
                          0.7327777778
                        ]
                      },
                      {
                        "learn": [
                          0.463230242,
                          0.7817857143
                        ],
                        "iteration": 461,
                        "passed_time": 33.098901,
                        "remaining_time": 38.54374186,
                        "test": [
                          0.5274474419,
                          0.7327777778
                        ]
                      },
                      {
                        "learn": [
                          0.4631844657,
                          0.7817857143
                        ],
                        "iteration": 462,
                        "passed_time": 33.12691346,
                        "remaining_time": 38.42149574,
                        "test": [
                          0.5274553765,
                          0.7327777778
                        ]
                      },
                      {
                        "learn": [
                          0.4631431943,
                          0.7820238095
                        ],
                        "iteration": 463,
                        "passed_time": 33.15275256,
                        "remaining_time": 38.2971452,
                        "test": [
                          0.5274897257,
                          0.7327777778
                        ]
                      },
                      {
                        "learn": [
                          0.4631429036,
                          0.7820238095
                        ],
                        "iteration": 464,
                        "passed_time": 33.1729949,
                        "remaining_time": 38.16677908,
                        "test": [
                          0.5274880642,
                          0.7327777778
                        ]
                      },
                      {
                        "learn": [
                          0.4628149123,
                          0.7819047619
                        ],
                        "iteration": 465,
                        "passed_time": 33.20036307,
                        "remaining_time": 38.04505124,
                        "test": [
                          0.5275118001,
                          0.7330555556
                        ]
                      },
                      {
                        "learn": [
                          0.4628146217,
                          0.7819047619
                        ],
                        "iteration": 466,
                        "passed_time": 33.22615882,
                        "remaining_time": 37.92193287,
                        "test": [
                          0.5275102064,
                          0.7330555556
                        ]
                      },
                      {
                        "learn": [
                          0.4628143311,
                          0.7819047619
                        ],
                        "iteration": 467,
                        "passed_time": 33.25199506,
                        "remaining_time": 37.79927643,
                        "test": [
                          0.5275086127,
                          0.7330555556
                        ]
                      },
                      {
                        "learn": [
                          0.4628140404,
                          0.7819047619
                        ],
                        "iteration": 468,
                        "passed_time": 33.27135513,
                        "remaining_time": 37.66970059,
                        "test": [
                          0.5275083415,
                          0.7330555556
                        ]
                      },
                      {
                        "learn": [
                          0.4628134591,
                          0.7819047619
                        ],
                        "iteration": 469,
                        "passed_time": 33.2881195,
                        "remaining_time": 37.53766667,
                        "test": [
                          0.5275082737,
                          0.7330555556
                        ]
                      },
                      {
                        "learn": [
                          0.4626071894,
                          0.781547619
                        ],
                        "iteration": 470,
                        "passed_time": 33.31470999,
                        "remaining_time": 37.41715836,
                        "test": [
                          0.5274637858,
                          0.7330555556
                        ]
                      },
                      {
                        "learn": [
                          0.4625227574,
                          0.7821428571
                        ],
                        "iteration": 471,
                        "passed_time": 33.34107401,
                        "remaining_time": 37.29679465,
                        "test": [
                          0.5274940321,
                          0.7327777778
                        ]
                      },
                      {
                        "learn": [
                          0.4624959891,
                          0.7821428571
                        ],
                        "iteration": 472,
                        "passed_time": 33.36784078,
                        "remaining_time": 37.17727714,
                        "test": [
                          0.5274767049,
                          0.7325
                        ]
                      },
                      {
                        "learn": [
                          0.4623632522,
                          0.7820238095
                        ],
                        "iteration": 473,
                        "passed_time": 33.39534259,
                        "remaining_time": 37.05896667,
                        "test": [
                          0.5274597168,
                          0.7330555556
                        ]
                      },
                      {
                        "learn": [
                          0.4620661563,
                          0.7821428571
                        ],
                        "iteration": 474,
                        "passed_time": 33.42248674,
                        "remaining_time": 36.94064324,
                        "test": [
                          0.5275946723,
                          0.7336111111
                        ]
                      },
                      {
                        "learn": [
                          0.461915632,
                          0.7829761905
                        ],
                        "iteration": 475,
                        "passed_time": 33.45108115,
                        "remaining_time": 36.82429942,
                        "test": [
                          0.5275617133,
                          0.7313888889
                        ]
                      },
                      {
                        "learn": [
                          0.4617987642,
                          0.7826190476
                        ],
                        "iteration": 476,
                        "passed_time": 33.47740511,
                        "remaining_time": 36.70583412,
                        "test": [
                          0.5274790446,
                          0.7313888889
                        ]
                      },
                      {
                        "learn": [
                          0.4616953532,
                          0.7826190476
                        ],
                        "iteration": 477,
                        "passed_time": 33.50349339,
                        "remaining_time": 36.58749697,
                        "test": [
                          0.5275413683,
                          0.7313888889
                        ]
                      },
                      {
                        "learn": [
                          0.4616824486,
                          0.7826190476
                        ],
                        "iteration": 478,
                        "passed_time": 33.52909026,
                        "remaining_time": 36.46901049,
                        "test": [
                          0.527514445,
                          0.7313888889
                        ]
                      },
                      {
                        "learn": [
                          0.4614296759,
                          0.7828571429
                        ],
                        "iteration": 479,
                        "passed_time": 33.56212098,
                        "remaining_time": 36.35896439,
                        "test": [
                          0.5274234348,
                          0.7327777778
                        ]
                      },
                      {
                        "learn": [
                          0.4614232236,
                          0.7828571429
                        ],
                        "iteration": 480,
                        "passed_time": 33.58786783,
                        "remaining_time": 36.24137922,
                        "test": [
                          0.5274307929,
                          0.7327777778
                        ]
                      },
                      {
                        "learn": [
                          0.4613676525,
                          0.7828571429
                        ],
                        "iteration": 481,
                        "passed_time": 33.61398029,
                        "remaining_time": 36.12456803,
                        "test": [
                          0.527419637,
                          0.7330555556
                        ]
                      },
                      {
                        "learn": [
                          0.4612722633,
                          0.7829761905
                        ],
                        "iteration": 482,
                        "passed_time": 33.6400959,
                        "remaining_time": 36.00813578,
                        "test": [
                          0.5273908827,
                          0.7333333333
                        ]
                      },
                      {
                        "learn": [
                          0.4610024007,
                          0.7827380952
                        ],
                        "iteration": 483,
                        "passed_time": 33.66678772,
                        "remaining_time": 35.89269104,
                        "test": [
                          0.5274433729,
                          0.7333333333
                        ]
                      },
                      {
                        "learn": [
                          0.4609794108,
                          0.7828571429
                        ],
                        "iteration": 484,
                        "passed_time": 33.69273722,
                        "remaining_time": 35.77682406,
                        "test": [
                          0.5274623617,
                          0.7333333333
                        ]
                      },
                      {
                        "learn": [
                          0.4609287516,
                          0.7833333333
                        ],
                        "iteration": 485,
                        "passed_time": 33.71857991,
                        "remaining_time": 35.66121415,
                        "test": [
                          0.527477044,
                          0.7336111111
                        ]
                      },
                      {
                        "learn": [
                          0.460829555,
                          0.7829761905
                        ],
                        "iteration": 486,
                        "passed_time": 33.76027311,
                        "remaining_time": 35.56266962,
                        "test": [
                          0.5274541219,
                          0.7333333333
                        ]
                      },
                      {
                        "learn": [
                          0.460777617,
                          0.7828571429
                        ],
                        "iteration": 487,
                        "passed_time": 33.786364,
                        "remaining_time": 35.44798846,
                        "test": [
                          0.527464837,
                          0.7336111111
                        ]
                      },
                      {
                        "learn": [
                          0.460456107,
                          0.7828571429
                        ],
                        "iteration": 488,
                        "passed_time": 33.81540489,
                        "remaining_time": 35.33675234,
                        "test": [
                          0.52745185,
                          0.7325
                        ]
                      },
                      {
                        "learn": [
                          0.4602317592,
                          0.7833333333
                        ],
                        "iteration": 489,
                        "passed_time": 33.84193169,
                        "remaining_time": 35.22323503,
                        "test": [
                          0.5274583605,
                          0.7316666667
                        ]
                      },
                      {
                        "learn": [
                          0.4601413109,
                          0.784047619
                        ],
                        "iteration": 490,
                        "passed_time": 33.86826924,
                        "remaining_time": 35.10987585,
                        "test": [
                          0.5274262153,
                          0.7313888889
                        ]
                      },
                      {
                        "learn": [
                          0.4601410784,
                          0.784047619
                        ],
                        "iteration": 491,
                        "passed_time": 33.89385588,
                        "remaining_time": 34.9960951,
                        "test": [
                          0.527424452,
                          0.7313888889
                        ]
                      },
                      {
                        "learn": [
                          0.4600417655,
                          0.7842857143
                        ],
                        "iteration": 492,
                        "passed_time": 33.91968858,
                        "remaining_time": 34.88292518,
                        "test": [
                          0.5274327257,
                          0.7313888889
                        ]
                      },
                      {
                        "learn": [
                          0.45999503,
                          0.7841666667
                        ],
                        "iteration": 493,
                        "passed_time": 33.94557664,
                        "remaining_time": 34.77016555,
                        "test": [
                          0.5274852837,
                          0.7319444444
                        ]
                      },
                      {
                        "learn": [
                          0.4599338205,
                          0.7842857143
                        ],
                        "iteration": 494,
                        "passed_time": 33.97538478,
                        "remaining_time": 34.66175619,
                        "test": [
                          0.5275021701,
                          0.7316666667
                        ]
                      },
                      {
                        "learn": [
                          0.4598802258,
                          0.7842857143
                        ],
                        "iteration": 495,
                        "passed_time": 34.01310616,
                        "remaining_time": 34.56170464,
                        "test": [
                          0.5275282118,
                          0.7313888889
                        ]
                      },
                      {
                        "learn": [
                          0.4598798479,
                          0.7842857143
                        ],
                        "iteration": 496,
                        "passed_time": 34.04964484,
                        "remaining_time": 34.46070695,
                        "test": [
                          0.5275293647,
                          0.7313888889
                        ]
                      },
                      {
                        "learn": [
                          0.4598234631,
                          0.7839285714
                        ],
                        "iteration": 497,
                        "passed_time": 34.09827971,
                        "remaining_time": 34.37216147,
                        "test": [
                          0.5275222778,
                          0.7311111111
                        ]
                      },
                      {
                        "learn": [
                          0.4595773751,
                          0.784047619
                        ],
                        "iteration": 498,
                        "passed_time": 34.12467937,
                        "remaining_time": 34.26145163,
                        "test": [
                          0.5275577799,
                          0.7325
                        ]
                      },
                      {
                        "learn": [
                          0.4594827706,
                          0.7842857143
                        ],
                        "iteration": 499,
                        "passed_time": 34.15125501,
                        "remaining_time": 34.15125501,
                        "test": [
                          0.5275752089,
                          0.7327777778
                        ]
                      },
                      {
                        "learn": [
                          0.459474342,
                          0.7842857143
                        ],
                        "iteration": 500,
                        "passed_time": 34.17786492,
                        "remaining_time": 34.04142634,
                        "test": [
                          0.5275634087,
                          0.7325
                        ]
                      },
                      {
                        "learn": [
                          0.4593184408,
                          0.785
                        ],
                        "iteration": 501,
                        "passed_time": 34.20393735,
                        "remaining_time": 33.93139602,
                        "test": [
                          0.5275703261,
                          0.7333333333
                        ]
                      },
                      {
                        "learn": [
                          0.4592141578,
                          0.7852380952
                        ],
                        "iteration": 502,
                        "passed_time": 34.23059103,
                        "remaining_time": 33.82227384,
                        "test": [
                          0.5275948758,
                          0.7330555556
                        ]
                      },
                      {
                        "learn": [
                          0.4590734573,
                          0.7853571429
                        ],
                        "iteration": 503,
                        "passed_time": 34.25680999,
                        "remaining_time": 33.7130511,
                        "test": [
                          0.5275215658,
                          0.7325
                        ]
                      },
                      {
                        "learn": [
                          0.4590695336,
                          0.7852380952
                        ],
                        "iteration": 504,
                        "passed_time": 34.28273448,
                        "remaining_time": 33.60386845,
                        "test": [
                          0.5275116306,
                          0.7325
                        ]
                      },
                      {
                        "learn": [
                          0.4590619187,
                          0.7853571429
                        ],
                        "iteration": 505,
                        "passed_time": 34.30863657,
                        "remaining_time": 33.49499301,
                        "test": [
                          0.5275113593,
                          0.7325
                        ]
                      },
                      {
                        "learn": [
                          0.4589599609,
                          0.7853571429
                        ],
                        "iteration": 506,
                        "passed_time": 34.33544406,
                        "remaining_time": 33.38732529,
                        "test": [
                          0.5274954902,
                          0.7327777778
                        ]
                      },
                      {
                        "learn": [
                          0.4587915039,
                          0.7855952381
                        ],
                        "iteration": 507,
                        "passed_time": 34.36235202,
                        "remaining_time": 33.28007322,
                        "test": [
                          0.527515903,
                          0.7333333333
                        ]
                      },
                      {
                        "learn": [
                          0.4587391299,
                          0.7855952381
                        ],
                        "iteration": 508,
                        "passed_time": 34.38944227,
                        "remaining_time": 33.17331268,
                        "test": [
                          0.5275113254,
                          0.7330555556
                        ]
                      },
                      {
                        "learn": [
                          0.458605957,
                          0.7852380952
                        ],
                        "iteration": 509,
                        "passed_time": 34.41698154,
                        "remaining_time": 33.06729599,
                        "test": [
                          0.5274632433,
                          0.7338888889
                        ]
                      },
                      {
                        "learn": [
                          0.4586056083,
                          0.7852380952
                        ],
                        "iteration": 510,
                        "passed_time": 34.44611844,
                        "remaining_time": 32.9631153,
                        "test": [
                          0.5274643962,
                          0.7338888889
                        ]
                      },
                      {
                        "learn": [
                          0.4584175909,
                          0.7851190476
                        ],
                        "iteration": 511,
                        "passed_time": 34.47379307,
                        "remaining_time": 32.85783402,
                        "test": [
                          0.5274554443,
                          0.7338888889
                        ]
                      },
                      {
                        "learn": [
                          0.4582857259,
                          0.785952381
                        ],
                        "iteration": 512,
                        "passed_time": 34.50216425,
                        "remaining_time": 32.75351654,
                        "test": [
                          0.5275401137,
                          0.7341666667
                        ]
                      },
                      {
                        "learn": [
                          0.4582743327,
                          0.7858333333
                        ],
                        "iteration": 513,
                        "passed_time": 34.52932544,
                        "remaining_time": 32.64835052,
                        "test": [
                          0.5275246175,
                          0.7338888889
                        ]
                      },
                      {
                        "learn": [
                          0.4582664562,
                          0.7858333333
                        ],
                        "iteration": 514,
                        "passed_time": 34.55669573,
                        "remaining_time": 32.54368433,
                        "test": [
                          0.5275263808,
                          0.7338888889
                        ]
                      },
                      {
                        "learn": [
                          0.4580922735,
                          0.785952381
                        ],
                        "iteration": 515,
                        "passed_time": 34.58348411,
                        "remaining_time": 32.43877192,
                        "test": [
                          0.5275106133,
                          0.7344444444
                        ]
                      },
                      {
                        "learn": [
                          0.4578383382,
                          0.7864285714
                        ],
                        "iteration": 516,
                        "passed_time": 34.62383336,
                        "remaining_time": 32.34683078,
                        "test": [
                          0.5274892849,
                          0.7347222222
                        ]
                      },
                      {
                        "learn": [
                          0.4577162388,
                          0.7863095238
                        ],
                        "iteration": 517,
                        "passed_time": 34.66088874,
                        "remaining_time": 32.25202388,
                        "test": [
                          0.5274097019,
                          0.7344444444
                        ]
                      },
                      {
                        "learn": [
                          0.4576393927,
                          0.786547619
                        ],
                        "iteration": 518,
                        "passed_time": 34.69244355,
                        "remaining_time": 32.15234171,
                        "test": [
                          0.5274598524,
                          0.7347222222
                        ]
                      },
                      {
                        "learn": [
                          0.4572698393,
                          0.786547619
                        ],
                        "iteration": 519,
                        "passed_time": 34.72410279,
                        "remaining_time": 32.05301796,
                        "test": [
                          0.5275400458,
                          0.7336111111
                        ]
                      },
                      {
                        "learn": [
                          0.4571724156,
                          0.7863095238
                        ],
                        "iteration": 520,
                        "passed_time": 34.8144519,
                        "remaining_time": 32.00791259,
                        "test": [
                          0.5274732123,
                          0.7338888889
                        ]
                      },
                      {
                        "learn": [
                          0.4570134626,
                          0.7866666667
                        ],
                        "iteration": 521,
                        "passed_time": 34.90258846,
                        "remaining_time": 31.96060782,
                        "test": [
                          0.5275061374,
                          0.7344444444
                        ]
                      },
                      {
                        "learn": [
                          0.4569986107,
                          0.7867857143
                        ],
                        "iteration": 522,
                        "passed_time": 34.98103769,
                        "remaining_time": 31.90431162,
                        "test": [
                          0.5274942695,
                          0.7344444444
                        ]
                      },
                      {
                        "learn": [
                          0.4568833415,
                          0.7867857143
                        ],
                        "iteration": 523,
                        "passed_time": 35.01182341,
                        "remaining_time": 31.80463348,
                        "test": [
                          0.5274696181,
                          0.7341666667
                        ]
                      },
                      {
                        "learn": [
                          0.456867327,
                          0.7866666667
                        ],
                        "iteration": 524,
                        "passed_time": 35.04362271,
                        "remaining_time": 31.70613483,
                        "test": [
                          0.5274920654,
                          0.7341666667
                        ]
                      },
                      {
                        "learn": [
                          0.4566718692,
                          0.7870238095
                        ],
                        "iteration": 525,
                        "passed_time": 35.10528213,
                        "remaining_time": 31.63479797,
                        "test": [
                          0.5275153944,
                          0.7338888889
                        ]
                      },
                      {
                        "learn": [
                          0.4566685559,
                          0.7871428571
                        ],
                        "iteration": 526,
                        "passed_time": 35.14603915,
                        "remaining_time": 31.54473723,
                        "test": [
                          0.5275088162,
                          0.7338888889
                        ]
                      },
                      {
                        "learn": [
                          0.4564996047,
                          0.7882142857
                        ],
                        "iteration": 527,
                        "passed_time": 35.1821112,
                        "remaining_time": 31.45067517,
                        "test": [
                          0.5275563558,
                          0.7336111111
                        ]
                      },
                      {
                        "learn": [
                          0.4563707334,
                          0.788452381
                        ],
                        "iteration": 528,
                        "passed_time": 35.21341264,
                        "remaining_time": 31.35258479,
                        "test": [
                          0.5275763957,
                          0.7336111111
                        ]
                      },
                      {
                        "learn": [
                          0.4561644927,
                          0.7888095238
                        ],
                        "iteration": 529,
                        "passed_time": 35.24607853,
                        "remaining_time": 31.25595643,
                        "test": [
                          0.5274865044,
                          0.7341666667
                        ]
                      },
                      {
                        "learn": [
                          0.4558298165,
                          0.7888095238
                        ],
                        "iteration": 530,
                        "passed_time": 35.27554767,
                        "remaining_time": 31.15674549,
                        "test": [
                          0.5276092529,
                          0.7336111111
                        ]
                      },
                      {
                        "learn": [
                          0.4558269682,
                          0.7886904762
                        ],
                        "iteration": 531,
                        "passed_time": 35.3608349,
                        "remaining_time": 31.10689988,
                        "test": [
                          0.5276099989,
                          0.7336111111
                        ]
                      },
                      {
                        "learn": [
                          0.4557801746,
                          0.7885714286
                        ],
                        "iteration": 532,
                        "passed_time": 35.4547808,
                        "remaining_time": 31.06450776,
                        "test": [
                          0.5276031833,
                          0.7333333333
                        ]
                      },
                      {
                        "learn": [
                          0.4557438442,
                          0.7889285714
                        ],
                        "iteration": 533,
                        "passed_time": 35.54827879,
                        "remaining_time": 31.02153168,
                        "test": [
                          0.5275587294,
                          0.7336111111
                        ]
                      },
                      {
                        "learn": [
                          0.4557036191,
                          0.789047619
                        ],
                        "iteration": 534,
                        "passed_time": 35.59774449,
                        "remaining_time": 30.94009568,
                        "test": [
                          0.5275768026,
                          0.7338888889
                        ]
                      },
                      {
                        "learn": [
                          0.4556111363,
                          0.789047619
                        ],
                        "iteration": 535,
                        "passed_time": 35.63122329,
                        "remaining_time": 30.84493957,
                        "test": [
                          0.5275284153,
                          0.7336111111
                        ]
                      },
                      {
                        "learn": [
                          0.455344994,
                          0.789047619
                        ],
                        "iteration": 536,
                        "passed_time": 35.66240458,
                        "remaining_time": 30.74803225,
                        "test": [
                          0.5274511041,
                          0.7336111111
                        ]
                      },
                      {
                        "learn": [
                          0.4551572091,
                          0.7891666667
                        ],
                        "iteration": 537,
                        "passed_time": 35.69402161,
                        "remaining_time": 30.65174346,
                        "test": [
                          0.5274905735,
                          0.7341666667
                        ]
                      },
                      {
                        "learn": [
                          0.4551281157,
                          0.789047619
                        ],
                        "iteration": 538,
                        "passed_time": 35.7225502,
                        "remaining_time": 30.55305314,
                        "test": [
                          0.5275130208,
                          0.7338888889
                        ]
                      },
                      {
                        "learn": [
                          0.4548981004,
                          0.789047619
                        ],
                        "iteration": 539,
                        "passed_time": 35.77172822,
                        "remaining_time": 30.47221293,
                        "test": [
                          0.5275471327,
                          0.7341666667
                        ]
                      },
                      {
                        "learn": [
                          0.4548721749,
                          0.789047619
                        ],
                        "iteration": 540,
                        "passed_time": 35.86597423,
                        "remaining_time": 30.42972675,
                        "test": [
                          0.527520718,
                          0.7341666667
                        ]
                      },
                      {
                        "learn": [
                          0.4548543294,
                          0.7891666667
                        ],
                        "iteration": 541,
                        "passed_time": 35.95862635,
                        "remaining_time": 30.38570271,
                        "test": [
                          0.527511122,
                          0.7344444444
                        ]
                      },
                      {
                        "learn": [
                          0.4548514521,
                          0.7891666667
                        ],
                        "iteration": 542,
                        "passed_time": 36.05164933,
                        "remaining_time": 30.34181169,
                        "test": [
                          0.5275025431,
                          0.7344444444
                        ]
                      },
                      {
                        "learn": [
                          0.4548475284,
                          0.7891666667
                        ],
                        "iteration": 543,
                        "passed_time": 36.14103578,
                        "remaining_time": 30.29469176,
                        "test": [
                          0.5275014242,
                          0.7341666667
                        ]
                      },
                      {
                        "learn": [
                          0.4547233364,
                          0.7894047619
                        ],
                        "iteration": 544,
                        "passed_time": 36.27392201,
                        "remaining_time": 30.28373305,
                        "test": [
                          0.5276203071,
                          0.7341666667
                        ]
                      },
                      {
                        "learn": [
                          0.4547225516,
                          0.7894047619
                        ],
                        "iteration": 545,
                        "passed_time": 36.36177267,
                        "remaining_time": 30.23488057,
                        "test": [
                          0.527619968,
                          0.7341666667
                        ]
                      },
                      {
                        "learn": [
                          0.4545939128,
                          0.7892857143
                        ],
                        "iteration": 546,
                        "passed_time": 36.39689007,
                        "remaining_time": 30.14221427,
                        "test": [
                          0.5276385498,
                          0.7336111111
                        ]
                      },
                      {
                        "learn": [
                          0.4545770264,
                          0.7891666667
                        ],
                        "iteration": 547,
                        "passed_time": 36.42828955,
                        "remaining_time": 30.04669138,
                        "test": [
                          0.5276132541,
                          0.7336111111
                        ]
                      },
                      {
                        "learn": [
                          0.4544428362,
                          0.7892857143
                        ],
                        "iteration": 548,
                        "passed_time": 36.47671773,
                        "remaining_time": 29.96539107,
                        "test": [
                          0.5276050483,
                          0.7336111111
                        ]
                      },
                      {
                        "learn": [
                          0.4544017973,
                          0.7892857143
                        ],
                        "iteration": 549,
                        "passed_time": 36.54164085,
                        "remaining_time": 29.89770615,
                        "test": [
                          0.527616984,
                          0.7336111111
                        ]
                      },
                      {
                        "learn": [
                          0.4544008382,
                          0.7892857143
                        ],
                        "iteration": 550,
                        "passed_time": 36.60746159,
                        "remaining_time": 29.83076271,
                        "test": [
                          0.5276169162,
                          0.7336111111
                        ]
                      },
                      {
                        "learn": [
                          0.4542578125,
                          0.7897619048
                        ],
                        "iteration": 551,
                        "passed_time": 36.63444972,
                        "remaining_time": 29.73230702,
                        "test": [
                          0.5276401096,
                          0.7338888889
                        ]
                      },
                      {
                        "learn": [
                          0.454209711,
                          0.7898809524
                        ],
                        "iteration": 552,
                        "passed_time": 36.73565747,
                        "remaining_time": 29.69410287,
                        "test": [
                          0.5275959947,
                          0.7338888889
                        ]
                      },
                      {
                        "learn": [
                          0.4541820417,
                          0.7898809524
                        ],
                        "iteration": 553,
                        "passed_time": 36.82686929,
                        "remaining_time": 29.64762401,
                        "test": [
                          0.5275808377,
                          0.7338888889
                        ]
                      },
                      {
                        "learn": [
                          0.4541817511,
                          0.7898809524
                        ],
                        "iteration": 554,
                        "passed_time": 36.92015618,
                        "remaining_time": 29.60264775,
                        "test": [
                          0.5275806681,
                          0.7338888889
                        ]
                      },
                      {
                        "learn": [
                          0.453970366,
                          0.7897619048
                        ],
                        "iteration": 555,
                        "passed_time": 37.01277912,
                        "remaining_time": 29.5569675,
                        "test": [
                          0.5275794813,
                          0.7341666667
                        ]
                      },
                      {
                        "learn": [
                          0.4539695812,
                          0.7897619048
                        ],
                        "iteration": 556,
                        "passed_time": 37.09996926,
                        "remaining_time": 29.50679782,
                        "test": [
                          0.5275792779,
                          0.7341666667
                        ]
                      },
                      {
                        "learn": [
                          0.4539083136,
                          0.7901190476
                        ],
                        "iteration": 557,
                        "passed_time": 37.18600755,
                        "remaining_time": 29.45558304,
                        "test": [
                          0.5275505575,
                          0.7338888889
                        ]
                      },
                      {
                        "learn": [
                          0.4539050874,
                          0.7901190476
                        ],
                        "iteration": 558,
                        "passed_time": 37.31394162,
                        "remaining_time": 29.43729562,
                        "test": [
                          0.5275427924,
                          0.7338888889
                        ]
                      },
                      {
                        "learn": [
                          0.4536769613,
                          0.7902380952
                        ],
                        "iteration": 559,
                        "passed_time": 37.42526061,
                        "remaining_time": 29.40556191,
                        "test": [
                          0.527557373,
                          0.7333333333
                        ]
                      },
                      {
                        "learn": [
                          0.4535664586,
                          0.7904761905
                        ],
                        "iteration": 560,
                        "passed_time": 37.5131838,
                        "remaining_time": 29.35523652,
                        "test": [
                          0.527513326,
                          0.7330555556
                        ]
                      },
                      {
                        "learn": [
                          0.4535144624,
                          0.7905952381
                        ],
                        "iteration": 561,
                        "passed_time": 37.60083454,
                        "remaining_time": 29.304565,
                        "test": [
                          0.5274577162,
                          0.7330555556
                        ]
                      },
                      {
                        "learn": [
                          0.4534444754,
                          0.790952381
                        ],
                        "iteration": 562,
                        "passed_time": 37.70049315,
                        "remaining_time": 29.2630826,
                        "test": [
                          0.527454834,
                          0.7330555556
                        ]
                      },
                      {
                        "learn": [
                          0.4534436907,
                          0.790952381
                        ],
                        "iteration": 563,
                        "passed_time": 37.77984941,
                        "remaining_time": 29.20569919,
                        "test": [
                          0.5274546305,
                          0.7330555556
                        ]
                      },
                      {
                        "learn": [
                          0.4532289342,
                          0.7903571429
                        ],
                        "iteration": 564,
                        "passed_time": 37.84759068,
                        "remaining_time": 29.13929548,
                        "test": [
                          0.5274128893,
                          0.7330555556
                        ]
                      },
                      {
                        "learn": [
                          0.4532285273,
                          0.7903571429
                        ],
                        "iteration": 565,
                        "passed_time": 37.87127816,
                        "remaining_time": 29.03910728,
                        "test": [
                          0.5274125502,
                          0.7330555556
                        ]
                      },
                      {
                        "learn": [
                          0.4530842227,
                          0.7904761905
                        ],
                        "iteration": 566,
                        "passed_time": 37.91393002,
                        "remaining_time": 28.95367143,
                        "test": [
                          0.527458157,
                          0.7327777778
                        ]
                      },
                      {
                        "learn": [
                          0.4530829148,
                          0.7904761905
                        ],
                        "iteration": 567,
                        "passed_time": 37.94999629,
                        "remaining_time": 28.86337746,
                        "test": [
                          0.5274592082,
                          0.7327777778
                        ]
                      },
                      {
                        "learn": [
                          0.4528056699,
                          0.7904761905
                        ],
                        "iteration": 568,
                        "passed_time": 37.98802738,
                        "remaining_time": 28.77476239,
                        "test": [
                          0.5273620945,
                          0.7336111111
                        ]
                      },
                      {
                        "learn": [
                          0.4528053792,
                          0.7904761905
                        ],
                        "iteration": 569,
                        "passed_time": 38.01163266,
                        "remaining_time": 28.67544218,
                        "test": [
                          0.5273617893,
                          0.7336111111
                        ]
                      },
                      {
                        "learn": [
                          0.4526140776,
                          0.7910714286
                        ],
                        "iteration": 570,
                        "passed_time": 38.03996126,
                        "remaining_time": 28.57993587,
                        "test": [
                          0.5273577203,
                          0.7336111111
                        ]
                      },
                      {
                        "learn": [
                          0.4526063465,
                          0.7911904762
                        ],
                        "iteration": 571,
                        "passed_time": 38.06617798,
                        "remaining_time": 28.48308423,
                        "test": [
                          0.5273559231,
                          0.7333333333
                        ]
                      },
                      {
                        "learn": [
                          0.4526060559,
                          0.7911904762
                        ],
                        "iteration": 572,
                        "passed_time": 38.09231088,
                        "remaining_time": 28.38641666,
                        "test": [
                          0.5273556519,
                          0.7333333333
                        ]
                      },
                      {
                        "learn": [
                          0.4525020636,
                          0.791547619
                        ],
                        "iteration": 573,
                        "passed_time": 38.11906223,
                        "remaining_time": 28.29045385,
                        "test": [
                          0.5273667399,
                          0.7338888889
                        ]
                      },
                      {
                        "learn": [
                          0.452501802,
                          0.791547619
                        ],
                        "iteration": 574,
                        "passed_time": 38.14627908,
                        "remaining_time": 28.19507584,
                        "test": [
                          0.5273650784,
                          0.7338888889
                        ]
                      },
                      {
                        "learn": [
                          0.4524787249,
                          0.7914285714
                        ],
                        "iteration": 575,
                        "passed_time": 38.17422172,
                        "remaining_time": 28.10046877,
                        "test": [
                          0.5273733181,
                          0.7336111111
                        ]
                      },
                      {
                        "learn": [
                          0.4524774461,
                          0.7914285714
                        ],
                        "iteration": 576,
                        "passed_time": 38.20181739,
                        "remaining_time": 28.0058384,
                        "test": [
                          0.5273731147,
                          0.7336111111
                        ]
                      },
                      {
                        "learn": [
                          0.4524767776,
                          0.7914285714
                        ],
                        "iteration": 577,
                        "passed_time": 38.22160778,
                        "remaining_time": 27.90574132,
                        "test": [
                          0.5273729791,
                          0.7336111111
                        ]
                      },
                      {
                        "learn": [
                          0.452476516,
                          0.7914285714
                        ],
                        "iteration": 578,
                        "passed_time": 38.24141093,
                        "remaining_time": 27.80593091,
                        "test": [
                          0.5273738607,
                          0.7336111111
                        ]
                      },
                      {
                        "learn": [
                          0.4524731736,
                          0.7914285714
                        ],
                        "iteration": 579,
                        "passed_time": 38.26755967,
                        "remaining_time": 27.71099149,
                        "test": [
                          0.527374471,
                          0.7336111111
                        ]
                      },
                      {
                        "learn": [
                          0.452369036,
                          0.7917857143
                        ],
                        "iteration": 580,
                        "passed_time": 38.29425401,
                        "remaining_time": 27.61668232,
                        "test": [
                          0.5273793538,
                          0.7338888889
                        ]
                      },
                      {
                        "learn": [
                          0.4521737816,
                          0.7916666667
                        ],
                        "iteration": 581,
                        "passed_time": 38.33398392,
                        "remaining_time": 27.53196784,
                        "test": [
                          0.5273732164,
                          0.7338888889
                        ]
                      },
                      {
                        "learn": [
                          0.4521734619,
                          0.7916666667
                        ],
                        "iteration": 582,
                        "passed_time": 38.38250793,
                        "remaining_time": 27.45369778,
                        "test": [
                          0.5273741998,
                          0.7338888889
                        ]
                      },
                      {
                        "learn": [
                          0.4521727062,
                          0.7916666667
                        ],
                        "iteration": 583,
                        "passed_time": 38.41025943,
                        "remaining_time": 27.36073275,
                        "test": [
                          0.5273741319,
                          0.7338888889
                        ]
                      },
                      {
                        "learn": [
                          0.4519511777,
                          0.7914285714
                        ],
                        "iteration": 584,
                        "passed_time": 38.43709265,
                        "remaining_time": 27.26733923,
                        "test": [
                          0.5274216715,
                          0.7338888889
                        ]
                      },
                      {
                        "learn": [
                          0.4517076765,
                          0.790952381
                        ],
                        "iteration": 585,
                        "passed_time": 38.46331031,
                        "remaining_time": 27.173738,
                        "test": [
                          0.5273869493,
                          0.7341666667
                        ]
                      },
                      {
                        "learn": [
                          0.4517075021,
                          0.790952381
                        ],
                        "iteration": 586,
                        "passed_time": 38.48919437,
                        "remaining_time": 27.08013165,
                        "test": [
                          0.5273853895,
                          0.7341666667
                        ]
                      },
                      {
                        "learn": [
                          0.4514835612,
                          0.7908333333
                        ],
                        "iteration": 587,
                        "passed_time": 38.52522102,
                        "remaining_time": 26.99386234,
                        "test": [
                          0.527240092,
                          0.7344444444
                        ]
                      },
                      {
                        "learn": [
                          0.4514602516,
                          0.790952381
                        ],
                        "iteration": 588,
                        "passed_time": 38.55133635,
                        "remaining_time": 26.90084761,
                        "test": [
                          0.527271559,
                          0.7341666667
                        ]
                      },
                      {
                        "learn": [
                          0.4513635545,
                          0.790952381
                        ],
                        "iteration": 589,
                        "passed_time": 38.5777549,
                        "remaining_time": 26.80827035,
                        "test": [
                          0.5272956,
                          0.7341666667
                        ]
                      },
                      {
                        "learn": [
                          0.451363351,
                          0.790952381
                        ],
                        "iteration": 590,
                        "passed_time": 38.59477898,
                        "remaining_time": 26.70941557,
                        "test": [
                          0.5272954305,
                          0.7341666667
                        ]
                      },
                      {
                        "learn": [
                          0.4513514637,
                          0.7910714286
                        ],
                        "iteration": 591,
                        "passed_time": 38.62091471,
                        "remaining_time": 26.61711689,
                        "test": [
                          0.527286377,
                          0.7341666667
                        ]
                      },
                      {
                        "learn": [
                          0.4513512893,
                          0.7910714286
                        ],
                        "iteration": 592,
                        "passed_time": 38.64032775,
                        "remaining_time": 26.52042731,
                        "test": [
                          0.5272873264,
                          0.7341666667
                        ]
                      },
                      {
                        "learn": [
                          0.4513035656,
                          0.7916666667
                        ],
                        "iteration": 593,
                        "passed_time": 38.66636256,
                        "remaining_time": 26.4285239,
                        "test": [
                          0.5273150635,
                          0.7338888889
                        ]
                      },
                      {
                        "learn": [
                          0.4512434315,
                          0.7916666667
                        ],
                        "iteration": 594,
                        "passed_time": 38.69274728,
                        "remaining_time": 26.33708008,
                        "test": [
                          0.5273255751,
                          0.7338888889
                        ]
                      },
                      {
                        "learn": [
                          0.4511875116,
                          0.7919047619
                        ],
                        "iteration": 595,
                        "passed_time": 38.71924801,
                        "remaining_time": 26.24593321,
                        "test": [
                          0.5273568387,
                          0.7338888889
                        ]
                      },
                      {
                        "learn": [
                          0.4511864653,
                          0.7919047619
                        ],
                        "iteration": 596,
                        "passed_time": 38.74506461,
                        "remaining_time": 26.1545411,
                        "test": [
                          0.5273568726,
                          0.7338888889
                        ]
                      },
                      {
                        "learn": [
                          0.4511863491,
                          0.7919047619
                        ],
                        "iteration": 597,
                        "passed_time": 38.76921985,
                        "remaining_time": 26.06225147,
                        "test": [
                          0.5273553467,
                          0.7338888889
                        ]
                      },
                      {
                        "learn": [
                          0.4511861165,
                          0.7919047619
                        ],
                        "iteration": 598,
                        "passed_time": 38.79510163,
                        "remaining_time": 25.97134517,
                        "test": [
                          0.5273538208,
                          0.7338888889
                        ]
                      },
                      {
                        "learn": [
                          0.4508875093,
                          0.7925
                        ],
                        "iteration": 599,
                        "passed_time": 38.82156406,
                        "remaining_time": 25.88104271,
                        "test": [
                          0.5272290039,
                          0.7338888889
                        ]
                      },
                      {
                        "learn": [
                          0.4508690534,
                          0.7926190476
                        ],
                        "iteration": 600,
                        "passed_time": 38.84753494,
                        "remaining_time": 25.79062635,
                        "test": [
                          0.527239719,
                          0.7338888889
                        ]
                      },
                      {
                        "learn": [
                          0.4506942604,
                          0.7928571429
                        ],
                        "iteration": 601,
                        "passed_time": 38.87434494,
                        "remaining_time": 25.70097888,
                        "test": [
                          0.5272688124,
                          0.7341666667
                        ]
                      },
                      {
                        "learn": [
                          0.4506937081,
                          0.7928571429
                        ],
                        "iteration": 602,
                        "passed_time": 38.9020492,
                        "remaining_time": 25.61212858,
                        "test": [
                          0.5272686089,
                          0.7341666667
                        ]
                      },
                      {
                        "learn": [
                          0.4506119792,
                          0.7929761905
                        ],
                        "iteration": 603,
                        "passed_time": 38.94964976,
                        "remaining_time": 25.53652534,
                        "test": [
                          0.527321913,
                          0.7341666667
                        ]
                      },
                      {
                        "learn": [
                          0.450611921,
                          0.7929761905
                        ],
                        "iteration": 604,
                        "passed_time": 38.96558489,
                        "remaining_time": 25.44034055,
                        "test": [
                          0.5273218452,
                          0.7341666667
                        ]
                      },
                      {
                        "learn": [
                          0.4504885138,
                          0.7928571429
                        ],
                        "iteration": 605,
                        "passed_time": 38.99401318,
                        "remaining_time": 25.35254322,
                        "test": [
                          0.5273435126,
                          0.7344444444
                        ]
                      },
                      {
                        "learn": [
                          0.4503068034,
                          0.7930952381
                        ],
                        "iteration": 606,
                        "passed_time": 39.02012595,
                        "remaining_time": 25.26344234,
                        "test": [
                          0.527265625,
                          0.7341666667
                        ]
                      },
                      {
                        "learn": [
                          0.4503044782,
                          0.7930952381
                        ],
                        "iteration": 607,
                        "passed_time": 39.04719301,
                        "remaining_time": 25.17516391,
                        "test": [
                          0.5272572835,
                          0.7344444444
                        ]
                      },
                      {
                        "learn": [
                          0.4500612967,
                          0.7933333333
                        ],
                        "iteration": 608,
                        "passed_time": 39.07390998,
                        "remaining_time": 25.08686174,
                        "test": [
                          0.5272442966,
                          0.7338888889
                        ]
                      },
                      {
                        "learn": [
                          0.4500601342,
                          0.7933333333
                        ],
                        "iteration": 609,
                        "passed_time": 39.10099512,
                        "remaining_time": 24.99899688,
                        "test": [
                          0.5272437541,
                          0.7338888889
                        ]
                      },
                      {
                        "learn": [
                          0.4500549316,
                          0.7933333333
                        ],
                        "iteration": 610,
                        "passed_time": 39.12681428,
                        "remaining_time": 24.91052497,
                        "test": [
                          0.5272415161,
                          0.7338888889
                        ]
                      },
                      {
                        "learn": [
                          0.45005374,
                          0.7933333333
                        ],
                        "iteration": 611,
                        "passed_time": 39.15423688,
                        "remaining_time": 24.82327436,
                        "test": [
                          0.5272410753,
                          0.7338888889
                        ]
                      },
                      {
                        "learn": [
                          0.4500200253,
                          0.7932142857
                        ],
                        "iteration": 612,
                        "passed_time": 39.18049721,
                        "remaining_time": 24.73548519,
                        "test": [
                          0.5272599962,
                          0.7336111111
                        ]
                      },
                      {
                        "learn": [
                          0.449815761,
                          0.7928571429
                        ],
                        "iteration": 613,
                        "passed_time": 39.20706511,
                        "remaining_time": 24.64808979,
                        "test": [
                          0.5272568427,
                          0.7330555556
                        ]
                      },
                      {
                        "learn": [
                          0.4496848842,
                          0.7925
                        ],
                        "iteration": 614,
                        "passed_time": 39.23357515,
                        "remaining_time": 24.56085599,
                        "test": [
                          0.5271422323,
                          0.7336111111
                        ]
                      },
                      {
                        "learn": [
                          0.4496782866,
                          0.7926190476
                        ],
                        "iteration": 615,
                        "passed_time": 39.25965769,
                        "remaining_time": 24.47355285,
                        "test": [
                          0.527131958,
                          0.7336111111
                        ]
                      },
                      {
                        "learn": [
                          0.4494645473,
                          0.7923809524
                        ],
                        "iteration": 616,
                        "passed_time": 39.28616181,
                        "remaining_time": 24.38670985,
                        "test": [
                          0.5271217855,
                          0.7336111111
                        ]
                      },
                      {
                        "learn": [
                          0.4493083264,
                          0.7922619048
                        ],
                        "iteration": 617,
                        "passed_time": 39.31220737,
                        "remaining_time": 24.29977866,
                        "test": [
                          0.5271657308,
                          0.7338888889
                        ]
                      },
                      {
                        "learn": [
                          0.4493051002,
                          0.7922619048
                        ],
                        "iteration": 618,
                        "passed_time": 39.33788645,
                        "remaining_time": 24.21281864,
                        "test": [
                          0.5271655952,
                          0.7338888889
                        ]
                      },
                      {
                        "learn": [
                          0.4493007696,
                          0.7922619048
                        ],
                        "iteration": 619,
                        "passed_time": 39.37346547,
                        "remaining_time": 24.132124,
                        "test": [
                          0.5271758355,
                          0.7338888889
                        ]
                      },
                      {
                        "learn": [
                          0.449300508,
                          0.7922619048
                        ],
                        "iteration": 620,
                        "passed_time": 39.45375001,
                        "remaining_time": 24.0788587,
                        "test": [
                          0.5271743774,
                          0.7338888889
                        ]
                      },
                      {
                        "learn": [
                          0.4492803374,
                          0.7922619048
                        ],
                        "iteration": 621,
                        "passed_time": 39.50612383,
                        "remaining_time": 24.00854471,
                        "test": [
                          0.5271810574,
                          0.7338888889
                        ]
                      },
                      {
                        "learn": [
                          0.4492091297,
                          0.7923809524
                        ],
                        "iteration": 622,
                        "passed_time": 39.53285929,
                        "remaining_time": 23.9227736,
                        "test": [
                          0.527197503,
                          0.7341666667
                        ]
                      },
                      {
                        "learn": [
                          0.4491998582,
                          0.7923809524
                        ],
                        "iteration": 623,
                        "passed_time": 39.55913507,
                        "remaining_time": 23.83691472,
                        "test": [
                          0.5271891954,
                          0.7341666667
                        ]
                      },
                      {
                        "learn": [
                          0.4491992769,
                          0.7923809524
                        ],
                        "iteration": 624,
                        "passed_time": 39.58515811,
                        "remaining_time": 23.75109487,
                        "test": [
                          0.5271902466,
                          0.7341666667
                        ]
                      },
                      {
                        "learn": [
                          0.4491602144,
                          0.7922619048
                        ],
                        "iteration": 625,
                        "passed_time": 39.61122035,
                        "remaining_time": 23.66548947,
                        "test": [
                          0.5272289361,
                          0.7341666667
                        ]
                      },
                      {
                        "learn": [
                          0.4490411958,
                          0.7928571429
                        ],
                        "iteration": 626,
                        "passed_time": 39.6377461,
                        "remaining_time": 23.58034975,
                        "test": [
                          0.527232293,
                          0.7336111111
                        ]
                      },
                      {
                        "learn": [
                          0.4490409633,
                          0.7928571429
                        ],
                        "iteration": 627,
                        "passed_time": 39.66408519,
                        "remaining_time": 23.49528613,
                        "test": [
                          0.5272308689,
                          0.7336111111
                        ]
                      },
                      {
                        "learn": [
                          0.4489042155,
                          0.7932142857
                        ],
                        "iteration": 628,
                        "passed_time": 39.69073939,
                        "remaining_time": 23.41059509,
                        "test": [
                          0.5271401299,
                          0.7336111111
                        ]
                      },
                      {
                        "learn": [
                          0.4489040411,
                          0.7932142857
                        ],
                        "iteration": 629,
                        "passed_time": 39.70723433,
                        "remaining_time": 23.32012175,
                        "test": [
                          0.5271400282,
                          0.7336111111
                        ]
                      },
                      {
                        "learn": [
                          0.4485707601,
                          0.793452381
                        ],
                        "iteration": 630,
                        "passed_time": 39.73435752,
                        "remaining_time": 23.23609814,
                        "test": [
                          0.5271676975,
                          0.7333333333
                        ]
                      },
                      {
                        "learn": [
                          0.4485304478,
                          0.7932142857
                        ],
                        "iteration": 631,
                        "passed_time": 39.76310717,
                        "remaining_time": 23.15320164,
                        "test": [
                          0.5271107992,
                          0.7330555556
                        ]
                      },
                      {
                        "learn": [
                          0.4485300409,
                          0.7932142857
                        ],
                        "iteration": 632,
                        "passed_time": 39.78975379,
                        "remaining_time": 23.06925694,
                        "test": [
                          0.5271118164,
                          0.7330555556
                        ]
                      },
                      {
                        "learn": [
                          0.4485298665,
                          0.7932142857
                        ],
                        "iteration": 633,
                        "passed_time": 39.8097319,
                        "remaining_time": 22.98164334,
                        "test": [
                          0.5271116808,
                          0.7330555556
                        ]
                      },
                      {
                        "learn": [
                          0.4484832473,
                          0.7933333333
                        ],
                        "iteration": 634,
                        "passed_time": 39.83622485,
                        "remaining_time": 22.89798751,
                        "test": [
                          0.5271009318,
                          0.7327777778
                        ]
                      },
                      {
                        "learn": [
                          0.4484830729,
                          0.7933333333
                        ],
                        "iteration": 635,
                        "passed_time": 39.85353521,
                        "remaining_time": 22.809256,
                        "test": [
                          0.5271007962,
                          0.7327777778
                        ]
                      },
                      {
                        "learn": [
                          0.4484828113,
                          0.7933333333
                        ],
                        "iteration": 636,
                        "passed_time": 39.87974364,
                        "remaining_time": 22.72581937,
                        "test": [
                          0.5271006266,
                          0.7327777778
                        ]
                      },
                      {
                        "learn": [
                          0.4484816197,
                          0.7933333333
                        ],
                        "iteration": 637,
                        "passed_time": 39.90572993,
                        "remaining_time": 22.6424361,
                        "test": [
                          0.527098999,
                          0.7327777778
                        ]
                      },
                      {
                        "learn": [
                          0.4483925665,
                          0.7932142857
                        ],
                        "iteration": 638,
                        "passed_time": 39.94812805,
                        "remaining_time": 22.56850427,
                        "test": [
                          0.5271319241,
                          0.7327777778
                        ]
                      },
                      {
                        "learn": [
                          0.4483207775,
                          0.793452381
                        ],
                        "iteration": 639,
                        "passed_time": 39.97705693,
                        "remaining_time": 22.48709453,
                        "test": [
                          0.527076043,
                          0.7330555556
                        ]
                      },
                      {
                        "learn": [
                          0.4483199637,
                          0.793452381
                        ],
                        "iteration": 640,
                        "passed_time": 40.00835333,
                        "remaining_time": 22.40717449,
                        "test": [
                          0.527077162,
                          0.7330555556
                        ]
                      },
                      {
                        "learn": [
                          0.4482470122,
                          0.7933333333
                        ],
                        "iteration": 641,
                        "passed_time": 40.03488005,
                        "remaining_time": 22.32474619,
                        "test": [
                          0.5270298258,
                          0.7333333333
                        ]
                      },
                      {
                        "learn": [
                          0.4482195173,
                          0.7933333333
                        ],
                        "iteration": 642,
                        "passed_time": 40.06112022,
                        "remaining_time": 22.24233269,
                        "test": [
                          0.5270278592,
                          0.7330555556
                        ]
                      },
                      {
                        "learn": [
                          0.4481790016,
                          0.7932142857
                        ],
                        "iteration": 643,
                        "passed_time": 40.08744132,
                        "remaining_time": 22.16013837,
                        "test": [
                          0.5270265706,
                          0.7327777778
                        ]
                      },
                      {
                        "learn": [
                          0.44799764,
                          0.7933333333
                        ],
                        "iteration": 644,
                        "passed_time": 40.11426252,
                        "remaining_time": 22.07839255,
                        "test": [
                          0.5270609199,
                          0.7325
                        ]
                      },
                      {
                        "learn": [
                          0.4479655239,
                          0.7933333333
                        ],
                        "iteration": 645,
                        "passed_time": 40.14188523,
                        "remaining_time": 21.99725599,
                        "test": [
                          0.5270536296,
                          0.7325
                        ]
                      },
                      {
                        "learn": [
                          0.4479199509,
                          0.7933333333
                        ],
                        "iteration": 646,
                        "passed_time": 40.16863203,
                        "remaining_time": 21.91580697,
                        "test": [
                          0.5270797051,
                          0.7327777778
                        ]
                      },
                      {
                        "learn": [
                          0.4477327765,
                          0.7933333333
                        ],
                        "iteration": 647,
                        "passed_time": 40.19551721,
                        "remaining_time": 21.83460194,
                        "test": [
                          0.5271440972,
                          0.7325
                        ]
                      },
                      {
                        "learn": [
                          0.447472883,
                          0.7939285714
                        ],
                        "iteration": 648,
                        "passed_time": 40.22208413,
                        "remaining_time": 21.75339219,
                        "test": [
                          0.5270946587,
                          0.7336111111
                        ]
                      },
                      {
                        "learn": [
                          0.4474289667,
                          0.7938095238
                        ],
                        "iteration": 649,
                        "passed_time": 40.24859279,
                        "remaining_time": 21.67231919,
                        "test": [
                          0.5271284993,
                          0.7336111111
                        ]
                      },
                      {
                        "learn": [
                          0.4471789551,
                          0.7939285714
                        ],
                        "iteration": 650,
                        "passed_time": 40.27515907,
                        "remaining_time": 21.59144472,
                        "test": [
                          0.5271507094,
                          0.7344444444
                        ]
                      },
                      {
                        "learn": [
                          0.4471634928,
                          0.7938095238
                        ],
                        "iteration": 651,
                        "passed_time": 40.32492222,
                        "remaining_time": 21.52311799,
                        "test": [
                          0.5271474881,
                          0.7347222222
                        ]
                      },
                      {
                        "learn": [
                          0.4470432826,
                          0.7933333333
                        ],
                        "iteration": 652,
                        "passed_time": 40.35149032,
                        "remaining_time": 21.44252242,
                        "test": [
                          0.5271372816,
                          0.7341666667
                        ]
                      },
                      {
                        "learn": [
                          0.446968471,
                          0.7938095238
                        ],
                        "iteration": 653,
                        "passed_time": 40.39704807,
                        "remaining_time": 21.37213858,
                        "test": [
                          0.5272048611,
                          0.7341666667
                        ]
                      },
                      {
                        "learn": [
                          0.4469270252,
                          0.794047619
                        ],
                        "iteration": 654,
                        "passed_time": 40.44349776,
                        "remaining_time": 21.30230035,
                        "test": [
                          0.5271718682,
                          0.7341666667
                        ]
                      },
                      {
                        "learn": [
                          0.4467487444,
                          0.7941666667
                        ],
                        "iteration": 655,
                        "passed_time": 40.47562647,
                        "remaining_time": 21.22502364,
                        "test": [
                          0.5271010674,
                          0.7338888889
                        ]
                      },
                      {
                        "learn": [
                          0.4467329625,
                          0.7942857143
                        ],
                        "iteration": 656,
                        "passed_time": 40.50170453,
                        "remaining_time": 21.1447255,
                        "test": [
                          0.527102322,
                          0.7338888889
                        ]
                      },
                      {
                        "learn": [
                          0.4467145357,
                          0.7942857143
                        ],
                        "iteration": 657,
                        "passed_time": 40.52775846,
                        "remaining_time": 21.06457962,
                        "test": [
                          0.5270907254,
                          0.7338888889
                        ]
                      },
                      {
                        "learn": [
                          0.4466261509,
                          0.7942857143
                        ],
                        "iteration": 658,
                        "passed_time": 40.55416068,
                        "remaining_time": 20.98477814,
                        "test": [
                          0.5270518324,
                          0.7336111111
                        ]
                      },
                      {
                        "learn": [
                          0.4465576753,
                          0.7944047619
                        ],
                        "iteration": 659,
                        "passed_time": 40.58057935,
                        "remaining_time": 20.90514694,
                        "test": [
                          0.5270110745,
                          0.7333333333
                        ]
                      },
                      {
                        "learn": [
                          0.4465496536,
                          0.7944047619
                        ],
                        "iteration": 660,
                        "passed_time": 40.60756778,
                        "remaining_time": 20.82596895,
                        "test": [
                          0.5270289103,
                          0.7333333333
                        ]
                      },
                      {
                        "learn": [
                          0.4462922596,
                          0.7945238095
                        ],
                        "iteration": 661,
                        "passed_time": 40.63566069,
                        "remaining_time": 20.74751256,
                        "test": [
                          0.5269384087,
                          0.7336111111
                        ]
                      },
                      {
                        "learn": [
                          0.4462158203,
                          0.7948809524
                        ],
                        "iteration": 662,
                        "passed_time": 40.66308364,
                        "remaining_time": 20.66886755,
                        "test": [
                          0.526953125,
                          0.7336111111
                        ]
                      },
                      {
                        "learn": [
                          0.4460402134,
                          0.7948809524
                        ],
                        "iteration": 663,
                        "passed_time": 40.69089931,
                        "remaining_time": 20.59057555,
                        "test": [
                          0.5269440375,
                          0.7338888889
                        ]
                      },
                      {
                        "learn": [
                          0.445933431,
                          0.795
                        ],
                        "iteration": 664,
                        "passed_time": 40.718037,
                        "remaining_time": 20.51209383,
                        "test": [
                          0.526987576,
                          0.7333333333
                        ]
                      },
                      {
                        "learn": [
                          0.4459332566,
                          0.795
                        ],
                        "iteration": 665,
                        "passed_time": 40.74641789,
                        "remaining_time": 20.43438975,
                        "test": [
                          0.5269885593,
                          0.7333333333
                        ]
                      },
                      {
                        "learn": [
                          0.4459251186,
                          0.7947619048
                        ],
                        "iteration": 666,
                        "passed_time": 40.77605112,
                        "remaining_time": 20.35745881,
                        "test": [
                          0.5269795058,
                          0.7336111111
                        ]
                      },
                      {
                        "learn": [
                          0.4456998698,
                          0.7945238095
                        ],
                        "iteration": 667,
                        "passed_time": 40.80271291,
                        "remaining_time": 20.27919265,
                        "test": [
                          0.527070855,
                          0.7336111111
                        ]
                      },
                      {
                        "learn": [
                          0.4456996373,
                          0.7945238095
                        ],
                        "iteration": 668,
                        "passed_time": 40.82934737,
                        "remaining_time": 20.20106724,
                        "test": [
                          0.5270694987,
                          0.7336111111
                        ]
                      },
                      {
                        "learn": [
                          0.4456810942,
                          0.7947619048
                        ],
                        "iteration": 669,
                        "passed_time": 40.85670427,
                        "remaining_time": 20.12345135,
                        "test": [
                          0.5270666165,
                          0.7336111111
                        ]
                      },
                      {
                        "learn": [
                          0.4454148356,
                          0.7952380952
                        ],
                        "iteration": 670,
                        "passed_time": 40.88441115,
                        "remaining_time": 20.04615688,
                        "test": [
                          0.5270630561,
                          0.7330555556
                        ]
                      },
                      {
                        "learn": [
                          0.4453926304,
                          0.7952380952
                        ],
                        "iteration": 671,
                        "passed_time": 40.91112929,
                        "remaining_time": 19.96852739,
                        "test": [
                          0.5270776367,
                          0.7330555556
                        ]
                      },
                      {
                        "learn": [
                          0.4453411284,
                          0.7952380952
                        ],
                        "iteration": 672,
                        "passed_time": 40.93981701,
                        "remaining_time": 19.89200619,
                        "test": [
                          0.5270913696,
                          0.7330555556
                        ]
                      },
                      {
                        "learn": [
                          0.4451375616,
                          0.7952380952
                        ],
                        "iteration": 673,
                        "passed_time": 40.98822398,
                        "remaining_time": 19.82516471,
                        "test": [
                          0.5271335178,
                          0.7330555556
                        ]
                      },
                      {
                        "learn": [
                          0.4451369513,
                          0.7952380952
                        ],
                        "iteration": 674,
                        "passed_time": 41.01438678,
                        "remaining_time": 19.74766771,
                        "test": [
                          0.5271328735,
                          0.7330555556
                        ]
                      },
                      {
                        "learn": [
                          0.445136835,
                          0.7952380952
                        ],
                        "iteration": 675,
                        "passed_time": 41.03495392,
                        "remaining_time": 19.66764064,
                        "test": [
                          0.5271329753,
                          0.7330555556
                        ]
                      },
                      {
                        "learn": [
                          0.445099342,
                          0.7952380952
                        ],
                        "iteration": 676,
                        "passed_time": 41.06151483,
                        "remaining_time": 19.59064888,
                        "test": [
                          0.5271675618,
                          0.7333333333
                        ]
                      },
                      {
                        "learn": [
                          0.445010376,
                          0.7948809524
                        ],
                        "iteration": 677,
                        "passed_time": 41.08840435,
                        "remaining_time": 19.51396195,
                        "test": [
                          0.5271189372,
                          0.7330555556
                        ]
                      },
                      {
                        "learn": [
                          0.4449773298,
                          0.7951190476
                        ],
                        "iteration": 678,
                        "passed_time": 41.11653417,
                        "remaining_time": 19.43800806,
                        "test": [
                          0.5271095106,
                          0.7325
                        ]
                      },
                      {
                        "learn": [
                          0.444914667,
                          0.7948809524
                        ],
                        "iteration": 679,
                        "passed_time": 41.14452805,
                        "remaining_time": 19.36213085,
                        "test": [
                          0.5271387397,
                          0.7325
                        ]
                      },
                      {
                        "learn": [
                          0.4449144345,
                          0.7948809524
                        ],
                        "iteration": 680,
                        "passed_time": 41.17104648,
                        "remaining_time": 19.28570312,
                        "test": [
                          0.5271374512,
                          0.7325
                        ]
                      },
                      {
                        "learn": [
                          0.4449142892,
                          0.7948809524
                        ],
                        "iteration": 681,
                        "passed_time": 41.19981609,
                        "remaining_time": 19.21047143,
                        "test": [
                          0.5271362305,
                          0.7325
                        ]
                      },
                      {
                        "learn": [
                          0.4449025181,
                          0.7947619048
                        ],
                        "iteration": 682,
                        "passed_time": 41.2263363,
                        "remaining_time": 19.13433178,
                        "test": [
                          0.5271617296,
                          0.7327777778
                        ]
                      },
                      {
                        "learn": [
                          0.4446443976,
                          0.7952380952
                        ],
                        "iteration": 683,
                        "passed_time": 41.25371036,
                        "remaining_time": 19.05873169,
                        "test": [
                          0.5271693929,
                          0.7322222222
                        ]
                      },
                      {
                        "learn": [
                          0.4446442522,
                          0.7952380952
                        ],
                        "iteration": 684,
                        "passed_time": 41.27986908,
                        "remaining_time": 18.98271352,
                        "test": [
                          0.5271681722,
                          0.7322222222
                        ]
                      },
                      {
                        "learn": [
                          0.4446421015,
                          0.7952380952
                        ],
                        "iteration": 685,
                        "passed_time": 41.3057331,
                        "remaining_time": 18.90670582,
                        "test": [
                          0.527157152,
                          0.7322222222
                        ]
                      },
                      {
                        "learn": [
                          0.444641898,
                          0.7952380952
                        ],
                        "iteration": 686,
                        "passed_time": 41.32595684,
                        "remaining_time": 18.82827437,
                        "test": [
                          0.5271570502,
                          0.7322222222
                        ]
                      },
                      {
                        "learn": [
                          0.444626523,
                          0.7952380952
                        ],
                        "iteration": 687,
                        "passed_time": 41.35218462,
                        "remaining_time": 18.75273489,
                        "test": [
                          0.5271755981,
                          0.7322222222
                        ]
                      },
                      {
                        "learn": [
                          0.4445942325,
                          0.7953571429
                        ],
                        "iteration": 688,
                        "passed_time": 41.37810109,
                        "remaining_time": 18.67719802,
                        "test": [
                          0.5271782769,
                          0.7325
                        ]
                      },
                      {
                        "learn": [
                          0.4445937384,
                          0.7953571429
                        ],
                        "iteration": 689,
                        "passed_time": 41.40599154,
                        "remaining_time": 18.60269185,
                        "test": [
                          0.5271776326,
                          0.7325
                        ]
                      },
                      {
                        "learn": [
                          0.4445808919,
                          0.7954761905
                        ],
                        "iteration": 690,
                        "passed_time": 41.44257049,
                        "remaining_time": 18.53220591,
                        "test": [
                          0.5271699015,
                          0.7325
                        ]
                      },
                      {
                        "learn": [
                          0.4444702439,
                          0.7951190476
                        ],
                        "iteration": 691,
                        "passed_time": 41.4891999,
                        "remaining_time": 18.46629129,
                        "test": [
                          0.5271959093,
                          0.7325
                        ]
                      },
                      {
                        "learn": [
                          0.4444700405,
                          0.7951190476
                        ],
                        "iteration": 692,
                        "passed_time": 41.5400591,
                        "remaining_time": 18.40230613,
                        "test": [
                          0.5271958415,
                          0.7325
                        ]
                      },
                      {
                        "learn": [
                          0.4444514393,
                          0.7951190476
                        ],
                        "iteration": 693,
                        "passed_time": 41.56701086,
                        "remaining_time": 18.32781747,
                        "test": [
                          0.5272351074,
                          0.7327777778
                        ]
                      },
                      {
                        "learn": [
                          0.4444440279,
                          0.7951190476
                        ],
                        "iteration": 694,
                        "passed_time": 41.59401121,
                        "remaining_time": 18.25348693,
                        "test": [
                          0.5272366672,
                          0.7327777778
                        ]
                      },
                      {
                        "learn": [
                          0.4440651449,
                          0.7952380952
                        ],
                        "iteration": 695,
                        "passed_time": 41.62137778,
                        "remaining_time": 18.17945237,
                        "test": [
                          0.5271718343,
                          0.7313888889
                        ]
                      },
                      {
                        "learn": [
                          0.4440284947,
                          0.7952380952
                        ],
                        "iteration": 696,
                        "passed_time": 41.64768736,
                        "remaining_time": 18.10509221,
                        "test": [
                          0.5271517944,
                          0.7313888889
                        ]
                      },
                      {
                        "learn": [
                          0.4439395287,
                          0.7952380952
                        ],
                        "iteration": 697,
                        "passed_time": 41.67395802,
                        "remaining_time": 18.0308529,
                        "test": [
                          0.5271800062,
                          0.7316666667
                        ]
                      },
                      {
                        "learn": [
                          0.4438710821,
                          0.7953571429
                        ],
                        "iteration": 698,
                        "passed_time": 41.70016412,
                        "remaining_time": 17.95672303,
                        "test": [
                          0.5271768528,
                          0.7330555556
                        ]
                      },
                      {
                        "learn": [
                          0.4437717983,
                          0.7952380952
                        ],
                        "iteration": 699,
                        "passed_time": 41.72636899,
                        "remaining_time": 17.88272957,
                        "test": [
                          0.5271446398,
                          0.7327777778
                        ]
                      },
                      {
                        "learn": [
                          0.4437706357,
                          0.7952380952
                        ],
                        "iteration": 700,
                        "passed_time": 41.75592511,
                        "remaining_time": 17.81030187,
                        "test": [
                          0.5271441311,
                          0.7327777778
                        ]
                      },
                      {
                        "learn": [
                          0.4437654622,
                          0.7952380952
                        ],
                        "iteration": 701,
                        "passed_time": 41.78232495,
                        "remaining_time": 17.73665646,
                        "test": [
                          0.5271558295,
                          0.7327777778
                        ]
                      },
                      {
                        "learn": [
                          0.4437611607,
                          0.7952380952
                        ],
                        "iteration": 702,
                        "passed_time": 41.80812682,
                        "remaining_time": 17.66289284,
                        "test": [
                          0.5271495565,
                          0.7327777778
                        ]
                      },
                      {
                        "learn": [
                          0.4432750593,
                          0.795952381
                        ],
                        "iteration": 703,
                        "passed_time": 41.83547152,
                        "remaining_time": 17.58991416,
                        "test": [
                          0.5269497342,
                          0.7336111111
                        ]
                      },
                      {
                        "learn": [
                          0.4432725888,
                          0.795952381
                        ],
                        "iteration": 704,
                        "passed_time": 41.86142229,
                        "remaining_time": 17.51648167,
                        "test": [
                          0.5269370863,
                          0.7336111111
                        ]
                      },
                      {
                        "learn": [
                          0.4432516334,
                          0.795952381
                        ],
                        "iteration": 705,
                        "passed_time": 41.88860226,
                        "remaining_time": 17.44369556,
                        "test": [
                          0.5269817437,
                          0.7338888889
                        ]
                      },
                      {
                        "learn": [
                          0.4432009161,
                          0.7960714286
                        ],
                        "iteration": 706,
                        "passed_time": 41.91787464,
                        "remaining_time": 17.37190562,
                        "test": [
                          0.5270030382,
                          0.7336111111
                        ]
                      },
                      {
                        "learn": [
                          0.4431953939,
                          0.7960714286
                        ],
                        "iteration": 707,
                        "passed_time": 41.94379963,
                        "remaining_time": 17.29885521,
                        "test": [
                          0.5270040554,
                          0.7336111111
                        ]
                      },
                      {
                        "learn": [
                          0.4428379023,
                          0.7970238095
                        ],
                        "iteration": 708,
                        "passed_time": 41.98571344,
                        "remaining_time": 17.23250016,
                        "test": [
                          0.526966078,
                          0.7338888889
                        ]
                      },
                      {
                        "learn": [
                          0.4428372628,
                          0.7970238095
                        ],
                        "iteration": 709,
                        "passed_time": 42.01186119,
                        "remaining_time": 17.15977429,
                        "test": [
                          0.5269660102,
                          0.7338888889
                        ]
                      },
                      {
                        "learn": [
                          0.4427036249,
                          0.7971428571
                        ],
                        "iteration": 710,
                        "passed_time": 42.04408214,
                        "remaining_time": 17.08964801,
                        "test": [
                          0.526880934,
                          0.7333333333
                        ]
                      },
                      {
                        "learn": [
                          0.4426690383,
                          0.7972619048
                        ],
                        "iteration": 711,
                        "passed_time": 42.07014426,
                        "remaining_time": 17.017137,
                        "test": [
                          0.5269220649,
                          0.7333333333
                        ]
                      },
                      {
                        "learn": [
                          0.4426686605,
                          0.7972619048
                        ],
                        "iteration": 712,
                        "passed_time": 42.09223809,
                        "remaining_time": 16.94315895,
                        "test": [
                          0.5269219971,
                          0.7333333333
                        ]
                      },
                      {
                        "learn": [
                          0.4426685442,
                          0.7972619048
                        ],
                        "iteration": 713,
                        "passed_time": 42.11988005,
                        "remaining_time": 16.87154859,
                        "test": [
                          0.5269227431,
                          0.7333333333
                        ]
                      },
                      {
                        "learn": [
                          0.4426681373,
                          0.7972619048
                        ],
                        "iteration": 714,
                        "passed_time": 42.14601901,
                        "remaining_time": 16.79946212,
                        "test": [
                          0.5269213867,
                          0.7333333333
                        ]
                      },
                      {
                        "learn": [
                          0.442667992,
                          0.7972619048
                        ],
                        "iteration": 715,
                        "passed_time": 42.17200424,
                        "remaining_time": 16.72744302,
                        "test": [
                          0.5269200982,
                          0.7333333333
                        ]
                      },
                      {
                        "learn": [
                          0.442662121,
                          0.7971428571
                        ],
                        "iteration": 716,
                        "passed_time": 42.19774521,
                        "remaining_time": 16.65545592,
                        "test": [
                          0.5269202338,
                          0.7333333333
                        ]
                      },
                      {
                        "learn": [
                          0.4426194545,
                          0.7971428571
                        ],
                        "iteration": 717,
                        "passed_time": 42.22406465,
                        "remaining_time": 16.58382483,
                        "test": [
                          0.526892768,
                          0.7333333333
                        ]
                      },
                      {
                        "learn": [
                          0.4421791004,
                          0.7982142857
                        ],
                        "iteration": 718,
                        "passed_time": 42.25094494,
                        "remaining_time": 16.51253898,
                        "test": [
                          0.5270206706,
                          0.7330555556
                        ]
                      },
                      {
                        "learn": [
                          0.4420044527,
                          0.7980952381
                        ],
                        "iteration": 719,
                        "passed_time": 42.27734631,
                        "remaining_time": 16.44119023,
                        "test": [
                          0.5271131049,
                          0.7333333333
                        ]
                      },
                      {
                        "learn": [
                          0.4419467018,
                          0.7980952381
                        ],
                        "iteration": 720,
                        "passed_time": 42.30346907,
                        "remaining_time": 16.36985835,
                        "test": [
                          0.5271018134,
                          0.7338888889
                        ]
                      },
                      {
                        "learn": [
                          0.4418041992,
                          0.7983333333
                        ],
                        "iteration": 721,
                        "passed_time": 42.32957088,
                        "remaining_time": 16.29864364,
                        "test": [
                          0.5271470812,
                          0.7336111111
                        ]
                      },
                      {
                        "learn": [
                          0.4417916144,
                          0.798452381
                        ],
                        "iteration": 722,
                        "passed_time": 42.35638021,
                        "remaining_time": 16.22782478,
                        "test": [
                          0.5271507094,
                          0.7336111111
                        ]
                      },
                      {
                        "learn": [
                          0.4417471459,
                          0.7986904762
                        ],
                        "iteration": 723,
                        "passed_time": 42.38459267,
                        "remaining_time": 16.1576624,
                        "test": [
                          0.5271566433,
                          0.7336111111
                        ]
                      },
                      {
                        "learn": [
                          0.4417453148,
                          0.7986904762
                        ],
                        "iteration": 724,
                        "passed_time": 42.41068318,
                        "remaining_time": 16.08681086,
                        "test": [
                          0.5271518962,
                          0.7336111111
                        ]
                      },
                      {
                        "learn": [
                          0.4415078881,
                          0.799047619
                        ],
                        "iteration": 725,
                        "passed_time": 42.43720783,
                        "remaining_time": 16.01624648,
                        "test": [
                          0.5271535238,
                          0.7338888889
                        ]
                      },
                      {
                        "learn": [
                          0.4414606004,
                          0.799047619
                        ],
                        "iteration": 726,
                        "passed_time": 42.47379361,
                        "remaining_time": 15.94958137,
                        "test": [
                          0.527102356,
                          0.7336111111
                        ]
                      },
                      {
                        "learn": [
                          0.4414481317,
                          0.799047619
                        ],
                        "iteration": 727,
                        "passed_time": 42.50022464,
                        "remaining_time": 15.87920481,
                        "test": [
                          0.527114936,
                          0.7336111111
                        ]
                      },
                      {
                        "learn": [
                          0.441329026,
                          0.7989285714
                        ],
                        "iteration": 728,
                        "passed_time": 42.55214454,
                        "remaining_time": 15.8184241,
                        "test": [
                          0.5271606106,
                          0.7336111111
                        ]
                      },
                      {
                        "learn": [
                          0.4413242013,
                          0.7989285714
                        ],
                        "iteration": 729,
                        "passed_time": 42.57797093,
                        "remaining_time": 15.74801665,
                        "test": [
                          0.5271561347,
                          0.7336111111
                        ]
                      },
                      {
                        "learn": [
                          0.441159232,
                          0.7989285714
                        ],
                        "iteration": 730,
                        "passed_time": 42.60440343,
                        "remaining_time": 15.67795421,
                        "test": [
                          0.527172309,
                          0.7341666667
                        ]
                      },
                      {
                        "learn": [
                          0.440961449,
                          0.7991666667
                        ],
                        "iteration": 731,
                        "passed_time": 42.63086822,
                        "remaining_time": 15.60802279,
                        "test": [
                          0.5270812649,
                          0.7352777778
                        ]
                      },
                      {
                        "learn": [
                          0.440840425,
                          0.7991666667
                        ],
                        "iteration": 732,
                        "passed_time": 42.6571374,
                        "remaining_time": 15.53813872,
                        "test": [
                          0.5270715671,
                          0.735
                        ]
                      },
                      {
                        "learn": [
                          0.4407438151,
                          0.7989285714
                        ],
                        "iteration": 733,
                        "passed_time": 42.68346717,
                        "remaining_time": 15.46839546,
                        "test": [
                          0.5270611572,
                          0.7355555556
                        ]
                      },
                      {
                        "learn": [
                          0.4407427979,
                          0.7989285714
                        ],
                        "iteration": 734,
                        "passed_time": 42.70952782,
                        "remaining_time": 15.3986733,
                        "test": [
                          0.5270595635,
                          0.7355555556
                        ]
                      },
                      {
                        "learn": [
                          0.4407374209,
                          0.7989285714
                        ],
                        "iteration": 735,
                        "passed_time": 42.73723216,
                        "remaining_time": 15.32965936,
                        "test": [
                          0.5270450168,
                          0.7355555556
                        ]
                      },
                      {
                        "learn": [
                          0.4407372756,
                          0.7989285714
                        ],
                        "iteration": 736,
                        "passed_time": 42.76621333,
                        "remaining_time": 15.26121317,
                        "test": [
                          0.5270438978,
                          0.7355555556
                        ]
                      },
                      {
                        "learn": [
                          0.4406974865,
                          0.7988095238
                        ],
                        "iteration": 737,
                        "passed_time": 42.79252931,
                        "remaining_time": 15.19192775,
                        "test": [
                          0.5270446438,
                          0.7358333333
                        ]
                      },
                      {
                        "learn": [
                          0.4406655738,
                          0.7988095238
                        ],
                        "iteration": 738,
                        "passed_time": 42.81848146,
                        "remaining_time": 15.12263012,
                        "test": [
                          0.5270233154,
                          0.7358333333
                        ]
                      },
                      {
                        "learn": [
                          0.4404772368,
                          0.799047619
                        ],
                        "iteration": 739,
                        "passed_time": 42.84495523,
                        "remaining_time": 15.05363292,
                        "test": [
                          0.5268928019,
                          0.7352777778
                        ]
                      },
                      {
                        "learn": [
                          0.440475522,
                          0.799047619
                        ],
                        "iteration": 740,
                        "passed_time": 42.87087016,
                        "remaining_time": 14.98455516,
                        "test": [
                          0.5268865628,
                          0.7352777778
                        ]
                      },
                      {
                        "learn": [
                          0.4402775646,
                          0.7988095238
                        ],
                        "iteration": 741,
                        "passed_time": 42.89756256,
                        "remaining_time": 14.91586407,
                        "test": [
                          0.5269425795,
                          0.7344444444
                        ]
                      },
                      {
                        "learn": [
                          0.4401303246,
                          0.7986904762
                        ],
                        "iteration": 742,
                        "passed_time": 42.92703817,
                        "remaining_time": 14.84824873,
                        "test": [
                          0.5269318305,
                          0.7344444444
                        ]
                      },
                      {
                        "learn": [
                          0.4401274472,
                          0.7986904762
                        ],
                        "iteration": 743,
                        "passed_time": 42.95342172,
                        "remaining_time": 14.77967199,
                        "test": [
                          0.5269240655,
                          0.7344444444
                        ]
                      },
                      {
                        "learn": [
                          0.4400517346,
                          0.7986904762
                        ],
                        "iteration": 744,
                        "passed_time": 42.99882919,
                        "remaining_time": 14.71772006,
                        "test": [
                          0.5269506836,
                          0.7341666667
                        ]
                      },
                      {
                        "learn": [
                          0.4399350993,
                          0.7986904762
                        ],
                        "iteration": 745,
                        "passed_time": 43.02486198,
                        "remaining_time": 14.64921574,
                        "test": [
                          0.5269835069,
                          0.7341666667
                        ]
                      },
                      {
                        "learn": [
                          0.4399079532,
                          0.7985714286
                        ],
                        "iteration": 746,
                        "passed_time": 43.05063359,
                        "remaining_time": 14.58073668,
                        "test": [
                          0.5269762166,
                          0.7341666667
                        ]
                      },
                      {
                        "learn": [
                          0.4398354376,
                          0.799047619
                        ],
                        "iteration": 747,
                        "passed_time": 43.07842372,
                        "remaining_time": 14.51305184,
                        "test": [
                          0.5270294189,
                          0.7336111111
                        ]
                      },
                      {
                        "learn": [
                          0.4397738793,
                          0.7991666667
                        ],
                        "iteration": 748,
                        "passed_time": 43.10888762,
                        "remaining_time": 14.44636955,
                        "test": [
                          0.5269863553,
                          0.7333333333
                        ]
                      },
                      {
                        "learn": [
                          0.4396022833,
                          0.7991666667
                        ],
                        "iteration": 749,
                        "passed_time": 43.13535716,
                        "remaining_time": 14.37845239,
                        "test": [
                          0.5270519002,
                          0.7333333333
                        ]
                      },
                      {
                        "learn": [
                          0.4396019927,
                          0.7991666667
                        ],
                        "iteration": 750,
                        "passed_time": 43.16141566,
                        "remaining_time": 14.31050932,
                        "test": [
                          0.527050137,
                          0.7330555556
                        ]
                      },
                      {
                        "learn": [
                          0.4395963251,
                          0.7991666667
                        ],
                        "iteration": 751,
                        "passed_time": 43.18715589,
                        "remaining_time": 14.24257269,
                        "test": [
                          0.5270500353,
                          0.7330555556
                        ]
                      },
                      {
                        "learn": [
                          0.439588594,
                          0.7991666667
                        ],
                        "iteration": 752,
                        "passed_time": 43.21314971,
                        "remaining_time": 14.17483131,
                        "test": [
                          0.5270627848,
                          0.7330555556
                        ]
                      },
                      {
                        "learn": [
                          0.4395455206,
                          0.7992857143
                        ],
                        "iteration": 753,
                        "passed_time": 43.23941171,
                        "remaining_time": 14.10728817,
                        "test": [
                          0.5270781793,
                          0.7330555556
                        ]
                      },
                      {
                        "learn": [
                          0.4395050339,
                          0.7995238095
                        ],
                        "iteration": 754,
                        "passed_time": 43.26535907,
                        "remaining_time": 14.03975228,
                        "test": [
                          0.5270641412,
                          0.7330555556
                        ]
                      },
                      {
                        "learn": [
                          0.4394335356,
                          0.7996428571
                        ],
                        "iteration": 755,
                        "passed_time": 43.29150445,
                        "remaining_time": 13.97239033,
                        "test": [
                          0.5271655952,
                          0.7330555556
                        ]
                      },
                      {
                        "learn": [
                          0.4394334194,
                          0.7996428571
                        ],
                        "iteration": 756,
                        "passed_time": 43.31715487,
                        "remaining_time": 13.90497838,
                        "test": [
                          0.5271655273,
                          0.7330555556
                        ]
                      },
                      {
                        "learn": [
                          0.4392315964,
                          0.7997619048
                        ],
                        "iteration": 757,
                        "passed_time": 43.34381606,
                        "remaining_time": 13.83799932,
                        "test": [
                          0.5271634928,
                          0.7338888889
                        ]
                      },
                      {
                        "learn": [
                          0.4392138672,
                          0.7998809524
                        ],
                        "iteration": 758,
                        "passed_time": 43.37287945,
                        "remaining_time": 13.77188926,
                        "test": [
                          0.5271519979,
                          0.7338888889
                        ]
                      },
                      {
                        "learn": [
                          0.4392072405,
                          0.7997619048
                        ],
                        "iteration": 759,
                        "passed_time": 43.39975697,
                        "remaining_time": 13.70518641,
                        "test": [
                          0.5271457248,
                          0.7338888889
                        ]
                      },
                      {
                        "learn": [
                          0.4391958182,
                          0.7998809524
                        ],
                        "iteration": 760,
                        "passed_time": 43.42677532,
                        "remaining_time": 13.63863246,
                        "test": [
                          0.5271500312,
                          0.7338888889
                        ]
                      },
                      {
                        "learn": [
                          0.4391716076,
                          0.7995238095
                        ],
                        "iteration": 761,
                        "passed_time": 43.4538584,
                        "remaining_time": 13.57220249,
                        "test": [
                          0.5271280924,
                          0.7336111111
                        ]
                      },
                      {
                        "learn": [
                          0.4389539446,
                          0.8002380952
                        ],
                        "iteration": 762,
                        "passed_time": 43.48078777,
                        "remaining_time": 13.50582792,
                        "test": [
                          0.5270391168,
                          0.7341666667
                        ]
                      },
                      {
                        "learn": [
                          0.4387509882,
                          0.8003571429
                        ],
                        "iteration": 763,
                        "passed_time": 43.50753903,
                        "remaining_time": 13.43950159,
                        "test": [
                          0.5270048692,
                          0.7341666667
                        ]
                      },
                      {
                        "learn": [
                          0.4386839658,
                          0.8005952381
                        ],
                        "iteration": 764,
                        "passed_time": 43.5421742,
                        "remaining_time": 13.37570057,
                        "test": [
                          0.5269802517,
                          0.7341666667
                        ]
                      },
                      {
                        "learn": [
                          0.4385480899,
                          0.8008333333
                        ],
                        "iteration": 765,
                        "passed_time": 43.58092128,
                        "remaining_time": 13.31323183,
                        "test": [
                          0.5269028727,
                          0.7336111111
                        ]
                      },
                      {
                        "learn": [
                          0.4384950184,
                          0.8008333333
                        ],
                        "iteration": 766,
                        "passed_time": 43.61451951,
                        "remaining_time": 13.24926081,
                        "test": [
                          0.5269445123,
                          0.7333333333
                        ]
                      },
                      {
                        "learn": [
                          0.4383560907,
                          0.8011904762
                        ],
                        "iteration": 767,
                        "passed_time": 43.64091379,
                        "remaining_time": 13.18319271,
                        "test": [
                          0.5268640137,
                          0.7341666667
                        ]
                      },
                      {
                        "learn": [
                          0.4381435431,
                          0.8002380952
                        ],
                        "iteration": 768,
                        "passed_time": 43.66787642,
                        "remaining_time": 13.11739851,
                        "test": [
                          0.5269015164,
                          0.7344444444
                        ]
                      },
                      {
                        "learn": [
                          0.4378810919,
                          0.8013095238
                        ],
                        "iteration": 769,
                        "passed_time": 43.69472113,
                        "remaining_time": 13.05166995,
                        "test": [
                          0.5269155545,
                          0.7347222222
                        ]
                      },
                      {
                        "learn": [
                          0.4376456415,
                          0.8017857143
                        ],
                        "iteration": 770,
                        "passed_time": 43.72403947,
                        "remaining_time": 12.98677696,
                        "test": [
                          0.526878323,
                          0.7347222222
                        ]
                      },
                      {
                        "learn": [
                          0.4374120222,
                          0.8019047619
                        ],
                        "iteration": 771,
                        "passed_time": 43.75061766,
                        "remaining_time": 12.92116687,
                        "test": [
                          0.5269297282,
                          0.7347222222
                        ]
                      },
                      {
                        "learn": [
                          0.437246646,
                          0.8020238095
                        ],
                        "iteration": 772,
                        "passed_time": 43.77725515,
                        "remaining_time": 12.85567519,
                        "test": [
                          0.5268992106,
                          0.735
                        ]
                      },
                      {
                        "learn": [
                          0.4372154599,
                          0.8021428571
                        ],
                        "iteration": 773,
                        "passed_time": 43.80361892,
                        "remaining_time": 12.79020397,
                        "test": [
                          0.5268924967,
                          0.7344444444
                        ]
                      },
                      {
                        "learn": [
                          0.4370411319,
                          0.8022619048
                        ],
                        "iteration": 774,
                        "passed_time": 43.83005722,
                        "remaining_time": 12.72485532,
                        "test": [
                          0.5269154867,
                          0.7352777778
                        ]
                      },
                      {
                        "learn": [
                          0.4370094808,
                          0.8021428571
                        ],
                        "iteration": 775,
                        "passed_time": 43.85624906,
                        "remaining_time": 12.65953581,
                        "test": [
                          0.5269244385,
                          0.7352777778
                        ]
                      },
                      {
                        "learn": [
                          0.4367830985,
                          0.8026190476
                        ],
                        "iteration": 776,
                        "passed_time": 43.88511176,
                        "remaining_time": 12.59508356,
                        "test": [
                          0.5270224677,
                          0.735
                        ]
                      },
                      {
                        "learn": [
                          0.436547619,
                          0.8028571429
                        ],
                        "iteration": 777,
                        "passed_time": 43.91652096,
                        "remaining_time": 12.53144942,
                        "test": [
                          0.5269904921,
                          0.735
                        ]
                      },
                      {
                        "learn": [
                          0.4363483247,
                          0.8028571429
                        ],
                        "iteration": 778,
                        "passed_time": 43.94452688,
                        "remaining_time": 12.46693253,
                        "test": [
                          0.5269423421,
                          0.735
                        ]
                      },
                      {
                        "learn": [
                          0.4362373861,
                          0.8029761905
                        ],
                        "iteration": 779,
                        "passed_time": 43.9742084,
                        "remaining_time": 12.40298186,
                        "test": [
                          0.5269377306,
                          0.735
                        ]
                      },
                      {
                        "learn": [
                          0.4362272135,
                          0.8029761905
                        ],
                        "iteration": 780,
                        "passed_time": 44.00786886,
                        "remaining_time": 12.34023467,
                        "test": [
                          0.5269557699,
                          0.7352777778
                        ]
                      },
                      {
                        "learn": [
                          0.4358897763,
                          0.8035714286
                        ],
                        "iteration": 781,
                        "passed_time": 44.03693916,
                        "remaining_time": 12.27628227,
                        "test": [
                          0.5268922933,
                          0.7361111111
                        ]
                      },
                      {
                        "learn": [
                          0.4354788353,
                          0.8032142857
                        ],
                        "iteration": 782,
                        "passed_time": 44.06372727,
                        "remaining_time": 12.21178648,
                        "test": [
                          0.5270912001,
                          0.7361111111
                        ]
                      },
                      {
                        "learn": [
                          0.4353701056,
                          0.8035714286
                        ],
                        "iteration": 783,
                        "passed_time": 44.09016583,
                        "remaining_time": 12.14729059,
                        "test": [
                          0.5270993042,
                          0.7358333333
                        ]
                      },
                      {
                        "learn": [
                          0.4352827381,
                          0.803452381
                        ],
                        "iteration": 784,
                        "passed_time": 44.11697574,
                        "remaining_time": 12.08299336,
                        "test": [
                          0.5270059543,
                          0.7361111111
                        ]
                      },
                      {
                        "learn": [
                          0.4350303723,
                          0.8039285714
                        ],
                        "iteration": 785,
                        "passed_time": 44.14555884,
                        "remaining_time": 12.01927429,
                        "test": [
                          0.5271394179,
                          0.7369444444
                        ]
                      },
                      {
                        "learn": [
                          0.4350245303,
                          0.8039285714
                        ],
                        "iteration": 786,
                        "passed_time": 44.17317126,
                        "remaining_time": 11.9553818,
                        "test": [
                          0.5271414185,
                          0.7369444444
                        ]
                      },
                      {
                        "learn": [
                          0.4349154227,
                          0.8038095238
                        ],
                        "iteration": 787,
                        "passed_time": 44.19953515,
                        "remaining_time": 11.8912455,
                        "test": [
                          0.5272255452,
                          0.7363888889
                        ]
                      },
                      {
                        "learn": [
                          0.4349040295,
                          0.8038095238
                        ],
                        "iteration": 788,
                        "passed_time": 44.22539522,
                        "remaining_time": 11.8270702,
                        "test": [
                          0.5272296143,
                          0.7363888889
                        ]
                      },
                      {
                        "learn": [
                          0.4348967634,
                          0.8038095238
                        ],
                        "iteration": 789,
                        "passed_time": 44.25122158,
                        "remaining_time": 11.76298295,
                        "test": [
                          0.5272291395,
                          0.7363888889
                        ]
                      },
                      {
                        "learn": [
                          0.4348746745,
                          0.8038095238
                        ],
                        "iteration": 790,
                        "passed_time": 44.27718579,
                        "remaining_time": 11.69902886,
                        "test": [
                          0.5272439236,
                          0.7361111111
                        ]
                      },
                      {
                        "learn": [
                          0.4347198196,
                          0.8036904762
                        ],
                        "iteration": 791,
                        "passed_time": 44.30380711,
                        "remaining_time": 11.63534328,
                        "test": [
                          0.5272679647,
                          0.7358333333
                        ]
                      },
                      {
                        "learn": [
                          0.4347181048,
                          0.8036904762
                        ],
                        "iteration": 792,
                        "passed_time": 44.32993503,
                        "remaining_time": 11.57162239,
                        "test": [
                          0.5272618273,
                          0.7358333333
                        ]
                      },
                      {
                        "learn": [
                          0.4347163609,
                          0.8036904762
                        ],
                        "iteration": 793,
                        "passed_time": 44.35721354,
                        "remaining_time": 11.5082947,
                        "test": [
                          0.5272568088,
                          0.7358333333
                        ]
                      },
                      {
                        "learn": [
                          0.4342397926,
                          0.8041666667
                        ],
                        "iteration": 794,
                        "passed_time": 44.38438566,
                        "remaining_time": 11.44503027,
                        "test": [
                          0.5273253716,
                          0.7355555556
                        ]
                      },
                      {
                        "learn": [
                          0.4340639242,
                          0.8042857143
                        ],
                        "iteration": 795,
                        "passed_time": 44.41107647,
                        "remaining_time": 11.38173317,
                        "test": [
                          0.5274398126,
                          0.735
                        ]
                      },
                      {
                        "learn": [
                          0.4340141369,
                          0.8042857143
                        ],
                        "iteration": 796,
                        "passed_time": 44.4418526,
                        "remaining_time": 11.31956848,
                        "test": [
                          0.5274602593,
                          0.735
                        ]
                      },
                      {
                        "learn": [
                          0.4338973563,
                          0.8042857143
                        ],
                        "iteration": 797,
                        "passed_time": 44.46862865,
                        "remaining_time": 11.25646991,
                        "test": [
                          0.5274558851,
                          0.7347222222
                        ]
                      },
                      {
                        "learn": [
                          0.4338832601,
                          0.8042857143
                        ],
                        "iteration": 798,
                        "passed_time": 44.50498584,
                        "remaining_time": 11.19587253,
                        "test": [
                          0.5274689399,
                          0.7347222222
                        ]
                      },
                      {
                        "learn": [
                          0.4338615781,
                          0.8044047619
                        ],
                        "iteration": 799,
                        "passed_time": 44.5318021,
                        "remaining_time": 11.13295052,
                        "test": [
                          0.5274888441,
                          0.735
                        ]
                      },
                      {
                        "learn": [
                          0.4338509115,
                          0.8044047619
                        ],
                        "iteration": 800,
                        "passed_time": 44.55833225,
                        "remaining_time": 11.07004759,
                        "test": [
                          0.5274799262,
                          0.735
                        ]
                      },
                      {
                        "learn": [
                          0.4338505627,
                          0.8044047619
                        ],
                        "iteration": 801,
                        "passed_time": 44.59797173,
                        "remaining_time": 11.01047182,
                        "test": [
                          0.5274779595,
                          0.735
                        ]
                      },
                      {
                        "learn": [
                          0.433850243,
                          0.8044047619
                        ],
                        "iteration": 802,
                        "passed_time": 44.62611849,
                        "remaining_time": 10.9481262,
                        "test": [
                          0.527478536,
                          0.735
                        ]
                      },
                      {
                        "learn": [
                          0.4336860293,
                          0.8044047619
                        ],
                        "iteration": 803,
                        "passed_time": 44.6895307,
                        "remaining_time": 10.89446271,
                        "test": [
                          0.527529636,
                          0.7344444444
                        ]
                      },
                      {
                        "learn": [
                          0.4336778332,
                          0.8045238095
                        ],
                        "iteration": 804,
                        "passed_time": 44.7212083,
                        "remaining_time": 10.83308772,
                        "test": [
                          0.5275438775,
                          0.7344444444
                        ]
                      },
                      {
                        "learn": [
                          0.4336170887,
                          0.8047619048
                        ],
                        "iteration": 805,
                        "passed_time": 44.74801739,
                        "remaining_time": 10.77061461,
                        "test": [
                          0.5275799221,
                          0.735
                        ]
                      },
                      {
                        "learn": [
                          0.4334921991,
                          0.805
                        ],
                        "iteration": 806,
                        "passed_time": 44.77504889,
                        "remaining_time": 10.70828307,
                        "test": [
                          0.5275858561,
                          0.7347222222
                        ]
                      },
                      {
                        "learn": [
                          0.4334735107,
                          0.805
                        ],
                        "iteration": 807,
                        "passed_time": 44.80211188,
                        "remaining_time": 10.64604639,
                        "test": [
                          0.5276217312,
                          0.7352777778
                        ]
                      },
                      {
                        "learn": [
                          0.4334729585,
                          0.805
                        ],
                        "iteration": 808,
                        "passed_time": 44.82912954,
                        "remaining_time": 10.58388596,
                        "test": [
                          0.5276216634,
                          0.7352777778
                        ]
                      },
                      {
                        "learn": [
                          0.4334570894,
                          0.8051190476
                        ],
                        "iteration": 809,
                        "passed_time": 44.85529956,
                        "remaining_time": 10.52161348,
                        "test": [
                          0.5276363797,
                          0.735
                        ]
                      },
                      {
                        "learn": [
                          0.433456915,
                          0.8051190476
                        ],
                        "iteration": 810,
                        "passed_time": 44.88155999,
                        "remaining_time": 10.45945109,
                        "test": [
                          0.5276368883,
                          0.735
                        ]
                      },
                      {
                        "learn": [
                          0.4334546189,
                          0.8051190476
                        ],
                        "iteration": 811,
                        "passed_time": 44.91033502,
                        "remaining_time": 10.39795934,
                        "test": [
                          0.5276367187,
                          0.735
                        ]
                      },
                      {
                        "learn": [
                          0.4334508696,
                          0.8051190476
                        ],
                        "iteration": 812,
                        "passed_time": 44.93666046,
                        "remaining_time": 10.33598463,
                        "test": [
                          0.5276479085,
                          0.7347222222
                        ]
                      },
                      {
                        "learn": [
                          0.4334503755,
                          0.8051190476
                        ],
                        "iteration": 813,
                        "passed_time": 44.96707291,
                        "remaining_time": 10.2750314,
                        "test": [
                          0.5276478407,
                          0.7347222222
                        ]
                      },
                      {
                        "learn": [
                          0.4333777727,
                          0.805
                        ],
                        "iteration": 814,
                        "passed_time": 44.99330324,
                        "remaining_time": 10.2132038,
                        "test": [
                          0.5276326836,
                          0.735
                        ]
                      },
                      {
                        "learn": [
                          0.4332919457,
                          0.8051190476
                        ],
                        "iteration": 815,
                        "passed_time": 45.03445155,
                        "remaining_time": 10.15482731,
                        "test": [
                          0.5277427504,
                          0.735
                        ]
                      },
                      {
                        "learn": [
                          0.4332684907,
                          0.8052380952
                        ],
                        "iteration": 816,
                        "passed_time": 45.06429873,
                        "remaining_time": 10.09396165,
                        "test": [
                          0.5277899848,
                          0.735
                        ]
                      },
                      {
                        "learn": [
                          0.4332684036,
                          0.8052380952
                        ],
                        "iteration": 817,
                        "passed_time": 45.08330529,
                        "remaining_time": 10.03075986,
                        "test": [
                          0.5277898492,
                          0.735
                        ]
                      },
                      {
                        "learn": [
                          0.4331486003,
                          0.8053571429
                        ],
                        "iteration": 818,
                        "passed_time": 45.11123448,
                        "remaining_time": 9.9696379,
                        "test": [
                          0.5278422716,
                          0.7352777778
                        ]
                      },
                      {
                        "learn": [
                          0.4331483096,
                          0.8053571429
                        ],
                        "iteration": 819,
                        "passed_time": 45.13892424,
                        "remaining_time": 9.908544345,
                        "test": [
                          0.527842848,
                          0.7352777778
                        ]
                      },
                      {
                        "learn": [
                          0.433148019,
                          0.8053571429
                        ],
                        "iteration": 820,
                        "passed_time": 45.16617678,
                        "remaining_time": 9.847436839,
                        "test": [
                          0.5278428141,
                          0.7352777778
                        ]
                      },
                      {
                        "learn": [
                          0.4331476993,
                          0.8053571429
                        ],
                        "iteration": 821,
                        "passed_time": 45.19295837,
                        "remaining_time": 9.786309719,
                        "test": [
                          0.5278428141,
                          0.7352777778
                        ]
                      },
                      {
                        "learn": [
                          0.4330661447,
                          0.8053571429
                        ],
                        "iteration": 822,
                        "passed_time": 45.22141517,
                        "remaining_time": 9.72562635,
                        "test": [
                          0.5278541734,
                          0.735
                        ]
                      },
                      {
                        "learn": [
                          0.4330660575,
                          0.8053571429
                        ],
                        "iteration": 823,
                        "passed_time": 45.25351132,
                        "remaining_time": 9.665798534,
                        "test": [
                          0.5278546821,
                          0.735
                        ]
                      },
                      {
                        "learn": [
                          0.4328372628,
                          0.8055952381
                        ],
                        "iteration": 824,
                        "passed_time": 45.28245491,
                        "remaining_time": 9.605369223,
                        "test": [
                          0.5277694363,
                          0.735
                        ]
                      },
                      {
                        "learn": [
                          0.4327898879,
                          0.8055952381
                        ],
                        "iteration": 825,
                        "passed_time": 45.30962909,
                        "remaining_time": 9.544643417,
                        "test": [
                          0.5277736749,
                          0.7352777778
                        ]
                      },
                      {
                        "learn": [
                          0.4327897717,
                          0.8055952381
                        ],
                        "iteration": 826,
                        "passed_time": 45.33785441,
                        "remaining_time": 9.484218638,
                        "test": [
                          0.527772895,
                          0.7352777778
                        ]
                      },
                      {
                        "learn": [
                          0.4327895682,
                          0.8055952381
                        ],
                        "iteration": 827,
                        "passed_time": 45.36673091,
                        "remaining_time": 9.424006904,
                        "test": [
                          0.5277720812,
                          0.7352777778
                        ]
                      },
                      {
                        "learn": [
                          0.4327788144,
                          0.8057142857
                        ],
                        "iteration": 828,
                        "passed_time": 45.39466829,
                        "remaining_time": 9.363677055,
                        "test": [
                          0.5277884589,
                          0.735
                        ]
                      },
                      {
                        "learn": [
                          0.4327786691,
                          0.8057142857
                        ],
                        "iteration": 829,
                        "passed_time": 45.42177214,
                        "remaining_time": 9.303254535,
                        "test": [
                          0.5277876451,
                          0.735
                        ]
                      },
                      {
                        "learn": [
                          0.4326314,
                          0.805952381
                        ],
                        "iteration": 830,
                        "passed_time": 45.44994952,
                        "remaining_time": 9.243130529,
                        "test": [
                          0.5278339979,
                          0.735
                        ]
                      },
                      {
                        "learn": [
                          0.4326312256,
                          0.805952381
                        ],
                        "iteration": 831,
                        "passed_time": 45.4771366,
                        "remaining_time": 9.182883351,
                        "test": [
                          0.5278331841,
                          0.735
                        ]
                      },
                      {
                        "learn": [
                          0.4325311279,
                          0.805952381
                        ],
                        "iteration": 832,
                        "passed_time": 45.50453456,
                        "remaining_time": 9.122757828,
                        "test": [
                          0.5278792657,
                          0.735
                        ]
                      },
                      {
                        "learn": [
                          0.4325206938,
                          0.8060714286
                        ],
                        "iteration": 833,
                        "passed_time": 45.53163794,
                        "remaining_time": 9.062652156,
                        "test": [
                          0.5278862508,
                          0.735
                        ]
                      },
                      {
                        "learn": [
                          0.4324102783,
                          0.8060714286
                        ],
                        "iteration": 834,
                        "passed_time": 45.55880346,
                        "remaining_time": 9.002637809,
                        "test": [
                          0.5279140896,
                          0.7344444444
                        ]
                      },
                      {
                        "learn": [
                          0.4324101621,
                          0.8060714286
                        ],
                        "iteration": 835,
                        "passed_time": 45.57905987,
                        "remaining_time": 8.941346673,
                        "test": [
                          0.5279140557,
                          0.7344444444
                        ]
                      },
                      {
                        "learn": [
                          0.4323428781,
                          0.805952381
                        ],
                        "iteration": 836,
                        "passed_time": 45.60547711,
                        "remaining_time": 8.881353369,
                        "test": [
                          0.527858412,
                          0.7344444444
                        ]
                      },
                      {
                        "learn": [
                          0.432337414,
                          0.805952381
                        ],
                        "iteration": 837,
                        "passed_time": 45.63177048,
                        "remaining_time": 8.82141625,
                        "test": [
                          0.5278610908,
                          0.7341666667
                        ]
                      },
                      {
                        "learn": [
                          0.432248012,
                          0.8054761905
                        ],
                        "iteration": 838,
                        "passed_time": 45.66739732,
                        "remaining_time": 8.76335038,
                        "test": [
                          0.527806193,
                          0.7344444444
                        ]
                      },
                      {
                        "learn": [
                          0.4322315325,
                          0.8057142857
                        ],
                        "iteration": 839,
                        "passed_time": 45.70602766,
                        "remaining_time": 8.705910031,
                        "test": [
                          0.5278140598,
                          0.7344444444
                        ]
                      },
                      {
                        "learn": [
                          0.4322248768,
                          0.8054761905
                        ],
                        "iteration": 840,
                        "passed_time": 45.75332974,
                        "remaining_time": 8.650153898,
                        "test": [
                          0.5278187052,
                          0.7344444444
                        ]
                      },
                      {
                        "learn": [
                          0.4321726481,
                          0.8057142857
                        ],
                        "iteration": 841,
                        "passed_time": 45.77947303,
                        "remaining_time": 8.590447434,
                        "test": [
                          0.5278514269,
                          0.7344444444
                        ]
                      },
                      {
                        "learn": [
                          0.4321149554,
                          0.8057142857
                        ],
                        "iteration": 842,
                        "passed_time": 45.80597209,
                        "remaining_time": 8.530886854,
                        "test": [
                          0.5278405423,
                          0.7347222222
                        ]
                      },
                      {
                        "learn": [
                          0.432067842,
                          0.8057142857
                        ],
                        "iteration": 843,
                        "passed_time": 45.83264944,
                        "remaining_time": 8.471437574,
                        "test": [
                          0.5278468831,
                          0.7347222222
                        ]
                      },
                      {
                        "learn": [
                          0.431956758,
                          0.8053571429
                        ],
                        "iteration": 844,
                        "passed_time": 45.85952879,
                        "remaining_time": 8.412102915,
                        "test": [
                          0.5278908624,
                          0.735
                        ]
                      },
                      {
                        "learn": [
                          0.4316993641,
                          0.8054761905
                        ],
                        "iteration": 845,
                        "passed_time": 45.88941585,
                        "remaining_time": 8.353392484,
                        "test": [
                          0.5280675591,
                          0.735
                        ]
                      },
                      {
                        "learn": [
                          0.4316992769,
                          0.8054761905
                        ],
                        "iteration": 846,
                        "passed_time": 45.91676842,
                        "remaining_time": 8.294292288,
                        "test": [
                          0.528067627,
                          0.735
                        ]
                      },
                      {
                        "learn": [
                          0.4316991606,
                          0.8054761905
                        ],
                        "iteration": 847,
                        "passed_time": 45.94744568,
                        "remaining_time": 8.235862906,
                        "test": [
                          0.5280676948,
                          0.735
                        ]
                      },
                      {
                        "learn": [
                          0.4316931152,
                          0.8054761905
                        ],
                        "iteration": 848,
                        "passed_time": 45.9805569,
                        "remaining_time": 8.177931792,
                        "test": [
                          0.5280714247,
                          0.735
                        ]
                      },
                      {
                        "learn": [
                          0.4316930571,
                          0.8054761905
                        ],
                        "iteration": 849,
                        "passed_time": 46.008454,
                        "remaining_time": 8.119138941,
                        "test": [
                          0.5280713908,
                          0.735
                        ]
                      },
                      {
                        "learn": [
                          0.4316929699,
                          0.8054761905
                        ],
                        "iteration": 850,
                        "passed_time": 46.04671833,
                        "remaining_time": 8.062233879,
                        "test": [
                          0.5280714247,
                          0.735
                        ]
                      },
                      {
                        "learn": [
                          0.4316929118,
                          0.8054761905
                        ],
                        "iteration": 851,
                        "passed_time": 46.0811153,
                        "remaining_time": 8.004700779,
                        "test": [
                          0.5280714586,
                          0.735
                        ]
                      },
                      {
                        "learn": [
                          0.4316927374,
                          0.8054761905
                        ],
                        "iteration": 852,
                        "passed_time": 46.1075976,
                        "remaining_time": 7.945857968,
                        "test": [
                          0.5280714925,
                          0.735
                        ]
                      },
                      {
                        "learn": [
                          0.4316863432,
                          0.8052380952
                        ],
                        "iteration": 853,
                        "passed_time": 46.13510307,
                        "remaining_time": 7.887265865,
                        "test": [
                          0.5280922445,
                          0.7347222222
                        ]
                      },
                      {
                        "learn": [
                          0.4316801816,
                          0.8053571429
                        ],
                        "iteration": 854,
                        "passed_time": 46.16254544,
                        "remaining_time": 7.828735777,
                        "test": [
                          0.5281003825,
                          0.7347222222
                        ]
                      },
                      {
                        "learn": [
                          0.4316801235,
                          0.8053571429
                        ],
                        "iteration": 855,
                        "passed_time": 46.18978425,
                        "remaining_time": 7.770244079,
                        "test": [
                          0.5281003825,
                          0.7347222222
                        ]
                      },
                      {
                        "learn": [
                          0.4316800363,
                          0.8053571429
                        ],
                        "iteration": 856,
                        "passed_time": 46.21700419,
                        "remaining_time": 7.71182217,
                        "test": [
                          0.5281003825,
                          0.7347222222
                        ]
                      },
                      {
                        "learn": [
                          0.4316797456,
                          0.8053571429
                        ],
                        "iteration": 857,
                        "passed_time": 46.24407173,
                        "remaining_time": 7.65344777,
                        "test": [
                          0.5281004503,
                          0.7347222222
                        ]
                      },
                      {
                        "learn": [
                          0.4315711031,
                          0.8060714286
                        ],
                        "iteration": 858,
                        "passed_time": 46.27208342,
                        "remaining_time": 7.595301236,
                        "test": [
                          0.5281013319,
                          0.7341666667
                        ]
                      },
                      {
                        "learn": [
                          0.4315709577,
                          0.8060714286
                        ],
                        "iteration": 859,
                        "passed_time": 46.30415858,
                        "remaining_time": 7.53788628,
                        "test": [
                          0.5281013319,
                          0.7341666667
                        ]
                      },
                      {
                        "learn": [
                          0.4315708124,
                          0.8060714286
                        ],
                        "iteration": 860,
                        "passed_time": 46.33121915,
                        "remaining_time": 7.47972063,
                        "test": [
                          0.5281012302,
                          0.7341666667
                        ]
                      },
                      {
                        "learn": [
                          0.431547154,
                          0.8060714286
                        ],
                        "iteration": 861,
                        "passed_time": 46.36042308,
                        "remaining_time": 7.421970284,
                        "test": [
                          0.528120931,
                          0.7344444444
                        ]
                      },
                      {
                        "learn": [
                          0.4315110851,
                          0.8064285714
                        ],
                        "iteration": 862,
                        "passed_time": 46.38824107,
                        "remaining_time": 7.364066079,
                        "test": [
                          0.5281297472,
                          0.7347222222
                        ]
                      },
                      {
                        "learn": [
                          0.4314480155,
                          0.8063095238
                        ],
                        "iteration": 863,
                        "passed_time": 46.41458939,
                        "remaining_time": 7.306000182,
                        "test": [
                          0.5282098728,
                          0.7344444444
                        ]
                      },
                      {
                        "learn": [
                          0.4312738618,
                          0.8061904762
                        ],
                        "iteration": 864,
                        "passed_time": 46.44150282,
                        "remaining_time": 7.248095816,
                        "test": [
                          0.5281111993,
                          0.7338888889
                        ]
                      },
                      {
                        "learn": [
                          0.4312738328,
                          0.8061904762
                        ],
                        "iteration": 865,
                        "passed_time": 46.46782091,
                        "remaining_time": 7.190170903,
                        "test": [
                          0.528112047,
                          0.7338888889
                        ]
                      },
                      {
                        "learn": [
                          0.4312737456,
                          0.8061904762
                        ],
                        "iteration": 866,
                        "passed_time": 46.4949902,
                        "remaining_time": 7.132449478,
                        "test": [
                          0.5281121487,
                          0.7338888889
                        ]
                      },
                      {
                        "learn": [
                          0.4310223098,
                          0.8063095238
                        ],
                        "iteration": 867,
                        "passed_time": 46.52201474,
                        "remaining_time": 7.074776436,
                        "test": [
                          0.5281273058,
                          0.7344444444
                        ]
                      },
                      {
                        "learn": [
                          0.4308585031,
                          0.8060714286
                        ],
                        "iteration": 868,
                        "passed_time": 46.54861003,
                        "remaining_time": 7.017109221,
                        "test": [
                          0.5280995348,
                          0.7341666667
                        ]
                      },
                      {
                        "learn": [
                          0.4307997349,
                          0.8061904762
                        ],
                        "iteration": 869,
                        "passed_time": 46.57496994,
                        "remaining_time": 6.959478266,
                        "test": [
                          0.5281433105,
                          0.7341666667
                        ]
                      },
                      {
                        "learn": [
                          0.4307726469,
                          0.8064285714
                        ],
                        "iteration": 870,
                        "passed_time": 46.60124248,
                        "remaining_time": 6.901906177,
                        "test": [
                          0.5281305949,
                          0.7344444444
                        ]
                      },
                      {
                        "learn": [
                          0.4307712809,
                          0.8064285714
                        ],
                        "iteration": 871,
                        "passed_time": 46.62877059,
                        "remaining_time": 6.844590178,
                        "test": [
                          0.5281266954,
                          0.7344444444
                        ]
                      },
                      {
                        "learn": [
                          0.4307275391,
                          0.806547619
                        ],
                        "iteration": 872,
                        "passed_time": 46.66098531,
                        "remaining_time": 6.788024209,
                        "test": [
                          0.5281131321,
                          0.7341666667
                        ]
                      },
                      {
                        "learn": [
                          0.430717105,
                          0.8064285714
                        ],
                        "iteration": 873,
                        "passed_time": 46.70068498,
                        "remaining_time": 6.73259303,
                        "test": [
                          0.5280922445,
                          0.7338888889
                        ]
                      },
                      {
                        "learn": [
                          0.4304521833,
                          0.805952381
                        ],
                        "iteration": 874,
                        "passed_time": 46.74990349,
                        "remaining_time": 6.678557641,
                        "test": [
                          0.5280067952,
                          0.7338888889
                        ]
                      },
                      {
                        "learn": [
                          0.4302521043,
                          0.8058333333
                        ],
                        "iteration": 875,
                        "passed_time": 46.78372345,
                        "remaining_time": 6.622353547,
                        "test": [
                          0.5280236816,
                          0.7341666667
                        ]
                      },
                      {
                        "learn": [
                          0.4302296956,
                          0.8061904762
                        ],
                        "iteration": 876,
                        "passed_time": 46.8511834,
                        "remaining_time": 6.570918539,
                        "test": [
                          0.5280103556,
                          0.7344444444
                        ]
                      },
                      {
                        "learn": [
                          0.430207287,
                          0.8060714286
                        ],
                        "iteration": 877,
                        "passed_time": 46.8823755,
                        "remaining_time": 6.51440753,
                        "test": [
                          0.5279960124,
                          0.7341666667
                        ]
                      },
                      {
                        "learn": [
                          0.4301574126,
                          0.8061904762
                        ],
                        "iteration": 878,
                        "passed_time": 46.909583,
                        "remaining_time": 6.457405624,
                        "test": [
                          0.5280263943,
                          0.7341666667
                        ]
                      },
                      {
                        "learn": [
                          0.4301541574,
                          0.8061904762
                        ],
                        "iteration": 879,
                        "passed_time": 46.93643717,
                        "remaining_time": 6.40042325,
                        "test": [
                          0.5280233765,
                          0.7341666667
                        ]
                      },
                      {
                        "learn": [
                          0.4301408168,
                          0.8061904762
                        ],
                        "iteration": 880,
                        "passed_time": 46.96769307,
                        "remaining_time": 6.344103832,
                        "test": [
                          0.5280406019,
                          0.7341666667
                        ]
                      },
                      {
                        "learn": [
                          0.4301297724,
                          0.8064285714
                        ],
                        "iteration": 881,
                        "passed_time": 46.99479917,
                        "remaining_time": 6.287286057,
                        "test": [
                          0.5280304633,
                          0.7344444444
                        ]
                      },
                      {
                        "learn": [
                          0.4300854492,
                          0.8064285714
                        ],
                        "iteration": 882,
                        "passed_time": 47.02128627,
                        "remaining_time": 6.230453561,
                        "test": [
                          0.5280233765,
                          0.7344444444
                        ]
                      },
                      {
                        "learn": [
                          0.4300722249,
                          0.8064285714
                        ],
                        "iteration": 883,
                        "passed_time": 47.06355969,
                        "remaining_time": 6.175761227,
                        "test": [
                          0.5280339898,
                          0.7347222222
                        ]
                      },
                      {
                        "learn": [
                          0.4300676328,
                          0.8064285714
                        ],
                        "iteration": 884,
                        "passed_time": 47.09067795,
                        "remaining_time": 6.119127643,
                        "test": [
                          0.5280434502,
                          0.7347222222
                        ]
                      },
                      {
                        "learn": [
                          0.4300653367,
                          0.8064285714
                        ],
                        "iteration": 885,
                        "passed_time": 47.11867433,
                        "remaining_time": 6.062673672,
                        "test": [
                          0.5280433146,
                          0.7347222222
                        ]
                      },
                      {
                        "learn": [
                          0.4298688616,
                          0.8072619048
                        ],
                        "iteration": 886,
                        "passed_time": 47.14756785,
                        "remaining_time": 6.006398159,
                        "test": [
                          0.5280860053,
                          0.735
                        ]
                      },
                      {
                        "learn": [
                          0.4297960263,
                          0.8067857143
                        ],
                        "iteration": 887,
                        "passed_time": 47.17414513,
                        "remaining_time": 5.949892178,
                        "test": [
                          0.5281075711,
                          0.7352777778
                        ]
                      },
                      {
                        "learn": [
                          0.4297922189,
                          0.8067857143
                        ],
                        "iteration": 888,
                        "passed_time": 47.20049079,
                        "remaining_time": 5.893424609,
                        "test": [
                          0.5281202528,
                          0.7352777778
                        ]
                      },
                      {
                        "learn": [
                          0.4296756417,
                          0.8069047619
                        ],
                        "iteration": 889,
                        "passed_time": 47.22786265,
                        "remaining_time": 5.837151564,
                        "test": [
                          0.5280766127,
                          0.7344444444
                        ]
                      },
                      {
                        "learn": [
                          0.4294758243,
                          0.8075
                        ],
                        "iteration": 890,
                        "passed_time": 47.25477814,
                        "remaining_time": 5.780887562,
                        "test": [
                          0.5280706109,
                          0.7336111111
                        ]
                      },
                      {
                        "learn": [
                          0.429438215,
                          0.8075
                        ],
                        "iteration": 891,
                        "passed_time": 47.28201887,
                        "remaining_time": 5.724728742,
                        "test": [
                          0.5280862766,
                          0.7336111111
                        ]
                      },
                      {
                        "learn": [
                          0.4294380697,
                          0.8075
                        ],
                        "iteration": 892,
                        "passed_time": 47.30913484,
                        "remaining_time": 5.66861974,
                        "test": [
                          0.5280855984,
                          0.7336111111
                        ]
                      },
                      {
                        "learn": [
                          0.4291461472,
                          0.8075
                        ],
                        "iteration": 893,
                        "passed_time": 47.33817081,
                        "remaining_time": 5.61280325,
                        "test": [
                          0.5281935628,
                          0.7338888889
                        ]
                      },
                      {
                        "learn": [
                          0.4291415551,
                          0.8075
                        ],
                        "iteration": 894,
                        "passed_time": 47.36444376,
                        "remaining_time": 5.556722452,
                        "test": [
                          0.5281987847,
                          0.7338888889
                        ]
                      },
                      {
                        "learn": [
                          0.4289117432,
                          0.8077380952
                        ],
                        "iteration": 895,
                        "passed_time": 47.39181036,
                        "remaining_time": 5.500835131,
                        "test": [
                          0.5281756592,
                          0.7338888889
                        ]
                      },
                      {
                        "learn": [
                          0.4289036633,
                          0.8077380952
                        ],
                        "iteration": 896,
                        "passed_time": 47.42108626,
                        "remaining_time": 5.445230641,
                        "test": [
                          0.5281528049,
                          0.7338888889
                        ]
                      },
                      {
                        "learn": [
                          0.4288726225,
                          0.8076190476
                        ],
                        "iteration": 897,
                        "passed_time": 47.44900554,
                        "remaining_time": 5.389530696,
                        "test": [
                          0.528150906,
                          0.7336111111
                        ]
                      },
                      {
                        "learn": [
                          0.4288676816,
                          0.8076190476
                        ],
                        "iteration": 898,
                        "passed_time": 47.47575775,
                        "remaining_time": 5.333761438,
                        "test": [
                          0.5281466675,
                          0.7336111111
                        ]
                      },
                      {
                        "learn": [
                          0.428834432,
                          0.8078571429
                        ],
                        "iteration": 899,
                        "passed_time": 47.5124074,
                        "remaining_time": 5.279156378,
                        "test": [
                          0.5282235379,
                          0.7336111111
                        ]
                      },
                      {
                        "learn": [
                          0.4288324556,
                          0.8078571429
                        ],
                        "iteration": 900,
                        "passed_time": 47.53884612,
                        "remaining_time": 5.223469218,
                        "test": [
                          0.5282197401,
                          0.7336111111
                        ]
                      },
                      {
                        "learn": [
                          0.4288225446,
                          0.8079761905
                        ],
                        "iteration": 901,
                        "passed_time": 47.56513767,
                        "remaining_time": 5.167830922,
                        "test": [
                          0.5282399495,
                          0.7338888889
                        ]
                      },
                      {
                        "learn": [
                          0.4285123117,
                          0.8077380952
                        ],
                        "iteration": 902,
                        "passed_time": 47.59194934,
                        "remaining_time": 5.112313495,
                        "test": [
                          0.5283422512,
                          0.7333333333
                        ]
                      },
                      {
                        "learn": [
                          0.4284300014,
                          0.8078571429
                        ],
                        "iteration": 903,
                        "passed_time": 47.61882327,
                        "remaining_time": 5.056866188,
                        "test": [
                          0.5283609687,
                          0.7330555556
                        ]
                      },
                      {
                        "learn": [
                          0.4282765997,
                          0.8078571429
                        ],
                        "iteration": 904,
                        "passed_time": 47.64558162,
                        "remaining_time": 5.001469894,
                        "test": [
                          0.5284412638,
                          0.7330555556
                        ]
                      },
                      {
                        "learn": [
                          0.4282047235,
                          0.8080952381
                        ],
                        "iteration": 905,
                        "passed_time": 47.67258892,
                        "remaining_time": 4.946162647,
                        "test": [
                          0.5285465834,
                          0.7330555556
                        ]
                      },
                      {
                        "learn": [
                          0.4281434559,
                          0.8086904762
                        ],
                        "iteration": 906,
                        "passed_time": 47.7026557,
                        "remaining_time": 4.891231511,
                        "test": [
                          0.5285512967,
                          0.7325
                        ]
                      },
                      {
                        "learn": [
                          0.4281416829,
                          0.8086904762
                        ],
                        "iteration": 907,
                        "passed_time": 47.72886782,
                        "remaining_time": 4.835964581,
                        "test": [
                          0.5285512967,
                          0.7325
                        ]
                      },
                      {
                        "learn": [
                          0.4281394741,
                          0.8086904762
                        ],
                        "iteration": 908,
                        "passed_time": 47.76364972,
                        "remaining_time": 4.781619499,
                        "test": [
                          0.5285632324,
                          0.7325
                        ]
                      },
                      {
                        "learn": [
                          0.4279395113,
                          0.8080952381
                        ],
                        "iteration": 909,
                        "passed_time": 47.83964596,
                        "remaining_time": 4.731393556,
                        "test": [
                          0.5284522502,
                          0.7327777778
                        ]
                      },
                      {
                        "learn": [
                          0.4278358096,
                          0.8083333333
                        ],
                        "iteration": 910,
                        "passed_time": 47.96186017,
                        "remaining_time": 4.685626296,
                        "test": [
                          0.5284222751,
                          0.7327777778
                        ]
                      },
                      {
                        "learn": [
                          0.427835548,
                          0.8083333333
                        ],
                        "iteration": 911,
                        "passed_time": 48.04744439,
                        "remaining_time": 4.636156914,
                        "test": [
                          0.528421563,
                          0.7327777778
                        ]
                      },
                      {
                        "learn": [
                          0.4277475993,
                          0.8085714286
                        ],
                        "iteration": 912,
                        "passed_time": 48.07953958,
                        "remaining_time": 4.581511439,
                        "test": [
                          0.5283854845,
                          0.7333333333
                        ]
                      },
                      {
                        "learn": [
                          0.4276260521,
                          0.8088095238
                        ],
                        "iteration": 913,
                        "passed_time": 48.11256629,
                        "remaining_time": 4.527002955,
                        "test": [
                          0.5283547635,
                          0.7322222222
                        ]
                      },
                      {
                        "learn": [
                          0.4276045154,
                          0.8089285714
                        ],
                        "iteration": 914,
                        "passed_time": 48.15018655,
                        "remaining_time": 4.47296815,
                        "test": [
                          0.5283581204,
                          0.7322222222
                        ]
                      },
                      {
                        "learn": [
                          0.4274390811,
                          0.8092857143
                        ],
                        "iteration": 915,
                        "passed_time": 48.18079087,
                        "remaining_time": 4.4183258,
                        "test": [
                          0.5284183417,
                          0.7325
                        ]
                      },
                      {
                        "learn": [
                          0.4274095226,
                          0.809047619
                        ],
                        "iteration": 916,
                        "passed_time": 48.21276903,
                        "remaining_time": 4.363860228,
                        "test": [
                          0.5284086439,
                          0.7325
                        ]
                      },
                      {
                        "learn": [
                          0.4273729306,
                          0.8091666667
                        ],
                        "iteration": 917,
                        "passed_time": 48.24660964,
                        "remaining_time": 4.309610011,
                        "test": [
                          0.5284559123,
                          0.7322222222
                        ]
                      },
                      {
                        "learn": [
                          0.4272587367,
                          0.8091666667
                        ],
                        "iteration": 918,
                        "passed_time": 48.27898658,
                        "remaining_time": 4.255275204,
                        "test": [
                          0.5285186768,
                          0.7322222222
                        ]
                      },
                      {
                        "learn": [
                          0.4272583589,
                          0.8091666667
                        ],
                        "iteration": 919,
                        "passed_time": 48.31120764,
                        "remaining_time": 4.200974577,
                        "test": [
                          0.5285187446,
                          0.7322222222
                        ]
                      },
                      {
                        "learn": [
                          0.4272282773,
                          0.8092857143
                        ],
                        "iteration": 920,
                        "passed_time": 48.34148922,
                        "remaining_time": 4.146555536,
                        "test": [
                          0.5285205417,
                          0.7330555556
                        ]
                      },
                      {
                        "learn": [
                          0.427228161,
                          0.8092857143
                        ],
                        "iteration": 921,
                        "passed_time": 48.3682553,
                        "remaining_time": 4.091891447,
                        "test": [
                          0.52852044,
                          0.7330555556
                        ]
                      },
                      {
                        "learn": [
                          0.4271865699,
                          0.8092857143
                        ],
                        "iteration": 922,
                        "passed_time": 48.40006091,
                        "remaining_time": 4.037708223,
                        "test": [
                          0.5285088772,
                          0.7327777778
                        ]
                      },
                      {
                        "learn": [
                          0.4271863374,
                          0.8092857143
                        ],
                        "iteration": 923,
                        "passed_time": 48.43166845,
                        "remaining_time": 3.983557145,
                        "test": [
                          0.5285083347,
                          0.7327777778
                        ]
                      },
                      {
                        "learn": [
                          0.4271812221,
                          0.8092857143
                        ],
                        "iteration": 924,
                        "passed_time": 48.46402805,
                        "remaining_time": 3.929515788,
                        "test": [
                          0.5285168457,
                          0.7327777778
                        ]
                      },
                      {
                        "learn": [
                          0.4270479329,
                          0.8092857143
                        ],
                        "iteration": 925,
                        "passed_time": 48.50776746,
                        "remaining_time": 3.876430661,
                        "test": [
                          0.5285000949,
                          0.7327777778
                        ]
                      },
                      {
                        "learn": [
                          0.4270478167,
                          0.8092857143
                        ],
                        "iteration": 926,
                        "passed_time": 48.5406609,
                        "remaining_time": 3.822511592,
                        "test": [
                          0.5285000271,
                          0.7327777778
                        ]
                      },
                      {
                        "learn": [
                          0.4269462949,
                          0.8092857143
                        ],
                        "iteration": 927,
                        "passed_time": 48.57404938,
                        "remaining_time": 3.768676245,
                        "test": [
                          0.5284639825,
                          0.7327777778
                        ]
                      },
                      {
                        "learn": [
                          0.4269392032,
                          0.8091666667
                        ],
                        "iteration": 928,
                        "passed_time": 48.6467133,
                        "remaining_time": 3.717886592,
                        "test": [
                          0.5284601508,
                          0.7327777778
                        ]
                      },
                      {
                        "learn": [
                          0.4269389997,
                          0.8091666667
                        ],
                        "iteration": 929,
                        "passed_time": 48.67813772,
                        "remaining_time": 3.66394585,
                        "test": [
                          0.52845971,
                          0.7327777778
                        ]
                      },
                      {
                        "learn": [
                          0.4267765009,
                          0.8094047619
                        ],
                        "iteration": 930,
                        "passed_time": 48.71335822,
                        "remaining_time": 3.610334819,
                        "test": [
                          0.5284625922,
                          0.7330555556
                        ]
                      },
                      {
                        "learn": [
                          0.4267764137,
                          0.8094047619
                        ],
                        "iteration": 931,
                        "passed_time": 48.74256614,
                        "remaining_time": 3.556324568,
                        "test": [
                          0.5284633382,
                          0.7330555556
                        ]
                      },
                      {
                        "learn": [
                          0.4266738165,
                          0.8094047619
                        ],
                        "iteration": 932,
                        "passed_time": 48.77480036,
                        "remaining_time": 3.502584806,
                        "test": [
                          0.5284466553,
                          0.7333333333
                        ]
                      },
                      {
                        "learn": [
                          0.4265450614,
                          0.8098809524
                        ],
                        "iteration": 933,
                        "passed_time": 48.80784651,
                        "remaining_time": 3.448948469,
                        "test": [
                          0.5284636434,
                          0.7330555556
                        ]
                      },
                      {
                        "learn": [
                          0.4262994094,
                          0.8091666667
                        ],
                        "iteration": 934,
                        "passed_time": 48.83988362,
                        "remaining_time": 3.395286027,
                        "test": [
                          0.5283513387,
                          0.7330555556
                        ]
                      },
                      {
                        "learn": [
                          0.4262699382,
                          0.8092857143
                        ],
                        "iteration": 935,
                        "passed_time": 48.87140452,
                        "remaining_time": 3.341634497,
                        "test": [
                          0.5283602227,
                          0.7333333333
                        ]
                      },
                      {
                        "learn": [
                          0.4262694441,
                          0.8092857143
                        ],
                        "iteration": 936,
                        "passed_time": 48.90386329,
                        "remaining_time": 3.288093263,
                        "test": [
                          0.5283609348,
                          0.7333333333
                        ]
                      },
                      {
                        "learn": [
                          0.4262077114,
                          0.8094047619
                        ],
                        "iteration": 937,
                        "passed_time": 49.02189487,
                        "remaining_time": 3.240253179,
                        "test": [
                          0.5283903673,
                          0.7330555556
                        ]
                      },
                      {
                        "learn": [
                          0.4260129511,
                          0.8094047619
                        ],
                        "iteration": 938,
                        "passed_time": 49.13441922,
                        "remaining_time": 3.191905828,
                        "test": [
                          0.5284228855,
                          0.7333333333
                        ]
                      },
                      {
                        "learn": [
                          0.4260088239,
                          0.8094047619
                        ],
                        "iteration": 939,
                        "passed_time": 49.2234324,
                        "remaining_time": 3.141921217,
                        "test": [
                          0.5284199354,
                          0.7333333333
                        ]
                      },
                      {
                        "learn": [
                          0.4259152367,
                          0.8098809524
                        ],
                        "iteration": 940,
                        "passed_time": 49.2812231,
                        "remaining_time": 3.089896028,
                        "test": [
                          0.5284632704,
                          0.7333333333
                        ]
                      },
                      {
                        "learn": [
                          0.4259052095,
                          0.8097619048
                        ],
                        "iteration": 941,
                        "passed_time": 49.34799594,
                        "remaining_time": 3.03841164,
                        "test": [
                          0.5284602186,
                          0.7333333333
                        ]
                      },
                      {
                        "learn": [
                          0.4259011405,
                          0.8097619048
                        ],
                        "iteration": 942,
                        "passed_time": 49.40874072,
                        "remaining_time": 2.986530457,
                        "test": [
                          0.5284710693,
                          0.7333333333
                        ]
                      },
                      {
                        "learn": [
                          0.4257942999,
                          0.8101190476
                        ],
                        "iteration": 943,
                        "passed_time": 49.48267738,
                        "remaining_time": 2.935413065,
                        "test": [
                          0.5284801229,
                          0.7333333333
                        ]
                      },
                      {
                        "learn": [
                          0.4257939802,
                          0.8101190476
                        ],
                        "iteration": 944,
                        "passed_time": 49.53556466,
                        "remaining_time": 2.883022282,
                        "test": [
                          0.5284798855,
                          0.7333333333
                        ]
                      },
                      {
                        "learn": [
                          0.4257933408,
                          0.8101190476
                        ],
                        "iteration": 945,
                        "passed_time": 49.59683878,
                        "remaining_time": 2.83110919,
                        "test": [
                          0.5284798855,
                          0.7333333333
                        ]
                      },
                      {
                        "learn": [
                          0.4255875651,
                          0.8101190476
                        ],
                        "iteration": 946,
                        "passed_time": 49.67656334,
                        "remaining_time": 2.78020893,
                        "test": [
                          0.5285309516,
                          0.7333333333
                        ]
                      },
                      {
                        "learn": [
                          0.4255470785,
                          0.8102380952
                        ],
                        "iteration": 947,
                        "passed_time": 49.72258179,
                        "remaining_time": 2.727399001,
                        "test": [
                          0.5285438029,
                          0.7333333333
                        ]
                      },
                      {
                        "learn": [
                          0.4254470389,
                          0.81
                        ],
                        "iteration": 948,
                        "passed_time": 49.78263317,
                        "remaining_time": 2.675357526,
                        "test": [
                          0.5286442057,
                          0.7333333333
                        ]
                      },
                      {
                        "learn": [
                          0.4254007975,
                          0.8097619048
                        ],
                        "iteration": 949,
                        "passed_time": 49.81297482,
                        "remaining_time": 2.621735517,
                        "test": [
                          0.5286652289,
                          0.7333333333
                        ]
                      },
                      {
                        "learn": [
                          0.425396932,
                          0.8097619048
                        ],
                        "iteration": 950,
                        "passed_time": 49.84172827,
                        "remaining_time": 2.568080637,
                        "test": [
                          0.528674079,
                          0.7333333333
                        ]
                      },
                      {
                        "learn": [
                          0.4253969029,
                          0.8097619048
                        ],
                        "iteration": 951,
                        "passed_time": 49.88023865,
                        "remaining_time": 2.514970016,
                        "test": [
                          0.5286748589,
                          0.7333333333
                        ]
                      },
                      {
                        "learn": [
                          0.4250746373,
                          0.8096428571
                        ],
                        "iteration": 952,
                        "passed_time": 49.91232329,
                        "remaining_time": 2.461573132,
                        "test": [
                          0.5286389499,
                          0.7325
                        ]
                      },
                      {
                        "learn": [
                          0.425072719,
                          0.8096428571
                        ],
                        "iteration": 953,
                        "passed_time": 49.94134733,
                        "remaining_time": 2.408073351,
                        "test": [
                          0.5286402384,
                          0.7322222222
                        ]
                      },
                      {
                        "learn": [
                          0.424984625,
                          0.8097619048
                        ],
                        "iteration": 954,
                        "passed_time": 49.97086703,
                        "remaining_time": 2.354648185,
                        "test": [
                          0.5286583116,
                          0.7327777778
                        ]
                      },
                      {
                        "learn": [
                          0.4249824451,
                          0.8097619048
                        ],
                        "iteration": 955,
                        "passed_time": 50.00506526,
                        "remaining_time": 2.301488359,
                        "test": [
                          0.5286662123,
                          0.7327777778
                        ]
                      },
                      {
                        "learn": [
                          0.4247573417,
                          0.8098809524
                        ],
                        "iteration": 956,
                        "passed_time": 50.03633033,
                        "remaining_time": 2.248236368,
                        "test": [
                          0.528841451,
                          0.7325
                        ]
                      },
                      {
                        "learn": [
                          0.4247533017,
                          0.8098809524
                        ],
                        "iteration": 957,
                        "passed_time": 50.07788645,
                        "remaining_time": 2.195481452,
                        "test": [
                          0.5288587104,
                          0.7325
                        ]
                      },
                      {
                        "learn": [
                          0.4247204299,
                          0.8097619048
                        ],
                        "iteration": 958,
                        "passed_time": 50.13406247,
                        "remaining_time": 2.143374933,
                        "test": [
                          0.5288624403,
                          0.7327777778
                        ]
                      },
                      {
                        "learn": [
                          0.4247203137,
                          0.8097619048
                        ],
                        "iteration": 959,
                        "passed_time": 50.19018724,
                        "remaining_time": 2.091257802,
                        "test": [
                          0.5288612196,
                          0.7327777778
                        ]
                      },
                      {
                        "learn": [
                          0.4247053746,
                          0.8097619048
                        ],
                        "iteration": 960,
                        "passed_time": 50.22747327,
                        "remaining_time": 2.038367802,
                        "test": [
                          0.5288295492,
                          0.7327777778
                        ]
                      },
                      {
                        "learn": [
                          0.4246900286,
                          0.8096428571
                        ],
                        "iteration": 961,
                        "passed_time": 50.25794443,
                        "remaining_time": 1.985241048,
                        "test": [
                          0.528839959,
                          0.7327777778
                        ]
                      },
                      {
                        "learn": [
                          0.4246311151,
                          0.8097619048
                        ],
                        "iteration": 962,
                        "passed_time": 50.29143811,
                        "remaining_time": 1.932277477,
                        "test": [
                          0.5288347032,
                          0.7322222222
                        ]
                      },
                      {
                        "learn": [
                          0.4246277146,
                          0.8096428571
                        ],
                        "iteration": 963,
                        "passed_time": 50.32420175,
                        "remaining_time": 1.879327036,
                        "test": [
                          0.5288361613,
                          0.7322222222
                        ]
                      },
                      {
                        "learn": [
                          0.4245374407,
                          0.81
                        ],
                        "iteration": 964,
                        "passed_time": 50.36080332,
                        "remaining_time": 1.826557633,
                        "test": [
                          0.528827379,
                          0.7322222222
                        ]
                      },
                      {
                        "learn": [
                          0.4243621245,
                          0.8103571429
                        ],
                        "iteration": 965,
                        "passed_time": 50.38967079,
                        "remaining_time": 1.773549489,
                        "test": [
                          0.5288167996,
                          0.7325
                        ]
                      },
                      {
                        "learn": [
                          0.4243248059,
                          0.8103571429
                        ],
                        "iteration": 966,
                        "passed_time": 50.41951399,
                        "remaining_time": 1.720624573,
                        "test": [
                          0.5288845486,
                          0.7325
                        ]
                      },
                      {
                        "learn": [
                          0.4243165806,
                          0.8103571429
                        ],
                        "iteration": 967,
                        "passed_time": 50.46600341,
                        "remaining_time": 1.668297633,
                        "test": [
                          0.5288846164,
                          0.7325
                        ]
                      },
                      {
                        "learn": [
                          0.4242258126,
                          0.8103571429
                        ],
                        "iteration": 968,
                        "passed_time": 50.50626509,
                        "remaining_time": 1.615783506,
                        "test": [
                          0.5288439263,
                          0.7325
                        ]
                      },
                      {
                        "learn": [
                          0.4241242908,
                          0.8102380952
                        ],
                        "iteration": 969,
                        "passed_time": 50.53678902,
                        "remaining_time": 1.562993475,
                        "test": [
                          0.5288142565,
                          0.7322222222
                        ]
                      },
                      {
                        "learn": [
                          0.4240693592,
                          0.8102380952
                        ],
                        "iteration": 970,
                        "passed_time": 50.56642824,
                        "remaining_time": 1.510222883,
                        "test": [
                          0.5288595242,
                          0.7322222222
                        ]
                      },
                      {
                        "learn": [
                          0.4239242699,
                          0.8102380952
                        ],
                        "iteration": 971,
                        "passed_time": 50.59668211,
                        "remaining_time": 1.457517592,
                        "test": [
                          0.5289400567,
                          0.7316666667
                        ]
                      },
                      {
                        "learn": [
                          0.4238001941,
                          0.8105952381
                        ],
                        "iteration": 972,
                        "passed_time": 50.68888194,
                        "remaining_time": 1.406577402,
                        "test": [
                          0.5289499919,
                          0.7325
                        ]
                      },
                      {
                        "learn": [
                          0.4237963286,
                          0.8105952381
                        ],
                        "iteration": 973,
                        "passed_time": 50.78370664,
                        "remaining_time": 1.355622559,
                        "test": [
                          0.5289476861,
                          0.7325
                        ]
                      },
                      {
                        "learn": [
                          0.4236572266,
                          0.8107142857
                        ],
                        "iteration": 974,
                        "passed_time": 50.87425369,
                        "remaining_time": 1.304468043,
                        "test": [
                          0.5289575873,
                          0.7327777778
                        ]
                      },
                      {
                        "learn": [
                          0.4236256917,
                          0.810952381
                        ],
                        "iteration": 975,
                        "passed_time": 50.96520562,
                        "remaining_time": 1.253242761,
                        "test": [
                          0.5290092977,
                          0.7327777778
                        ]
                      },
                      {
                        "learn": [
                          0.4234190732,
                          0.8111904762
                        ],
                        "iteration": 976,
                        "passed_time": 51.05386572,
                        "remaining_time": 1.201882202,
                        "test": [
                          0.5290620253,
                          0.7325
                        ]
                      },
                      {
                        "learn": [
                          0.4233763486,
                          0.8111904762
                        ],
                        "iteration": 977,
                        "passed_time": 51.08370034,
                        "remaining_time": 1.149122094,
                        "test": [
                          0.5290805732,
                          0.7322222222
                        ]
                      },
                      {
                        "learn": [
                          0.4233373442,
                          0.8110714286
                        ],
                        "iteration": 978,
                        "passed_time": 51.11422335,
                        "remaining_time": 1.096423586,
                        "test": [
                          0.529124349,
                          0.7319444444
                        ]
                      },
                      {
                        "learn": [
                          0.4233351063,
                          0.8110714286
                        ],
                        "iteration": 979,
                        "passed_time": 51.14029898,
                        "remaining_time": 1.043679571,
                        "test": [
                          0.5291271973,
                          0.7316666667
                        ]
                      },
                      {
                        "learn": [
                          0.4233210682,
                          0.8108333333
                        ],
                        "iteration": 980,
                        "passed_time": 51.16682885,
                        "remaining_time": 0.9909987238,
                        "test": [
                          0.5291263496,
                          0.7316666667
                        ]
                      },
                      {
                        "learn": [
                          0.4231675502,
                          0.8108333333
                        ],
                        "iteration": 981,
                        "passed_time": 51.20207112,
                        "remaining_time": 0.9385308352,
                        "test": [
                          0.5291662937,
                          0.7313888889
                        ]
                      },
                      {
                        "learn": [
                          0.4231671143,
                          0.8108333333
                        ],
                        "iteration": 982,
                        "passed_time": 51.22925819,
                        "remaining_time": 0.8859586869,
                        "test": [
                          0.5291660563,
                          0.7313888889
                        ]
                      },
                      {
                        "learn": [
                          0.4231663295,
                          0.8108333333
                        ],
                        "iteration": 983,
                        "passed_time": 51.28872111,
                        "remaining_time": 0.8339629449,
                        "test": [
                          0.5291661241,
                          0.7313888889
                        ]
                      },
                      {
                        "learn": [
                          0.4229768008,
                          0.8110714286
                        ],
                        "iteration": 984,
                        "passed_time": 51.31958061,
                        "remaining_time": 0.781516456,
                        "test": [
                          0.5291310967,
                          0.7316666667
                        ]
                      },
                      {
                        "learn": [
                          0.4229767136,
                          0.8110714286
                        ],
                        "iteration": 985,
                        "passed_time": 51.3481035,
                        "remaining_time": 0.7290805771,
                        "test": [
                          0.5291305203,
                          0.7316666667
                        ]
                      },
                      {
                        "learn": [
                          0.4228738258,
                          0.8119047619
                        ],
                        "iteration": 986,
                        "passed_time": 51.37471004,
                        "remaining_time": 0.6766679134,
                        "test": [
                          0.5291525608,
                          0.7308333333
                        ]
                      },
                      {
                        "learn": [
                          0.4227713158,
                          0.8117857143
                        ],
                        "iteration": 987,
                        "passed_time": 51.40120216,
                        "remaining_time": 0.6243060991,
                        "test": [
                          0.5291580878,
                          0.7308333333
                        ]
                      },
                      {
                        "learn": [
                          0.4227707055,
                          0.8117857143
                        ],
                        "iteration": 988,
                        "passed_time": 51.42711084,
                        "remaining_time": 0.5719901105,
                        "test": [
                          0.5291581217,
                          0.7308333333
                        ]
                      },
                      {
                        "learn": [
                          0.4226042829,
                          0.8120238095
                        ],
                        "iteration": 989,
                        "passed_time": 51.45438624,
                        "remaining_time": 0.5197412751,
                        "test": [
                          0.5290716214,
                          0.7308333333
                        ]
                      },
                      {
                        "learn": [
                          0.4226039632,
                          0.8120238095
                        ],
                        "iteration": 990,
                        "passed_time": 51.48263007,
                        "remaining_time": 0.4675516354,
                        "test": [
                          0.5290715196,
                          0.7308333333
                        ]
                      },
                      {
                        "learn": [
                          0.4224790155,
                          0.8121428571
                        ],
                        "iteration": 991,
                        "passed_time": 51.50883901,
                        "remaining_time": 0.415393863,
                        "test": [
                          0.5290829807,
                          0.7305555556
                        ]
                      },
                      {
                        "learn": [
                          0.4224775332,
                          0.8121428571
                        ],
                        "iteration": 992,
                        "passed_time": 51.53446508,
                        "remaining_time": 0.3632842453,
                        "test": [
                          0.5290847778,
                          0.7305555556
                        ]
                      },
                      {
                        "learn": [
                          0.4224774751,
                          0.8121428571
                        ],
                        "iteration": 993,
                        "passed_time": 51.56022572,
                        "remaining_time": 0.3112287267,
                        "test": [
                          0.5290841336,
                          0.7305555556
                        ]
                      },
                      {
                        "learn": [
                          0.4224334426,
                          0.8120238095
                        ],
                        "iteration": 994,
                        "passed_time": 51.58647592,
                        "remaining_time": 0.2592285222,
                        "test": [
                          0.5291042074,
                          0.7305555556
                        ]
                      },
                      {
                        "learn": [
                          0.4224318441,
                          0.8120238095
                        ],
                        "iteration": 995,
                        "passed_time": 51.61250803,
                        "remaining_time": 0.2072791487,
                        "test": [
                          0.5291056993,
                          0.7305555556
                        ]
                      },
                      {
                        "learn": [
                          0.422419608,
                          0.8120238095
                        ],
                        "iteration": 996,
                        "passed_time": 51.63946212,
                        "remaining_time": 0.15538454,
                        "test": [
                          0.5291230604,
                          0.7305555556
                        ]
                      },
                      {
                        "learn": [
                          0.4221334984,
                          0.8119047619
                        ],
                        "iteration": 997,
                        "passed_time": 51.66915831,
                        "remaining_time": 0.1035454074,
                        "test": [
                          0.5292542182,
                          0.7311111111
                        ]
                      },
                      {
                        "learn": [
                          0.4221282668,
                          0.8119047619
                        ],
                        "iteration": 998,
                        "passed_time": 51.69570302,
                        "remaining_time": 0.05174745047,
                        "test": [
                          0.5292637804,
                          0.7311111111
                        ]
                      },
                      {
                        "learn": [
                          0.4219962565,
                          0.8123809524
                        ],
                        "iteration": 999,
                        "passed_time": 51.72186845,
                        "remaining_time": 0,
                        "test": [
                          0.5292519803,
                          0.7316666667
                        ]
                      }
                    ],
                    "meta": {
                      "test_sets": [
                        "test"
                      ],
                      "test_metrics": [
                        {
                          "best_value": "Min",
                          "name": "Logloss"
                        },
                        {
                          "best_value": "Max",
                          "name": "Accuracy"
                        }
                      ],
                      "learn_metrics": [
                        {
                          "best_value": "Min",
                          "name": "Logloss"
                        },
                        {
                          "best_value": "Max",
                          "name": "Accuracy"
                        }
                      ],
                      "launch_mode": "Train",
                      "parameters": "",
                      "iteration_count": 1000,
                      "learn_sets": [
                        "learn"
                      ],
                      "name": "experiment"
                    }
                  }
                }
              }
            },
            "layout": "IPY_MODEL_76f224f52baa4fc1b6d44682e78bc116"
          }
        }
      }
    }
  },
  "nbformat_minor": 0,
  "nbformat": 4,
  "cells": [
    {
      "cell_type": "markdown",
      "source": [
        "\n",
        "\n",
        "Kaggle'dan gelen kodlar\n"
      ],
      "metadata": {
        "id": "U_NcXNNGB3wQ"
      }
    },
    {
      "source": [
        "\n",
        "# IMPORTANT: RUN THIS CELL IN ORDER TO IMPORT YOUR KAGGLE DATA SOURCES\n",
        "# TO THE CORRECT LOCATION (/kaggle/input) IN YOUR NOTEBOOK,\n",
        "# THEN FEEL FREE TO DELETE THIS CELL.\n",
        "# NOTE: THIS NOTEBOOK ENVIRONMENT DIFFERS FROM KAGGLE'S PYTHON\n",
        "# ENVIRONMENT SO THERE MAY BE MISSING LIBRARIES USED BY YOUR\n",
        "# NOTEBOOK.\n",
        "\n",
        "import os\n",
        "import sys\n",
        "from tempfile import NamedTemporaryFile\n",
        "from urllib.request import urlopen\n",
        "from urllib.parse import unquote, urlparse\n",
        "from urllib.error import HTTPError\n",
        "from zipfile import ZipFile\n",
        "import tarfile\n",
        "import shutil\n",
        "\n",
        "CHUNK_SIZE = 40960\n",
        "DATA_SOURCE_MAPPING = 'smoking-drinking-dataset:https%3A%2F%2Fstorage.googleapis.com%2Fkaggle-data-sets%2F3679617%2F6386941%2Fbundle%2Farchive.zip%3FX-Goog-Algorithm%3DGOOG4-RSA-SHA256%26X-Goog-Credential%3Dgcp-kaggle-com%2540kaggle-161607.iam.gserviceaccount.com%252F20240919%252Fauto%252Fstorage%252Fgoog4_request%26X-Goog-Date%3D20240919T134002Z%26X-Goog-Expires%3D259200%26X-Goog-SignedHeaders%3Dhost%26X-Goog-Signature%3D2f6d30a06db005d141432fd06f27427fe7648012de55c9a6af1d8a225b369922898c485dbfb48e1eea344cb3eac28b84c6d9c07b818809d350309360777aa3f9bfb39100f1d016860bbbb69ad00e6411db2296bf9a71ad56781ff018fe6def76262ce31269c7963c099ae87dd844e414a66eb85b54fbafb95cf8201025e42589c34d433d17966684554e742fc79b380b6c582296d1cd09d6d8ee982b280e42ae1bf7dedb9c15e00f1f338611cd8754774b8616819049980c3d223f6f5be386bd1d03d7aeb04c79ba2bb6687fcf2673c977b2909a7bee3e5a5d0000d698e9f5ca7e44da912b731973c03f3e12ffff146703871c7c51429265e0388717479b9369'\n",
        "\n",
        "KAGGLE_INPUT_PATH='/kaggle/input'\n",
        "KAGGLE_WORKING_PATH='/kaggle/working'\n",
        "KAGGLE_SYMLINK='kaggle'\n",
        "\n",
        "!umount /kaggle/input/ 2> /dev/null\n",
        "shutil.rmtree('/kaggle/input', ignore_errors=True)\n",
        "os.makedirs(KAGGLE_INPUT_PATH, 0o777, exist_ok=True)\n",
        "os.makedirs(KAGGLE_WORKING_PATH, 0o777, exist_ok=True)\n",
        "\n",
        "try:\n",
        "  os.symlink(KAGGLE_INPUT_PATH, os.path.join(\"..\", 'input'), target_is_directory=True)\n",
        "except FileExistsError:\n",
        "  pass\n",
        "try:\n",
        "  os.symlink(KAGGLE_WORKING_PATH, os.path.join(\"..\", 'working'), target_is_directory=True)\n",
        "except FileExistsError:\n",
        "  pass\n",
        "\n",
        "for data_source_mapping in DATA_SOURCE_MAPPING.split(','):\n",
        "    directory, download_url_encoded = data_source_mapping.split(':')\n",
        "    download_url = unquote(download_url_encoded)\n",
        "    filename = urlparse(download_url).path\n",
        "    destination_path = os.path.join(KAGGLE_INPUT_PATH, directory)\n",
        "    try:\n",
        "        with urlopen(download_url) as fileres, NamedTemporaryFile() as tfile:\n",
        "            total_length = fileres.headers['content-length']\n",
        "            print(f'Downloading {directory}, {total_length} bytes compressed')\n",
        "            dl = 0\n",
        "            data = fileres.read(CHUNK_SIZE)\n",
        "            while len(data) > 0:\n",
        "                dl += len(data)\n",
        "                tfile.write(data)\n",
        "                done = int(50 * dl / int(total_length))\n",
        "                sys.stdout.write(f\"\\r[{'=' * done}{' ' * (50-done)}] {dl} bytes downloaded\")\n",
        "                sys.stdout.flush()\n",
        "                data = fileres.read(CHUNK_SIZE)\n",
        "            if filename.endswith('.zip'):\n",
        "              with ZipFile(tfile) as zfile:\n",
        "                zfile.extractall(destination_path)\n",
        "            else:\n",
        "              with tarfile.open(tfile.name) as tarfile:\n",
        "                tarfile.extractall(destination_path)\n",
        "            print(f'\\nDownloaded and uncompressed: {directory}')\n",
        "    except HTTPError as e:\n",
        "        print(f'Failed to load (likely expired) {download_url} to path {destination_path}')\n",
        "        continue\n",
        "    except OSError as e:\n",
        "        print(f'Failed to load {download_url} to path {destination_path}')\n",
        "        continue\n",
        "\n",
        "print('Data source import complete.')\n"
      ],
      "metadata": {
        "id": "07sZyLNvguhS",
        "outputId": "7388e403-3787-4f88-fd42-493b52db00f2",
        "colab": {
          "base_uri": "https://localhost:8080/"
        }
      },
      "cell_type": "code",
      "outputs": [
        {
          "output_type": "stream",
          "name": "stdout",
          "text": [
            "Downloading smoking-drinking-dataset, 28818708 bytes compressed\n",
            "[==================================================] 28818708 bytes downloaded\n",
            "Downloaded and uncompressed: smoking-drinking-dataset\n",
            "Data source import complete.\n"
          ]
        }
      ],
      "execution_count": 24
    },
    {
      "cell_type": "code",
      "source": [
        "# This Python 3 environment comes with many helpful analytics libraries installed\n",
        "# It is defined by the kaggle/python Docker image: https://github.com/kaggle/docker-python\n",
        "# For example, here's several helpful packages to load\n",
        "\n",
        "import numpy as np # linear algebra\n",
        "import pandas as pd # data processing, CSV file I/O (e.g. pd.read_csv)\n",
        "\n",
        "# Input data files are available in the read-only \"../input/\" directory\n",
        "# For example, running this (by clicking run or pressing Shift+Enter) will list all files under the input directory\n",
        "\n",
        "import os\n",
        "for dirname, _, filenames in os.walk('/kaggle/input'):\n",
        "    for filename in filenames:\n",
        "        print(os.path.join(dirname, filename))\n",
        "\n",
        "# You can write up to 20GB to the current directory (/kaggle/working/) that gets preserved as output when you create a version using \"Save & Run All\"\n",
        "# You can also write temporary files to /kaggle/temp/, but they won't be saved outside of the current session"
      ],
      "metadata": {
        "_uuid": "8f2839f25d086af736a60e9eeb907d3b93b6e0e5",
        "_cell_guid": "b1076dfc-b9ad-4769-8c92-a6c4dae69d19",
        "execution": {
          "iopub.status.busy": "2024-09-19T13:33:59.413937Z",
          "iopub.execute_input": "2024-09-19T13:33:59.414372Z",
          "iopub.status.idle": "2024-09-19T13:33:59.967121Z",
          "shell.execute_reply.started": "2024-09-19T13:33:59.414327Z",
          "shell.execute_reply": "2024-09-19T13:33:59.965583Z"
        },
        "trusted": true,
        "id": "i31LJc9kguhX",
        "outputId": "1e9730ee-18e2-4104-acd1-bcaf57ec713c",
        "colab": {
          "base_uri": "https://localhost:8080/"
        }
      },
      "execution_count": 25,
      "outputs": [
        {
          "output_type": "stream",
          "name": "stdout",
          "text": [
            "/kaggle/input/smoking-drinking-dataset/smoking_driking_dataset_Ver01.csv\n"
          ]
        }
      ]
    },
    {
      "cell_type": "markdown",
      "source": [
        "Veri setinin içeri aktarılması ve veriyi tanıma adına yapılan bazı işlemler"
      ],
      "metadata": {
        "id": "D-2anh2hCKQ7"
      }
    },
    {
      "cell_type": "code",
      "source": [
        "#Veri setinden 12000 tane veri çekmek (yaklaşık 12 mb)\n",
        "df=pd.read_csv('/kaggle/input/smoking-drinking-dataset/smoking_driking_dataset_Ver01.csv', nrows=12000)"
      ],
      "metadata": {
        "id": "gdWSnY-AhWji"
      },
      "execution_count": 26,
      "outputs": []
    },
    {
      "cell_type": "code",
      "source": [
        "df.head()"
      ],
      "metadata": {
        "id": "zhC-RNwEhiZ-",
        "outputId": "396e3717-5e41-4e82-9cea-90c9d47998ee",
        "colab": {
          "base_uri": "https://localhost:8080/",
          "height": 256
        }
      },
      "execution_count": 27,
      "outputs": [
        {
          "output_type": "execute_result",
          "data": {
            "text/plain": [
              "    sex  age  height  weight  waistline  sight_left  sight_right  hear_left  \\\n",
              "0  Male   35     170      75       90.0         1.0          1.0        1.0   \n",
              "1  Male   30     180      80       89.0         0.9          1.2        1.0   \n",
              "2  Male   40     165      75       91.0         1.2          1.5        1.0   \n",
              "3  Male   50     175      80       91.0         1.5          1.2        1.0   \n",
              "4  Male   50     165      60       80.0         1.0          1.2        1.0   \n",
              "\n",
              "   hear_right    SBP  ...  LDL_chole  triglyceride  hemoglobin  urine_protein  \\\n",
              "0         1.0  120.0  ...      126.0          92.0        17.1            1.0   \n",
              "1         1.0  130.0  ...      148.0         121.0        15.8            1.0   \n",
              "2         1.0  120.0  ...       74.0         104.0        15.8            1.0   \n",
              "3         1.0  145.0  ...      104.0         106.0        17.6            1.0   \n",
              "4         1.0  138.0  ...      117.0         104.0        13.8            1.0   \n",
              "\n",
              "   serum_creatinine  SGOT_AST  SGOT_ALT  gamma_GTP  SMK_stat_type_cd  DRK_YN  \n",
              "0               1.0      21.0      35.0       40.0               1.0       Y  \n",
              "1               0.9      20.0      36.0       27.0               3.0       N  \n",
              "2               0.9      47.0      32.0       68.0               1.0       N  \n",
              "3               1.1      29.0      34.0       18.0               1.0       N  \n",
              "4               0.8      19.0      12.0       25.0               1.0       N  \n",
              "\n",
              "[5 rows x 24 columns]"
            ],
            "text/html": [
              "\n",
              "  <div id=\"df-0452e76a-8537-48d8-b790-566250bf9e0f\" class=\"colab-df-container\">\n",
              "    <div>\n",
              "<style scoped>\n",
              "    .dataframe tbody tr th:only-of-type {\n",
              "        vertical-align: middle;\n",
              "    }\n",
              "\n",
              "    .dataframe tbody tr th {\n",
              "        vertical-align: top;\n",
              "    }\n",
              "\n",
              "    .dataframe thead th {\n",
              "        text-align: right;\n",
              "    }\n",
              "</style>\n",
              "<table border=\"1\" class=\"dataframe\">\n",
              "  <thead>\n",
              "    <tr style=\"text-align: right;\">\n",
              "      <th></th>\n",
              "      <th>sex</th>\n",
              "      <th>age</th>\n",
              "      <th>height</th>\n",
              "      <th>weight</th>\n",
              "      <th>waistline</th>\n",
              "      <th>sight_left</th>\n",
              "      <th>sight_right</th>\n",
              "      <th>hear_left</th>\n",
              "      <th>hear_right</th>\n",
              "      <th>SBP</th>\n",
              "      <th>...</th>\n",
              "      <th>LDL_chole</th>\n",
              "      <th>triglyceride</th>\n",
              "      <th>hemoglobin</th>\n",
              "      <th>urine_protein</th>\n",
              "      <th>serum_creatinine</th>\n",
              "      <th>SGOT_AST</th>\n",
              "      <th>SGOT_ALT</th>\n",
              "      <th>gamma_GTP</th>\n",
              "      <th>SMK_stat_type_cd</th>\n",
              "      <th>DRK_YN</th>\n",
              "    </tr>\n",
              "  </thead>\n",
              "  <tbody>\n",
              "    <tr>\n",
              "      <th>0</th>\n",
              "      <td>Male</td>\n",
              "      <td>35</td>\n",
              "      <td>170</td>\n",
              "      <td>75</td>\n",
              "      <td>90.0</td>\n",
              "      <td>1.0</td>\n",
              "      <td>1.0</td>\n",
              "      <td>1.0</td>\n",
              "      <td>1.0</td>\n",
              "      <td>120.0</td>\n",
              "      <td>...</td>\n",
              "      <td>126.0</td>\n",
              "      <td>92.0</td>\n",
              "      <td>17.1</td>\n",
              "      <td>1.0</td>\n",
              "      <td>1.0</td>\n",
              "      <td>21.0</td>\n",
              "      <td>35.0</td>\n",
              "      <td>40.0</td>\n",
              "      <td>1.0</td>\n",
              "      <td>Y</td>\n",
              "    </tr>\n",
              "    <tr>\n",
              "      <th>1</th>\n",
              "      <td>Male</td>\n",
              "      <td>30</td>\n",
              "      <td>180</td>\n",
              "      <td>80</td>\n",
              "      <td>89.0</td>\n",
              "      <td>0.9</td>\n",
              "      <td>1.2</td>\n",
              "      <td>1.0</td>\n",
              "      <td>1.0</td>\n",
              "      <td>130.0</td>\n",
              "      <td>...</td>\n",
              "      <td>148.0</td>\n",
              "      <td>121.0</td>\n",
              "      <td>15.8</td>\n",
              "      <td>1.0</td>\n",
              "      <td>0.9</td>\n",
              "      <td>20.0</td>\n",
              "      <td>36.0</td>\n",
              "      <td>27.0</td>\n",
              "      <td>3.0</td>\n",
              "      <td>N</td>\n",
              "    </tr>\n",
              "    <tr>\n",
              "      <th>2</th>\n",
              "      <td>Male</td>\n",
              "      <td>40</td>\n",
              "      <td>165</td>\n",
              "      <td>75</td>\n",
              "      <td>91.0</td>\n",
              "      <td>1.2</td>\n",
              "      <td>1.5</td>\n",
              "      <td>1.0</td>\n",
              "      <td>1.0</td>\n",
              "      <td>120.0</td>\n",
              "      <td>...</td>\n",
              "      <td>74.0</td>\n",
              "      <td>104.0</td>\n",
              "      <td>15.8</td>\n",
              "      <td>1.0</td>\n",
              "      <td>0.9</td>\n",
              "      <td>47.0</td>\n",
              "      <td>32.0</td>\n",
              "      <td>68.0</td>\n",
              "      <td>1.0</td>\n",
              "      <td>N</td>\n",
              "    </tr>\n",
              "    <tr>\n",
              "      <th>3</th>\n",
              "      <td>Male</td>\n",
              "      <td>50</td>\n",
              "      <td>175</td>\n",
              "      <td>80</td>\n",
              "      <td>91.0</td>\n",
              "      <td>1.5</td>\n",
              "      <td>1.2</td>\n",
              "      <td>1.0</td>\n",
              "      <td>1.0</td>\n",
              "      <td>145.0</td>\n",
              "      <td>...</td>\n",
              "      <td>104.0</td>\n",
              "      <td>106.0</td>\n",
              "      <td>17.6</td>\n",
              "      <td>1.0</td>\n",
              "      <td>1.1</td>\n",
              "      <td>29.0</td>\n",
              "      <td>34.0</td>\n",
              "      <td>18.0</td>\n",
              "      <td>1.0</td>\n",
              "      <td>N</td>\n",
              "    </tr>\n",
              "    <tr>\n",
              "      <th>4</th>\n",
              "      <td>Male</td>\n",
              "      <td>50</td>\n",
              "      <td>165</td>\n",
              "      <td>60</td>\n",
              "      <td>80.0</td>\n",
              "      <td>1.0</td>\n",
              "      <td>1.2</td>\n",
              "      <td>1.0</td>\n",
              "      <td>1.0</td>\n",
              "      <td>138.0</td>\n",
              "      <td>...</td>\n",
              "      <td>117.0</td>\n",
              "      <td>104.0</td>\n",
              "      <td>13.8</td>\n",
              "      <td>1.0</td>\n",
              "      <td>0.8</td>\n",
              "      <td>19.0</td>\n",
              "      <td>12.0</td>\n",
              "      <td>25.0</td>\n",
              "      <td>1.0</td>\n",
              "      <td>N</td>\n",
              "    </tr>\n",
              "  </tbody>\n",
              "</table>\n",
              "<p>5 rows × 24 columns</p>\n",
              "</div>\n",
              "    <div class=\"colab-df-buttons\">\n",
              "\n",
              "  <div class=\"colab-df-container\">\n",
              "    <button class=\"colab-df-convert\" onclick=\"convertToInteractive('df-0452e76a-8537-48d8-b790-566250bf9e0f')\"\n",
              "            title=\"Convert this dataframe to an interactive table.\"\n",
              "            style=\"display:none;\">\n",
              "\n",
              "  <svg xmlns=\"http://www.w3.org/2000/svg\" height=\"24px\" viewBox=\"0 -960 960 960\">\n",
              "    <path d=\"M120-120v-720h720v720H120Zm60-500h600v-160H180v160Zm220 220h160v-160H400v160Zm0 220h160v-160H400v160ZM180-400h160v-160H180v160Zm440 0h160v-160H620v160ZM180-180h160v-160H180v160Zm440 0h160v-160H620v160Z\"/>\n",
              "  </svg>\n",
              "    </button>\n",
              "\n",
              "  <style>\n",
              "    .colab-df-container {\n",
              "      display:flex;\n",
              "      gap: 12px;\n",
              "    }\n",
              "\n",
              "    .colab-df-convert {\n",
              "      background-color: #E8F0FE;\n",
              "      border: none;\n",
              "      border-radius: 50%;\n",
              "      cursor: pointer;\n",
              "      display: none;\n",
              "      fill: #1967D2;\n",
              "      height: 32px;\n",
              "      padding: 0 0 0 0;\n",
              "      width: 32px;\n",
              "    }\n",
              "\n",
              "    .colab-df-convert:hover {\n",
              "      background-color: #E2EBFA;\n",
              "      box-shadow: 0px 1px 2px rgba(60, 64, 67, 0.3), 0px 1px 3px 1px rgba(60, 64, 67, 0.15);\n",
              "      fill: #174EA6;\n",
              "    }\n",
              "\n",
              "    .colab-df-buttons div {\n",
              "      margin-bottom: 4px;\n",
              "    }\n",
              "\n",
              "    [theme=dark] .colab-df-convert {\n",
              "      background-color: #3B4455;\n",
              "      fill: #D2E3FC;\n",
              "    }\n",
              "\n",
              "    [theme=dark] .colab-df-convert:hover {\n",
              "      background-color: #434B5C;\n",
              "      box-shadow: 0px 1px 3px 1px rgba(0, 0, 0, 0.15);\n",
              "      filter: drop-shadow(0px 1px 2px rgba(0, 0, 0, 0.3));\n",
              "      fill: #FFFFFF;\n",
              "    }\n",
              "  </style>\n",
              "\n",
              "    <script>\n",
              "      const buttonEl =\n",
              "        document.querySelector('#df-0452e76a-8537-48d8-b790-566250bf9e0f button.colab-df-convert');\n",
              "      buttonEl.style.display =\n",
              "        google.colab.kernel.accessAllowed ? 'block' : 'none';\n",
              "\n",
              "      async function convertToInteractive(key) {\n",
              "        const element = document.querySelector('#df-0452e76a-8537-48d8-b790-566250bf9e0f');\n",
              "        const dataTable =\n",
              "          await google.colab.kernel.invokeFunction('convertToInteractive',\n",
              "                                                    [key], {});\n",
              "        if (!dataTable) return;\n",
              "\n",
              "        const docLinkHtml = 'Like what you see? Visit the ' +\n",
              "          '<a target=\"_blank\" href=https://colab.research.google.com/notebooks/data_table.ipynb>data table notebook</a>'\n",
              "          + ' to learn more about interactive tables.';\n",
              "        element.innerHTML = '';\n",
              "        dataTable['output_type'] = 'display_data';\n",
              "        await google.colab.output.renderOutput(dataTable, element);\n",
              "        const docLink = document.createElement('div');\n",
              "        docLink.innerHTML = docLinkHtml;\n",
              "        element.appendChild(docLink);\n",
              "      }\n",
              "    </script>\n",
              "  </div>\n",
              "\n",
              "\n",
              "<div id=\"df-a9b3b2ac-2a44-4fc5-8fb7-8b79fd40e034\">\n",
              "  <button class=\"colab-df-quickchart\" onclick=\"quickchart('df-a9b3b2ac-2a44-4fc5-8fb7-8b79fd40e034')\"\n",
              "            title=\"Suggest charts\"\n",
              "            style=\"display:none;\">\n",
              "\n",
              "<svg xmlns=\"http://www.w3.org/2000/svg\" height=\"24px\"viewBox=\"0 0 24 24\"\n",
              "     width=\"24px\">\n",
              "    <g>\n",
              "        <path d=\"M19 3H5c-1.1 0-2 .9-2 2v14c0 1.1.9 2 2 2h14c1.1 0 2-.9 2-2V5c0-1.1-.9-2-2-2zM9 17H7v-7h2v7zm4 0h-2V7h2v10zm4 0h-2v-4h2v4z\"/>\n",
              "    </g>\n",
              "</svg>\n",
              "  </button>\n",
              "\n",
              "<style>\n",
              "  .colab-df-quickchart {\n",
              "      --bg-color: #E8F0FE;\n",
              "      --fill-color: #1967D2;\n",
              "      --hover-bg-color: #E2EBFA;\n",
              "      --hover-fill-color: #174EA6;\n",
              "      --disabled-fill-color: #AAA;\n",
              "      --disabled-bg-color: #DDD;\n",
              "  }\n",
              "\n",
              "  [theme=dark] .colab-df-quickchart {\n",
              "      --bg-color: #3B4455;\n",
              "      --fill-color: #D2E3FC;\n",
              "      --hover-bg-color: #434B5C;\n",
              "      --hover-fill-color: #FFFFFF;\n",
              "      --disabled-bg-color: #3B4455;\n",
              "      --disabled-fill-color: #666;\n",
              "  }\n",
              "\n",
              "  .colab-df-quickchart {\n",
              "    background-color: var(--bg-color);\n",
              "    border: none;\n",
              "    border-radius: 50%;\n",
              "    cursor: pointer;\n",
              "    display: none;\n",
              "    fill: var(--fill-color);\n",
              "    height: 32px;\n",
              "    padding: 0;\n",
              "    width: 32px;\n",
              "  }\n",
              "\n",
              "  .colab-df-quickchart:hover {\n",
              "    background-color: var(--hover-bg-color);\n",
              "    box-shadow: 0 1px 2px rgba(60, 64, 67, 0.3), 0 1px 3px 1px rgba(60, 64, 67, 0.15);\n",
              "    fill: var(--button-hover-fill-color);\n",
              "  }\n",
              "\n",
              "  .colab-df-quickchart-complete:disabled,\n",
              "  .colab-df-quickchart-complete:disabled:hover {\n",
              "    background-color: var(--disabled-bg-color);\n",
              "    fill: var(--disabled-fill-color);\n",
              "    box-shadow: none;\n",
              "  }\n",
              "\n",
              "  .colab-df-spinner {\n",
              "    border: 2px solid var(--fill-color);\n",
              "    border-color: transparent;\n",
              "    border-bottom-color: var(--fill-color);\n",
              "    animation:\n",
              "      spin 1s steps(1) infinite;\n",
              "  }\n",
              "\n",
              "  @keyframes spin {\n",
              "    0% {\n",
              "      border-color: transparent;\n",
              "      border-bottom-color: var(--fill-color);\n",
              "      border-left-color: var(--fill-color);\n",
              "    }\n",
              "    20% {\n",
              "      border-color: transparent;\n",
              "      border-left-color: var(--fill-color);\n",
              "      border-top-color: var(--fill-color);\n",
              "    }\n",
              "    30% {\n",
              "      border-color: transparent;\n",
              "      border-left-color: var(--fill-color);\n",
              "      border-top-color: var(--fill-color);\n",
              "      border-right-color: var(--fill-color);\n",
              "    }\n",
              "    40% {\n",
              "      border-color: transparent;\n",
              "      border-right-color: var(--fill-color);\n",
              "      border-top-color: var(--fill-color);\n",
              "    }\n",
              "    60% {\n",
              "      border-color: transparent;\n",
              "      border-right-color: var(--fill-color);\n",
              "    }\n",
              "    80% {\n",
              "      border-color: transparent;\n",
              "      border-right-color: var(--fill-color);\n",
              "      border-bottom-color: var(--fill-color);\n",
              "    }\n",
              "    90% {\n",
              "      border-color: transparent;\n",
              "      border-bottom-color: var(--fill-color);\n",
              "    }\n",
              "  }\n",
              "</style>\n",
              "\n",
              "  <script>\n",
              "    async function quickchart(key) {\n",
              "      const quickchartButtonEl =\n",
              "        document.querySelector('#' + key + ' button');\n",
              "      quickchartButtonEl.disabled = true;  // To prevent multiple clicks.\n",
              "      quickchartButtonEl.classList.add('colab-df-spinner');\n",
              "      try {\n",
              "        const charts = await google.colab.kernel.invokeFunction(\n",
              "            'suggestCharts', [key], {});\n",
              "      } catch (error) {\n",
              "        console.error('Error during call to suggestCharts:', error);\n",
              "      }\n",
              "      quickchartButtonEl.classList.remove('colab-df-spinner');\n",
              "      quickchartButtonEl.classList.add('colab-df-quickchart-complete');\n",
              "    }\n",
              "    (() => {\n",
              "      let quickchartButtonEl =\n",
              "        document.querySelector('#df-a9b3b2ac-2a44-4fc5-8fb7-8b79fd40e034 button');\n",
              "      quickchartButtonEl.style.display =\n",
              "        google.colab.kernel.accessAllowed ? 'block' : 'none';\n",
              "    })();\n",
              "  </script>\n",
              "</div>\n",
              "\n",
              "    </div>\n",
              "  </div>\n"
            ],
            "application/vnd.google.colaboratory.intrinsic+json": {
              "type": "dataframe",
              "variable_name": "df"
            }
          },
          "metadata": {},
          "execution_count": 27
        }
      ]
    },
    {
      "cell_type": "code",
      "source": [
        "df.shape"
      ],
      "metadata": {
        "id": "KJMzseEEhj_b",
        "outputId": "e698488b-01a7-4a91-efb2-6efe68a5449c",
        "colab": {
          "base_uri": "https://localhost:8080/"
        }
      },
      "execution_count": 5,
      "outputs": [
        {
          "output_type": "execute_result",
          "data": {
            "text/plain": [
              "(12000, 24)"
            ]
          },
          "metadata": {},
          "execution_count": 5
        }
      ]
    },
    {
      "cell_type": "code",
      "source": [
        "df.describe().transpose()"
      ],
      "metadata": {
        "colab": {
          "base_uri": "https://localhost:8080/",
          "height": 739
        },
        "id": "M7okGCahCEKV",
        "outputId": "ef0a1225-abac-465b-8589-f50f4ac378cc"
      },
      "execution_count": 7,
      "outputs": [
        {
          "output_type": "execute_result",
          "data": {
            "text/plain": [
              "                    count        mean         std    min    25%    50%    75%  \\\n",
              "age               12000.0   47.515417   14.226441   20.0   35.0   45.0   60.0   \n",
              "height            12000.0  162.290000    9.326744  135.0  155.0  160.0  170.0   \n",
              "weight            12000.0   63.229167   12.544179   30.0   55.0   60.0   70.0   \n",
              "waistline         12000.0   81.256342   12.780012   49.0   74.0   81.0   87.6   \n",
              "sight_left        12000.0    0.981650    0.608354    0.1    0.7    1.0    1.2   \n",
              "sight_right       12000.0    0.981292    0.614126    0.1    0.7    1.0    1.2   \n",
              "hear_left         12000.0    1.030000    0.170594    1.0    1.0    1.0    1.0   \n",
              "hear_right        12000.0    1.029250    0.168514    1.0    1.0    1.0    1.0   \n",
              "SBP               12000.0  122.615667   14.591363   75.0  112.0  121.0  131.0   \n",
              "DBP               12000.0   76.177000    9.975284   46.0   70.0   76.0   82.0   \n",
              "BLDS              12000.0  100.604917   25.260163   58.0   88.0   96.0  105.0   \n",
              "tot_chole         12000.0  195.182667   40.053289   73.0  169.0  193.0  218.0   \n",
              "HDL_chole         12000.0   57.424167   75.061825    4.0   46.0   55.0   65.0   \n",
              "LDL_chole         12000.0  113.041417   57.190555    1.0   89.0  111.0  134.0   \n",
              "triglyceride      12000.0  133.719083  135.042000   16.0   73.0  107.0  160.0   \n",
              "hemoglobin        12000.0   14.250133    1.564969    6.2   13.2   14.3   15.4   \n",
              "urine_protein     12000.0    1.093500    0.433905    1.0    1.0    1.0    1.0   \n",
              "serum_creatinine  12000.0    0.860767    0.301924    0.1    0.7    0.8    1.0   \n",
              "SGOT_AST          12000.0   25.978333   16.284670    4.0   19.0   23.0   28.0   \n",
              "SGOT_ALT          12000.0   25.814167   20.291922    2.0   15.0   20.0   30.0   \n",
              "gamma_GTP         12000.0   37.330417   50.075796    3.0   16.0   23.0   40.0   \n",
              "SMK_stat_type_cd  12000.0    1.621750    0.825167    1.0    1.0    1.0    2.0   \n",
              "\n",
              "                     max  \n",
              "age                 85.0  \n",
              "height             190.0  \n",
              "weight             130.0  \n",
              "waistline          999.0  \n",
              "sight_left           9.9  \n",
              "sight_right          9.9  \n",
              "hear_left            2.0  \n",
              "hear_right           2.0  \n",
              "SBP                230.0  \n",
              "DBP                160.0  \n",
              "BLDS               468.0  \n",
              "tot_chole         1619.0  \n",
              "HDL_chole         8110.0  \n",
              "LDL_chole         5119.0  \n",
              "triglyceride      9490.0  \n",
              "hemoglobin          20.3  \n",
              "urine_protein        6.0  \n",
              "serum_creatinine    16.4  \n",
              "SGOT_AST           911.0  \n",
              "SGOT_ALT           430.0  \n",
              "gamma_GTP          999.0  \n",
              "SMK_stat_type_cd     3.0  "
            ],
            "text/html": [
              "\n",
              "  <div id=\"df-a1ef5b21-22ca-49a3-9a63-21a81f28f955\" class=\"colab-df-container\">\n",
              "    <div>\n",
              "<style scoped>\n",
              "    .dataframe tbody tr th:only-of-type {\n",
              "        vertical-align: middle;\n",
              "    }\n",
              "\n",
              "    .dataframe tbody tr th {\n",
              "        vertical-align: top;\n",
              "    }\n",
              "\n",
              "    .dataframe thead th {\n",
              "        text-align: right;\n",
              "    }\n",
              "</style>\n",
              "<table border=\"1\" class=\"dataframe\">\n",
              "  <thead>\n",
              "    <tr style=\"text-align: right;\">\n",
              "      <th></th>\n",
              "      <th>count</th>\n",
              "      <th>mean</th>\n",
              "      <th>std</th>\n",
              "      <th>min</th>\n",
              "      <th>25%</th>\n",
              "      <th>50%</th>\n",
              "      <th>75%</th>\n",
              "      <th>max</th>\n",
              "    </tr>\n",
              "  </thead>\n",
              "  <tbody>\n",
              "    <tr>\n",
              "      <th>age</th>\n",
              "      <td>12000.0</td>\n",
              "      <td>47.515417</td>\n",
              "      <td>14.226441</td>\n",
              "      <td>20.0</td>\n",
              "      <td>35.0</td>\n",
              "      <td>45.0</td>\n",
              "      <td>60.0</td>\n",
              "      <td>85.0</td>\n",
              "    </tr>\n",
              "    <tr>\n",
              "      <th>height</th>\n",
              "      <td>12000.0</td>\n",
              "      <td>162.290000</td>\n",
              "      <td>9.326744</td>\n",
              "      <td>135.0</td>\n",
              "      <td>155.0</td>\n",
              "      <td>160.0</td>\n",
              "      <td>170.0</td>\n",
              "      <td>190.0</td>\n",
              "    </tr>\n",
              "    <tr>\n",
              "      <th>weight</th>\n",
              "      <td>12000.0</td>\n",
              "      <td>63.229167</td>\n",
              "      <td>12.544179</td>\n",
              "      <td>30.0</td>\n",
              "      <td>55.0</td>\n",
              "      <td>60.0</td>\n",
              "      <td>70.0</td>\n",
              "      <td>130.0</td>\n",
              "    </tr>\n",
              "    <tr>\n",
              "      <th>waistline</th>\n",
              "      <td>12000.0</td>\n",
              "      <td>81.256342</td>\n",
              "      <td>12.780012</td>\n",
              "      <td>49.0</td>\n",
              "      <td>74.0</td>\n",
              "      <td>81.0</td>\n",
              "      <td>87.6</td>\n",
              "      <td>999.0</td>\n",
              "    </tr>\n",
              "    <tr>\n",
              "      <th>sight_left</th>\n",
              "      <td>12000.0</td>\n",
              "      <td>0.981650</td>\n",
              "      <td>0.608354</td>\n",
              "      <td>0.1</td>\n",
              "      <td>0.7</td>\n",
              "      <td>1.0</td>\n",
              "      <td>1.2</td>\n",
              "      <td>9.9</td>\n",
              "    </tr>\n",
              "    <tr>\n",
              "      <th>sight_right</th>\n",
              "      <td>12000.0</td>\n",
              "      <td>0.981292</td>\n",
              "      <td>0.614126</td>\n",
              "      <td>0.1</td>\n",
              "      <td>0.7</td>\n",
              "      <td>1.0</td>\n",
              "      <td>1.2</td>\n",
              "      <td>9.9</td>\n",
              "    </tr>\n",
              "    <tr>\n",
              "      <th>hear_left</th>\n",
              "      <td>12000.0</td>\n",
              "      <td>1.030000</td>\n",
              "      <td>0.170594</td>\n",
              "      <td>1.0</td>\n",
              "      <td>1.0</td>\n",
              "      <td>1.0</td>\n",
              "      <td>1.0</td>\n",
              "      <td>2.0</td>\n",
              "    </tr>\n",
              "    <tr>\n",
              "      <th>hear_right</th>\n",
              "      <td>12000.0</td>\n",
              "      <td>1.029250</td>\n",
              "      <td>0.168514</td>\n",
              "      <td>1.0</td>\n",
              "      <td>1.0</td>\n",
              "      <td>1.0</td>\n",
              "      <td>1.0</td>\n",
              "      <td>2.0</td>\n",
              "    </tr>\n",
              "    <tr>\n",
              "      <th>SBP</th>\n",
              "      <td>12000.0</td>\n",
              "      <td>122.615667</td>\n",
              "      <td>14.591363</td>\n",
              "      <td>75.0</td>\n",
              "      <td>112.0</td>\n",
              "      <td>121.0</td>\n",
              "      <td>131.0</td>\n",
              "      <td>230.0</td>\n",
              "    </tr>\n",
              "    <tr>\n",
              "      <th>DBP</th>\n",
              "      <td>12000.0</td>\n",
              "      <td>76.177000</td>\n",
              "      <td>9.975284</td>\n",
              "      <td>46.0</td>\n",
              "      <td>70.0</td>\n",
              "      <td>76.0</td>\n",
              "      <td>82.0</td>\n",
              "      <td>160.0</td>\n",
              "    </tr>\n",
              "    <tr>\n",
              "      <th>BLDS</th>\n",
              "      <td>12000.0</td>\n",
              "      <td>100.604917</td>\n",
              "      <td>25.260163</td>\n",
              "      <td>58.0</td>\n",
              "      <td>88.0</td>\n",
              "      <td>96.0</td>\n",
              "      <td>105.0</td>\n",
              "      <td>468.0</td>\n",
              "    </tr>\n",
              "    <tr>\n",
              "      <th>tot_chole</th>\n",
              "      <td>12000.0</td>\n",
              "      <td>195.182667</td>\n",
              "      <td>40.053289</td>\n",
              "      <td>73.0</td>\n",
              "      <td>169.0</td>\n",
              "      <td>193.0</td>\n",
              "      <td>218.0</td>\n",
              "      <td>1619.0</td>\n",
              "    </tr>\n",
              "    <tr>\n",
              "      <th>HDL_chole</th>\n",
              "      <td>12000.0</td>\n",
              "      <td>57.424167</td>\n",
              "      <td>75.061825</td>\n",
              "      <td>4.0</td>\n",
              "      <td>46.0</td>\n",
              "      <td>55.0</td>\n",
              "      <td>65.0</td>\n",
              "      <td>8110.0</td>\n",
              "    </tr>\n",
              "    <tr>\n",
              "      <th>LDL_chole</th>\n",
              "      <td>12000.0</td>\n",
              "      <td>113.041417</td>\n",
              "      <td>57.190555</td>\n",
              "      <td>1.0</td>\n",
              "      <td>89.0</td>\n",
              "      <td>111.0</td>\n",
              "      <td>134.0</td>\n",
              "      <td>5119.0</td>\n",
              "    </tr>\n",
              "    <tr>\n",
              "      <th>triglyceride</th>\n",
              "      <td>12000.0</td>\n",
              "      <td>133.719083</td>\n",
              "      <td>135.042000</td>\n",
              "      <td>16.0</td>\n",
              "      <td>73.0</td>\n",
              "      <td>107.0</td>\n",
              "      <td>160.0</td>\n",
              "      <td>9490.0</td>\n",
              "    </tr>\n",
              "    <tr>\n",
              "      <th>hemoglobin</th>\n",
              "      <td>12000.0</td>\n",
              "      <td>14.250133</td>\n",
              "      <td>1.564969</td>\n",
              "      <td>6.2</td>\n",
              "      <td>13.2</td>\n",
              "      <td>14.3</td>\n",
              "      <td>15.4</td>\n",
              "      <td>20.3</td>\n",
              "    </tr>\n",
              "    <tr>\n",
              "      <th>urine_protein</th>\n",
              "      <td>12000.0</td>\n",
              "      <td>1.093500</td>\n",
              "      <td>0.433905</td>\n",
              "      <td>1.0</td>\n",
              "      <td>1.0</td>\n",
              "      <td>1.0</td>\n",
              "      <td>1.0</td>\n",
              "      <td>6.0</td>\n",
              "    </tr>\n",
              "    <tr>\n",
              "      <th>serum_creatinine</th>\n",
              "      <td>12000.0</td>\n",
              "      <td>0.860767</td>\n",
              "      <td>0.301924</td>\n",
              "      <td>0.1</td>\n",
              "      <td>0.7</td>\n",
              "      <td>0.8</td>\n",
              "      <td>1.0</td>\n",
              "      <td>16.4</td>\n",
              "    </tr>\n",
              "    <tr>\n",
              "      <th>SGOT_AST</th>\n",
              "      <td>12000.0</td>\n",
              "      <td>25.978333</td>\n",
              "      <td>16.284670</td>\n",
              "      <td>4.0</td>\n",
              "      <td>19.0</td>\n",
              "      <td>23.0</td>\n",
              "      <td>28.0</td>\n",
              "      <td>911.0</td>\n",
              "    </tr>\n",
              "    <tr>\n",
              "      <th>SGOT_ALT</th>\n",
              "      <td>12000.0</td>\n",
              "      <td>25.814167</td>\n",
              "      <td>20.291922</td>\n",
              "      <td>2.0</td>\n",
              "      <td>15.0</td>\n",
              "      <td>20.0</td>\n",
              "      <td>30.0</td>\n",
              "      <td>430.0</td>\n",
              "    </tr>\n",
              "    <tr>\n",
              "      <th>gamma_GTP</th>\n",
              "      <td>12000.0</td>\n",
              "      <td>37.330417</td>\n",
              "      <td>50.075796</td>\n",
              "      <td>3.0</td>\n",
              "      <td>16.0</td>\n",
              "      <td>23.0</td>\n",
              "      <td>40.0</td>\n",
              "      <td>999.0</td>\n",
              "    </tr>\n",
              "    <tr>\n",
              "      <th>SMK_stat_type_cd</th>\n",
              "      <td>12000.0</td>\n",
              "      <td>1.621750</td>\n",
              "      <td>0.825167</td>\n",
              "      <td>1.0</td>\n",
              "      <td>1.0</td>\n",
              "      <td>1.0</td>\n",
              "      <td>2.0</td>\n",
              "      <td>3.0</td>\n",
              "    </tr>\n",
              "  </tbody>\n",
              "</table>\n",
              "</div>\n",
              "    <div class=\"colab-df-buttons\">\n",
              "\n",
              "  <div class=\"colab-df-container\">\n",
              "    <button class=\"colab-df-convert\" onclick=\"convertToInteractive('df-a1ef5b21-22ca-49a3-9a63-21a81f28f955')\"\n",
              "            title=\"Convert this dataframe to an interactive table.\"\n",
              "            style=\"display:none;\">\n",
              "\n",
              "  <svg xmlns=\"http://www.w3.org/2000/svg\" height=\"24px\" viewBox=\"0 -960 960 960\">\n",
              "    <path d=\"M120-120v-720h720v720H120Zm60-500h600v-160H180v160Zm220 220h160v-160H400v160Zm0 220h160v-160H400v160ZM180-400h160v-160H180v160Zm440 0h160v-160H620v160ZM180-180h160v-160H180v160Zm440 0h160v-160H620v160Z\"/>\n",
              "  </svg>\n",
              "    </button>\n",
              "\n",
              "  <style>\n",
              "    .colab-df-container {\n",
              "      display:flex;\n",
              "      gap: 12px;\n",
              "    }\n",
              "\n",
              "    .colab-df-convert {\n",
              "      background-color: #E8F0FE;\n",
              "      border: none;\n",
              "      border-radius: 50%;\n",
              "      cursor: pointer;\n",
              "      display: none;\n",
              "      fill: #1967D2;\n",
              "      height: 32px;\n",
              "      padding: 0 0 0 0;\n",
              "      width: 32px;\n",
              "    }\n",
              "\n",
              "    .colab-df-convert:hover {\n",
              "      background-color: #E2EBFA;\n",
              "      box-shadow: 0px 1px 2px rgba(60, 64, 67, 0.3), 0px 1px 3px 1px rgba(60, 64, 67, 0.15);\n",
              "      fill: #174EA6;\n",
              "    }\n",
              "\n",
              "    .colab-df-buttons div {\n",
              "      margin-bottom: 4px;\n",
              "    }\n",
              "\n",
              "    [theme=dark] .colab-df-convert {\n",
              "      background-color: #3B4455;\n",
              "      fill: #D2E3FC;\n",
              "    }\n",
              "\n",
              "    [theme=dark] .colab-df-convert:hover {\n",
              "      background-color: #434B5C;\n",
              "      box-shadow: 0px 1px 3px 1px rgba(0, 0, 0, 0.15);\n",
              "      filter: drop-shadow(0px 1px 2px rgba(0, 0, 0, 0.3));\n",
              "      fill: #FFFFFF;\n",
              "    }\n",
              "  </style>\n",
              "\n",
              "    <script>\n",
              "      const buttonEl =\n",
              "        document.querySelector('#df-a1ef5b21-22ca-49a3-9a63-21a81f28f955 button.colab-df-convert');\n",
              "      buttonEl.style.display =\n",
              "        google.colab.kernel.accessAllowed ? 'block' : 'none';\n",
              "\n",
              "      async function convertToInteractive(key) {\n",
              "        const element = document.querySelector('#df-a1ef5b21-22ca-49a3-9a63-21a81f28f955');\n",
              "        const dataTable =\n",
              "          await google.colab.kernel.invokeFunction('convertToInteractive',\n",
              "                                                    [key], {});\n",
              "        if (!dataTable) return;\n",
              "\n",
              "        const docLinkHtml = 'Like what you see? Visit the ' +\n",
              "          '<a target=\"_blank\" href=https://colab.research.google.com/notebooks/data_table.ipynb>data table notebook</a>'\n",
              "          + ' to learn more about interactive tables.';\n",
              "        element.innerHTML = '';\n",
              "        dataTable['output_type'] = 'display_data';\n",
              "        await google.colab.output.renderOutput(dataTable, element);\n",
              "        const docLink = document.createElement('div');\n",
              "        docLink.innerHTML = docLinkHtml;\n",
              "        element.appendChild(docLink);\n",
              "      }\n",
              "    </script>\n",
              "  </div>\n",
              "\n",
              "\n",
              "<div id=\"df-4b127aa0-b5b1-4730-91cf-d7e506f32823\">\n",
              "  <button class=\"colab-df-quickchart\" onclick=\"quickchart('df-4b127aa0-b5b1-4730-91cf-d7e506f32823')\"\n",
              "            title=\"Suggest charts\"\n",
              "            style=\"display:none;\">\n",
              "\n",
              "<svg xmlns=\"http://www.w3.org/2000/svg\" height=\"24px\"viewBox=\"0 0 24 24\"\n",
              "     width=\"24px\">\n",
              "    <g>\n",
              "        <path d=\"M19 3H5c-1.1 0-2 .9-2 2v14c0 1.1.9 2 2 2h14c1.1 0 2-.9 2-2V5c0-1.1-.9-2-2-2zM9 17H7v-7h2v7zm4 0h-2V7h2v10zm4 0h-2v-4h2v4z\"/>\n",
              "    </g>\n",
              "</svg>\n",
              "  </button>\n",
              "\n",
              "<style>\n",
              "  .colab-df-quickchart {\n",
              "      --bg-color: #E8F0FE;\n",
              "      --fill-color: #1967D2;\n",
              "      --hover-bg-color: #E2EBFA;\n",
              "      --hover-fill-color: #174EA6;\n",
              "      --disabled-fill-color: #AAA;\n",
              "      --disabled-bg-color: #DDD;\n",
              "  }\n",
              "\n",
              "  [theme=dark] .colab-df-quickchart {\n",
              "      --bg-color: #3B4455;\n",
              "      --fill-color: #D2E3FC;\n",
              "      --hover-bg-color: #434B5C;\n",
              "      --hover-fill-color: #FFFFFF;\n",
              "      --disabled-bg-color: #3B4455;\n",
              "      --disabled-fill-color: #666;\n",
              "  }\n",
              "\n",
              "  .colab-df-quickchart {\n",
              "    background-color: var(--bg-color);\n",
              "    border: none;\n",
              "    border-radius: 50%;\n",
              "    cursor: pointer;\n",
              "    display: none;\n",
              "    fill: var(--fill-color);\n",
              "    height: 32px;\n",
              "    padding: 0;\n",
              "    width: 32px;\n",
              "  }\n",
              "\n",
              "  .colab-df-quickchart:hover {\n",
              "    background-color: var(--hover-bg-color);\n",
              "    box-shadow: 0 1px 2px rgba(60, 64, 67, 0.3), 0 1px 3px 1px rgba(60, 64, 67, 0.15);\n",
              "    fill: var(--button-hover-fill-color);\n",
              "  }\n",
              "\n",
              "  .colab-df-quickchart-complete:disabled,\n",
              "  .colab-df-quickchart-complete:disabled:hover {\n",
              "    background-color: var(--disabled-bg-color);\n",
              "    fill: var(--disabled-fill-color);\n",
              "    box-shadow: none;\n",
              "  }\n",
              "\n",
              "  .colab-df-spinner {\n",
              "    border: 2px solid var(--fill-color);\n",
              "    border-color: transparent;\n",
              "    border-bottom-color: var(--fill-color);\n",
              "    animation:\n",
              "      spin 1s steps(1) infinite;\n",
              "  }\n",
              "\n",
              "  @keyframes spin {\n",
              "    0% {\n",
              "      border-color: transparent;\n",
              "      border-bottom-color: var(--fill-color);\n",
              "      border-left-color: var(--fill-color);\n",
              "    }\n",
              "    20% {\n",
              "      border-color: transparent;\n",
              "      border-left-color: var(--fill-color);\n",
              "      border-top-color: var(--fill-color);\n",
              "    }\n",
              "    30% {\n",
              "      border-color: transparent;\n",
              "      border-left-color: var(--fill-color);\n",
              "      border-top-color: var(--fill-color);\n",
              "      border-right-color: var(--fill-color);\n",
              "    }\n",
              "    40% {\n",
              "      border-color: transparent;\n",
              "      border-right-color: var(--fill-color);\n",
              "      border-top-color: var(--fill-color);\n",
              "    }\n",
              "    60% {\n",
              "      border-color: transparent;\n",
              "      border-right-color: var(--fill-color);\n",
              "    }\n",
              "    80% {\n",
              "      border-color: transparent;\n",
              "      border-right-color: var(--fill-color);\n",
              "      border-bottom-color: var(--fill-color);\n",
              "    }\n",
              "    90% {\n",
              "      border-color: transparent;\n",
              "      border-bottom-color: var(--fill-color);\n",
              "    }\n",
              "  }\n",
              "</style>\n",
              "\n",
              "  <script>\n",
              "    async function quickchart(key) {\n",
              "      const quickchartButtonEl =\n",
              "        document.querySelector('#' + key + ' button');\n",
              "      quickchartButtonEl.disabled = true;  // To prevent multiple clicks.\n",
              "      quickchartButtonEl.classList.add('colab-df-spinner');\n",
              "      try {\n",
              "        const charts = await google.colab.kernel.invokeFunction(\n",
              "            'suggestCharts', [key], {});\n",
              "      } catch (error) {\n",
              "        console.error('Error during call to suggestCharts:', error);\n",
              "      }\n",
              "      quickchartButtonEl.classList.remove('colab-df-spinner');\n",
              "      quickchartButtonEl.classList.add('colab-df-quickchart-complete');\n",
              "    }\n",
              "    (() => {\n",
              "      let quickchartButtonEl =\n",
              "        document.querySelector('#df-4b127aa0-b5b1-4730-91cf-d7e506f32823 button');\n",
              "      quickchartButtonEl.style.display =\n",
              "        google.colab.kernel.accessAllowed ? 'block' : 'none';\n",
              "    })();\n",
              "  </script>\n",
              "</div>\n",
              "\n",
              "    </div>\n",
              "  </div>\n"
            ],
            "application/vnd.google.colaboratory.intrinsic+json": {
              "type": "dataframe",
              "summary": "{\n  \"name\": \"df\",\n  \"rows\": 22,\n  \"fields\": [\n    {\n      \"column\": \"count\",\n      \"properties\": {\n        \"dtype\": \"number\",\n        \"std\": 0.0,\n        \"min\": 12000.0,\n        \"max\": 12000.0,\n        \"num_unique_values\": 1,\n        \"samples\": [\n          12000.0\n        ],\n        \"semantic_type\": \"\",\n        \"description\": \"\"\n      }\n    },\n    {\n      \"column\": \"mean\",\n      \"properties\": {\n        \"dtype\": \"number\",\n        \"std\": 58.768696947850806,\n        \"min\": 0.8607666666666667,\n        \"max\": 195.18266666666668,\n        \"num_unique_values\": 22,\n        \"samples\": [\n          47.51541666666667\n        ],\n        \"semantic_type\": \"\",\n        \"description\": \"\"\n      }\n    },\n    {\n      \"column\": \"std\",\n      \"properties\": {\n        \"dtype\": \"number\",\n        \"std\": 32.55000640100927,\n        \"min\": 0.1685135125155399,\n        \"max\": 135.04200037142178,\n        \"num_unique_values\": 22,\n        \"samples\": [\n          14.226441167608066\n        ],\n        \"semantic_type\": \"\",\n        \"description\": \"\"\n      }\n    },\n    {\n      \"column\": \"min\",\n      \"properties\": {\n        \"dtype\": \"number\",\n        \"std\": 35.25712878085976,\n        \"min\": 0.1,\n        \"max\": 135.0,\n        \"num_unique_values\": 15,\n        \"samples\": [\n          73.0\n        ],\n        \"semantic_type\": \"\",\n        \"description\": \"\"\n      }\n    },\n    {\n      \"column\": \"25%\",\n      \"properties\": {\n        \"dtype\": \"number\",\n        \"std\": 51.25446934371312,\n        \"min\": 0.7,\n        \"max\": 169.0,\n        \"num_unique_values\": 17,\n        \"samples\": [\n          35.0\n        ],\n        \"semantic_type\": \"\",\n        \"description\": \"\"\n      }\n    },\n    {\n      \"column\": \"50%\",\n      \"properties\": {\n        \"dtype\": \"number\",\n        \"std\": 57.12832918676158,\n        \"min\": 0.8,\n        \"max\": 193.0,\n        \"num_unique_values\": 16,\n        \"samples\": [\n          45.0\n        ],\n        \"semantic_type\": \"\",\n        \"description\": \"\"\n      }\n    },\n    {\n      \"column\": \"75%\",\n      \"properties\": {\n        \"dtype\": \"number\",\n        \"std\": 65.16243838764306,\n        \"min\": 1.0,\n        \"max\": 218.0,\n        \"num_unique_values\": 18,\n        \"samples\": [\n          60.0\n        ],\n        \"semantic_type\": \"\",\n        \"description\": \"\"\n      }\n    },\n    {\n      \"column\": \"max\",\n      \"properties\": {\n        \"dtype\": \"number\",\n        \"std\": 2670.604548875004,\n        \"min\": 2.0,\n        \"max\": 9490.0,\n        \"num_unique_values\": 19,\n        \"samples\": [\n          85.0\n        ],\n        \"semantic_type\": \"\",\n        \"description\": \"\"\n      }\n    }\n  ]\n}"
            }
          },
          "metadata": {},
          "execution_count": 7
        }
      ]
    },
    {
      "cell_type": "code",
      "source": [
        "# Boş Değerleri Görüntüleme\n",
        "df.isna().sum()"
      ],
      "metadata": {
        "id": "yxnA9TDPiijM",
        "outputId": "ebd6c626-0243-46cc-b96c-7767f50e7891",
        "colab": {
          "base_uri": "https://localhost:8080/",
          "height": 837
        }
      },
      "execution_count": 8,
      "outputs": [
        {
          "output_type": "execute_result",
          "data": {
            "text/plain": [
              "sex                 0\n",
              "age                 0\n",
              "height              0\n",
              "weight              0\n",
              "waistline           0\n",
              "sight_left          0\n",
              "sight_right         0\n",
              "hear_left           0\n",
              "hear_right          0\n",
              "SBP                 0\n",
              "DBP                 0\n",
              "BLDS                0\n",
              "tot_chole           0\n",
              "HDL_chole           0\n",
              "LDL_chole           0\n",
              "triglyceride        0\n",
              "hemoglobin          0\n",
              "urine_protein       0\n",
              "serum_creatinine    0\n",
              "SGOT_AST            0\n",
              "SGOT_ALT            0\n",
              "gamma_GTP           0\n",
              "SMK_stat_type_cd    0\n",
              "DRK_YN              0\n",
              "dtype: int64"
            ],
            "text/html": [
              "<div>\n",
              "<style scoped>\n",
              "    .dataframe tbody tr th:only-of-type {\n",
              "        vertical-align: middle;\n",
              "    }\n",
              "\n",
              "    .dataframe tbody tr th {\n",
              "        vertical-align: top;\n",
              "    }\n",
              "\n",
              "    .dataframe thead th {\n",
              "        text-align: right;\n",
              "    }\n",
              "</style>\n",
              "<table border=\"1\" class=\"dataframe\">\n",
              "  <thead>\n",
              "    <tr style=\"text-align: right;\">\n",
              "      <th></th>\n",
              "      <th>0</th>\n",
              "    </tr>\n",
              "  </thead>\n",
              "  <tbody>\n",
              "    <tr>\n",
              "      <th>sex</th>\n",
              "      <td>0</td>\n",
              "    </tr>\n",
              "    <tr>\n",
              "      <th>age</th>\n",
              "      <td>0</td>\n",
              "    </tr>\n",
              "    <tr>\n",
              "      <th>height</th>\n",
              "      <td>0</td>\n",
              "    </tr>\n",
              "    <tr>\n",
              "      <th>weight</th>\n",
              "      <td>0</td>\n",
              "    </tr>\n",
              "    <tr>\n",
              "      <th>waistline</th>\n",
              "      <td>0</td>\n",
              "    </tr>\n",
              "    <tr>\n",
              "      <th>sight_left</th>\n",
              "      <td>0</td>\n",
              "    </tr>\n",
              "    <tr>\n",
              "      <th>sight_right</th>\n",
              "      <td>0</td>\n",
              "    </tr>\n",
              "    <tr>\n",
              "      <th>hear_left</th>\n",
              "      <td>0</td>\n",
              "    </tr>\n",
              "    <tr>\n",
              "      <th>hear_right</th>\n",
              "      <td>0</td>\n",
              "    </tr>\n",
              "    <tr>\n",
              "      <th>SBP</th>\n",
              "      <td>0</td>\n",
              "    </tr>\n",
              "    <tr>\n",
              "      <th>DBP</th>\n",
              "      <td>0</td>\n",
              "    </tr>\n",
              "    <tr>\n",
              "      <th>BLDS</th>\n",
              "      <td>0</td>\n",
              "    </tr>\n",
              "    <tr>\n",
              "      <th>tot_chole</th>\n",
              "      <td>0</td>\n",
              "    </tr>\n",
              "    <tr>\n",
              "      <th>HDL_chole</th>\n",
              "      <td>0</td>\n",
              "    </tr>\n",
              "    <tr>\n",
              "      <th>LDL_chole</th>\n",
              "      <td>0</td>\n",
              "    </tr>\n",
              "    <tr>\n",
              "      <th>triglyceride</th>\n",
              "      <td>0</td>\n",
              "    </tr>\n",
              "    <tr>\n",
              "      <th>hemoglobin</th>\n",
              "      <td>0</td>\n",
              "    </tr>\n",
              "    <tr>\n",
              "      <th>urine_protein</th>\n",
              "      <td>0</td>\n",
              "    </tr>\n",
              "    <tr>\n",
              "      <th>serum_creatinine</th>\n",
              "      <td>0</td>\n",
              "    </tr>\n",
              "    <tr>\n",
              "      <th>SGOT_AST</th>\n",
              "      <td>0</td>\n",
              "    </tr>\n",
              "    <tr>\n",
              "      <th>SGOT_ALT</th>\n",
              "      <td>0</td>\n",
              "    </tr>\n",
              "    <tr>\n",
              "      <th>gamma_GTP</th>\n",
              "      <td>0</td>\n",
              "    </tr>\n",
              "    <tr>\n",
              "      <th>SMK_stat_type_cd</th>\n",
              "      <td>0</td>\n",
              "    </tr>\n",
              "    <tr>\n",
              "      <th>DRK_YN</th>\n",
              "      <td>0</td>\n",
              "    </tr>\n",
              "  </tbody>\n",
              "</table>\n",
              "</div><br><label><b>dtype:</b> int64</label>"
            ]
          },
          "metadata": {},
          "execution_count": 8
        }
      ]
    },
    {
      "cell_type": "code",
      "source": [
        "#Tekil değerleri görüntüleme\n",
        "df.nunique()"
      ],
      "metadata": {
        "id": "_nE-64paio8l",
        "outputId": "0473d992-f9b1-447d-8f68-78b2f0da7a04",
        "colab": {
          "base_uri": "https://localhost:8080/",
          "height": 837
        }
      },
      "execution_count": 9,
      "outputs": [
        {
          "output_type": "execute_result",
          "data": {
            "text/plain": [
              "sex                   2\n",
              "age                  14\n",
              "height               12\n",
              "weight               20\n",
              "waistline           449\n",
              "sight_left           16\n",
              "sight_right          18\n",
              "hear_left             2\n",
              "hear_right            2\n",
              "SBP                 112\n",
              "DBP                  77\n",
              "BLDS                230\n",
              "tot_chole           258\n",
              "HDL_chole           111\n",
              "LDL_chole           238\n",
              "triglyceride        556\n",
              "hemoglobin          121\n",
              "urine_protein         6\n",
              "serum_creatinine     37\n",
              "SGOT_AST            138\n",
              "SGOT_ALT            174\n",
              "gamma_GTP           317\n",
              "SMK_stat_type_cd      3\n",
              "DRK_YN                2\n",
              "dtype: int64"
            ],
            "text/html": [
              "<div>\n",
              "<style scoped>\n",
              "    .dataframe tbody tr th:only-of-type {\n",
              "        vertical-align: middle;\n",
              "    }\n",
              "\n",
              "    .dataframe tbody tr th {\n",
              "        vertical-align: top;\n",
              "    }\n",
              "\n",
              "    .dataframe thead th {\n",
              "        text-align: right;\n",
              "    }\n",
              "</style>\n",
              "<table border=\"1\" class=\"dataframe\">\n",
              "  <thead>\n",
              "    <tr style=\"text-align: right;\">\n",
              "      <th></th>\n",
              "      <th>0</th>\n",
              "    </tr>\n",
              "  </thead>\n",
              "  <tbody>\n",
              "    <tr>\n",
              "      <th>sex</th>\n",
              "      <td>2</td>\n",
              "    </tr>\n",
              "    <tr>\n",
              "      <th>age</th>\n",
              "      <td>14</td>\n",
              "    </tr>\n",
              "    <tr>\n",
              "      <th>height</th>\n",
              "      <td>12</td>\n",
              "    </tr>\n",
              "    <tr>\n",
              "      <th>weight</th>\n",
              "      <td>20</td>\n",
              "    </tr>\n",
              "    <tr>\n",
              "      <th>waistline</th>\n",
              "      <td>449</td>\n",
              "    </tr>\n",
              "    <tr>\n",
              "      <th>sight_left</th>\n",
              "      <td>16</td>\n",
              "    </tr>\n",
              "    <tr>\n",
              "      <th>sight_right</th>\n",
              "      <td>18</td>\n",
              "    </tr>\n",
              "    <tr>\n",
              "      <th>hear_left</th>\n",
              "      <td>2</td>\n",
              "    </tr>\n",
              "    <tr>\n",
              "      <th>hear_right</th>\n",
              "      <td>2</td>\n",
              "    </tr>\n",
              "    <tr>\n",
              "      <th>SBP</th>\n",
              "      <td>112</td>\n",
              "    </tr>\n",
              "    <tr>\n",
              "      <th>DBP</th>\n",
              "      <td>77</td>\n",
              "    </tr>\n",
              "    <tr>\n",
              "      <th>BLDS</th>\n",
              "      <td>230</td>\n",
              "    </tr>\n",
              "    <tr>\n",
              "      <th>tot_chole</th>\n",
              "      <td>258</td>\n",
              "    </tr>\n",
              "    <tr>\n",
              "      <th>HDL_chole</th>\n",
              "      <td>111</td>\n",
              "    </tr>\n",
              "    <tr>\n",
              "      <th>LDL_chole</th>\n",
              "      <td>238</td>\n",
              "    </tr>\n",
              "    <tr>\n",
              "      <th>triglyceride</th>\n",
              "      <td>556</td>\n",
              "    </tr>\n",
              "    <tr>\n",
              "      <th>hemoglobin</th>\n",
              "      <td>121</td>\n",
              "    </tr>\n",
              "    <tr>\n",
              "      <th>urine_protein</th>\n",
              "      <td>6</td>\n",
              "    </tr>\n",
              "    <tr>\n",
              "      <th>serum_creatinine</th>\n",
              "      <td>37</td>\n",
              "    </tr>\n",
              "    <tr>\n",
              "      <th>SGOT_AST</th>\n",
              "      <td>138</td>\n",
              "    </tr>\n",
              "    <tr>\n",
              "      <th>SGOT_ALT</th>\n",
              "      <td>174</td>\n",
              "    </tr>\n",
              "    <tr>\n",
              "      <th>gamma_GTP</th>\n",
              "      <td>317</td>\n",
              "    </tr>\n",
              "    <tr>\n",
              "      <th>SMK_stat_type_cd</th>\n",
              "      <td>3</td>\n",
              "    </tr>\n",
              "    <tr>\n",
              "      <th>DRK_YN</th>\n",
              "      <td>2</td>\n",
              "    </tr>\n",
              "  </tbody>\n",
              "</table>\n",
              "</div><br><label><b>dtype:</b> int64</label>"
            ]
          },
          "metadata": {},
          "execution_count": 9
        }
      ]
    },
    {
      "cell_type": "code",
      "source": [
        "#Veri genel bakış\n",
        "df.describe().transpose()"
      ],
      "metadata": {
        "id": "kr6T8rYNi3Lp",
        "outputId": "fb5a814d-470a-43d6-d258-5bbb03052775",
        "colab": {
          "base_uri": "https://localhost:8080/",
          "height": 739
        }
      },
      "execution_count": 10,
      "outputs": [
        {
          "output_type": "execute_result",
          "data": {
            "text/plain": [
              "                    count        mean         std    min    25%    50%    75%  \\\n",
              "age               12000.0   47.515417   14.226441   20.0   35.0   45.0   60.0   \n",
              "height            12000.0  162.290000    9.326744  135.0  155.0  160.0  170.0   \n",
              "weight            12000.0   63.229167   12.544179   30.0   55.0   60.0   70.0   \n",
              "waistline         12000.0   81.256342   12.780012   49.0   74.0   81.0   87.6   \n",
              "sight_left        12000.0    0.981650    0.608354    0.1    0.7    1.0    1.2   \n",
              "sight_right       12000.0    0.981292    0.614126    0.1    0.7    1.0    1.2   \n",
              "hear_left         12000.0    1.030000    0.170594    1.0    1.0    1.0    1.0   \n",
              "hear_right        12000.0    1.029250    0.168514    1.0    1.0    1.0    1.0   \n",
              "SBP               12000.0  122.615667   14.591363   75.0  112.0  121.0  131.0   \n",
              "DBP               12000.0   76.177000    9.975284   46.0   70.0   76.0   82.0   \n",
              "BLDS              12000.0  100.604917   25.260163   58.0   88.0   96.0  105.0   \n",
              "tot_chole         12000.0  195.182667   40.053289   73.0  169.0  193.0  218.0   \n",
              "HDL_chole         12000.0   57.424167   75.061825    4.0   46.0   55.0   65.0   \n",
              "LDL_chole         12000.0  113.041417   57.190555    1.0   89.0  111.0  134.0   \n",
              "triglyceride      12000.0  133.719083  135.042000   16.0   73.0  107.0  160.0   \n",
              "hemoglobin        12000.0   14.250133    1.564969    6.2   13.2   14.3   15.4   \n",
              "urine_protein     12000.0    1.093500    0.433905    1.0    1.0    1.0    1.0   \n",
              "serum_creatinine  12000.0    0.860767    0.301924    0.1    0.7    0.8    1.0   \n",
              "SGOT_AST          12000.0   25.978333   16.284670    4.0   19.0   23.0   28.0   \n",
              "SGOT_ALT          12000.0   25.814167   20.291922    2.0   15.0   20.0   30.0   \n",
              "gamma_GTP         12000.0   37.330417   50.075796    3.0   16.0   23.0   40.0   \n",
              "SMK_stat_type_cd  12000.0    1.621750    0.825167    1.0    1.0    1.0    2.0   \n",
              "\n",
              "                     max  \n",
              "age                 85.0  \n",
              "height             190.0  \n",
              "weight             130.0  \n",
              "waistline          999.0  \n",
              "sight_left           9.9  \n",
              "sight_right          9.9  \n",
              "hear_left            2.0  \n",
              "hear_right           2.0  \n",
              "SBP                230.0  \n",
              "DBP                160.0  \n",
              "BLDS               468.0  \n",
              "tot_chole         1619.0  \n",
              "HDL_chole         8110.0  \n",
              "LDL_chole         5119.0  \n",
              "triglyceride      9490.0  \n",
              "hemoglobin          20.3  \n",
              "urine_protein        6.0  \n",
              "serum_creatinine    16.4  \n",
              "SGOT_AST           911.0  \n",
              "SGOT_ALT           430.0  \n",
              "gamma_GTP          999.0  \n",
              "SMK_stat_type_cd     3.0  "
            ],
            "text/html": [
              "\n",
              "  <div id=\"df-c30a0d3d-902c-408f-8080-e610f107572a\" class=\"colab-df-container\">\n",
              "    <div>\n",
              "<style scoped>\n",
              "    .dataframe tbody tr th:only-of-type {\n",
              "        vertical-align: middle;\n",
              "    }\n",
              "\n",
              "    .dataframe tbody tr th {\n",
              "        vertical-align: top;\n",
              "    }\n",
              "\n",
              "    .dataframe thead th {\n",
              "        text-align: right;\n",
              "    }\n",
              "</style>\n",
              "<table border=\"1\" class=\"dataframe\">\n",
              "  <thead>\n",
              "    <tr style=\"text-align: right;\">\n",
              "      <th></th>\n",
              "      <th>count</th>\n",
              "      <th>mean</th>\n",
              "      <th>std</th>\n",
              "      <th>min</th>\n",
              "      <th>25%</th>\n",
              "      <th>50%</th>\n",
              "      <th>75%</th>\n",
              "      <th>max</th>\n",
              "    </tr>\n",
              "  </thead>\n",
              "  <tbody>\n",
              "    <tr>\n",
              "      <th>age</th>\n",
              "      <td>12000.0</td>\n",
              "      <td>47.515417</td>\n",
              "      <td>14.226441</td>\n",
              "      <td>20.0</td>\n",
              "      <td>35.0</td>\n",
              "      <td>45.0</td>\n",
              "      <td>60.0</td>\n",
              "      <td>85.0</td>\n",
              "    </tr>\n",
              "    <tr>\n",
              "      <th>height</th>\n",
              "      <td>12000.0</td>\n",
              "      <td>162.290000</td>\n",
              "      <td>9.326744</td>\n",
              "      <td>135.0</td>\n",
              "      <td>155.0</td>\n",
              "      <td>160.0</td>\n",
              "      <td>170.0</td>\n",
              "      <td>190.0</td>\n",
              "    </tr>\n",
              "    <tr>\n",
              "      <th>weight</th>\n",
              "      <td>12000.0</td>\n",
              "      <td>63.229167</td>\n",
              "      <td>12.544179</td>\n",
              "      <td>30.0</td>\n",
              "      <td>55.0</td>\n",
              "      <td>60.0</td>\n",
              "      <td>70.0</td>\n",
              "      <td>130.0</td>\n",
              "    </tr>\n",
              "    <tr>\n",
              "      <th>waistline</th>\n",
              "      <td>12000.0</td>\n",
              "      <td>81.256342</td>\n",
              "      <td>12.780012</td>\n",
              "      <td>49.0</td>\n",
              "      <td>74.0</td>\n",
              "      <td>81.0</td>\n",
              "      <td>87.6</td>\n",
              "      <td>999.0</td>\n",
              "    </tr>\n",
              "    <tr>\n",
              "      <th>sight_left</th>\n",
              "      <td>12000.0</td>\n",
              "      <td>0.981650</td>\n",
              "      <td>0.608354</td>\n",
              "      <td>0.1</td>\n",
              "      <td>0.7</td>\n",
              "      <td>1.0</td>\n",
              "      <td>1.2</td>\n",
              "      <td>9.9</td>\n",
              "    </tr>\n",
              "    <tr>\n",
              "      <th>sight_right</th>\n",
              "      <td>12000.0</td>\n",
              "      <td>0.981292</td>\n",
              "      <td>0.614126</td>\n",
              "      <td>0.1</td>\n",
              "      <td>0.7</td>\n",
              "      <td>1.0</td>\n",
              "      <td>1.2</td>\n",
              "      <td>9.9</td>\n",
              "    </tr>\n",
              "    <tr>\n",
              "      <th>hear_left</th>\n",
              "      <td>12000.0</td>\n",
              "      <td>1.030000</td>\n",
              "      <td>0.170594</td>\n",
              "      <td>1.0</td>\n",
              "      <td>1.0</td>\n",
              "      <td>1.0</td>\n",
              "      <td>1.0</td>\n",
              "      <td>2.0</td>\n",
              "    </tr>\n",
              "    <tr>\n",
              "      <th>hear_right</th>\n",
              "      <td>12000.0</td>\n",
              "      <td>1.029250</td>\n",
              "      <td>0.168514</td>\n",
              "      <td>1.0</td>\n",
              "      <td>1.0</td>\n",
              "      <td>1.0</td>\n",
              "      <td>1.0</td>\n",
              "      <td>2.0</td>\n",
              "    </tr>\n",
              "    <tr>\n",
              "      <th>SBP</th>\n",
              "      <td>12000.0</td>\n",
              "      <td>122.615667</td>\n",
              "      <td>14.591363</td>\n",
              "      <td>75.0</td>\n",
              "      <td>112.0</td>\n",
              "      <td>121.0</td>\n",
              "      <td>131.0</td>\n",
              "      <td>230.0</td>\n",
              "    </tr>\n",
              "    <tr>\n",
              "      <th>DBP</th>\n",
              "      <td>12000.0</td>\n",
              "      <td>76.177000</td>\n",
              "      <td>9.975284</td>\n",
              "      <td>46.0</td>\n",
              "      <td>70.0</td>\n",
              "      <td>76.0</td>\n",
              "      <td>82.0</td>\n",
              "      <td>160.0</td>\n",
              "    </tr>\n",
              "    <tr>\n",
              "      <th>BLDS</th>\n",
              "      <td>12000.0</td>\n",
              "      <td>100.604917</td>\n",
              "      <td>25.260163</td>\n",
              "      <td>58.0</td>\n",
              "      <td>88.0</td>\n",
              "      <td>96.0</td>\n",
              "      <td>105.0</td>\n",
              "      <td>468.0</td>\n",
              "    </tr>\n",
              "    <tr>\n",
              "      <th>tot_chole</th>\n",
              "      <td>12000.0</td>\n",
              "      <td>195.182667</td>\n",
              "      <td>40.053289</td>\n",
              "      <td>73.0</td>\n",
              "      <td>169.0</td>\n",
              "      <td>193.0</td>\n",
              "      <td>218.0</td>\n",
              "      <td>1619.0</td>\n",
              "    </tr>\n",
              "    <tr>\n",
              "      <th>HDL_chole</th>\n",
              "      <td>12000.0</td>\n",
              "      <td>57.424167</td>\n",
              "      <td>75.061825</td>\n",
              "      <td>4.0</td>\n",
              "      <td>46.0</td>\n",
              "      <td>55.0</td>\n",
              "      <td>65.0</td>\n",
              "      <td>8110.0</td>\n",
              "    </tr>\n",
              "    <tr>\n",
              "      <th>LDL_chole</th>\n",
              "      <td>12000.0</td>\n",
              "      <td>113.041417</td>\n",
              "      <td>57.190555</td>\n",
              "      <td>1.0</td>\n",
              "      <td>89.0</td>\n",
              "      <td>111.0</td>\n",
              "      <td>134.0</td>\n",
              "      <td>5119.0</td>\n",
              "    </tr>\n",
              "    <tr>\n",
              "      <th>triglyceride</th>\n",
              "      <td>12000.0</td>\n",
              "      <td>133.719083</td>\n",
              "      <td>135.042000</td>\n",
              "      <td>16.0</td>\n",
              "      <td>73.0</td>\n",
              "      <td>107.0</td>\n",
              "      <td>160.0</td>\n",
              "      <td>9490.0</td>\n",
              "    </tr>\n",
              "    <tr>\n",
              "      <th>hemoglobin</th>\n",
              "      <td>12000.0</td>\n",
              "      <td>14.250133</td>\n",
              "      <td>1.564969</td>\n",
              "      <td>6.2</td>\n",
              "      <td>13.2</td>\n",
              "      <td>14.3</td>\n",
              "      <td>15.4</td>\n",
              "      <td>20.3</td>\n",
              "    </tr>\n",
              "    <tr>\n",
              "      <th>urine_protein</th>\n",
              "      <td>12000.0</td>\n",
              "      <td>1.093500</td>\n",
              "      <td>0.433905</td>\n",
              "      <td>1.0</td>\n",
              "      <td>1.0</td>\n",
              "      <td>1.0</td>\n",
              "      <td>1.0</td>\n",
              "      <td>6.0</td>\n",
              "    </tr>\n",
              "    <tr>\n",
              "      <th>serum_creatinine</th>\n",
              "      <td>12000.0</td>\n",
              "      <td>0.860767</td>\n",
              "      <td>0.301924</td>\n",
              "      <td>0.1</td>\n",
              "      <td>0.7</td>\n",
              "      <td>0.8</td>\n",
              "      <td>1.0</td>\n",
              "      <td>16.4</td>\n",
              "    </tr>\n",
              "    <tr>\n",
              "      <th>SGOT_AST</th>\n",
              "      <td>12000.0</td>\n",
              "      <td>25.978333</td>\n",
              "      <td>16.284670</td>\n",
              "      <td>4.0</td>\n",
              "      <td>19.0</td>\n",
              "      <td>23.0</td>\n",
              "      <td>28.0</td>\n",
              "      <td>911.0</td>\n",
              "    </tr>\n",
              "    <tr>\n",
              "      <th>SGOT_ALT</th>\n",
              "      <td>12000.0</td>\n",
              "      <td>25.814167</td>\n",
              "      <td>20.291922</td>\n",
              "      <td>2.0</td>\n",
              "      <td>15.0</td>\n",
              "      <td>20.0</td>\n",
              "      <td>30.0</td>\n",
              "      <td>430.0</td>\n",
              "    </tr>\n",
              "    <tr>\n",
              "      <th>gamma_GTP</th>\n",
              "      <td>12000.0</td>\n",
              "      <td>37.330417</td>\n",
              "      <td>50.075796</td>\n",
              "      <td>3.0</td>\n",
              "      <td>16.0</td>\n",
              "      <td>23.0</td>\n",
              "      <td>40.0</td>\n",
              "      <td>999.0</td>\n",
              "    </tr>\n",
              "    <tr>\n",
              "      <th>SMK_stat_type_cd</th>\n",
              "      <td>12000.0</td>\n",
              "      <td>1.621750</td>\n",
              "      <td>0.825167</td>\n",
              "      <td>1.0</td>\n",
              "      <td>1.0</td>\n",
              "      <td>1.0</td>\n",
              "      <td>2.0</td>\n",
              "      <td>3.0</td>\n",
              "    </tr>\n",
              "  </tbody>\n",
              "</table>\n",
              "</div>\n",
              "    <div class=\"colab-df-buttons\">\n",
              "\n",
              "  <div class=\"colab-df-container\">\n",
              "    <button class=\"colab-df-convert\" onclick=\"convertToInteractive('df-c30a0d3d-902c-408f-8080-e610f107572a')\"\n",
              "            title=\"Convert this dataframe to an interactive table.\"\n",
              "            style=\"display:none;\">\n",
              "\n",
              "  <svg xmlns=\"http://www.w3.org/2000/svg\" height=\"24px\" viewBox=\"0 -960 960 960\">\n",
              "    <path d=\"M120-120v-720h720v720H120Zm60-500h600v-160H180v160Zm220 220h160v-160H400v160Zm0 220h160v-160H400v160ZM180-400h160v-160H180v160Zm440 0h160v-160H620v160ZM180-180h160v-160H180v160Zm440 0h160v-160H620v160Z\"/>\n",
              "  </svg>\n",
              "    </button>\n",
              "\n",
              "  <style>\n",
              "    .colab-df-container {\n",
              "      display:flex;\n",
              "      gap: 12px;\n",
              "    }\n",
              "\n",
              "    .colab-df-convert {\n",
              "      background-color: #E8F0FE;\n",
              "      border: none;\n",
              "      border-radius: 50%;\n",
              "      cursor: pointer;\n",
              "      display: none;\n",
              "      fill: #1967D2;\n",
              "      height: 32px;\n",
              "      padding: 0 0 0 0;\n",
              "      width: 32px;\n",
              "    }\n",
              "\n",
              "    .colab-df-convert:hover {\n",
              "      background-color: #E2EBFA;\n",
              "      box-shadow: 0px 1px 2px rgba(60, 64, 67, 0.3), 0px 1px 3px 1px rgba(60, 64, 67, 0.15);\n",
              "      fill: #174EA6;\n",
              "    }\n",
              "\n",
              "    .colab-df-buttons div {\n",
              "      margin-bottom: 4px;\n",
              "    }\n",
              "\n",
              "    [theme=dark] .colab-df-convert {\n",
              "      background-color: #3B4455;\n",
              "      fill: #D2E3FC;\n",
              "    }\n",
              "\n",
              "    [theme=dark] .colab-df-convert:hover {\n",
              "      background-color: #434B5C;\n",
              "      box-shadow: 0px 1px 3px 1px rgba(0, 0, 0, 0.15);\n",
              "      filter: drop-shadow(0px 1px 2px rgba(0, 0, 0, 0.3));\n",
              "      fill: #FFFFFF;\n",
              "    }\n",
              "  </style>\n",
              "\n",
              "    <script>\n",
              "      const buttonEl =\n",
              "        document.querySelector('#df-c30a0d3d-902c-408f-8080-e610f107572a button.colab-df-convert');\n",
              "      buttonEl.style.display =\n",
              "        google.colab.kernel.accessAllowed ? 'block' : 'none';\n",
              "\n",
              "      async function convertToInteractive(key) {\n",
              "        const element = document.querySelector('#df-c30a0d3d-902c-408f-8080-e610f107572a');\n",
              "        const dataTable =\n",
              "          await google.colab.kernel.invokeFunction('convertToInteractive',\n",
              "                                                    [key], {});\n",
              "        if (!dataTable) return;\n",
              "\n",
              "        const docLinkHtml = 'Like what you see? Visit the ' +\n",
              "          '<a target=\"_blank\" href=https://colab.research.google.com/notebooks/data_table.ipynb>data table notebook</a>'\n",
              "          + ' to learn more about interactive tables.';\n",
              "        element.innerHTML = '';\n",
              "        dataTable['output_type'] = 'display_data';\n",
              "        await google.colab.output.renderOutput(dataTable, element);\n",
              "        const docLink = document.createElement('div');\n",
              "        docLink.innerHTML = docLinkHtml;\n",
              "        element.appendChild(docLink);\n",
              "      }\n",
              "    </script>\n",
              "  </div>\n",
              "\n",
              "\n",
              "<div id=\"df-16ac30c3-bd2e-4aa4-b7a2-3e50cc4bad1f\">\n",
              "  <button class=\"colab-df-quickchart\" onclick=\"quickchart('df-16ac30c3-bd2e-4aa4-b7a2-3e50cc4bad1f')\"\n",
              "            title=\"Suggest charts\"\n",
              "            style=\"display:none;\">\n",
              "\n",
              "<svg xmlns=\"http://www.w3.org/2000/svg\" height=\"24px\"viewBox=\"0 0 24 24\"\n",
              "     width=\"24px\">\n",
              "    <g>\n",
              "        <path d=\"M19 3H5c-1.1 0-2 .9-2 2v14c0 1.1.9 2 2 2h14c1.1 0 2-.9 2-2V5c0-1.1-.9-2-2-2zM9 17H7v-7h2v7zm4 0h-2V7h2v10zm4 0h-2v-4h2v4z\"/>\n",
              "    </g>\n",
              "</svg>\n",
              "  </button>\n",
              "\n",
              "<style>\n",
              "  .colab-df-quickchart {\n",
              "      --bg-color: #E8F0FE;\n",
              "      --fill-color: #1967D2;\n",
              "      --hover-bg-color: #E2EBFA;\n",
              "      --hover-fill-color: #174EA6;\n",
              "      --disabled-fill-color: #AAA;\n",
              "      --disabled-bg-color: #DDD;\n",
              "  }\n",
              "\n",
              "  [theme=dark] .colab-df-quickchart {\n",
              "      --bg-color: #3B4455;\n",
              "      --fill-color: #D2E3FC;\n",
              "      --hover-bg-color: #434B5C;\n",
              "      --hover-fill-color: #FFFFFF;\n",
              "      --disabled-bg-color: #3B4455;\n",
              "      --disabled-fill-color: #666;\n",
              "  }\n",
              "\n",
              "  .colab-df-quickchart {\n",
              "    background-color: var(--bg-color);\n",
              "    border: none;\n",
              "    border-radius: 50%;\n",
              "    cursor: pointer;\n",
              "    display: none;\n",
              "    fill: var(--fill-color);\n",
              "    height: 32px;\n",
              "    padding: 0;\n",
              "    width: 32px;\n",
              "  }\n",
              "\n",
              "  .colab-df-quickchart:hover {\n",
              "    background-color: var(--hover-bg-color);\n",
              "    box-shadow: 0 1px 2px rgba(60, 64, 67, 0.3), 0 1px 3px 1px rgba(60, 64, 67, 0.15);\n",
              "    fill: var(--button-hover-fill-color);\n",
              "  }\n",
              "\n",
              "  .colab-df-quickchart-complete:disabled,\n",
              "  .colab-df-quickchart-complete:disabled:hover {\n",
              "    background-color: var(--disabled-bg-color);\n",
              "    fill: var(--disabled-fill-color);\n",
              "    box-shadow: none;\n",
              "  }\n",
              "\n",
              "  .colab-df-spinner {\n",
              "    border: 2px solid var(--fill-color);\n",
              "    border-color: transparent;\n",
              "    border-bottom-color: var(--fill-color);\n",
              "    animation:\n",
              "      spin 1s steps(1) infinite;\n",
              "  }\n",
              "\n",
              "  @keyframes spin {\n",
              "    0% {\n",
              "      border-color: transparent;\n",
              "      border-bottom-color: var(--fill-color);\n",
              "      border-left-color: var(--fill-color);\n",
              "    }\n",
              "    20% {\n",
              "      border-color: transparent;\n",
              "      border-left-color: var(--fill-color);\n",
              "      border-top-color: var(--fill-color);\n",
              "    }\n",
              "    30% {\n",
              "      border-color: transparent;\n",
              "      border-left-color: var(--fill-color);\n",
              "      border-top-color: var(--fill-color);\n",
              "      border-right-color: var(--fill-color);\n",
              "    }\n",
              "    40% {\n",
              "      border-color: transparent;\n",
              "      border-right-color: var(--fill-color);\n",
              "      border-top-color: var(--fill-color);\n",
              "    }\n",
              "    60% {\n",
              "      border-color: transparent;\n",
              "      border-right-color: var(--fill-color);\n",
              "    }\n",
              "    80% {\n",
              "      border-color: transparent;\n",
              "      border-right-color: var(--fill-color);\n",
              "      border-bottom-color: var(--fill-color);\n",
              "    }\n",
              "    90% {\n",
              "      border-color: transparent;\n",
              "      border-bottom-color: var(--fill-color);\n",
              "    }\n",
              "  }\n",
              "</style>\n",
              "\n",
              "  <script>\n",
              "    async function quickchart(key) {\n",
              "      const quickchartButtonEl =\n",
              "        document.querySelector('#' + key + ' button');\n",
              "      quickchartButtonEl.disabled = true;  // To prevent multiple clicks.\n",
              "      quickchartButtonEl.classList.add('colab-df-spinner');\n",
              "      try {\n",
              "        const charts = await google.colab.kernel.invokeFunction(\n",
              "            'suggestCharts', [key], {});\n",
              "      } catch (error) {\n",
              "        console.error('Error during call to suggestCharts:', error);\n",
              "      }\n",
              "      quickchartButtonEl.classList.remove('colab-df-spinner');\n",
              "      quickchartButtonEl.classList.add('colab-df-quickchart-complete');\n",
              "    }\n",
              "    (() => {\n",
              "      let quickchartButtonEl =\n",
              "        document.querySelector('#df-16ac30c3-bd2e-4aa4-b7a2-3e50cc4bad1f button');\n",
              "      quickchartButtonEl.style.display =\n",
              "        google.colab.kernel.accessAllowed ? 'block' : 'none';\n",
              "    })();\n",
              "  </script>\n",
              "</div>\n",
              "\n",
              "    </div>\n",
              "  </div>\n"
            ],
            "application/vnd.google.colaboratory.intrinsic+json": {
              "type": "dataframe",
              "summary": "{\n  \"name\": \"df\",\n  \"rows\": 22,\n  \"fields\": [\n    {\n      \"column\": \"count\",\n      \"properties\": {\n        \"dtype\": \"number\",\n        \"std\": 0.0,\n        \"min\": 12000.0,\n        \"max\": 12000.0,\n        \"num_unique_values\": 1,\n        \"samples\": [\n          12000.0\n        ],\n        \"semantic_type\": \"\",\n        \"description\": \"\"\n      }\n    },\n    {\n      \"column\": \"mean\",\n      \"properties\": {\n        \"dtype\": \"number\",\n        \"std\": 58.768696947850806,\n        \"min\": 0.8607666666666667,\n        \"max\": 195.18266666666668,\n        \"num_unique_values\": 22,\n        \"samples\": [\n          47.51541666666667\n        ],\n        \"semantic_type\": \"\",\n        \"description\": \"\"\n      }\n    },\n    {\n      \"column\": \"std\",\n      \"properties\": {\n        \"dtype\": \"number\",\n        \"std\": 32.55000640100927,\n        \"min\": 0.1685135125155399,\n        \"max\": 135.04200037142178,\n        \"num_unique_values\": 22,\n        \"samples\": [\n          14.226441167608066\n        ],\n        \"semantic_type\": \"\",\n        \"description\": \"\"\n      }\n    },\n    {\n      \"column\": \"min\",\n      \"properties\": {\n        \"dtype\": \"number\",\n        \"std\": 35.25712878085976,\n        \"min\": 0.1,\n        \"max\": 135.0,\n        \"num_unique_values\": 15,\n        \"samples\": [\n          73.0\n        ],\n        \"semantic_type\": \"\",\n        \"description\": \"\"\n      }\n    },\n    {\n      \"column\": \"25%\",\n      \"properties\": {\n        \"dtype\": \"number\",\n        \"std\": 51.25446934371312,\n        \"min\": 0.7,\n        \"max\": 169.0,\n        \"num_unique_values\": 17,\n        \"samples\": [\n          35.0\n        ],\n        \"semantic_type\": \"\",\n        \"description\": \"\"\n      }\n    },\n    {\n      \"column\": \"50%\",\n      \"properties\": {\n        \"dtype\": \"number\",\n        \"std\": 57.12832918676158,\n        \"min\": 0.8,\n        \"max\": 193.0,\n        \"num_unique_values\": 16,\n        \"samples\": [\n          45.0\n        ],\n        \"semantic_type\": \"\",\n        \"description\": \"\"\n      }\n    },\n    {\n      \"column\": \"75%\",\n      \"properties\": {\n        \"dtype\": \"number\",\n        \"std\": 65.16243838764306,\n        \"min\": 1.0,\n        \"max\": 218.0,\n        \"num_unique_values\": 18,\n        \"samples\": [\n          60.0\n        ],\n        \"semantic_type\": \"\",\n        \"description\": \"\"\n      }\n    },\n    {\n      \"column\": \"max\",\n      \"properties\": {\n        \"dtype\": \"number\",\n        \"std\": 2670.604548875004,\n        \"min\": 2.0,\n        \"max\": 9490.0,\n        \"num_unique_values\": 19,\n        \"samples\": [\n          85.0\n        ],\n        \"semantic_type\": \"\",\n        \"description\": \"\"\n      }\n    }\n  ]\n}"
            }
          },
          "metadata": {},
          "execution_count": 10
        }
      ]
    },
    {
      "cell_type": "code",
      "source": [
        "#Drinking değerinin veri setinden atılması\n",
        "X=df.drop(columns=['DRK_YN'],axis=1)\n",
        "y = df.DRK_YN"
      ],
      "metadata": {
        "id": "eFdmAVqojvTP"
      },
      "execution_count": 50,
      "outputs": []
    },
    {
      "cell_type": "code",
      "source": [
        "import pandas as pd\n",
        "import seaborn as sns\n",
        "import matplotlib.pyplot as plt\n",
        "from sklearn.model_selection import train_test_split\n",
        "from sklearn.preprocessing import LabelEncoder\n",
        "from sklearn.metrics import accuracy_score ,classification_report ,confusion_matrix\n",
        "from sklearn import tree\n",
        "\n"
      ],
      "metadata": {
        "id": "oALQbpjfj3IA"
      },
      "execution_count": 51,
      "outputs": []
    },
    {
      "cell_type": "code",
      "source": [
        "#train test ayırma\n",
        "X_train,X_test,y_train,y_test=train_test_split(X,y,test_size=0.3)"
      ],
      "metadata": {
        "id": "sbhVeZ8ekI6Q"
      },
      "execution_count": 52,
      "outputs": []
    },
    {
      "cell_type": "markdown",
      "source": [
        "# Gözetimli Öğrenme(CatBoost)"
      ],
      "metadata": {
        "id": "pzDP58UkkK1i"
      }
    },
    {
      "cell_type": "code",
      "source": [
        "#Catboost İndirme ve import etme\n",
        "#sklearndan kullanılabilecek parçalarım importu\n",
        "!pip install catboost\n",
        "import catboost as cb\n",
        "import numpy as np\n",
        "from catboost import CatBoostClassifier, Pool, metrics, cv\n",
        "from sklearn.metrics import accuracy_score\n",
        "from sklearn.model_selection import train_test_split\n",
        "from sklearn.metrics import confusion_matrix ,classification_report"
      ],
      "metadata": {
        "id": "BscfuhTkkSIA",
        "outputId": "6240fb09-293e-4098-8f51-f0b779a6196d",
        "colab": {
          "base_uri": "https://localhost:8080/"
        }
      },
      "execution_count": 53,
      "outputs": [
        {
          "output_type": "stream",
          "name": "stdout",
          "text": [
            "Requirement already satisfied: catboost in /usr/local/lib/python3.10/dist-packages (1.2.7)\n",
            "Requirement already satisfied: graphviz in /usr/local/lib/python3.10/dist-packages (from catboost) (0.20.3)\n",
            "Requirement already satisfied: matplotlib in /usr/local/lib/python3.10/dist-packages (from catboost) (3.7.1)\n",
            "Requirement already satisfied: numpy<2.0,>=1.16.0 in /usr/local/lib/python3.10/dist-packages (from catboost) (1.25.2)\n",
            "Requirement already satisfied: pandas>=0.24 in /usr/local/lib/python3.10/dist-packages (from catboost) (2.0.3)\n",
            "Requirement already satisfied: scipy in /usr/local/lib/python3.10/dist-packages (from catboost) (1.11.4)\n",
            "Requirement already satisfied: plotly in /usr/local/lib/python3.10/dist-packages (from catboost) (5.15.0)\n",
            "Requirement already satisfied: six in /usr/local/lib/python3.10/dist-packages (from catboost) (1.16.0)\n",
            "Requirement already satisfied: python-dateutil>=2.8.2 in /usr/local/lib/python3.10/dist-packages (from pandas>=0.24->catboost) (2.8.2)\n",
            "Requirement already satisfied: pytz>=2020.1 in /usr/local/lib/python3.10/dist-packages (from pandas>=0.24->catboost) (2023.4)\n",
            "Requirement already satisfied: tzdata>=2022.1 in /usr/local/lib/python3.10/dist-packages (from pandas>=0.24->catboost) (2024.1)\n",
            "Requirement already satisfied: contourpy>=1.0.1 in /usr/local/lib/python3.10/dist-packages (from matplotlib->catboost) (1.2.1)\n",
            "Requirement already satisfied: cycler>=0.10 in /usr/local/lib/python3.10/dist-packages (from matplotlib->catboost) (0.12.1)\n",
            "Requirement already satisfied: fonttools>=4.22.0 in /usr/local/lib/python3.10/dist-packages (from matplotlib->catboost) (4.53.1)\n",
            "Requirement already satisfied: kiwisolver>=1.0.1 in /usr/local/lib/python3.10/dist-packages (from matplotlib->catboost) (1.4.5)\n",
            "Requirement already satisfied: packaging>=20.0 in /usr/local/lib/python3.10/dist-packages (from matplotlib->catboost) (24.1)\n",
            "Requirement already satisfied: pillow>=6.2.0 in /usr/local/lib/python3.10/dist-packages (from matplotlib->catboost) (9.4.0)\n",
            "Requirement already satisfied: pyparsing>=2.3.1 in /usr/local/lib/python3.10/dist-packages (from matplotlib->catboost) (3.1.2)\n",
            "Requirement already satisfied: tenacity>=6.2.0 in /usr/local/lib/python3.10/dist-packages (from plotly->catboost) (8.5.0)\n"
          ]
        }
      ]
    },
    {
      "cell_type": "code",
      "source": [
        "#Modelin eğitilmesi\n",
        "categorical_features_indices = np.where(X.dtypes == object)[0]\n",
        "train_pool=Pool(X_train,y_train,cat_features=categorical_features_indices)\n",
        "test_pool=Pool(X_test,y_test,cat_features=categorical_features_indices)\n",
        "model=CatBoostClassifier(custom_loss=[metrics.Accuracy()],# loss\n",
        "                         random_seed=42,\n",
        "                         logging_level='Silent',\n",
        "                         task_type='GPU')\n",
        "model.fit(train_pool,\n",
        "          eval_set=test_pool,\n",
        "          plot=True)"
      ],
      "metadata": {
        "id": "y0ehSVrgkTsC",
        "colab": {
          "base_uri": "https://localhost:8080/",
          "height": 34,
          "referenced_widgets": [
            "4dbe39e0a3024cd7ac0775525ed77d56"
          ]
        },
        "outputId": "f3980ec7-b86c-4387-bc70-b3cedc50284b"
      },
      "execution_count": 54,
      "outputs": [
        {
          "output_type": "display_data",
          "data": {
            "text/plain": [
              "MetricVisualizer(layout=Layout(align_self='stretch', height='500px'))"
            ],
            "application/vnd.jupyter.widget-view+json": {
              "version_major": 2,
              "version_minor": 0,
              "model_id": "4dbe39e0a3024cd7ac0775525ed77d56"
            }
          },
          "metadata": {}
        },
        {
          "output_type": "execute_result",
          "data": {
            "text/plain": [
              "<catboost.core.CatBoostClassifier at 0x7c74771136d0>"
            ]
          },
          "metadata": {},
          "execution_count": 54
        }
      ]
    },
    {
      "cell_type": "code",
      "source": [
        "from sklearn.metrics import log_loss, accuracy_score\n",
        "\n",
        "# Tahminler\n",
        "y_pred_proba = model.predict_proba(X_test)\n",
        "y_pred = model.predict(X_test)\n",
        "\n",
        "# Kayıp hesaplama\n",
        "loss = log_loss(y_test, y_pred_proba)\n",
        "accuracy = accuracy_score(y_test, y_pred)\n",
        "\n",
        "print(f\"Log Loss: {loss}\")\n",
        "print(f\"Accuracy: {accuracy}\")\n"
      ],
      "metadata": {
        "colab": {
          "base_uri": "https://localhost:8080/"
        },
        "id": "hTGdFZO3cN28",
        "outputId": "21740559-e4f3-4b31-c627-b6a13be1eb65"
      },
      "execution_count": 33,
      "outputs": [
        {
          "output_type": "stream",
          "name": "stdout",
          "text": [
            "Log Loss: 0.5322367256097387\n",
            "Accuracy: 0.7327777777777778\n"
          ]
        }
      ]
    },
    {
      "cell_type": "code",
      "source": [],
      "metadata": {
        "id": "0t4Y2t0SckiI"
      },
      "execution_count": null,
      "outputs": []
    },
    {
      "cell_type": "code",
      "source": [
        "#Modelin Doğruluğunu Yazdırma\n",
        "print(classification_report(model.predict(X_test),y_test))"
      ],
      "metadata": {
        "id": "J6GZpH22mUe5",
        "outputId": "e04d707e-9cda-4857-d962-63f105e75d4d",
        "colab": {
          "base_uri": "https://localhost:8080/"
        }
      },
      "execution_count": 17,
      "outputs": [
        {
          "output_type": "stream",
          "name": "stdout",
          "text": [
            "              precision    recall  f1-score   support\n",
            "\n",
            "           N       0.73      0.72      0.72      1793\n",
            "           Y       0.72      0.73      0.73      1807\n",
            "\n",
            "    accuracy                           0.72      3600\n",
            "   macro avg       0.72      0.72      0.72      3600\n",
            "weighted avg       0.72      0.72      0.72      3600\n",
            "\n"
          ]
        }
      ]
    },
    {
      "cell_type": "markdown",
      "source": [
        "# Gözetimsiz(KMeans) Öğrenme"
      ],
      "metadata": {
        "id": "Jx-GhgWzmqnS"
      }
    },
    {
      "cell_type": "code",
      "source": [
        "#Gerekli Kütüpphane import işlemleri\n",
        "from sklearn.cluster import KMeans\n",
        "import pandas as pd\n",
        "from sklearn.impute import SimpleImputer\n",
        "from sklearn.preprocessing import LabelEncoder\n",
        "from sklearn.model_selection import train_test_split\n",
        "from sklearn.neighbors import KNeighborsClassifier\n",
        "from sklearn.metrics import accuracy_score, classification_report, confusion_matrix\n",
        "from sklearn.cluster import KMeans\n",
        "from sklearn.metrics import adjusted_rand_score, homogeneity_score, completeness_score, v_measure_score\n",
        "from sklearn.preprocessing import LabelEncoder\n",
        "import warnings\n",
        "warnings.filterwarnings(\"ignore\")"
      ],
      "metadata": {
        "id": "83kcu5emmvyr"
      },
      "execution_count": 46,
      "outputs": []
    },
    {
      "cell_type": "code",
      "source": [],
      "metadata": {
        "id": "ABSns1q6bIAh"
      },
      "execution_count": null,
      "outputs": []
    },
    {
      "cell_type": "markdown",
      "source": [
        "## Veri Ön İşleme"
      ],
      "metadata": {
        "id": "NRg7EwnkbIpR"
      }
    },
    {
      "cell_type": "code",
      "source": [
        "#Cinsiyet Sütununu Label Encoder ile Encodelama\n",
        "\n",
        "le = LabelEncoder()\n",
        "X['sex'] = le.fit_transform(X['sex'])\n"
      ],
      "metadata": {
        "id": "dqfCqN77nGsY"
      },
      "execution_count": 19,
      "outputs": []
    },
    {
      "cell_type": "code",
      "source": [
        "from sklearn.preprocessing import MinMaxScaler, StandardScaler\n",
        "scaler = MinMaxScaler()\n",
        "df[['age', 'height', 'weight', 'waistline', 'SBP','DBP','BLDS','tot_chole','HDL_chole','LDL_chole','triglyceride','hemoglobin','urine_protein','SGOT_AST','SGOT_ALT',\n",
        "'gamma_GTP']] = scaler.fit_transform(df[['age', 'height', 'weight', 'waistline', 'SBP','DBP','BLDS','tot_chole','HDL_chole','LDL_chole','triglyceride','hemoglobin','urine_protein','SGOT_AST','SGOT_ALT',\n",
        "'gamma_GTP']])"
      ],
      "metadata": {
        "id": "_Eqj8jApbMV7"
      },
      "execution_count": null,
      "outputs": []
    },
    {
      "cell_type": "code",
      "source": [
        "#KMeans ile modelin eğitilmesi\n",
        "kmeans = KMeans(n_clusters=2, random_state=42)\n",
        "kmeans.fit(X)"
      ],
      "metadata": {
        "id": "2_MZZgs-mxeh",
        "outputId": "28fed606-6d37-4974-aa9b-592b997e45a1",
        "colab": {
          "base_uri": "https://localhost:8080/",
          "height": 75
        }
      },
      "execution_count": 28,
      "outputs": [
        {
          "output_type": "execute_result",
          "data": {
            "text/plain": [
              "KMeans(n_clusters=2, random_state=42)"
            ],
            "text/html": [
              "<style>#sk-container-id-5 {color: black;}#sk-container-id-5 pre{padding: 0;}#sk-container-id-5 div.sk-toggleable {background-color: white;}#sk-container-id-5 label.sk-toggleable__label {cursor: pointer;display: block;width: 100%;margin-bottom: 0;padding: 0.3em;box-sizing: border-box;text-align: center;}#sk-container-id-5 label.sk-toggleable__label-arrow:before {content: \"▸\";float: left;margin-right: 0.25em;color: #696969;}#sk-container-id-5 label.sk-toggleable__label-arrow:hover:before {color: black;}#sk-container-id-5 div.sk-estimator:hover label.sk-toggleable__label-arrow:before {color: black;}#sk-container-id-5 div.sk-toggleable__content {max-height: 0;max-width: 0;overflow: hidden;text-align: left;background-color: #f0f8ff;}#sk-container-id-5 div.sk-toggleable__content pre {margin: 0.2em;color: black;border-radius: 0.25em;background-color: #f0f8ff;}#sk-container-id-5 input.sk-toggleable__control:checked~div.sk-toggleable__content {max-height: 200px;max-width: 100%;overflow: auto;}#sk-container-id-5 input.sk-toggleable__control:checked~label.sk-toggleable__label-arrow:before {content: \"▾\";}#sk-container-id-5 div.sk-estimator input.sk-toggleable__control:checked~label.sk-toggleable__label {background-color: #d4ebff;}#sk-container-id-5 div.sk-label input.sk-toggleable__control:checked~label.sk-toggleable__label {background-color: #d4ebff;}#sk-container-id-5 input.sk-hidden--visually {border: 0;clip: rect(1px 1px 1px 1px);clip: rect(1px, 1px, 1px, 1px);height: 1px;margin: -1px;overflow: hidden;padding: 0;position: absolute;width: 1px;}#sk-container-id-5 div.sk-estimator {font-family: monospace;background-color: #f0f8ff;border: 1px dotted black;border-radius: 0.25em;box-sizing: border-box;margin-bottom: 0.5em;}#sk-container-id-5 div.sk-estimator:hover {background-color: #d4ebff;}#sk-container-id-5 div.sk-parallel-item::after {content: \"\";width: 100%;border-bottom: 1px solid gray;flex-grow: 1;}#sk-container-id-5 div.sk-label:hover label.sk-toggleable__label {background-color: #d4ebff;}#sk-container-id-5 div.sk-serial::before {content: \"\";position: absolute;border-left: 1px solid gray;box-sizing: border-box;top: 0;bottom: 0;left: 50%;z-index: 0;}#sk-container-id-5 div.sk-serial {display: flex;flex-direction: column;align-items: center;background-color: white;padding-right: 0.2em;padding-left: 0.2em;position: relative;}#sk-container-id-5 div.sk-item {position: relative;z-index: 1;}#sk-container-id-5 div.sk-parallel {display: flex;align-items: stretch;justify-content: center;background-color: white;position: relative;}#sk-container-id-5 div.sk-item::before, #sk-container-id-5 div.sk-parallel-item::before {content: \"\";position: absolute;border-left: 1px solid gray;box-sizing: border-box;top: 0;bottom: 0;left: 50%;z-index: -1;}#sk-container-id-5 div.sk-parallel-item {display: flex;flex-direction: column;z-index: 1;position: relative;background-color: white;}#sk-container-id-5 div.sk-parallel-item:first-child::after {align-self: flex-end;width: 50%;}#sk-container-id-5 div.sk-parallel-item:last-child::after {align-self: flex-start;width: 50%;}#sk-container-id-5 div.sk-parallel-item:only-child::after {width: 0;}#sk-container-id-5 div.sk-dashed-wrapped {border: 1px dashed gray;margin: 0 0.4em 0.5em 0.4em;box-sizing: border-box;padding-bottom: 0.4em;background-color: white;}#sk-container-id-5 div.sk-label label {font-family: monospace;font-weight: bold;display: inline-block;line-height: 1.2em;}#sk-container-id-5 div.sk-label-container {text-align: center;}#sk-container-id-5 div.sk-container {/* jupyter's `normalize.less` sets `[hidden] { display: none; }` but bootstrap.min.css set `[hidden] { display: none !important; }` so we also need the `!important` here to be able to override the default hidden behavior on the sphinx rendered scikit-learn.org. See: https://github.com/scikit-learn/scikit-learn/issues/21755 */display: inline-block !important;position: relative;}#sk-container-id-5 div.sk-text-repr-fallback {display: none;}</style><div id=\"sk-container-id-5\" class=\"sk-top-container\"><div class=\"sk-text-repr-fallback\"><pre>KMeans(n_clusters=2, random_state=42)</pre><b>In a Jupyter environment, please rerun this cell to show the HTML representation or trust the notebook. <br />On GitHub, the HTML representation is unable to render, please try loading this page with nbviewer.org.</b></div><div class=\"sk-container\" hidden><div class=\"sk-item\"><div class=\"sk-estimator sk-toggleable\"><input class=\"sk-toggleable__control sk-hidden--visually\" id=\"sk-estimator-id-5\" type=\"checkbox\" checked><label for=\"sk-estimator-id-5\" class=\"sk-toggleable__label sk-toggleable__label-arrow\">KMeans</label><div class=\"sk-toggleable__content\"><pre>KMeans(n_clusters=2, random_state=42)</pre></div></div></div></div></div>"
            ]
          },
          "metadata": {},
          "execution_count": 28
        }
      ]
    },
    {
      "cell_type": "code",
      "source": [
        "# Kümeleri değerlendirmek için Adjusted Rand Index kullan\n",
        "print(\"Adjusted Rand Index:\", adjusted_rand_score(y, kmeans.labels_))\n",
        "print(\"Homojenlik Skoru:\", homogeneity_score(y, kmeans.labels_))\n",
        "print(\"Completentlik Skoru:\", completeness_score(y, kmeans.labels_))\n",
        "print(\"V-Measure Skoru:\", v_measure_score(y, kmeans.labels_))"
      ],
      "metadata": {
        "id": "6M7879xKnGMj",
        "outputId": "9c51ae9a-9d1d-4ee9-f397-25fee0875d41",
        "colab": {
          "base_uri": "https://localhost:8080/"
        }
      },
      "execution_count": 29,
      "outputs": [
        {
          "output_type": "stream",
          "name": "stdout",
          "text": [
            "Adjusted Rand Index: -8.312552167037454e-07\n",
            "Homojenlik Skoru: 8.30385061038485e-05\n",
            "Completentlik Skoru: 0.06645982873581428\n",
            "V-Measure Skoru: 0.00016586976554755863\n"
          ]
        }
      ]
    },
    {
      "cell_type": "code",
      "source": [
        "kmeans = KMeans(n_clusters=2, random_state=65)\n",
        "kmeans.fit(X)"
      ],
      "metadata": {
        "id": "-0gHiKMcqscm",
        "outputId": "e96810ac-0cef-412f-cc33-bb9e049ad02f",
        "colab": {
          "base_uri": "https://localhost:8080/",
          "height": 52
        }
      },
      "execution_count": 37,
      "outputs": [
        {
          "output_type": "execute_result",
          "data": {
            "text/plain": [
              "KMeans(n_clusters=2, random_state=42)"
            ],
            "text/html": [
              "<style>#sk-container-id-8 {color: black;}#sk-container-id-8 pre{padding: 0;}#sk-container-id-8 div.sk-toggleable {background-color: white;}#sk-container-id-8 label.sk-toggleable__label {cursor: pointer;display: block;width: 100%;margin-bottom: 0;padding: 0.3em;box-sizing: border-box;text-align: center;}#sk-container-id-8 label.sk-toggleable__label-arrow:before {content: \"▸\";float: left;margin-right: 0.25em;color: #696969;}#sk-container-id-8 label.sk-toggleable__label-arrow:hover:before {color: black;}#sk-container-id-8 div.sk-estimator:hover label.sk-toggleable__label-arrow:before {color: black;}#sk-container-id-8 div.sk-toggleable__content {max-height: 0;max-width: 0;overflow: hidden;text-align: left;background-color: #f0f8ff;}#sk-container-id-8 div.sk-toggleable__content pre {margin: 0.2em;color: black;border-radius: 0.25em;background-color: #f0f8ff;}#sk-container-id-8 input.sk-toggleable__control:checked~div.sk-toggleable__content {max-height: 200px;max-width: 100%;overflow: auto;}#sk-container-id-8 input.sk-toggleable__control:checked~label.sk-toggleable__label-arrow:before {content: \"▾\";}#sk-container-id-8 div.sk-estimator input.sk-toggleable__control:checked~label.sk-toggleable__label {background-color: #d4ebff;}#sk-container-id-8 div.sk-label input.sk-toggleable__control:checked~label.sk-toggleable__label {background-color: #d4ebff;}#sk-container-id-8 input.sk-hidden--visually {border: 0;clip: rect(1px 1px 1px 1px);clip: rect(1px, 1px, 1px, 1px);height: 1px;margin: -1px;overflow: hidden;padding: 0;position: absolute;width: 1px;}#sk-container-id-8 div.sk-estimator {font-family: monospace;background-color: #f0f8ff;border: 1px dotted black;border-radius: 0.25em;box-sizing: border-box;margin-bottom: 0.5em;}#sk-container-id-8 div.sk-estimator:hover {background-color: #d4ebff;}#sk-container-id-8 div.sk-parallel-item::after {content: \"\";width: 100%;border-bottom: 1px solid gray;flex-grow: 1;}#sk-container-id-8 div.sk-label:hover label.sk-toggleable__label {background-color: #d4ebff;}#sk-container-id-8 div.sk-serial::before {content: \"\";position: absolute;border-left: 1px solid gray;box-sizing: border-box;top: 0;bottom: 0;left: 50%;z-index: 0;}#sk-container-id-8 div.sk-serial {display: flex;flex-direction: column;align-items: center;background-color: white;padding-right: 0.2em;padding-left: 0.2em;position: relative;}#sk-container-id-8 div.sk-item {position: relative;z-index: 1;}#sk-container-id-8 div.sk-parallel {display: flex;align-items: stretch;justify-content: center;background-color: white;position: relative;}#sk-container-id-8 div.sk-item::before, #sk-container-id-8 div.sk-parallel-item::before {content: \"\";position: absolute;border-left: 1px solid gray;box-sizing: border-box;top: 0;bottom: 0;left: 50%;z-index: -1;}#sk-container-id-8 div.sk-parallel-item {display: flex;flex-direction: column;z-index: 1;position: relative;background-color: white;}#sk-container-id-8 div.sk-parallel-item:first-child::after {align-self: flex-end;width: 50%;}#sk-container-id-8 div.sk-parallel-item:last-child::after {align-self: flex-start;width: 50%;}#sk-container-id-8 div.sk-parallel-item:only-child::after {width: 0;}#sk-container-id-8 div.sk-dashed-wrapped {border: 1px dashed gray;margin: 0 0.4em 0.5em 0.4em;box-sizing: border-box;padding-bottom: 0.4em;background-color: white;}#sk-container-id-8 div.sk-label label {font-family: monospace;font-weight: bold;display: inline-block;line-height: 1.2em;}#sk-container-id-8 div.sk-label-container {text-align: center;}#sk-container-id-8 div.sk-container {/* jupyter's `normalize.less` sets `[hidden] { display: none; }` but bootstrap.min.css set `[hidden] { display: none !important; }` so we also need the `!important` here to be able to override the default hidden behavior on the sphinx rendered scikit-learn.org. See: https://github.com/scikit-learn/scikit-learn/issues/21755 */display: inline-block !important;position: relative;}#sk-container-id-8 div.sk-text-repr-fallback {display: none;}</style><div id=\"sk-container-id-8\" class=\"sk-top-container\"><div class=\"sk-text-repr-fallback\"><pre>KMeans(n_clusters=2, random_state=42)</pre><b>In a Jupyter environment, please rerun this cell to show the HTML representation or trust the notebook. <br />On GitHub, the HTML representation is unable to render, please try loading this page with nbviewer.org.</b></div><div class=\"sk-container\" hidden><div class=\"sk-item\"><div class=\"sk-estimator sk-toggleable\"><input class=\"sk-toggleable__control sk-hidden--visually\" id=\"sk-estimator-id-8\" type=\"checkbox\" checked><label for=\"sk-estimator-id-8\" class=\"sk-toggleable__label sk-toggleable__label-arrow\">KMeans</label><div class=\"sk-toggleable__content\"><pre>KMeans(n_clusters=2, random_state=42)</pre></div></div></div></div></div>"
            ]
          },
          "metadata": {},
          "execution_count": 37
        }
      ]
    },
    {
      "cell_type": "code",
      "source": [
        "# Kümeleri değerlendirmek için Adjusted Rand Index kullan\n",
        "print(\"Adjusted Rand Index:\", adjusted_rand_score(y, kmeans.labels_))\n",
        "print(\"Homojenlik Skoru:\", homogeneity_score(y, kmeans.labels_))\n",
        "print(\"Completentlik Skoru:\", completeness_score(y, kmeans.labels_))\n",
        "print(\"V-Measure Skoru:\", v_measure_score(y, kmeans.labels_))"
      ],
      "metadata": {
        "id": "EJmcFuuWsPLF",
        "outputId": "5f6e537a-79ba-4da1-8c43-3ea927972a56",
        "colab": {
          "base_uri": "https://localhost:8080/"
        }
      },
      "execution_count": 38,
      "outputs": [
        {
          "output_type": "stream",
          "name": "stdout",
          "text": [
            "Adjusted Rand Index: -8.312552167037454e-07\n",
            "Homojenlik Skoru: 8.30385061038485e-05\n",
            "Completentlik Skoru: 0.06645982873581428\n",
            "V-Measure Skoru: 0.00016586976554755863\n"
          ]
        }
      ]
    },
    {
      "cell_type": "markdown",
      "source": [
        "# EDA"
      ],
      "metadata": {
        "id": "Z6fEfSfgX5sg"
      }
    },
    {
      "cell_type": "markdown",
      "source": [
        "## Sayısal EDA\n"
      ],
      "metadata": {
        "id": "t_Fh-714YQAq"
      }
    },
    {
      "cell_type": "code",
      "source": [
        "df.info()"
      ],
      "metadata": {
        "colab": {
          "base_uri": "https://localhost:8080/"
        },
        "id": "Tk1AU5B1X44T",
        "outputId": "c47ec0c3-4097-4410-a586-e4d40bccc7a1"
      },
      "execution_count": 6,
      "outputs": [
        {
          "output_type": "stream",
          "name": "stdout",
          "text": [
            "<class 'pandas.core.frame.DataFrame'>\n",
            "RangeIndex: 12000 entries, 0 to 11999\n",
            "Data columns (total 24 columns):\n",
            " #   Column            Non-Null Count  Dtype  \n",
            "---  ------            --------------  -----  \n",
            " 0   sex               12000 non-null  object \n",
            " 1   age               12000 non-null  int64  \n",
            " 2   height            12000 non-null  int64  \n",
            " 3   weight            12000 non-null  int64  \n",
            " 4   waistline         12000 non-null  float64\n",
            " 5   sight_left        12000 non-null  float64\n",
            " 6   sight_right       12000 non-null  float64\n",
            " 7   hear_left         12000 non-null  float64\n",
            " 8   hear_right        12000 non-null  float64\n",
            " 9   SBP               12000 non-null  float64\n",
            " 10  DBP               12000 non-null  float64\n",
            " 11  BLDS              12000 non-null  float64\n",
            " 12  tot_chole         12000 non-null  float64\n",
            " 13  HDL_chole         12000 non-null  float64\n",
            " 14  LDL_chole         12000 non-null  float64\n",
            " 15  triglyceride      12000 non-null  float64\n",
            " 16  hemoglobin        12000 non-null  float64\n",
            " 17  urine_protein     12000 non-null  float64\n",
            " 18  serum_creatinine  12000 non-null  float64\n",
            " 19  SGOT_AST          12000 non-null  float64\n",
            " 20  SGOT_ALT          12000 non-null  float64\n",
            " 21  gamma_GTP         12000 non-null  float64\n",
            " 22  SMK_stat_type_cd  12000 non-null  float64\n",
            " 23  DRK_YN            12000 non-null  object \n",
            "dtypes: float64(19), int64(3), object(2)\n",
            "memory usage: 2.2+ MB\n"
          ]
        }
      ]
    },
    {
      "cell_type": "code",
      "source": [
        "df.describe()"
      ],
      "metadata": {
        "colab": {
          "base_uri": "https://localhost:8080/",
          "height": 350
        },
        "id": "x0OfMIxVYEb6",
        "outputId": "52b393bb-c1ce-4c26-8b60-8bda1c94e4c3"
      },
      "execution_count": 7,
      "outputs": [
        {
          "output_type": "execute_result",
          "data": {
            "text/plain": [
              "                age        height        weight     waistline    sight_left  \\\n",
              "count  12000.000000  12000.000000  12000.000000  12000.000000  12000.000000   \n",
              "mean      47.515417    162.290000     63.229167     81.256342      0.981650   \n",
              "std       14.226441      9.326744     12.544179     12.780012      0.608354   \n",
              "min       20.000000    135.000000     30.000000     49.000000      0.100000   \n",
              "25%       35.000000    155.000000     55.000000     74.000000      0.700000   \n",
              "50%       45.000000    160.000000     60.000000     81.000000      1.000000   \n",
              "75%       60.000000    170.000000     70.000000     87.600000      1.200000   \n",
              "max       85.000000    190.000000    130.000000    999.000000      9.900000   \n",
              "\n",
              "        sight_right     hear_left    hear_right           SBP           DBP  \\\n",
              "count  12000.000000  12000.000000  12000.000000  12000.000000  12000.000000   \n",
              "mean       0.981292      1.030000      1.029250    122.615667     76.177000   \n",
              "std        0.614126      0.170594      0.168514     14.591363      9.975284   \n",
              "min        0.100000      1.000000      1.000000     75.000000     46.000000   \n",
              "25%        0.700000      1.000000      1.000000    112.000000     70.000000   \n",
              "50%        1.000000      1.000000      1.000000    121.000000     76.000000   \n",
              "75%        1.200000      1.000000      1.000000    131.000000     82.000000   \n",
              "max        9.900000      2.000000      2.000000    230.000000    160.000000   \n",
              "\n",
              "       ...     HDL_chole     LDL_chole  triglyceride    hemoglobin  \\\n",
              "count  ...  12000.000000  12000.000000  12000.000000  12000.000000   \n",
              "mean   ...     57.424167    113.041417    133.719083     14.250133   \n",
              "std    ...     75.061825     57.190555    135.042000      1.564969   \n",
              "min    ...      4.000000      1.000000     16.000000      6.200000   \n",
              "25%    ...     46.000000     89.000000     73.000000     13.200000   \n",
              "50%    ...     55.000000    111.000000    107.000000     14.300000   \n",
              "75%    ...     65.000000    134.000000    160.000000     15.400000   \n",
              "max    ...   8110.000000   5119.000000   9490.000000     20.300000   \n",
              "\n",
              "       urine_protein  serum_creatinine      SGOT_AST      SGOT_ALT  \\\n",
              "count   12000.000000      12000.000000  12000.000000  12000.000000   \n",
              "mean        1.093500          0.860767     25.978333     25.814167   \n",
              "std         0.433905          0.301924     16.284670     20.291922   \n",
              "min         1.000000          0.100000      4.000000      2.000000   \n",
              "25%         1.000000          0.700000     19.000000     15.000000   \n",
              "50%         1.000000          0.800000     23.000000     20.000000   \n",
              "75%         1.000000          1.000000     28.000000     30.000000   \n",
              "max         6.000000         16.400000    911.000000    430.000000   \n",
              "\n",
              "          gamma_GTP  SMK_stat_type_cd  \n",
              "count  12000.000000      12000.000000  \n",
              "mean      37.330417          1.621750  \n",
              "std       50.075796          0.825167  \n",
              "min        3.000000          1.000000  \n",
              "25%       16.000000          1.000000  \n",
              "50%       23.000000          1.000000  \n",
              "75%       40.000000          2.000000  \n",
              "max      999.000000          3.000000  \n",
              "\n",
              "[8 rows x 22 columns]"
            ],
            "text/html": [
              "\n",
              "  <div id=\"df-e73d723a-d2fc-474b-9579-af205a128012\" class=\"colab-df-container\">\n",
              "    <div>\n",
              "<style scoped>\n",
              "    .dataframe tbody tr th:only-of-type {\n",
              "        vertical-align: middle;\n",
              "    }\n",
              "\n",
              "    .dataframe tbody tr th {\n",
              "        vertical-align: top;\n",
              "    }\n",
              "\n",
              "    .dataframe thead th {\n",
              "        text-align: right;\n",
              "    }\n",
              "</style>\n",
              "<table border=\"1\" class=\"dataframe\">\n",
              "  <thead>\n",
              "    <tr style=\"text-align: right;\">\n",
              "      <th></th>\n",
              "      <th>age</th>\n",
              "      <th>height</th>\n",
              "      <th>weight</th>\n",
              "      <th>waistline</th>\n",
              "      <th>sight_left</th>\n",
              "      <th>sight_right</th>\n",
              "      <th>hear_left</th>\n",
              "      <th>hear_right</th>\n",
              "      <th>SBP</th>\n",
              "      <th>DBP</th>\n",
              "      <th>...</th>\n",
              "      <th>HDL_chole</th>\n",
              "      <th>LDL_chole</th>\n",
              "      <th>triglyceride</th>\n",
              "      <th>hemoglobin</th>\n",
              "      <th>urine_protein</th>\n",
              "      <th>serum_creatinine</th>\n",
              "      <th>SGOT_AST</th>\n",
              "      <th>SGOT_ALT</th>\n",
              "      <th>gamma_GTP</th>\n",
              "      <th>SMK_stat_type_cd</th>\n",
              "    </tr>\n",
              "  </thead>\n",
              "  <tbody>\n",
              "    <tr>\n",
              "      <th>count</th>\n",
              "      <td>12000.000000</td>\n",
              "      <td>12000.000000</td>\n",
              "      <td>12000.000000</td>\n",
              "      <td>12000.000000</td>\n",
              "      <td>12000.000000</td>\n",
              "      <td>12000.000000</td>\n",
              "      <td>12000.000000</td>\n",
              "      <td>12000.000000</td>\n",
              "      <td>12000.000000</td>\n",
              "      <td>12000.000000</td>\n",
              "      <td>...</td>\n",
              "      <td>12000.000000</td>\n",
              "      <td>12000.000000</td>\n",
              "      <td>12000.000000</td>\n",
              "      <td>12000.000000</td>\n",
              "      <td>12000.000000</td>\n",
              "      <td>12000.000000</td>\n",
              "      <td>12000.000000</td>\n",
              "      <td>12000.000000</td>\n",
              "      <td>12000.000000</td>\n",
              "      <td>12000.000000</td>\n",
              "    </tr>\n",
              "    <tr>\n",
              "      <th>mean</th>\n",
              "      <td>47.515417</td>\n",
              "      <td>162.290000</td>\n",
              "      <td>63.229167</td>\n",
              "      <td>81.256342</td>\n",
              "      <td>0.981650</td>\n",
              "      <td>0.981292</td>\n",
              "      <td>1.030000</td>\n",
              "      <td>1.029250</td>\n",
              "      <td>122.615667</td>\n",
              "      <td>76.177000</td>\n",
              "      <td>...</td>\n",
              "      <td>57.424167</td>\n",
              "      <td>113.041417</td>\n",
              "      <td>133.719083</td>\n",
              "      <td>14.250133</td>\n",
              "      <td>1.093500</td>\n",
              "      <td>0.860767</td>\n",
              "      <td>25.978333</td>\n",
              "      <td>25.814167</td>\n",
              "      <td>37.330417</td>\n",
              "      <td>1.621750</td>\n",
              "    </tr>\n",
              "    <tr>\n",
              "      <th>std</th>\n",
              "      <td>14.226441</td>\n",
              "      <td>9.326744</td>\n",
              "      <td>12.544179</td>\n",
              "      <td>12.780012</td>\n",
              "      <td>0.608354</td>\n",
              "      <td>0.614126</td>\n",
              "      <td>0.170594</td>\n",
              "      <td>0.168514</td>\n",
              "      <td>14.591363</td>\n",
              "      <td>9.975284</td>\n",
              "      <td>...</td>\n",
              "      <td>75.061825</td>\n",
              "      <td>57.190555</td>\n",
              "      <td>135.042000</td>\n",
              "      <td>1.564969</td>\n",
              "      <td>0.433905</td>\n",
              "      <td>0.301924</td>\n",
              "      <td>16.284670</td>\n",
              "      <td>20.291922</td>\n",
              "      <td>50.075796</td>\n",
              "      <td>0.825167</td>\n",
              "    </tr>\n",
              "    <tr>\n",
              "      <th>min</th>\n",
              "      <td>20.000000</td>\n",
              "      <td>135.000000</td>\n",
              "      <td>30.000000</td>\n",
              "      <td>49.000000</td>\n",
              "      <td>0.100000</td>\n",
              "      <td>0.100000</td>\n",
              "      <td>1.000000</td>\n",
              "      <td>1.000000</td>\n",
              "      <td>75.000000</td>\n",
              "      <td>46.000000</td>\n",
              "      <td>...</td>\n",
              "      <td>4.000000</td>\n",
              "      <td>1.000000</td>\n",
              "      <td>16.000000</td>\n",
              "      <td>6.200000</td>\n",
              "      <td>1.000000</td>\n",
              "      <td>0.100000</td>\n",
              "      <td>4.000000</td>\n",
              "      <td>2.000000</td>\n",
              "      <td>3.000000</td>\n",
              "      <td>1.000000</td>\n",
              "    </tr>\n",
              "    <tr>\n",
              "      <th>25%</th>\n",
              "      <td>35.000000</td>\n",
              "      <td>155.000000</td>\n",
              "      <td>55.000000</td>\n",
              "      <td>74.000000</td>\n",
              "      <td>0.700000</td>\n",
              "      <td>0.700000</td>\n",
              "      <td>1.000000</td>\n",
              "      <td>1.000000</td>\n",
              "      <td>112.000000</td>\n",
              "      <td>70.000000</td>\n",
              "      <td>...</td>\n",
              "      <td>46.000000</td>\n",
              "      <td>89.000000</td>\n",
              "      <td>73.000000</td>\n",
              "      <td>13.200000</td>\n",
              "      <td>1.000000</td>\n",
              "      <td>0.700000</td>\n",
              "      <td>19.000000</td>\n",
              "      <td>15.000000</td>\n",
              "      <td>16.000000</td>\n",
              "      <td>1.000000</td>\n",
              "    </tr>\n",
              "    <tr>\n",
              "      <th>50%</th>\n",
              "      <td>45.000000</td>\n",
              "      <td>160.000000</td>\n",
              "      <td>60.000000</td>\n",
              "      <td>81.000000</td>\n",
              "      <td>1.000000</td>\n",
              "      <td>1.000000</td>\n",
              "      <td>1.000000</td>\n",
              "      <td>1.000000</td>\n",
              "      <td>121.000000</td>\n",
              "      <td>76.000000</td>\n",
              "      <td>...</td>\n",
              "      <td>55.000000</td>\n",
              "      <td>111.000000</td>\n",
              "      <td>107.000000</td>\n",
              "      <td>14.300000</td>\n",
              "      <td>1.000000</td>\n",
              "      <td>0.800000</td>\n",
              "      <td>23.000000</td>\n",
              "      <td>20.000000</td>\n",
              "      <td>23.000000</td>\n",
              "      <td>1.000000</td>\n",
              "    </tr>\n",
              "    <tr>\n",
              "      <th>75%</th>\n",
              "      <td>60.000000</td>\n",
              "      <td>170.000000</td>\n",
              "      <td>70.000000</td>\n",
              "      <td>87.600000</td>\n",
              "      <td>1.200000</td>\n",
              "      <td>1.200000</td>\n",
              "      <td>1.000000</td>\n",
              "      <td>1.000000</td>\n",
              "      <td>131.000000</td>\n",
              "      <td>82.000000</td>\n",
              "      <td>...</td>\n",
              "      <td>65.000000</td>\n",
              "      <td>134.000000</td>\n",
              "      <td>160.000000</td>\n",
              "      <td>15.400000</td>\n",
              "      <td>1.000000</td>\n",
              "      <td>1.000000</td>\n",
              "      <td>28.000000</td>\n",
              "      <td>30.000000</td>\n",
              "      <td>40.000000</td>\n",
              "      <td>2.000000</td>\n",
              "    </tr>\n",
              "    <tr>\n",
              "      <th>max</th>\n",
              "      <td>85.000000</td>\n",
              "      <td>190.000000</td>\n",
              "      <td>130.000000</td>\n",
              "      <td>999.000000</td>\n",
              "      <td>9.900000</td>\n",
              "      <td>9.900000</td>\n",
              "      <td>2.000000</td>\n",
              "      <td>2.000000</td>\n",
              "      <td>230.000000</td>\n",
              "      <td>160.000000</td>\n",
              "      <td>...</td>\n",
              "      <td>8110.000000</td>\n",
              "      <td>5119.000000</td>\n",
              "      <td>9490.000000</td>\n",
              "      <td>20.300000</td>\n",
              "      <td>6.000000</td>\n",
              "      <td>16.400000</td>\n",
              "      <td>911.000000</td>\n",
              "      <td>430.000000</td>\n",
              "      <td>999.000000</td>\n",
              "      <td>3.000000</td>\n",
              "    </tr>\n",
              "  </tbody>\n",
              "</table>\n",
              "<p>8 rows × 22 columns</p>\n",
              "</div>\n",
              "    <div class=\"colab-df-buttons\">\n",
              "\n",
              "  <div class=\"colab-df-container\">\n",
              "    <button class=\"colab-df-convert\" onclick=\"convertToInteractive('df-e73d723a-d2fc-474b-9579-af205a128012')\"\n",
              "            title=\"Convert this dataframe to an interactive table.\"\n",
              "            style=\"display:none;\">\n",
              "\n",
              "  <svg xmlns=\"http://www.w3.org/2000/svg\" height=\"24px\" viewBox=\"0 -960 960 960\">\n",
              "    <path d=\"M120-120v-720h720v720H120Zm60-500h600v-160H180v160Zm220 220h160v-160H400v160Zm0 220h160v-160H400v160ZM180-400h160v-160H180v160Zm440 0h160v-160H620v160ZM180-180h160v-160H180v160Zm440 0h160v-160H620v160Z\"/>\n",
              "  </svg>\n",
              "    </button>\n",
              "\n",
              "  <style>\n",
              "    .colab-df-container {\n",
              "      display:flex;\n",
              "      gap: 12px;\n",
              "    }\n",
              "\n",
              "    .colab-df-convert {\n",
              "      background-color: #E8F0FE;\n",
              "      border: none;\n",
              "      border-radius: 50%;\n",
              "      cursor: pointer;\n",
              "      display: none;\n",
              "      fill: #1967D2;\n",
              "      height: 32px;\n",
              "      padding: 0 0 0 0;\n",
              "      width: 32px;\n",
              "    }\n",
              "\n",
              "    .colab-df-convert:hover {\n",
              "      background-color: #E2EBFA;\n",
              "      box-shadow: 0px 1px 2px rgba(60, 64, 67, 0.3), 0px 1px 3px 1px rgba(60, 64, 67, 0.15);\n",
              "      fill: #174EA6;\n",
              "    }\n",
              "\n",
              "    .colab-df-buttons div {\n",
              "      margin-bottom: 4px;\n",
              "    }\n",
              "\n",
              "    [theme=dark] .colab-df-convert {\n",
              "      background-color: #3B4455;\n",
              "      fill: #D2E3FC;\n",
              "    }\n",
              "\n",
              "    [theme=dark] .colab-df-convert:hover {\n",
              "      background-color: #434B5C;\n",
              "      box-shadow: 0px 1px 3px 1px rgba(0, 0, 0, 0.15);\n",
              "      filter: drop-shadow(0px 1px 2px rgba(0, 0, 0, 0.3));\n",
              "      fill: #FFFFFF;\n",
              "    }\n",
              "  </style>\n",
              "\n",
              "    <script>\n",
              "      const buttonEl =\n",
              "        document.querySelector('#df-e73d723a-d2fc-474b-9579-af205a128012 button.colab-df-convert');\n",
              "      buttonEl.style.display =\n",
              "        google.colab.kernel.accessAllowed ? 'block' : 'none';\n",
              "\n",
              "      async function convertToInteractive(key) {\n",
              "        const element = document.querySelector('#df-e73d723a-d2fc-474b-9579-af205a128012');\n",
              "        const dataTable =\n",
              "          await google.colab.kernel.invokeFunction('convertToInteractive',\n",
              "                                                    [key], {});\n",
              "        if (!dataTable) return;\n",
              "\n",
              "        const docLinkHtml = 'Like what you see? Visit the ' +\n",
              "          '<a target=\"_blank\" href=https://colab.research.google.com/notebooks/data_table.ipynb>data table notebook</a>'\n",
              "          + ' to learn more about interactive tables.';\n",
              "        element.innerHTML = '';\n",
              "        dataTable['output_type'] = 'display_data';\n",
              "        await google.colab.output.renderOutput(dataTable, element);\n",
              "        const docLink = document.createElement('div');\n",
              "        docLink.innerHTML = docLinkHtml;\n",
              "        element.appendChild(docLink);\n",
              "      }\n",
              "    </script>\n",
              "  </div>\n",
              "\n",
              "\n",
              "<div id=\"df-8f58d357-eba4-4526-8fca-8545443443f7\">\n",
              "  <button class=\"colab-df-quickchart\" onclick=\"quickchart('df-8f58d357-eba4-4526-8fca-8545443443f7')\"\n",
              "            title=\"Suggest charts\"\n",
              "            style=\"display:none;\">\n",
              "\n",
              "<svg xmlns=\"http://www.w3.org/2000/svg\" height=\"24px\"viewBox=\"0 0 24 24\"\n",
              "     width=\"24px\">\n",
              "    <g>\n",
              "        <path d=\"M19 3H5c-1.1 0-2 .9-2 2v14c0 1.1.9 2 2 2h14c1.1 0 2-.9 2-2V5c0-1.1-.9-2-2-2zM9 17H7v-7h2v7zm4 0h-2V7h2v10zm4 0h-2v-4h2v4z\"/>\n",
              "    </g>\n",
              "</svg>\n",
              "  </button>\n",
              "\n",
              "<style>\n",
              "  .colab-df-quickchart {\n",
              "      --bg-color: #E8F0FE;\n",
              "      --fill-color: #1967D2;\n",
              "      --hover-bg-color: #E2EBFA;\n",
              "      --hover-fill-color: #174EA6;\n",
              "      --disabled-fill-color: #AAA;\n",
              "      --disabled-bg-color: #DDD;\n",
              "  }\n",
              "\n",
              "  [theme=dark] .colab-df-quickchart {\n",
              "      --bg-color: #3B4455;\n",
              "      --fill-color: #D2E3FC;\n",
              "      --hover-bg-color: #434B5C;\n",
              "      --hover-fill-color: #FFFFFF;\n",
              "      --disabled-bg-color: #3B4455;\n",
              "      --disabled-fill-color: #666;\n",
              "  }\n",
              "\n",
              "  .colab-df-quickchart {\n",
              "    background-color: var(--bg-color);\n",
              "    border: none;\n",
              "    border-radius: 50%;\n",
              "    cursor: pointer;\n",
              "    display: none;\n",
              "    fill: var(--fill-color);\n",
              "    height: 32px;\n",
              "    padding: 0;\n",
              "    width: 32px;\n",
              "  }\n",
              "\n",
              "  .colab-df-quickchart:hover {\n",
              "    background-color: var(--hover-bg-color);\n",
              "    box-shadow: 0 1px 2px rgba(60, 64, 67, 0.3), 0 1px 3px 1px rgba(60, 64, 67, 0.15);\n",
              "    fill: var(--button-hover-fill-color);\n",
              "  }\n",
              "\n",
              "  .colab-df-quickchart-complete:disabled,\n",
              "  .colab-df-quickchart-complete:disabled:hover {\n",
              "    background-color: var(--disabled-bg-color);\n",
              "    fill: var(--disabled-fill-color);\n",
              "    box-shadow: none;\n",
              "  }\n",
              "\n",
              "  .colab-df-spinner {\n",
              "    border: 2px solid var(--fill-color);\n",
              "    border-color: transparent;\n",
              "    border-bottom-color: var(--fill-color);\n",
              "    animation:\n",
              "      spin 1s steps(1) infinite;\n",
              "  }\n",
              "\n",
              "  @keyframes spin {\n",
              "    0% {\n",
              "      border-color: transparent;\n",
              "      border-bottom-color: var(--fill-color);\n",
              "      border-left-color: var(--fill-color);\n",
              "    }\n",
              "    20% {\n",
              "      border-color: transparent;\n",
              "      border-left-color: var(--fill-color);\n",
              "      border-top-color: var(--fill-color);\n",
              "    }\n",
              "    30% {\n",
              "      border-color: transparent;\n",
              "      border-left-color: var(--fill-color);\n",
              "      border-top-color: var(--fill-color);\n",
              "      border-right-color: var(--fill-color);\n",
              "    }\n",
              "    40% {\n",
              "      border-color: transparent;\n",
              "      border-right-color: var(--fill-color);\n",
              "      border-top-color: var(--fill-color);\n",
              "    }\n",
              "    60% {\n",
              "      border-color: transparent;\n",
              "      border-right-color: var(--fill-color);\n",
              "    }\n",
              "    80% {\n",
              "      border-color: transparent;\n",
              "      border-right-color: var(--fill-color);\n",
              "      border-bottom-color: var(--fill-color);\n",
              "    }\n",
              "    90% {\n",
              "      border-color: transparent;\n",
              "      border-bottom-color: var(--fill-color);\n",
              "    }\n",
              "  }\n",
              "</style>\n",
              "\n",
              "  <script>\n",
              "    async function quickchart(key) {\n",
              "      const quickchartButtonEl =\n",
              "        document.querySelector('#' + key + ' button');\n",
              "      quickchartButtonEl.disabled = true;  // To prevent multiple clicks.\n",
              "      quickchartButtonEl.classList.add('colab-df-spinner');\n",
              "      try {\n",
              "        const charts = await google.colab.kernel.invokeFunction(\n",
              "            'suggestCharts', [key], {});\n",
              "      } catch (error) {\n",
              "        console.error('Error during call to suggestCharts:', error);\n",
              "      }\n",
              "      quickchartButtonEl.classList.remove('colab-df-spinner');\n",
              "      quickchartButtonEl.classList.add('colab-df-quickchart-complete');\n",
              "    }\n",
              "    (() => {\n",
              "      let quickchartButtonEl =\n",
              "        document.querySelector('#df-8f58d357-eba4-4526-8fca-8545443443f7 button');\n",
              "      quickchartButtonEl.style.display =\n",
              "        google.colab.kernel.accessAllowed ? 'block' : 'none';\n",
              "    })();\n",
              "  </script>\n",
              "</div>\n",
              "\n",
              "    </div>\n",
              "  </div>\n"
            ],
            "application/vnd.google.colaboratory.intrinsic+json": {
              "type": "dataframe"
            }
          },
          "metadata": {},
          "execution_count": 7
        }
      ]
    },
    {
      "cell_type": "code",
      "source": [
        "df.head()"
      ],
      "metadata": {
        "colab": {
          "base_uri": "https://localhost:8080/",
          "height": 256
        },
        "id": "pRumbEJMYVS9",
        "outputId": "bc5130cb-8b3d-4da6-d2cf-5a383f0811bc"
      },
      "execution_count": 8,
      "outputs": [
        {
          "output_type": "execute_result",
          "data": {
            "text/plain": [
              "    sex  age  height  weight  waistline  sight_left  sight_right  hear_left  \\\n",
              "0  Male   35     170      75       90.0         1.0          1.0        1.0   \n",
              "1  Male   30     180      80       89.0         0.9          1.2        1.0   \n",
              "2  Male   40     165      75       91.0         1.2          1.5        1.0   \n",
              "3  Male   50     175      80       91.0         1.5          1.2        1.0   \n",
              "4  Male   50     165      60       80.0         1.0          1.2        1.0   \n",
              "\n",
              "   hear_right    SBP  ...  LDL_chole  triglyceride  hemoglobin  urine_protein  \\\n",
              "0         1.0  120.0  ...      126.0          92.0        17.1            1.0   \n",
              "1         1.0  130.0  ...      148.0         121.0        15.8            1.0   \n",
              "2         1.0  120.0  ...       74.0         104.0        15.8            1.0   \n",
              "3         1.0  145.0  ...      104.0         106.0        17.6            1.0   \n",
              "4         1.0  138.0  ...      117.0         104.0        13.8            1.0   \n",
              "\n",
              "   serum_creatinine  SGOT_AST  SGOT_ALT  gamma_GTP  SMK_stat_type_cd  DRK_YN  \n",
              "0               1.0      21.0      35.0       40.0               1.0       Y  \n",
              "1               0.9      20.0      36.0       27.0               3.0       N  \n",
              "2               0.9      47.0      32.0       68.0               1.0       N  \n",
              "3               1.1      29.0      34.0       18.0               1.0       N  \n",
              "4               0.8      19.0      12.0       25.0               1.0       N  \n",
              "\n",
              "[5 rows x 24 columns]"
            ],
            "text/html": [
              "\n",
              "  <div id=\"df-f4f65f91-6185-45ba-b843-5c6899630fb8\" class=\"colab-df-container\">\n",
              "    <div>\n",
              "<style scoped>\n",
              "    .dataframe tbody tr th:only-of-type {\n",
              "        vertical-align: middle;\n",
              "    }\n",
              "\n",
              "    .dataframe tbody tr th {\n",
              "        vertical-align: top;\n",
              "    }\n",
              "\n",
              "    .dataframe thead th {\n",
              "        text-align: right;\n",
              "    }\n",
              "</style>\n",
              "<table border=\"1\" class=\"dataframe\">\n",
              "  <thead>\n",
              "    <tr style=\"text-align: right;\">\n",
              "      <th></th>\n",
              "      <th>sex</th>\n",
              "      <th>age</th>\n",
              "      <th>height</th>\n",
              "      <th>weight</th>\n",
              "      <th>waistline</th>\n",
              "      <th>sight_left</th>\n",
              "      <th>sight_right</th>\n",
              "      <th>hear_left</th>\n",
              "      <th>hear_right</th>\n",
              "      <th>SBP</th>\n",
              "      <th>...</th>\n",
              "      <th>LDL_chole</th>\n",
              "      <th>triglyceride</th>\n",
              "      <th>hemoglobin</th>\n",
              "      <th>urine_protein</th>\n",
              "      <th>serum_creatinine</th>\n",
              "      <th>SGOT_AST</th>\n",
              "      <th>SGOT_ALT</th>\n",
              "      <th>gamma_GTP</th>\n",
              "      <th>SMK_stat_type_cd</th>\n",
              "      <th>DRK_YN</th>\n",
              "    </tr>\n",
              "  </thead>\n",
              "  <tbody>\n",
              "    <tr>\n",
              "      <th>0</th>\n",
              "      <td>Male</td>\n",
              "      <td>35</td>\n",
              "      <td>170</td>\n",
              "      <td>75</td>\n",
              "      <td>90.0</td>\n",
              "      <td>1.0</td>\n",
              "      <td>1.0</td>\n",
              "      <td>1.0</td>\n",
              "      <td>1.0</td>\n",
              "      <td>120.0</td>\n",
              "      <td>...</td>\n",
              "      <td>126.0</td>\n",
              "      <td>92.0</td>\n",
              "      <td>17.1</td>\n",
              "      <td>1.0</td>\n",
              "      <td>1.0</td>\n",
              "      <td>21.0</td>\n",
              "      <td>35.0</td>\n",
              "      <td>40.0</td>\n",
              "      <td>1.0</td>\n",
              "      <td>Y</td>\n",
              "    </tr>\n",
              "    <tr>\n",
              "      <th>1</th>\n",
              "      <td>Male</td>\n",
              "      <td>30</td>\n",
              "      <td>180</td>\n",
              "      <td>80</td>\n",
              "      <td>89.0</td>\n",
              "      <td>0.9</td>\n",
              "      <td>1.2</td>\n",
              "      <td>1.0</td>\n",
              "      <td>1.0</td>\n",
              "      <td>130.0</td>\n",
              "      <td>...</td>\n",
              "      <td>148.0</td>\n",
              "      <td>121.0</td>\n",
              "      <td>15.8</td>\n",
              "      <td>1.0</td>\n",
              "      <td>0.9</td>\n",
              "      <td>20.0</td>\n",
              "      <td>36.0</td>\n",
              "      <td>27.0</td>\n",
              "      <td>3.0</td>\n",
              "      <td>N</td>\n",
              "    </tr>\n",
              "    <tr>\n",
              "      <th>2</th>\n",
              "      <td>Male</td>\n",
              "      <td>40</td>\n",
              "      <td>165</td>\n",
              "      <td>75</td>\n",
              "      <td>91.0</td>\n",
              "      <td>1.2</td>\n",
              "      <td>1.5</td>\n",
              "      <td>1.0</td>\n",
              "      <td>1.0</td>\n",
              "      <td>120.0</td>\n",
              "      <td>...</td>\n",
              "      <td>74.0</td>\n",
              "      <td>104.0</td>\n",
              "      <td>15.8</td>\n",
              "      <td>1.0</td>\n",
              "      <td>0.9</td>\n",
              "      <td>47.0</td>\n",
              "      <td>32.0</td>\n",
              "      <td>68.0</td>\n",
              "      <td>1.0</td>\n",
              "      <td>N</td>\n",
              "    </tr>\n",
              "    <tr>\n",
              "      <th>3</th>\n",
              "      <td>Male</td>\n",
              "      <td>50</td>\n",
              "      <td>175</td>\n",
              "      <td>80</td>\n",
              "      <td>91.0</td>\n",
              "      <td>1.5</td>\n",
              "      <td>1.2</td>\n",
              "      <td>1.0</td>\n",
              "      <td>1.0</td>\n",
              "      <td>145.0</td>\n",
              "      <td>...</td>\n",
              "      <td>104.0</td>\n",
              "      <td>106.0</td>\n",
              "      <td>17.6</td>\n",
              "      <td>1.0</td>\n",
              "      <td>1.1</td>\n",
              "      <td>29.0</td>\n",
              "      <td>34.0</td>\n",
              "      <td>18.0</td>\n",
              "      <td>1.0</td>\n",
              "      <td>N</td>\n",
              "    </tr>\n",
              "    <tr>\n",
              "      <th>4</th>\n",
              "      <td>Male</td>\n",
              "      <td>50</td>\n",
              "      <td>165</td>\n",
              "      <td>60</td>\n",
              "      <td>80.0</td>\n",
              "      <td>1.0</td>\n",
              "      <td>1.2</td>\n",
              "      <td>1.0</td>\n",
              "      <td>1.0</td>\n",
              "      <td>138.0</td>\n",
              "      <td>...</td>\n",
              "      <td>117.0</td>\n",
              "      <td>104.0</td>\n",
              "      <td>13.8</td>\n",
              "      <td>1.0</td>\n",
              "      <td>0.8</td>\n",
              "      <td>19.0</td>\n",
              "      <td>12.0</td>\n",
              "      <td>25.0</td>\n",
              "      <td>1.0</td>\n",
              "      <td>N</td>\n",
              "    </tr>\n",
              "  </tbody>\n",
              "</table>\n",
              "<p>5 rows × 24 columns</p>\n",
              "</div>\n",
              "    <div class=\"colab-df-buttons\">\n",
              "\n",
              "  <div class=\"colab-df-container\">\n",
              "    <button class=\"colab-df-convert\" onclick=\"convertToInteractive('df-f4f65f91-6185-45ba-b843-5c6899630fb8')\"\n",
              "            title=\"Convert this dataframe to an interactive table.\"\n",
              "            style=\"display:none;\">\n",
              "\n",
              "  <svg xmlns=\"http://www.w3.org/2000/svg\" height=\"24px\" viewBox=\"0 -960 960 960\">\n",
              "    <path d=\"M120-120v-720h720v720H120Zm60-500h600v-160H180v160Zm220 220h160v-160H400v160Zm0 220h160v-160H400v160ZM180-400h160v-160H180v160Zm440 0h160v-160H620v160ZM180-180h160v-160H180v160Zm440 0h160v-160H620v160Z\"/>\n",
              "  </svg>\n",
              "    </button>\n",
              "\n",
              "  <style>\n",
              "    .colab-df-container {\n",
              "      display:flex;\n",
              "      gap: 12px;\n",
              "    }\n",
              "\n",
              "    .colab-df-convert {\n",
              "      background-color: #E8F0FE;\n",
              "      border: none;\n",
              "      border-radius: 50%;\n",
              "      cursor: pointer;\n",
              "      display: none;\n",
              "      fill: #1967D2;\n",
              "      height: 32px;\n",
              "      padding: 0 0 0 0;\n",
              "      width: 32px;\n",
              "    }\n",
              "\n",
              "    .colab-df-convert:hover {\n",
              "      background-color: #E2EBFA;\n",
              "      box-shadow: 0px 1px 2px rgba(60, 64, 67, 0.3), 0px 1px 3px 1px rgba(60, 64, 67, 0.15);\n",
              "      fill: #174EA6;\n",
              "    }\n",
              "\n",
              "    .colab-df-buttons div {\n",
              "      margin-bottom: 4px;\n",
              "    }\n",
              "\n",
              "    [theme=dark] .colab-df-convert {\n",
              "      background-color: #3B4455;\n",
              "      fill: #D2E3FC;\n",
              "    }\n",
              "\n",
              "    [theme=dark] .colab-df-convert:hover {\n",
              "      background-color: #434B5C;\n",
              "      box-shadow: 0px 1px 3px 1px rgba(0, 0, 0, 0.15);\n",
              "      filter: drop-shadow(0px 1px 2px rgba(0, 0, 0, 0.3));\n",
              "      fill: #FFFFFF;\n",
              "    }\n",
              "  </style>\n",
              "\n",
              "    <script>\n",
              "      const buttonEl =\n",
              "        document.querySelector('#df-f4f65f91-6185-45ba-b843-5c6899630fb8 button.colab-df-convert');\n",
              "      buttonEl.style.display =\n",
              "        google.colab.kernel.accessAllowed ? 'block' : 'none';\n",
              "\n",
              "      async function convertToInteractive(key) {\n",
              "        const element = document.querySelector('#df-f4f65f91-6185-45ba-b843-5c6899630fb8');\n",
              "        const dataTable =\n",
              "          await google.colab.kernel.invokeFunction('convertToInteractive',\n",
              "                                                    [key], {});\n",
              "        if (!dataTable) return;\n",
              "\n",
              "        const docLinkHtml = 'Like what you see? Visit the ' +\n",
              "          '<a target=\"_blank\" href=https://colab.research.google.com/notebooks/data_table.ipynb>data table notebook</a>'\n",
              "          + ' to learn more about interactive tables.';\n",
              "        element.innerHTML = '';\n",
              "        dataTable['output_type'] = 'display_data';\n",
              "        await google.colab.output.renderOutput(dataTable, element);\n",
              "        const docLink = document.createElement('div');\n",
              "        docLink.innerHTML = docLinkHtml;\n",
              "        element.appendChild(docLink);\n",
              "      }\n",
              "    </script>\n",
              "  </div>\n",
              "\n",
              "\n",
              "<div id=\"df-dbaea74a-f496-4fbc-b4b9-7556f6eb9996\">\n",
              "  <button class=\"colab-df-quickchart\" onclick=\"quickchart('df-dbaea74a-f496-4fbc-b4b9-7556f6eb9996')\"\n",
              "            title=\"Suggest charts\"\n",
              "            style=\"display:none;\">\n",
              "\n",
              "<svg xmlns=\"http://www.w3.org/2000/svg\" height=\"24px\"viewBox=\"0 0 24 24\"\n",
              "     width=\"24px\">\n",
              "    <g>\n",
              "        <path d=\"M19 3H5c-1.1 0-2 .9-2 2v14c0 1.1.9 2 2 2h14c1.1 0 2-.9 2-2V5c0-1.1-.9-2-2-2zM9 17H7v-7h2v7zm4 0h-2V7h2v10zm4 0h-2v-4h2v4z\"/>\n",
              "    </g>\n",
              "</svg>\n",
              "  </button>\n",
              "\n",
              "<style>\n",
              "  .colab-df-quickchart {\n",
              "      --bg-color: #E8F0FE;\n",
              "      --fill-color: #1967D2;\n",
              "      --hover-bg-color: #E2EBFA;\n",
              "      --hover-fill-color: #174EA6;\n",
              "      --disabled-fill-color: #AAA;\n",
              "      --disabled-bg-color: #DDD;\n",
              "  }\n",
              "\n",
              "  [theme=dark] .colab-df-quickchart {\n",
              "      --bg-color: #3B4455;\n",
              "      --fill-color: #D2E3FC;\n",
              "      --hover-bg-color: #434B5C;\n",
              "      --hover-fill-color: #FFFFFF;\n",
              "      --disabled-bg-color: #3B4455;\n",
              "      --disabled-fill-color: #666;\n",
              "  }\n",
              "\n",
              "  .colab-df-quickchart {\n",
              "    background-color: var(--bg-color);\n",
              "    border: none;\n",
              "    border-radius: 50%;\n",
              "    cursor: pointer;\n",
              "    display: none;\n",
              "    fill: var(--fill-color);\n",
              "    height: 32px;\n",
              "    padding: 0;\n",
              "    width: 32px;\n",
              "  }\n",
              "\n",
              "  .colab-df-quickchart:hover {\n",
              "    background-color: var(--hover-bg-color);\n",
              "    box-shadow: 0 1px 2px rgba(60, 64, 67, 0.3), 0 1px 3px 1px rgba(60, 64, 67, 0.15);\n",
              "    fill: var(--button-hover-fill-color);\n",
              "  }\n",
              "\n",
              "  .colab-df-quickchart-complete:disabled,\n",
              "  .colab-df-quickchart-complete:disabled:hover {\n",
              "    background-color: var(--disabled-bg-color);\n",
              "    fill: var(--disabled-fill-color);\n",
              "    box-shadow: none;\n",
              "  }\n",
              "\n",
              "  .colab-df-spinner {\n",
              "    border: 2px solid var(--fill-color);\n",
              "    border-color: transparent;\n",
              "    border-bottom-color: var(--fill-color);\n",
              "    animation:\n",
              "      spin 1s steps(1) infinite;\n",
              "  }\n",
              "\n",
              "  @keyframes spin {\n",
              "    0% {\n",
              "      border-color: transparent;\n",
              "      border-bottom-color: var(--fill-color);\n",
              "      border-left-color: var(--fill-color);\n",
              "    }\n",
              "    20% {\n",
              "      border-color: transparent;\n",
              "      border-left-color: var(--fill-color);\n",
              "      border-top-color: var(--fill-color);\n",
              "    }\n",
              "    30% {\n",
              "      border-color: transparent;\n",
              "      border-left-color: var(--fill-color);\n",
              "      border-top-color: var(--fill-color);\n",
              "      border-right-color: var(--fill-color);\n",
              "    }\n",
              "    40% {\n",
              "      border-color: transparent;\n",
              "      border-right-color: var(--fill-color);\n",
              "      border-top-color: var(--fill-color);\n",
              "    }\n",
              "    60% {\n",
              "      border-color: transparent;\n",
              "      border-right-color: var(--fill-color);\n",
              "    }\n",
              "    80% {\n",
              "      border-color: transparent;\n",
              "      border-right-color: var(--fill-color);\n",
              "      border-bottom-color: var(--fill-color);\n",
              "    }\n",
              "    90% {\n",
              "      border-color: transparent;\n",
              "      border-bottom-color: var(--fill-color);\n",
              "    }\n",
              "  }\n",
              "</style>\n",
              "\n",
              "  <script>\n",
              "    async function quickchart(key) {\n",
              "      const quickchartButtonEl =\n",
              "        document.querySelector('#' + key + ' button');\n",
              "      quickchartButtonEl.disabled = true;  // To prevent multiple clicks.\n",
              "      quickchartButtonEl.classList.add('colab-df-spinner');\n",
              "      try {\n",
              "        const charts = await google.colab.kernel.invokeFunction(\n",
              "            'suggestCharts', [key], {});\n",
              "      } catch (error) {\n",
              "        console.error('Error during call to suggestCharts:', error);\n",
              "      }\n",
              "      quickchartButtonEl.classList.remove('colab-df-spinner');\n",
              "      quickchartButtonEl.classList.add('colab-df-quickchart-complete');\n",
              "    }\n",
              "    (() => {\n",
              "      let quickchartButtonEl =\n",
              "        document.querySelector('#df-dbaea74a-f496-4fbc-b4b9-7556f6eb9996 button');\n",
              "      quickchartButtonEl.style.display =\n",
              "        google.colab.kernel.accessAllowed ? 'block' : 'none';\n",
              "    })();\n",
              "  </script>\n",
              "</div>\n",
              "\n",
              "    </div>\n",
              "  </div>\n"
            ],
            "application/vnd.google.colaboratory.intrinsic+json": {
              "type": "dataframe",
              "variable_name": "df"
            }
          },
          "metadata": {},
          "execution_count": 8
        }
      ]
    },
    {
      "cell_type": "code",
      "source": [
        "df.isnull().sum()"
      ],
      "metadata": {
        "colab": {
          "base_uri": "https://localhost:8080/"
        },
        "id": "BcJIcIBrYeJs",
        "outputId": "49937e1a-becc-4c45-ff9f-f584fe363c45"
      },
      "execution_count": 9,
      "outputs": [
        {
          "output_type": "execute_result",
          "data": {
            "text/plain": [
              "sex                 0\n",
              "age                 0\n",
              "height              0\n",
              "weight              0\n",
              "waistline           0\n",
              "sight_left          0\n",
              "sight_right         0\n",
              "hear_left           0\n",
              "hear_right          0\n",
              "SBP                 0\n",
              "DBP                 0\n",
              "BLDS                0\n",
              "tot_chole           0\n",
              "HDL_chole           0\n",
              "LDL_chole           0\n",
              "triglyceride        0\n",
              "hemoglobin          0\n",
              "urine_protein       0\n",
              "serum_creatinine    0\n",
              "SGOT_AST            0\n",
              "SGOT_ALT            0\n",
              "gamma_GTP           0\n",
              "SMK_stat_type_cd    0\n",
              "DRK_YN              0\n",
              "dtype: int64"
            ]
          },
          "metadata": {},
          "execution_count": 9
        }
      ]
    },
    {
      "cell_type": "code",
      "source": [
        "df.dtypes"
      ],
      "metadata": {
        "colab": {
          "base_uri": "https://localhost:8080/"
        },
        "id": "bgxkjEx1YhOI",
        "outputId": "ad82885d-2389-4e76-8250-4cc66ca4b0b8"
      },
      "execution_count": 11,
      "outputs": [
        {
          "output_type": "execute_result",
          "data": {
            "text/plain": [
              "sex                  object\n",
              "age                   int64\n",
              "height                int64\n",
              "weight                int64\n",
              "waistline           float64\n",
              "sight_left          float64\n",
              "sight_right         float64\n",
              "hear_left           float64\n",
              "hear_right          float64\n",
              "SBP                 float64\n",
              "DBP                 float64\n",
              "BLDS                float64\n",
              "tot_chole           float64\n",
              "HDL_chole           float64\n",
              "LDL_chole           float64\n",
              "triglyceride        float64\n",
              "hemoglobin          float64\n",
              "urine_protein       float64\n",
              "serum_creatinine    float64\n",
              "SGOT_AST            float64\n",
              "SGOT_ALT            float64\n",
              "gamma_GTP           float64\n",
              "SMK_stat_type_cd    float64\n",
              "DRK_YN               object\n",
              "dtype: object"
            ]
          },
          "metadata": {},
          "execution_count": 11
        }
      ]
    },
    {
      "cell_type": "markdown",
      "source": [
        "## Görsel EDA\n"
      ],
      "metadata": {
        "id": "Jj6GN0pQaGQL"
      }
    },
    {
      "cell_type": "code",
      "source": [
        "#Alkol kullananların cinsiyete göre dağılımları\n",
        "import pandas as pd\n",
        "import matplotlib.pyplot as plt\n",
        "import seaborn as sns\n",
        "\n",
        "plt.figure()\n",
        "sns.countplot(x='DRK_YN', hue='sex', data=df, palette='RdBu')\n",
        "plt.xticks([0,1], ['No', 'Yes'])\n",
        "plt.show()"
      ],
      "metadata": {
        "colab": {
          "base_uri": "https://localhost:8080/",
          "height": 449
        },
        "id": "_OuYxRDCYeNv",
        "outputId": "623dc582-218a-4f81-93a0-9ef7edbd5b51"
      },
      "execution_count": 14,
      "outputs": [
        {
          "output_type": "display_data",
          "data": {
            "text/plain": [
              "<Figure size 640x480 with 1 Axes>"
            ],
            "image/png": "[encoded data removed]"
          },
          "metadata": {}
        }
      ]
    },
    {
      "cell_type": "code",
      "source": [
        "#değişkenlerin grafikleri\n",
        "import matplotlib.pyplot as plt\n",
        "df[['age', 'height', 'weight', 'SBP', 'LDL_chole']].hist(figsize=(12, 10), bins=20)\n",
        "plt.show()\n"
      ],
      "metadata": {
        "colab": {
          "base_uri": "https://localhost:8080/",
          "height": 853
        },
        "id": "Tq7Jt3lgaI9l",
        "outputId": "65a2e217-d63b-48e6-dce3-89e8f955ce9e"
      },
      "execution_count": 18,
      "outputs": [
        {
          "output_type": "display_data",
          "data": {
            "text/plain": [
              "<Figure size 1200x1000 with 6 Axes>"
            ],
            "image/png": "[encoded data removed]"
          },
          "metadata": {}
        }
      ]
    },
    {
      "cell_type": "code",
      "source": [
        "#Aykırı değer görmek için kutu grafiği\n",
        "df[['weight']].plot.box(figsize=(6, 3))\n",
        "plt.show()\n"
      ],
      "metadata": {
        "colab": {
          "base_uri": "https://localhost:8080/",
          "height": 291
        },
        "id": "bcKExsuXaSCE",
        "outputId": "fa7514e5-0f8f-4215-8e21-c1bedc46e4a1"
      },
      "execution_count": 21,
      "outputs": [
        {
          "output_type": "display_data",
          "data": {
            "text/plain": [
              "<Figure size 600x300 with 1 Axes>"
            ],
            "image/png": "[encoded data removed]"
          },
          "metadata": {}
        }
      ]
    },
    {
      "cell_type": "code",
      "source": [
        "#Değişkenlerin Korelasyon grafiği\n",
        "import seaborn as sns\n",
        "corr = df[['age', 'height', 'weight', 'SBP', 'LDL_chole', 'triglyceride', 'hemoglobin', 'serum_creatinine', 'SGOT_AST', 'SGOT_ALT', 'gamma_GTP']].corr()\n",
        "plt.figure(figsize=(6, 5))\n",
        "sns.heatmap(corr, annot=True, cmap='coolwarm', vmin=-1, vmax=1)\n",
        "plt.show()\n"
      ],
      "metadata": {
        "colab": {
          "base_uri": "https://localhost:8080/",
          "height": 557
        },
        "id": "cRNlh-UBYeQU",
        "outputId": "cc2f1a9d-93ca-4061-ec1b-08c0b37d0450"
      },
      "execution_count": 22,
      "outputs": [
        {
          "output_type": "display_data",
          "data": {
            "text/plain": [
              "<Figure size 600x500 with 2 Axes>"
            ],
            "image/png": "[encoded data removed]"
          },
          "metadata": {}
        }
      ]
    },
    {
      "cell_type": "code",
      "source": [
        "#kategorik verilerin dağılımı\n",
        "df['sex'].value_counts().plot(kind='bar', title='Distribution of Sex')\n",
        "plt.show()\n",
        "\n",
        "df['SMK_stat_type_cd'].value_counts().plot(kind='bar', title='Smoking Status Distribution')\n",
        "plt.show()\n",
        "\n",
        "df['DRK_YN'].value_counts().plot(kind='bar', title='Diabetes Risk Distribution')\n",
        "plt.show()\n"
      ],
      "metadata": {
        "colab": {
          "base_uri": "https://localhost:8080/",
          "height": 1000
        },
        "id": "55vlQSGXavTb",
        "outputId": "deb37bee-d0b4-43da-e964-afb3b12cdb79"
      },
      "execution_count": 23,
      "outputs": [
        {
          "output_type": "display_data",
          "data": {
            "text/plain": [
              "<Figure size 640x480 with 1 Axes>"
            ],
            "image/png": "[encoded data removed]"
          },
          "metadata": {}
        },
        {
          "output_type": "display_data",
          "data": {
            "text/plain": [
              "<Figure size 640x480 with 1 Axes>"
            ],
            "image/png": "[encoded data removed]"
          },
          "metadata": {}
        },
        {
          "output_type": "display_data",
          "data": {
            "text/plain": [
              "<Figure size 640x480 with 1 Axes>"
            ],
            "image/png": "[encoded data removed]"
          },
          "metadata": {}
        }
      ]
    },
    {
      "cell_type": "markdown",
      "source": [
        "# Model Değerlendirme"
      ],
      "metadata": {
        "id": "yckQdeGEczkR"
      }
    },
    {
      "cell_type": "markdown",
      "source": [
        "1. Algoritmaların Amacı:\n",
        "\n",
        "CatBoost (Gözetimli Öğrenme): Bu algoritma, etiketli verilerle (girişler ve doğru sonuçlar) eğitilir ve sınıflandırma ya da regresyon problemlerini çözmek için kullanılır. Yani, hangi girişin hangi sonuca karşılık geldiğini bilir ve buna göre bir model oluşturur. Bu yüzden, girdi ile çıktılar arasında doğrudan bir ilişki kurarak tahminler yapar. Sonuç olarak, etiketlenmiş veri setlerinde yüksek doğruluk oranlarına ulaşması beklenir.\n",
        "\n",
        "K-Means (Gözetimsiz Öğrenme): K-Means algoritması, etiketsiz verilerle çalışır ve verileri sadece özellikleri arasındaki benzerliklere dayanarak kümeler (gruplar) oluşturur. Yani, algoritmanın elinde sınıflandırma yapmak için bir \"doğru cevap\" yoktur. K-Means'ın çıktıları, sınıf etiketleriyle değil, veri noktalarının kümelere atanmasıyla ilgilidir. Bu algoritma, etiketli bir veri seti üzerinde doğruluk hesaplandığında yanlış bir değerlendirme yöntemi olabilir çünkü K-Means, sınıflandırma yapmak yerine kümeler oluşturur. Sonuç olarak, doğruluk oranının düşük çıkması normaldir."
      ],
      "metadata": {
        "id": "evmlRCX-ctQ0"
      }
    },
    {
      "cell_type": "code",
      "source": [
        "from sklearn.metrics import log_loss, accuracy_score\n",
        "\n",
        "# Tahminler\n",
        "y_pred_proba = model.predict_proba(X_test)\n",
        "y_pred = model.predict(X_test)\n",
        "\n",
        "# Kayıp hesaplama\n",
        "loss = log_loss(y_test, y_pred_proba)\n",
        "accuracy = accuracy_score(y_test, y_pred)\n",
        "\n",
        "print(f\"Log Loss: {loss}\")\n",
        "print(f\"Accuracy: {accuracy}\")\n",
        "#Modelin Doğruluğunu Yazdırma\n",
        "print(classification_report(model.predict(X_test),y_test))"
      ],
      "metadata": {
        "colab": {
          "base_uri": "https://localhost:8080/"
        },
        "id": "K-QQ8WZWcmCM",
        "outputId": "49884118-8bb2-481e-f91a-ec5471dec762"
      },
      "execution_count": 55,
      "outputs": [
        {
          "output_type": "stream",
          "name": "stdout",
          "text": [
            "Log Loss: 0.5268640081961408\n",
            "Accuracy: 0.7341666666666666\n",
            "              precision    recall  f1-score   support\n",
            "\n",
            "           N       0.71      0.75      0.73      1741\n",
            "           Y       0.76      0.72      0.74      1859\n",
            "\n",
            "    accuracy                           0.73      3600\n",
            "   macro avg       0.73      0.73      0.73      3600\n",
            "weighted avg       0.74      0.73      0.73      3600\n",
            "\n"
          ]
        }
      ]
    }
  ]
}